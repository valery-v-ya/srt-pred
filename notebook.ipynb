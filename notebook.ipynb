{
 "cells": [
  {
   "attachments": {},
   "cell_type": "markdown",
   "metadata": {},
   "source": [
    "# Распределение фильмов по уровням английского языка"
   ]
  },
  {
   "cell_type": "code",
   "execution_count": 9,
   "metadata": {},
   "outputs": [
    {
     "name": "stdout",
     "output_type": "stream",
     "text": [
      "Requirement already satisfied: nltk in /opt/homebrew/lib/python3.11/site-packages (3.8.1)\n",
      "Requirement already satisfied: pypdf2 in /opt/homebrew/lib/python3.11/site-packages (3.0.1)\n",
      "Requirement already satisfied: plotly in /opt/homebrew/lib/python3.11/site-packages (5.14.1)\n",
      "Requirement already satisfied: pandas in /opt/homebrew/lib/python3.11/site-packages (2.0.2)\n",
      "Requirement already satisfied: scikit-learn in /opt/homebrew/lib/python3.11/site-packages (1.2.2)\n",
      "Requirement already satisfied: catboost in /opt/homebrew/lib/python3.11/site-packages (1.2)\n",
      "Requirement already satisfied: click in /opt/homebrew/lib/python3.11/site-packages (from nltk) (8.1.3)\n",
      "Requirement already satisfied: joblib in /opt/homebrew/lib/python3.11/site-packages (from nltk) (1.2.0)\n",
      "Requirement already satisfied: regex>=2021.8.3 in /opt/homebrew/lib/python3.11/site-packages (from nltk) (2023.5.5)\n",
      "Requirement already satisfied: tqdm in /opt/homebrew/lib/python3.11/site-packages (from nltk) (4.65.0)\n",
      "Requirement already satisfied: tenacity>=6.2.0 in /opt/homebrew/lib/python3.11/site-packages (from plotly) (8.2.2)\n",
      "Requirement already satisfied: packaging in /opt/homebrew/lib/python3.11/site-packages (from plotly) (23.0)\n",
      "Requirement already satisfied: python-dateutil>=2.8.2 in /Users/valery/Library/Python/3.11/lib/python/site-packages (from pandas) (2.8.2)\n",
      "Requirement already satisfied: pytz>=2020.1 in /opt/homebrew/lib/python3.11/site-packages (from pandas) (2023.3)\n",
      "Requirement already satisfied: tzdata>=2022.1 in /opt/homebrew/lib/python3.11/site-packages (from pandas) (2023.3)\n",
      "Requirement already satisfied: numpy>=1.21.0 in /opt/homebrew/lib/python3.11/site-packages (from pandas) (1.24.3)\n",
      "Requirement already satisfied: scipy>=1.3.2 in /opt/homebrew/lib/python3.11/site-packages (from scikit-learn) (1.10.1)\n",
      "Requirement already satisfied: threadpoolctl>=2.0.0 in /opt/homebrew/lib/python3.11/site-packages (from scikit-learn) (3.1.0)\n",
      "Requirement already satisfied: graphviz in /opt/homebrew/lib/python3.11/site-packages (from catboost) (0.20.1)\n",
      "Requirement already satisfied: matplotlib in /opt/homebrew/lib/python3.11/site-packages (from catboost) (3.7.1)\n",
      "Requirement already satisfied: six in /Users/valery/Library/Python/3.11/lib/python/site-packages (from catboost) (1.16.0)\n",
      "Requirement already satisfied: contourpy>=1.0.1 in /opt/homebrew/lib/python3.11/site-packages (from matplotlib->catboost) (1.0.7)\n",
      "Requirement already satisfied: cycler>=0.10 in /opt/homebrew/lib/python3.11/site-packages (from matplotlib->catboost) (0.11.0)\n",
      "Requirement already satisfied: fonttools>=4.22.0 in /opt/homebrew/lib/python3.11/site-packages (from matplotlib->catboost) (4.39.4)\n",
      "Requirement already satisfied: kiwisolver>=1.0.1 in /opt/homebrew/lib/python3.11/site-packages (from matplotlib->catboost) (1.4.4)\n",
      "Requirement already satisfied: pillow>=6.2.0 in /opt/homebrew/lib/python3.11/site-packages (from matplotlib->catboost) (9.5.0)\n",
      "Requirement already satisfied: pyparsing>=2.3.1 in /opt/homebrew/lib/python3.11/site-packages (from matplotlib->catboost) (3.0.9)\n",
      "\n",
      "\u001b[1m[\u001b[0m\u001b[34;49mnotice\u001b[0m\u001b[1;39;49m]\u001b[0m\u001b[39;49m A new release of pip available: \u001b[0m\u001b[31;49m22.3.1\u001b[0m\u001b[39;49m -> \u001b[0m\u001b[32;49m23.1.2\u001b[0m\n",
      "\u001b[1m[\u001b[0m\u001b[34;49mnotice\u001b[0m\u001b[1;39;49m]\u001b[0m\u001b[39;49m To update, run: \u001b[0m\u001b[32;49mpython3.11 -m pip install --upgrade pip\u001b[0m\n"
     ]
    }
   ],
   "source": [
    "! python3 -m pip install nltk pypdf2 plotly pandas scikit-learn catboost"
   ]
  },
  {
   "cell_type": "code",
   "execution_count": 10,
   "metadata": {},
   "outputs": [],
   "source": [
    "from pathlib import Path\n",
    "\n",
    "import re\n",
    "import pandas as pd\n",
    "import plotly.graph_objects as go\n",
    "from sklearn.preprocessing import LabelEncoder\n",
    "from sklearn.model_selection import train_test_split\n",
    "from sklearn.ensemble import RandomForestClassifier\n",
    "from sklearn.model_selection import GridSearchCV\n",
    "from sklearn.metrics import balanced_accuracy_score\n",
    "from catboost import CatBoostClassifier\n",
    "\n",
    "import nltk\n",
    "from nltk.corpus import stopwords\n",
    "from nltk.stem.porter import PorterStemmer\n",
    "from nltk.stem.wordnet import WordNetLemmatizer"
   ]
  },
  {
   "cell_type": "code",
   "execution_count": 11,
   "metadata": {},
   "outputs": [
    {
     "name": "stderr",
     "output_type": "stream",
     "text": [
      "[nltk_data] Downloading package wordnet to /Users/valery/nltk_data...\n",
      "[nltk_data]   Package wordnet is already up-to-date!\n",
      "[nltk_data] Downloading package stopwords to\n",
      "[nltk_data]     /Users/valery/nltk_data...\n",
      "[nltk_data]   Package stopwords is already up-to-date!\n"
     ]
    },
    {
     "data": {
      "text/plain": [
       "True"
      ]
     },
     "execution_count": 11,
     "metadata": {},
     "output_type": "execute_result"
    }
   ],
   "source": [
    "nltk.download('wordnet')\n",
    "nltk.download('stopwords')"
   ]
  },
  {
   "attachments": {},
   "cell_type": "markdown",
   "metadata": {},
   "source": [
    "Для анализа уровней английского языка были сохранены списки слов по уровням, удалены пропущенные строки и информация о издании и страницах словаря"
   ]
  },
  {
   "attachments": {},
   "cell_type": "markdown",
   "metadata": {},
   "source": [
    "\n",
    "Загрузка данных:"
   ]
  },
  {
   "cell_type": "code",
   "execution_count": 89,
   "metadata": {},
   "outputs": [],
   "source": [
    "files = list(Path('./data/English_scores/Subtitles_all/').glob('**/*.srt'))\n",
    "files_labeled = [f for f in files if str(f).split('/')[-2] != 'Subtitles']\n",
    "files_unlabeled = [f for f in files if str(f).split('/')[-2] == 'Subtitles']"
   ]
  },
  {
   "attachments": {},
   "cell_type": "markdown",
   "metadata": {},
   "source": [
    "Преобразуем данные, будем анализировать каждое слово в отдельности для этого читаем строки и отделяем кажое слово."
   ]
  },
  {
   "cell_type": "code",
   "execution_count": 13,
   "metadata": {},
   "outputs": [],
   "source": [
    "def read_data(path: Path | str) -> str:\n",
    "    with open(str(path), \"r\", encoding='utf-8', errors='ignore') as f:\n",
    "        data = f.read()\n",
    "    \n",
    "    return ' '.join([' '.join([i for i in f.split(\"\\n\")[2:]]) for f in data.split(\"\\n\\n\")])\n",
    "\n",
    "def read_dictionary(path: Path | str) -> str:\n",
    "    with open(str(path), \"r\", encoding='utf-8', errors='ignore') as f:\n",
    "        data = [re.findall(r'\\w+', text)[0] for text in f.readlines()]\n",
    "    \n",
    "    return ' '.join(data)"
   ]
  },
  {
   "attachments": {},
   "cell_type": "markdown",
   "metadata": {},
   "source": [
    "Преобразуем размечанные и неразмечанные данные"
   ]
  },
  {
   "cell_type": "code",
   "execution_count": 14,
   "metadata": {},
   "outputs": [],
   "source": [
    "text_labeled = [read_data(file) for file in files_labeled]\n",
    "text_unlabeled = [read_data(file) for file in files_unlabeled]"
   ]
  },
  {
   "cell_type": "code",
   "execution_count": 15,
   "metadata": {},
   "outputs": [],
   "source": [
    "labels = [str(file).split(\"/\")[-2] for file in files_labeled]"
   ]
  },
  {
   "attachments": {},
   "cell_type": "markdown",
   "metadata": {},
   "source": [
    "Функция для процессинга данных, которая включает в себя приведение слов в нижний регистр, токенизацию, лемматизацию, стеминг и удаление стоп слов"
   ]
  },
  {
   "cell_type": "code",
   "execution_count": 16,
   "metadata": {},
   "outputs": [],
   "source": [
    "def processing(text):\n",
    "    text = text.strip().lower()\n",
    "    text = nltk.RegexpTokenizer(r'\\w+').tokenize(text)\n",
    "\n",
    "    #lemmatizer = WordNetLemmatizer()\n",
    "    #text = [lemmatizer.lemmatize(word) for word in text]\n",
    "\n",
    "    stop_words = set(stopwords.words('english'))\n",
    "    text = [word for word in text if word not in stop_words]\n",
    "\n",
    "    porter = PorterStemmer()\n",
    "    text = [porter.stem(word) for word in text]\n",
    "\n",
    "    return text"
   ]
  },
  {
   "cell_type": "code",
   "execution_count": 17,
   "metadata": {},
   "outputs": [],
   "source": [
    "text_labeled_proc = [processing(file) for file in text_labeled]\n",
    "text_unlabeled_proc = [processing(file) for file in text_unlabeled]"
   ]
  },
  {
   "attachments": {},
   "cell_type": "markdown",
   "metadata": {},
   "source": [
    "Применим процессинг для словарей, чтобы удалить лишние символы и части речи"
   ]
  },
  {
   "cell_type": "code",
   "execution_count": 18,
   "metadata": {},
   "outputs": [],
   "source": [
    "per_level_dict_proc = {\n",
    "    key: dict.fromkeys(processing(read_dictionary(f\"./data/{key}.txt\")))\n",
    "    for key in [\"A1\", \"A2\", \"B1\", \"B2\", \"C1\"]\n",
    "}"
   ]
  },
  {
   "attachments": {},
   "cell_type": "markdown",
   "metadata": {},
   "source": [
    "Функция для расчета частоты встречаемости слов какого-либо уровня в данных"
   ]
  },
  {
   "cell_type": "code",
   "execution_count": 21,
   "metadata": {},
   "outputs": [],
   "source": [
    "def distrib(words, dictionary):\n",
    "    return {\n",
    "        level: sum([word in dictionary[level] for word in words]) / len(words)\n",
    "        for level in dictionary\n",
    "    }\n"
   ]
  },
  {
   "cell_type": "code",
   "execution_count": 22,
   "metadata": {},
   "outputs": [],
   "source": [
    "text_labeled_distrib = [distrib(words, per_level_dict_proc) for words in text_labeled_proc]\n",
    "text_unlabeled_distrib = [distrib(words, per_level_dict_proc) for words in text_unlabeled_proc]"
   ]
  },
  {
   "attachments": {},
   "cell_type": "markdown",
   "metadata": {},
   "source": [
    "Расчет статистики содержания слов разных уровней, в фильмах какого-либо конкретного уровня"
   ]
  },
  {
   "cell_type": "code",
   "execution_count": 23,
   "metadata": {},
   "outputs": [],
   "source": [
    "def avg_distrib(labels, distribs):\n",
    "    stats = {}\n",
    "\n",
    "    for file_level, distrib in zip(labels, distribs):\n",
    "        if file_level not in stats:\n",
    "            stats[file_level] = {level: [0, 0] for level in distrib}\n",
    "\n",
    "        for level in distrib:\n",
    "            stats[file_level][level][0] += distrib[level]\n",
    "            stats[file_level][level][1] += 1\n",
    "    \n",
    "    _stats = {}\n",
    "    for file_level in stats:\n",
    "        _stats[file_level] = {}\n",
    "        for level in stats[file_level]:\n",
    "            _stats[file_level][level] = stats[file_level][level][0] / stats[file_level][level][1]\n",
    "\n",
    "    return _stats"
   ]
  },
  {
   "cell_type": "code",
   "execution_count": 24,
   "metadata": {},
   "outputs": [],
   "source": [
    "level_distrib = avg_distrib(labels, text_labeled_distrib)"
   ]
  },
  {
   "attachments": {},
   "cell_type": "markdown",
   "metadata": {},
   "source": [
    "Построим график распределения уровней слов в уровнях фильмов, чтобы определить можно ли только по распределению уровней слов в фильме определить, к какому уровню относиться весь фильм."
   ]
  },
  {
   "cell_type": "code",
   "execution_count": 25,
   "metadata": {},
   "outputs": [
    {
     "data": {
      "application/vnd.plotly.v1+json": {
       "config": {
        "plotlyServerURL": "https://plot.ly"
       },
       "data": [
        {
         "name": "A2",
         "type": "bar",
         "x": [
          "A1",
          "A2",
          "B1",
          "B2",
          "C1"
         ],
         "y": [
          0.500370796052014,
          0.20927698823556026,
          0.11549568156060076,
          0.10897147870774859,
          0.06752018498490063
         ]
        },
        {
         "name": "B1",
         "type": "bar",
         "x": [
          "A1",
          "A2",
          "B1",
          "B2",
          "C1"
         ],
         "y": [
          0.47744544967628544,
          0.2363241028376736,
          0.1344600123224936,
          0.11662299962943704,
          0.07906421396931819
         ]
        },
        {
         "name": "B2",
         "type": "bar",
         "x": [
          "A1",
          "A2",
          "B1",
          "B2",
          "C1"
         ],
         "y": [
          0.4837428892690702,
          0.20174883705428598,
          0.13652261722374368,
          0.1120915373795345,
          0.08207088721959621
         ]
        },
        {
         "name": "C1",
         "type": "bar",
         "x": [
          "A1",
          "A2",
          "B1",
          "B2",
          "C1"
         ],
         "y": [
          0.2618970939967831,
          0.11173847630316963,
          0.06816517790606556,
          0.059177742407128045,
          0.046866270609995445
         ]
        }
       ],
       "layout": {
        "barmode": "group",
        "legend": {
         "title": {
          "text": "Sub level"
         }
        },
        "template": {
         "data": {
          "bar": [
           {
            "error_x": {
             "color": "#2a3f5f"
            },
            "error_y": {
             "color": "#2a3f5f"
            },
            "marker": {
             "line": {
              "color": "#E5ECF6",
              "width": 0.5
             },
             "pattern": {
              "fillmode": "overlay",
              "size": 10,
              "solidity": 0.2
             }
            },
            "type": "bar"
           }
          ],
          "barpolar": [
           {
            "marker": {
             "line": {
              "color": "#E5ECF6",
              "width": 0.5
             },
             "pattern": {
              "fillmode": "overlay",
              "size": 10,
              "solidity": 0.2
             }
            },
            "type": "barpolar"
           }
          ],
          "carpet": [
           {
            "aaxis": {
             "endlinecolor": "#2a3f5f",
             "gridcolor": "white",
             "linecolor": "white",
             "minorgridcolor": "white",
             "startlinecolor": "#2a3f5f"
            },
            "baxis": {
             "endlinecolor": "#2a3f5f",
             "gridcolor": "white",
             "linecolor": "white",
             "minorgridcolor": "white",
             "startlinecolor": "#2a3f5f"
            },
            "type": "carpet"
           }
          ],
          "choropleth": [
           {
            "colorbar": {
             "outlinewidth": 0,
             "ticks": ""
            },
            "type": "choropleth"
           }
          ],
          "contour": [
           {
            "colorbar": {
             "outlinewidth": 0,
             "ticks": ""
            },
            "colorscale": [
             [
              0,
              "#0d0887"
             ],
             [
              0.1111111111111111,
              "#46039f"
             ],
             [
              0.2222222222222222,
              "#7201a8"
             ],
             [
              0.3333333333333333,
              "#9c179e"
             ],
             [
              0.4444444444444444,
              "#bd3786"
             ],
             [
              0.5555555555555556,
              "#d8576b"
             ],
             [
              0.6666666666666666,
              "#ed7953"
             ],
             [
              0.7777777777777778,
              "#fb9f3a"
             ],
             [
              0.8888888888888888,
              "#fdca26"
             ],
             [
              1,
              "#f0f921"
             ]
            ],
            "type": "contour"
           }
          ],
          "contourcarpet": [
           {
            "colorbar": {
             "outlinewidth": 0,
             "ticks": ""
            },
            "type": "contourcarpet"
           }
          ],
          "heatmap": [
           {
            "colorbar": {
             "outlinewidth": 0,
             "ticks": ""
            },
            "colorscale": [
             [
              0,
              "#0d0887"
             ],
             [
              0.1111111111111111,
              "#46039f"
             ],
             [
              0.2222222222222222,
              "#7201a8"
             ],
             [
              0.3333333333333333,
              "#9c179e"
             ],
             [
              0.4444444444444444,
              "#bd3786"
             ],
             [
              0.5555555555555556,
              "#d8576b"
             ],
             [
              0.6666666666666666,
              "#ed7953"
             ],
             [
              0.7777777777777778,
              "#fb9f3a"
             ],
             [
              0.8888888888888888,
              "#fdca26"
             ],
             [
              1,
              "#f0f921"
             ]
            ],
            "type": "heatmap"
           }
          ],
          "heatmapgl": [
           {
            "colorbar": {
             "outlinewidth": 0,
             "ticks": ""
            },
            "colorscale": [
             [
              0,
              "#0d0887"
             ],
             [
              0.1111111111111111,
              "#46039f"
             ],
             [
              0.2222222222222222,
              "#7201a8"
             ],
             [
              0.3333333333333333,
              "#9c179e"
             ],
             [
              0.4444444444444444,
              "#bd3786"
             ],
             [
              0.5555555555555556,
              "#d8576b"
             ],
             [
              0.6666666666666666,
              "#ed7953"
             ],
             [
              0.7777777777777778,
              "#fb9f3a"
             ],
             [
              0.8888888888888888,
              "#fdca26"
             ],
             [
              1,
              "#f0f921"
             ]
            ],
            "type": "heatmapgl"
           }
          ],
          "histogram": [
           {
            "marker": {
             "pattern": {
              "fillmode": "overlay",
              "size": 10,
              "solidity": 0.2
             }
            },
            "type": "histogram"
           }
          ],
          "histogram2d": [
           {
            "colorbar": {
             "outlinewidth": 0,
             "ticks": ""
            },
            "colorscale": [
             [
              0,
              "#0d0887"
             ],
             [
              0.1111111111111111,
              "#46039f"
             ],
             [
              0.2222222222222222,
              "#7201a8"
             ],
             [
              0.3333333333333333,
              "#9c179e"
             ],
             [
              0.4444444444444444,
              "#bd3786"
             ],
             [
              0.5555555555555556,
              "#d8576b"
             ],
             [
              0.6666666666666666,
              "#ed7953"
             ],
             [
              0.7777777777777778,
              "#fb9f3a"
             ],
             [
              0.8888888888888888,
              "#fdca26"
             ],
             [
              1,
              "#f0f921"
             ]
            ],
            "type": "histogram2d"
           }
          ],
          "histogram2dcontour": [
           {
            "colorbar": {
             "outlinewidth": 0,
             "ticks": ""
            },
            "colorscale": [
             [
              0,
              "#0d0887"
             ],
             [
              0.1111111111111111,
              "#46039f"
             ],
             [
              0.2222222222222222,
              "#7201a8"
             ],
             [
              0.3333333333333333,
              "#9c179e"
             ],
             [
              0.4444444444444444,
              "#bd3786"
             ],
             [
              0.5555555555555556,
              "#d8576b"
             ],
             [
              0.6666666666666666,
              "#ed7953"
             ],
             [
              0.7777777777777778,
              "#fb9f3a"
             ],
             [
              0.8888888888888888,
              "#fdca26"
             ],
             [
              1,
              "#f0f921"
             ]
            ],
            "type": "histogram2dcontour"
           }
          ],
          "mesh3d": [
           {
            "colorbar": {
             "outlinewidth": 0,
             "ticks": ""
            },
            "type": "mesh3d"
           }
          ],
          "parcoords": [
           {
            "line": {
             "colorbar": {
              "outlinewidth": 0,
              "ticks": ""
             }
            },
            "type": "parcoords"
           }
          ],
          "pie": [
           {
            "automargin": true,
            "type": "pie"
           }
          ],
          "scatter": [
           {
            "fillpattern": {
             "fillmode": "overlay",
             "size": 10,
             "solidity": 0.2
            },
            "type": "scatter"
           }
          ],
          "scatter3d": [
           {
            "line": {
             "colorbar": {
              "outlinewidth": 0,
              "ticks": ""
             }
            },
            "marker": {
             "colorbar": {
              "outlinewidth": 0,
              "ticks": ""
             }
            },
            "type": "scatter3d"
           }
          ],
          "scattercarpet": [
           {
            "marker": {
             "colorbar": {
              "outlinewidth": 0,
              "ticks": ""
             }
            },
            "type": "scattercarpet"
           }
          ],
          "scattergeo": [
           {
            "marker": {
             "colorbar": {
              "outlinewidth": 0,
              "ticks": ""
             }
            },
            "type": "scattergeo"
           }
          ],
          "scattergl": [
           {
            "marker": {
             "colorbar": {
              "outlinewidth": 0,
              "ticks": ""
             }
            },
            "type": "scattergl"
           }
          ],
          "scattermapbox": [
           {
            "marker": {
             "colorbar": {
              "outlinewidth": 0,
              "ticks": ""
             }
            },
            "type": "scattermapbox"
           }
          ],
          "scatterpolar": [
           {
            "marker": {
             "colorbar": {
              "outlinewidth": 0,
              "ticks": ""
             }
            },
            "type": "scatterpolar"
           }
          ],
          "scatterpolargl": [
           {
            "marker": {
             "colorbar": {
              "outlinewidth": 0,
              "ticks": ""
             }
            },
            "type": "scatterpolargl"
           }
          ],
          "scatterternary": [
           {
            "marker": {
             "colorbar": {
              "outlinewidth": 0,
              "ticks": ""
             }
            },
            "type": "scatterternary"
           }
          ],
          "surface": [
           {
            "colorbar": {
             "outlinewidth": 0,
             "ticks": ""
            },
            "colorscale": [
             [
              0,
              "#0d0887"
             ],
             [
              0.1111111111111111,
              "#46039f"
             ],
             [
              0.2222222222222222,
              "#7201a8"
             ],
             [
              0.3333333333333333,
              "#9c179e"
             ],
             [
              0.4444444444444444,
              "#bd3786"
             ],
             [
              0.5555555555555556,
              "#d8576b"
             ],
             [
              0.6666666666666666,
              "#ed7953"
             ],
             [
              0.7777777777777778,
              "#fb9f3a"
             ],
             [
              0.8888888888888888,
              "#fdca26"
             ],
             [
              1,
              "#f0f921"
             ]
            ],
            "type": "surface"
           }
          ],
          "table": [
           {
            "cells": {
             "fill": {
              "color": "#EBF0F8"
             },
             "line": {
              "color": "white"
             }
            },
            "header": {
             "fill": {
              "color": "#C8D4E3"
             },
             "line": {
              "color": "white"
             }
            },
            "type": "table"
           }
          ]
         },
         "layout": {
          "annotationdefaults": {
           "arrowcolor": "#2a3f5f",
           "arrowhead": 0,
           "arrowwidth": 1
          },
          "autotypenumbers": "strict",
          "coloraxis": {
           "colorbar": {
            "outlinewidth": 0,
            "ticks": ""
           }
          },
          "colorscale": {
           "diverging": [
            [
             0,
             "#8e0152"
            ],
            [
             0.1,
             "#c51b7d"
            ],
            [
             0.2,
             "#de77ae"
            ],
            [
             0.3,
             "#f1b6da"
            ],
            [
             0.4,
             "#fde0ef"
            ],
            [
             0.5,
             "#f7f7f7"
            ],
            [
             0.6,
             "#e6f5d0"
            ],
            [
             0.7,
             "#b8e186"
            ],
            [
             0.8,
             "#7fbc41"
            ],
            [
             0.9,
             "#4d9221"
            ],
            [
             1,
             "#276419"
            ]
           ],
           "sequential": [
            [
             0,
             "#0d0887"
            ],
            [
             0.1111111111111111,
             "#46039f"
            ],
            [
             0.2222222222222222,
             "#7201a8"
            ],
            [
             0.3333333333333333,
             "#9c179e"
            ],
            [
             0.4444444444444444,
             "#bd3786"
            ],
            [
             0.5555555555555556,
             "#d8576b"
            ],
            [
             0.6666666666666666,
             "#ed7953"
            ],
            [
             0.7777777777777778,
             "#fb9f3a"
            ],
            [
             0.8888888888888888,
             "#fdca26"
            ],
            [
             1,
             "#f0f921"
            ]
           ],
           "sequentialminus": [
            [
             0,
             "#0d0887"
            ],
            [
             0.1111111111111111,
             "#46039f"
            ],
            [
             0.2222222222222222,
             "#7201a8"
            ],
            [
             0.3333333333333333,
             "#9c179e"
            ],
            [
             0.4444444444444444,
             "#bd3786"
            ],
            [
             0.5555555555555556,
             "#d8576b"
            ],
            [
             0.6666666666666666,
             "#ed7953"
            ],
            [
             0.7777777777777778,
             "#fb9f3a"
            ],
            [
             0.8888888888888888,
             "#fdca26"
            ],
            [
             1,
             "#f0f921"
            ]
           ]
          },
          "colorway": [
           "#636efa",
           "#EF553B",
           "#00cc96",
           "#ab63fa",
           "#FFA15A",
           "#19d3f3",
           "#FF6692",
           "#B6E880",
           "#FF97FF",
           "#FECB52"
          ],
          "font": {
           "color": "#2a3f5f"
          },
          "geo": {
           "bgcolor": "white",
           "lakecolor": "white",
           "landcolor": "#E5ECF6",
           "showlakes": true,
           "showland": true,
           "subunitcolor": "white"
          },
          "hoverlabel": {
           "align": "left"
          },
          "hovermode": "closest",
          "mapbox": {
           "style": "light"
          },
          "paper_bgcolor": "white",
          "plot_bgcolor": "#E5ECF6",
          "polar": {
           "angularaxis": {
            "gridcolor": "white",
            "linecolor": "white",
            "ticks": ""
           },
           "bgcolor": "#E5ECF6",
           "radialaxis": {
            "gridcolor": "white",
            "linecolor": "white",
            "ticks": ""
           }
          },
          "scene": {
           "xaxis": {
            "backgroundcolor": "#E5ECF6",
            "gridcolor": "white",
            "gridwidth": 2,
            "linecolor": "white",
            "showbackground": true,
            "ticks": "",
            "zerolinecolor": "white"
           },
           "yaxis": {
            "backgroundcolor": "#E5ECF6",
            "gridcolor": "white",
            "gridwidth": 2,
            "linecolor": "white",
            "showbackground": true,
            "ticks": "",
            "zerolinecolor": "white"
           },
           "zaxis": {
            "backgroundcolor": "#E5ECF6",
            "gridcolor": "white",
            "gridwidth": 2,
            "linecolor": "white",
            "showbackground": true,
            "ticks": "",
            "zerolinecolor": "white"
           }
          },
          "shapedefaults": {
           "line": {
            "color": "#2a3f5f"
           }
          },
          "ternary": {
           "aaxis": {
            "gridcolor": "white",
            "linecolor": "white",
            "ticks": ""
           },
           "baxis": {
            "gridcolor": "white",
            "linecolor": "white",
            "ticks": ""
           },
           "bgcolor": "#E5ECF6",
           "caxis": {
            "gridcolor": "white",
            "linecolor": "white",
            "ticks": ""
           }
          },
          "title": {
           "x": 0.05
          },
          "xaxis": {
           "automargin": true,
           "gridcolor": "white",
           "linecolor": "white",
           "ticks": "",
           "title": {
            "standoff": 15
           },
           "zerolinecolor": "white",
           "zerolinewidth": 2
          },
          "yaxis": {
           "automargin": true,
           "gridcolor": "white",
           "linecolor": "white",
           "ticks": "",
           "title": {
            "standoff": 15
           },
           "zerolinecolor": "white",
           "zerolinewidth": 2
          }
         }
        },
        "xaxis": {
         "title": {
          "text": "English level"
         }
        },
        "yaxis": {
         "title": {
          "text": "% / 100"
         }
        }
       }
      }
     },
     "metadata": {},
     "output_type": "display_data"
    }
   ],
   "source": [
    "fig = go.Figure(data=[\n",
    "    go.Bar(name=level, x=list(level_distrib[level].keys()), y=list(level_distrib[level].values()))\n",
    "    for level in  sorted(level_distrib)\n",
    "])\n",
    "\n",
    "\n",
    "fig.update_layout(barmode='group', legend=dict(title='Sub level'))\n",
    "fig.update_xaxes(title=\"English level\")\n",
    "fig.update_yaxes(title=\"% / 100\")\n",
    "\n",
    "fig.show()"
   ]
  },
  {
   "attachments": {},
   "cell_type": "markdown",
   "metadata": {},
   "source": [
    "Какие-то выводы о линейной зависимости сделать мы не можем, поэтому продолжим эксперемент без использования данной информации."
   ]
  },
  {
   "attachments": {},
   "cell_type": "markdown",
   "metadata": {},
   "source": [
    "Объявим  и обучим лейбл энкодер"
   ]
  },
  {
   "cell_type": "code",
   "execution_count": 26,
   "metadata": {},
   "outputs": [],
   "source": [
    "le = LabelEncoder().fit(labels)"
   ]
  },
  {
   "attachments": {},
   "cell_type": "markdown",
   "metadata": {},
   "source": [
    "Преобразуем данные и разделим их на train и valid"
   ]
  },
  {
   "cell_type": "code",
   "execution_count": 90,
   "metadata": {},
   "outputs": [],
   "source": [
    "X, y = pd.DataFrame.from_records(text_labeled_distrib), le.transform(labels)\n",
    "X_test = pd.DataFrame.from_records(text_unlabeled_distrib)"
   ]
  },
  {
   "cell_type": "code",
   "execution_count": 91,
   "metadata": {},
   "outputs": [],
   "source": [
    "X_train, X_valid, y_train, y_valid = train_test_split(X, y, test_size=0.2, stratify=y, random_state=1024)"
   ]
  },
  {
   "attachments": {},
   "cell_type": "markdown",
   "metadata": {},
   "source": [
    "Попробуем взять в качестве модели random forest и настроить гиперпараметры с использованием GridSearchCV"
   ]
  },
  {
   "cell_type": "code",
   "execution_count": 92,
   "metadata": {},
   "outputs": [],
   "source": [
    "model = RandomForestClassifier(max_depth=2, random_state=1024).fit(X_train, y_train)"
   ]
  },
  {
   "cell_type": "code",
   "execution_count": 93,
   "metadata": {},
   "outputs": [
    {
     "data": {
      "text/plain": [
       "0.8181818181818182"
      ]
     },
     "execution_count": 93,
     "metadata": {},
     "output_type": "execute_result"
    }
   ],
   "source": [
    "model.score(X_valid, y_valid)"
   ]
  },
  {
   "cell_type": "code",
   "execution_count": 94,
   "metadata": {},
   "outputs": [
    {
     "data": {
      "text/plain": [
       "0.6010281385281385"
      ]
     },
     "execution_count": 94,
     "metadata": {},
     "output_type": "execute_result"
    }
   ],
   "source": [
    "model_random_forest = RandomForestClassifier(random_state=1024)\n",
    "parameters_2 = {\n",
    "    'n_estimators': [5, 10, 15, 25, 50, 100], \n",
    "    'max_depth': [2, 3, 10, 15],\n",
    "}\n",
    "GSCV_forest = GridSearchCV(model_random_forest, parameters_2, scoring=\"balanced_accuracy\").fit(X, y)\n",
    "GSCV_forest.best_score_"
   ]
  },
  {
   "attachments": {},
   "cell_type": "markdown",
   "metadata": {},
   "source": [
    "Попробуем взять в качестве модели также CatBoostClassifier"
   ]
  },
  {
   "cell_type": "code",
   "execution_count": 32,
   "metadata": {},
   "outputs": [
    {
     "name": "stdout",
     "output_type": "stream",
     "text": [
      "0:\tlearn: 0.8615385\ttest: 0.5454545\tbest: 0.5454545 (0)\ttotal: 71.7ms\tremaining: 1m 11s\n",
      "1:\tlearn: 0.8076923\ttest: 0.7575758\tbest: 0.7575758 (1)\ttotal: 73.4ms\tremaining: 36.6s\n",
      "2:\tlearn: 0.8000000\ttest: 0.7272727\tbest: 0.7575758 (1)\ttotal: 89ms\tremaining: 29.6s\n",
      "3:\tlearn: 0.8307692\ttest: 0.7272727\tbest: 0.7575758 (1)\ttotal: 104ms\tremaining: 25.8s\n",
      "4:\tlearn: 0.8692308\ttest: 0.7575758\tbest: 0.7575758 (1)\ttotal: 117ms\tremaining: 23.2s\n",
      "5:\tlearn: 0.8846154\ttest: 0.6969697\tbest: 0.7575758 (1)\ttotal: 129ms\tremaining: 21.4s\n",
      "6:\tlearn: 0.8461538\ttest: 0.7272727\tbest: 0.7575758 (1)\ttotal: 142ms\tremaining: 20.1s\n",
      "7:\tlearn: 0.8692308\ttest: 0.7272727\tbest: 0.7575758 (1)\ttotal: 153ms\tremaining: 18.9s\n",
      "8:\tlearn: 0.8923077\ttest: 0.7575758\tbest: 0.7575758 (1)\ttotal: 164ms\tremaining: 18s\n",
      "9:\tlearn: 0.9000000\ttest: 0.7575758\tbest: 0.7575758 (1)\ttotal: 175ms\tremaining: 17.3s\n",
      "10:\tlearn: 0.9000000\ttest: 0.8181818\tbest: 0.8181818 (10)\ttotal: 185ms\tremaining: 16.6s\n",
      "11:\tlearn: 0.8461538\ttest: 0.7575758\tbest: 0.8181818 (10)\ttotal: 186ms\tremaining: 15.3s\n",
      "12:\tlearn: 0.8692308\ttest: 0.7575758\tbest: 0.8181818 (10)\ttotal: 197ms\tremaining: 15s\n",
      "13:\tlearn: 0.8692308\ttest: 0.7878788\tbest: 0.8181818 (10)\ttotal: 208ms\tremaining: 14.7s\n",
      "14:\tlearn: 0.8769231\ttest: 0.7575758\tbest: 0.8181818 (10)\ttotal: 219ms\tremaining: 14.3s\n",
      "15:\tlearn: 0.8615385\ttest: 0.7878788\tbest: 0.8181818 (10)\ttotal: 230ms\tremaining: 14.1s\n",
      "16:\tlearn: 0.8615385\ttest: 0.7878788\tbest: 0.8181818 (10)\ttotal: 241ms\tremaining: 13.9s\n",
      "17:\tlearn: 0.8692308\ttest: 0.7878788\tbest: 0.8181818 (10)\ttotal: 252ms\tremaining: 13.8s\n",
      "18:\tlearn: 0.8615385\ttest: 0.7878788\tbest: 0.8181818 (10)\ttotal: 254ms\tremaining: 13.1s\n",
      "19:\tlearn: 0.8615385\ttest: 0.7878788\tbest: 0.8181818 (10)\ttotal: 265ms\tremaining: 13s\n",
      "20:\tlearn: 0.8461538\ttest: 0.7878788\tbest: 0.8181818 (10)\ttotal: 266ms\tremaining: 12.4s\n",
      "21:\tlearn: 0.8461538\ttest: 0.7878788\tbest: 0.8181818 (10)\ttotal: 277ms\tremaining: 12.3s\n",
      "22:\tlearn: 0.8538462\ttest: 0.7575758\tbest: 0.8181818 (10)\ttotal: 288ms\tremaining: 12.2s\n",
      "23:\tlearn: 0.8615385\ttest: 0.7575758\tbest: 0.8181818 (10)\ttotal: 299ms\tremaining: 12.2s\n",
      "24:\tlearn: 0.8615385\ttest: 0.7575758\tbest: 0.8181818 (10)\ttotal: 309ms\tremaining: 12s\n",
      "25:\tlearn: 0.8692308\ttest: 0.7878788\tbest: 0.8181818 (10)\ttotal: 319ms\tremaining: 11.9s\n",
      "26:\tlearn: 0.8692308\ttest: 0.7878788\tbest: 0.8181818 (10)\ttotal: 320ms\tremaining: 11.5s\n",
      "27:\tlearn: 0.8769231\ttest: 0.7878788\tbest: 0.8181818 (10)\ttotal: 329ms\tremaining: 11.4s\n",
      "28:\tlearn: 0.8692308\ttest: 0.7878788\tbest: 0.8181818 (10)\ttotal: 338ms\tremaining: 11.3s\n",
      "29:\tlearn: 0.8692308\ttest: 0.7878788\tbest: 0.8181818 (10)\ttotal: 346ms\tremaining: 11.2s\n",
      "30:\tlearn: 0.8692308\ttest: 0.7878788\tbest: 0.8181818 (10)\ttotal: 356ms\tremaining: 11.1s\n",
      "31:\tlearn: 0.8615385\ttest: 0.7878788\tbest: 0.8181818 (10)\ttotal: 357ms\tremaining: 10.8s\n",
      "32:\tlearn: 0.8615385\ttest: 0.7878788\tbest: 0.8181818 (10)\ttotal: 366ms\tremaining: 10.7s\n",
      "33:\tlearn: 0.8692308\ttest: 0.7575758\tbest: 0.8181818 (10)\ttotal: 376ms\tremaining: 10.7s\n",
      "34:\tlearn: 0.8692308\ttest: 0.7878788\tbest: 0.8181818 (10)\ttotal: 387ms\tremaining: 10.7s\n",
      "35:\tlearn: 0.8692308\ttest: 0.7878788\tbest: 0.8181818 (10)\ttotal: 396ms\tremaining: 10.6s\n",
      "36:\tlearn: 0.8692308\ttest: 0.7878788\tbest: 0.8181818 (10)\ttotal: 405ms\tremaining: 10.5s\n",
      "37:\tlearn: 0.8615385\ttest: 0.7878788\tbest: 0.8181818 (10)\ttotal: 406ms\tremaining: 10.3s\n",
      "38:\tlearn: 0.8538462\ttest: 0.7878788\tbest: 0.8181818 (10)\ttotal: 415ms\tremaining: 10.2s\n",
      "39:\tlearn: 0.8538462\ttest: 0.7878788\tbest: 0.8181818 (10)\ttotal: 423ms\tremaining: 10.1s\n",
      "40:\tlearn: 0.8538462\ttest: 0.7878788\tbest: 0.8181818 (10)\ttotal: 431ms\tremaining: 10.1s\n",
      "41:\tlearn: 0.8538462\ttest: 0.7878788\tbest: 0.8181818 (10)\ttotal: 439ms\tremaining: 10s\n",
      "42:\tlearn: 0.8538462\ttest: 0.7878788\tbest: 0.8181818 (10)\ttotal: 447ms\tremaining: 9.96s\n",
      "43:\tlearn: 0.8615385\ttest: 0.7878788\tbest: 0.8181818 (10)\ttotal: 456ms\tremaining: 9.9s\n",
      "44:\tlearn: 0.8615385\ttest: 0.7878788\tbest: 0.8181818 (10)\ttotal: 464ms\tremaining: 9.84s\n",
      "45:\tlearn: 0.8692308\ttest: 0.7878788\tbest: 0.8181818 (10)\ttotal: 472ms\tremaining: 9.8s\n",
      "46:\tlearn: 0.8692308\ttest: 0.7878788\tbest: 0.8181818 (10)\ttotal: 481ms\tremaining: 9.75s\n",
      "47:\tlearn: 0.8692308\ttest: 0.7878788\tbest: 0.8181818 (10)\ttotal: 490ms\tremaining: 9.71s\n",
      "48:\tlearn: 0.8692308\ttest: 0.8181818\tbest: 0.8181818 (10)\ttotal: 500ms\tremaining: 9.7s\n",
      "49:\tlearn: 0.8615385\ttest: 0.7878788\tbest: 0.8181818 (10)\ttotal: 513ms\tremaining: 9.75s\n",
      "50:\tlearn: 0.8615385\ttest: 0.7878788\tbest: 0.8181818 (10)\ttotal: 516ms\tremaining: 9.61s\n",
      "51:\tlearn: 0.8615385\ttest: 0.7878788\tbest: 0.8181818 (10)\ttotal: 525ms\tremaining: 9.57s\n",
      "52:\tlearn: 0.8615385\ttest: 0.7878788\tbest: 0.8181818 (10)\ttotal: 534ms\tremaining: 9.53s\n",
      "53:\tlearn: 0.8615385\ttest: 0.7575758\tbest: 0.8181818 (10)\ttotal: 542ms\tremaining: 9.49s\n",
      "54:\tlearn: 0.8615385\ttest: 0.7272727\tbest: 0.8181818 (10)\ttotal: 550ms\tremaining: 9.45s\n",
      "55:\tlearn: 0.8615385\ttest: 0.7272727\tbest: 0.8181818 (10)\ttotal: 559ms\tremaining: 9.42s\n",
      "56:\tlearn: 0.8615385\ttest: 0.7878788\tbest: 0.8181818 (10)\ttotal: 567ms\tremaining: 9.38s\n",
      "57:\tlearn: 0.8615385\ttest: 0.7878788\tbest: 0.8181818 (10)\ttotal: 576ms\tremaining: 9.36s\n",
      "58:\tlearn: 0.8615385\ttest: 0.7878788\tbest: 0.8181818 (10)\ttotal: 585ms\tremaining: 9.33s\n",
      "59:\tlearn: 0.8692308\ttest: 0.7878788\tbest: 0.8181818 (10)\ttotal: 594ms\tremaining: 9.3s\n",
      "60:\tlearn: 0.8692308\ttest: 0.7878788\tbest: 0.8181818 (10)\ttotal: 598ms\tremaining: 9.21s\n",
      "61:\tlearn: 0.8692308\ttest: 0.7878788\tbest: 0.8181818 (10)\ttotal: 606ms\tremaining: 9.18s\n",
      "62:\tlearn: 0.8692308\ttest: 0.7878788\tbest: 0.8181818 (10)\ttotal: 615ms\tremaining: 9.14s\n",
      "63:\tlearn: 0.8692308\ttest: 0.7878788\tbest: 0.8181818 (10)\ttotal: 623ms\tremaining: 9.11s\n",
      "64:\tlearn: 0.8692308\ttest: 0.7575758\tbest: 0.8181818 (10)\ttotal: 631ms\tremaining: 9.08s\n",
      "65:\tlearn: 0.8692308\ttest: 0.7575758\tbest: 0.8181818 (10)\ttotal: 639ms\tremaining: 9.04s\n",
      "66:\tlearn: 0.8615385\ttest: 0.7575758\tbest: 0.8181818 (10)\ttotal: 641ms\tremaining: 8.92s\n",
      "67:\tlearn: 0.8692308\ttest: 0.7575758\tbest: 0.8181818 (10)\ttotal: 649ms\tremaining: 8.89s\n",
      "68:\tlearn: 0.8692308\ttest: 0.7575758\tbest: 0.8181818 (10)\ttotal: 657ms\tremaining: 8.86s\n",
      "69:\tlearn: 0.8692308\ttest: 0.7575758\tbest: 0.8181818 (10)\ttotal: 665ms\tremaining: 8.84s\n",
      "70:\tlearn: 0.8692308\ttest: 0.7878788\tbest: 0.8181818 (10)\ttotal: 670ms\tremaining: 8.76s\n",
      "71:\tlearn: 0.8692308\ttest: 0.7878788\tbest: 0.8181818 (10)\ttotal: 685ms\tremaining: 8.83s\n",
      "72:\tlearn: 0.8692308\ttest: 0.7878788\tbest: 0.8181818 (10)\ttotal: 698ms\tremaining: 8.87s\n",
      "73:\tlearn: 0.8692308\ttest: 0.7878788\tbest: 0.8181818 (10)\ttotal: 713ms\tremaining: 8.93s\n",
      "74:\tlearn: 0.8692308\ttest: 0.7878788\tbest: 0.8181818 (10)\ttotal: 746ms\tremaining: 9.2s\n",
      "75:\tlearn: 0.8692308\ttest: 0.7878788\tbest: 0.8181818 (10)\ttotal: 758ms\tremaining: 9.22s\n",
      "76:\tlearn: 0.8692308\ttest: 0.7878788\tbest: 0.8181818 (10)\ttotal: 771ms\tremaining: 9.24s\n",
      "77:\tlearn: 0.8692308\ttest: 0.7878788\tbest: 0.8181818 (10)\ttotal: 784ms\tremaining: 9.27s\n",
      "78:\tlearn: 0.8769231\ttest: 0.7878788\tbest: 0.8181818 (10)\ttotal: 792ms\tremaining: 9.23s\n",
      "79:\tlearn: 0.8769231\ttest: 0.7878788\tbest: 0.8181818 (10)\ttotal: 801ms\tremaining: 9.21s\n",
      "80:\tlearn: 0.8769231\ttest: 0.7575758\tbest: 0.8181818 (10)\ttotal: 804ms\tremaining: 9.12s\n",
      "81:\tlearn: 0.8769231\ttest: 0.7575758\tbest: 0.8181818 (10)\ttotal: 813ms\tremaining: 9.1s\n",
      "82:\tlearn: 0.8769231\ttest: 0.7575758\tbest: 0.8181818 (10)\ttotal: 821ms\tremaining: 9.07s\n",
      "83:\tlearn: 0.8846154\ttest: 0.7575758\tbest: 0.8181818 (10)\ttotal: 829ms\tremaining: 9.04s\n",
      "84:\tlearn: 0.8769231\ttest: 0.8181818\tbest: 0.8181818 (10)\ttotal: 830ms\tremaining: 8.93s\n",
      "85:\tlearn: 0.8769231\ttest: 0.7878788\tbest: 0.8181818 (10)\ttotal: 839ms\tremaining: 8.91s\n",
      "86:\tlearn: 0.8769231\ttest: 0.7878788\tbest: 0.8181818 (10)\ttotal: 847ms\tremaining: 8.88s\n",
      "87:\tlearn: 0.8846154\ttest: 0.7878788\tbest: 0.8181818 (10)\ttotal: 855ms\tremaining: 8.86s\n",
      "88:\tlearn: 0.8769231\ttest: 0.7878788\tbest: 0.8181818 (10)\ttotal: 859ms\tremaining: 8.8s\n",
      "89:\tlearn: 0.8846154\ttest: 0.7878788\tbest: 0.8181818 (10)\ttotal: 868ms\tremaining: 8.77s\n",
      "90:\tlearn: 0.8923077\ttest: 0.7878788\tbest: 0.8181818 (10)\ttotal: 877ms\tremaining: 8.76s\n",
      "91:\tlearn: 0.8923077\ttest: 0.7878788\tbest: 0.8181818 (10)\ttotal: 884ms\tremaining: 8.73s\n",
      "92:\tlearn: 0.8923077\ttest: 0.7878788\tbest: 0.8181818 (10)\ttotal: 893ms\tremaining: 8.7s\n",
      "93:\tlearn: 0.8923077\ttest: 0.7878788\tbest: 0.8181818 (10)\ttotal: 902ms\tremaining: 8.7s\n",
      "94:\tlearn: 0.8923077\ttest: 0.7878788\tbest: 0.8181818 (10)\ttotal: 911ms\tremaining: 8.68s\n",
      "95:\tlearn: 0.8923077\ttest: 0.7878788\tbest: 0.8181818 (10)\ttotal: 918ms\tremaining: 8.65s\n",
      "96:\tlearn: 0.8923077\ttest: 0.7878788\tbest: 0.8181818 (10)\ttotal: 927ms\tremaining: 8.63s\n",
      "97:\tlearn: 0.9000000\ttest: 0.7878788\tbest: 0.8181818 (10)\ttotal: 934ms\tremaining: 8.6s\n",
      "98:\tlearn: 0.9000000\ttest: 0.7878788\tbest: 0.8181818 (10)\ttotal: 943ms\tremaining: 8.58s\n",
      "99:\tlearn: 0.9000000\ttest: 0.7878788\tbest: 0.8181818 (10)\ttotal: 951ms\tremaining: 8.56s\n",
      "100:\tlearn: 0.8923077\ttest: 0.7575758\tbest: 0.8181818 (10)\ttotal: 955ms\tremaining: 8.5s\n",
      "101:\tlearn: 0.8923077\ttest: 0.7575758\tbest: 0.8181818 (10)\ttotal: 964ms\tremaining: 8.48s\n",
      "102:\tlearn: 0.8923077\ttest: 0.7575758\tbest: 0.8181818 (10)\ttotal: 972ms\tremaining: 8.46s\n",
      "103:\tlearn: 0.8846154\ttest: 0.7575758\tbest: 0.8181818 (10)\ttotal: 980ms\tremaining: 8.44s\n",
      "104:\tlearn: 0.9000000\ttest: 0.7575758\tbest: 0.8181818 (10)\ttotal: 988ms\tremaining: 8.42s\n",
      "105:\tlearn: 0.9000000\ttest: 0.7575758\tbest: 0.8181818 (10)\ttotal: 996ms\tremaining: 8.4s\n",
      "106:\tlearn: 0.9000000\ttest: 0.7575758\tbest: 0.8181818 (10)\ttotal: 997ms\tremaining: 8.32s\n",
      "107:\tlearn: 0.9000000\ttest: 0.7575758\tbest: 0.8181818 (10)\ttotal: 1s\tremaining: 8.3s\n",
      "108:\tlearn: 0.9000000\ttest: 0.7575758\tbest: 0.8181818 (10)\ttotal: 1.01s\tremaining: 8.28s\n",
      "109:\tlearn: 0.9000000\ttest: 0.7575758\tbest: 0.8181818 (10)\ttotal: 1.02s\tremaining: 8.26s\n",
      "110:\tlearn: 0.9000000\ttest: 0.7575758\tbest: 0.8181818 (10)\ttotal: 1.03s\tremaining: 8.25s\n",
      "111:\tlearn: 0.9000000\ttest: 0.7575758\tbest: 0.8181818 (10)\ttotal: 1.04s\tremaining: 8.26s\n",
      "112:\tlearn: 0.9076923\ttest: 0.7575758\tbest: 0.8181818 (10)\ttotal: 1.05s\tremaining: 8.28s\n",
      "113:\tlearn: 0.9000000\ttest: 0.7575758\tbest: 0.8181818 (10)\ttotal: 1.06s\tremaining: 8.28s\n",
      "114:\tlearn: 0.9000000\ttest: 0.7878788\tbest: 0.8181818 (10)\ttotal: 1.07s\tremaining: 8.28s\n",
      "115:\tlearn: 0.9153846\ttest: 0.7878788\tbest: 0.8181818 (10)\ttotal: 1.09s\tremaining: 8.29s\n",
      "116:\tlearn: 0.9076923\ttest: 0.7575758\tbest: 0.8181818 (10)\ttotal: 1.13s\tremaining: 8.51s\n",
      "117:\tlearn: 0.9153846\ttest: 0.7575758\tbest: 0.8181818 (10)\ttotal: 1.16s\tremaining: 8.64s\n",
      "118:\tlearn: 0.9153846\ttest: 0.7575758\tbest: 0.8181818 (10)\ttotal: 1.17s\tremaining: 8.63s\n",
      "119:\tlearn: 0.9076923\ttest: 0.7878788\tbest: 0.8181818 (10)\ttotal: 1.18s\tremaining: 8.63s\n",
      "120:\tlearn: 0.9153846\ttest: 0.7878788\tbest: 0.8181818 (10)\ttotal: 1.19s\tremaining: 8.62s\n",
      "121:\tlearn: 0.9076923\ttest: 0.7878788\tbest: 0.8181818 (10)\ttotal: 1.2s\tremaining: 8.64s\n",
      "122:\tlearn: 0.9153846\ttest: 0.7878788\tbest: 0.8181818 (10)\ttotal: 1.21s\tremaining: 8.65s\n",
      "123:\tlearn: 0.9153846\ttest: 0.7878788\tbest: 0.8181818 (10)\ttotal: 1.22s\tremaining: 8.64s\n",
      "124:\tlearn: 0.9230769\ttest: 0.7878788\tbest: 0.8181818 (10)\ttotal: 1.23s\tremaining: 8.63s\n",
      "125:\tlearn: 0.9230769\ttest: 0.7878788\tbest: 0.8181818 (10)\ttotal: 1.24s\tremaining: 8.62s\n",
      "126:\tlearn: 0.9230769\ttest: 0.7878788\tbest: 0.8181818 (10)\ttotal: 1.25s\tremaining: 8.62s\n",
      "127:\tlearn: 0.9230769\ttest: 0.7878788\tbest: 0.8181818 (10)\ttotal: 1.26s\tremaining: 8.62s\n",
      "128:\tlearn: 0.9230769\ttest: 0.7878788\tbest: 0.8181818 (10)\ttotal: 1.27s\tremaining: 8.61s\n",
      "129:\tlearn: 0.9230769\ttest: 0.7878788\tbest: 0.8181818 (10)\ttotal: 1.29s\tremaining: 8.62s\n",
      "130:\tlearn: 0.9307692\ttest: 0.7575758\tbest: 0.8181818 (10)\ttotal: 1.3s\tremaining: 8.61s\n",
      "131:\tlearn: 0.9307692\ttest: 0.7575758\tbest: 0.8181818 (10)\ttotal: 1.31s\tremaining: 8.62s\n",
      "132:\tlearn: 0.9307692\ttest: 0.7575758\tbest: 0.8181818 (10)\ttotal: 1.32s\tremaining: 8.62s\n",
      "133:\tlearn: 0.9307692\ttest: 0.7575758\tbest: 0.8181818 (10)\ttotal: 1.33s\tremaining: 8.63s\n",
      "134:\tlearn: 0.9307692\ttest: 0.7575758\tbest: 0.8181818 (10)\ttotal: 1.35s\tremaining: 8.63s\n",
      "135:\tlearn: 0.9307692\ttest: 0.7575758\tbest: 0.8181818 (10)\ttotal: 1.36s\tremaining: 8.62s\n",
      "136:\tlearn: 0.9307692\ttest: 0.7575758\tbest: 0.8181818 (10)\ttotal: 1.36s\tremaining: 8.6s\n",
      "137:\tlearn: 0.9307692\ttest: 0.7575758\tbest: 0.8181818 (10)\ttotal: 1.38s\tremaining: 8.59s\n",
      "138:\tlearn: 0.9307692\ttest: 0.7575758\tbest: 0.8181818 (10)\ttotal: 1.39s\tremaining: 8.58s\n",
      "139:\tlearn: 0.9307692\ttest: 0.7575758\tbest: 0.8181818 (10)\ttotal: 1.39s\tremaining: 8.56s\n",
      "140:\tlearn: 0.9307692\ttest: 0.7575758\tbest: 0.8181818 (10)\ttotal: 1.4s\tremaining: 8.55s\n",
      "141:\tlearn: 0.9307692\ttest: 0.7575758\tbest: 0.8181818 (10)\ttotal: 1.41s\tremaining: 8.53s\n",
      "142:\tlearn: 0.9307692\ttest: 0.7575758\tbest: 0.8181818 (10)\ttotal: 1.42s\tremaining: 8.49s\n",
      "143:\tlearn: 0.9307692\ttest: 0.7575758\tbest: 0.8181818 (10)\ttotal: 1.42s\tremaining: 8.47s\n",
      "144:\tlearn: 0.9307692\ttest: 0.7575758\tbest: 0.8181818 (10)\ttotal: 1.43s\tremaining: 8.45s\n",
      "145:\tlearn: 0.9307692\ttest: 0.7575758\tbest: 0.8181818 (10)\ttotal: 1.44s\tremaining: 8.44s\n",
      "146:\tlearn: 0.9307692\ttest: 0.7575758\tbest: 0.8181818 (10)\ttotal: 1.45s\tremaining: 8.43s\n",
      "147:\tlearn: 0.9307692\ttest: 0.7575758\tbest: 0.8181818 (10)\ttotal: 1.46s\tremaining: 8.41s\n",
      "148:\tlearn: 0.9307692\ttest: 0.7575758\tbest: 0.8181818 (10)\ttotal: 1.47s\tremaining: 8.39s\n",
      "149:\tlearn: 0.9307692\ttest: 0.7575758\tbest: 0.8181818 (10)\ttotal: 1.48s\tremaining: 8.38s\n",
      "150:\tlearn: 0.9307692\ttest: 0.7575758\tbest: 0.8181818 (10)\ttotal: 1.49s\tremaining: 8.37s\n",
      "151:\tlearn: 0.9307692\ttest: 0.7575758\tbest: 0.8181818 (10)\ttotal: 1.5s\tremaining: 8.36s\n",
      "152:\tlearn: 0.9307692\ttest: 0.7575758\tbest: 0.8181818 (10)\ttotal: 1.51s\tremaining: 8.34s\n",
      "153:\tlearn: 0.9307692\ttest: 0.7575758\tbest: 0.8181818 (10)\ttotal: 1.51s\tremaining: 8.32s\n",
      "154:\tlearn: 0.9307692\ttest: 0.7575758\tbest: 0.8181818 (10)\ttotal: 1.52s\tremaining: 8.31s\n",
      "155:\tlearn: 0.9307692\ttest: 0.7575758\tbest: 0.8181818 (10)\ttotal: 1.53s\tremaining: 8.29s\n",
      "156:\tlearn: 0.9307692\ttest: 0.7575758\tbest: 0.8181818 (10)\ttotal: 1.54s\tremaining: 8.27s\n",
      "157:\tlearn: 0.9307692\ttest: 0.7575758\tbest: 0.8181818 (10)\ttotal: 1.54s\tremaining: 8.22s\n",
      "158:\tlearn: 0.9307692\ttest: 0.7575758\tbest: 0.8181818 (10)\ttotal: 1.55s\tremaining: 8.2s\n",
      "159:\tlearn: 0.9307692\ttest: 0.7575758\tbest: 0.8181818 (10)\ttotal: 1.55s\tremaining: 8.14s\n",
      "160:\tlearn: 0.9307692\ttest: 0.7575758\tbest: 0.8181818 (10)\ttotal: 1.56s\tremaining: 8.12s\n",
      "161:\tlearn: 0.9307692\ttest: 0.7575758\tbest: 0.8181818 (10)\ttotal: 1.57s\tremaining: 8.11s\n",
      "162:\tlearn: 0.9307692\ttest: 0.7575758\tbest: 0.8181818 (10)\ttotal: 1.57s\tremaining: 8.09s\n",
      "163:\tlearn: 0.9307692\ttest: 0.7575758\tbest: 0.8181818 (10)\ttotal: 1.58s\tremaining: 8.07s\n",
      "164:\tlearn: 0.9307692\ttest: 0.7575758\tbest: 0.8181818 (10)\ttotal: 1.59s\tremaining: 8.06s\n",
      "165:\tlearn: 0.9307692\ttest: 0.7575758\tbest: 0.8181818 (10)\ttotal: 1.6s\tremaining: 8.04s\n",
      "166:\tlearn: 0.9307692\ttest: 0.7575758\tbest: 0.8181818 (10)\ttotal: 1.61s\tremaining: 8.02s\n",
      "167:\tlearn: 0.9307692\ttest: 0.7575758\tbest: 0.8181818 (10)\ttotal: 1.62s\tremaining: 8.01s\n",
      "168:\tlearn: 0.9307692\ttest: 0.7575758\tbest: 0.8181818 (10)\ttotal: 1.63s\tremaining: 7.99s\n",
      "169:\tlearn: 0.9307692\ttest: 0.7575758\tbest: 0.8181818 (10)\ttotal: 1.63s\tremaining: 7.97s\n",
      "170:\tlearn: 0.9307692\ttest: 0.7575758\tbest: 0.8181818 (10)\ttotal: 1.63s\tremaining: 7.93s\n",
      "171:\tlearn: 0.9307692\ttest: 0.7575758\tbest: 0.8181818 (10)\ttotal: 1.64s\tremaining: 7.91s\n",
      "172:\tlearn: 0.9307692\ttest: 0.7575758\tbest: 0.8181818 (10)\ttotal: 1.65s\tremaining: 7.89s\n",
      "173:\tlearn: 0.9307692\ttest: 0.7575758\tbest: 0.8181818 (10)\ttotal: 1.66s\tremaining: 7.88s\n",
      "174:\tlearn: 0.9307692\ttest: 0.7575758\tbest: 0.8181818 (10)\ttotal: 1.67s\tremaining: 7.86s\n",
      "175:\tlearn: 0.9307692\ttest: 0.7575758\tbest: 0.8181818 (10)\ttotal: 1.68s\tremaining: 7.85s\n",
      "176:\tlearn: 0.9307692\ttest: 0.7575758\tbest: 0.8181818 (10)\ttotal: 1.68s\tremaining: 7.79s\n",
      "177:\tlearn: 0.9307692\ttest: 0.7575758\tbest: 0.8181818 (10)\ttotal: 1.68s\tremaining: 7.78s\n",
      "178:\tlearn: 0.9307692\ttest: 0.7575758\tbest: 0.8181818 (10)\ttotal: 1.69s\tremaining: 7.76s\n",
      "179:\tlearn: 0.9307692\ttest: 0.7575758\tbest: 0.8181818 (10)\ttotal: 1.7s\tremaining: 7.75s\n",
      "180:\tlearn: 0.9307692\ttest: 0.7575758\tbest: 0.8181818 (10)\ttotal: 1.71s\tremaining: 7.74s\n",
      "181:\tlearn: 0.9307692\ttest: 0.7575758\tbest: 0.8181818 (10)\ttotal: 1.71s\tremaining: 7.7s\n",
      "182:\tlearn: 0.9307692\ttest: 0.7575758\tbest: 0.8181818 (10)\ttotal: 1.72s\tremaining: 7.68s\n",
      "183:\tlearn: 0.9307692\ttest: 0.7575758\tbest: 0.8181818 (10)\ttotal: 1.73s\tremaining: 7.67s\n",
      "184:\tlearn: 0.9307692\ttest: 0.7575758\tbest: 0.8181818 (10)\ttotal: 1.74s\tremaining: 7.66s\n",
      "185:\tlearn: 0.9307692\ttest: 0.7575758\tbest: 0.8181818 (10)\ttotal: 1.75s\tremaining: 7.64s\n",
      "186:\tlearn: 0.9307692\ttest: 0.7575758\tbest: 0.8181818 (10)\ttotal: 1.75s\tremaining: 7.63s\n",
      "187:\tlearn: 0.9307692\ttest: 0.7575758\tbest: 0.8181818 (10)\ttotal: 1.76s\tremaining: 7.61s\n",
      "188:\tlearn: 0.9384615\ttest: 0.7575758\tbest: 0.8181818 (10)\ttotal: 1.76s\tremaining: 7.57s\n",
      "189:\tlearn: 0.9384615\ttest: 0.7575758\tbest: 0.8181818 (10)\ttotal: 1.77s\tremaining: 7.56s\n",
      "190:\tlearn: 0.9384615\ttest: 0.7575758\tbest: 0.8181818 (10)\ttotal: 1.78s\tremaining: 7.56s\n",
      "191:\tlearn: 0.9384615\ttest: 0.7575758\tbest: 0.8181818 (10)\ttotal: 1.8s\tremaining: 7.56s\n",
      "192:\tlearn: 0.9384615\ttest: 0.7575758\tbest: 0.8181818 (10)\ttotal: 1.81s\tremaining: 7.55s\n",
      "193:\tlearn: 0.9384615\ttest: 0.7575758\tbest: 0.8181818 (10)\ttotal: 1.81s\tremaining: 7.54s\n",
      "194:\tlearn: 0.9384615\ttest: 0.7575758\tbest: 0.8181818 (10)\ttotal: 1.82s\tremaining: 7.5s\n",
      "195:\tlearn: 0.9384615\ttest: 0.7575758\tbest: 0.8181818 (10)\ttotal: 1.82s\tremaining: 7.49s\n",
      "196:\tlearn: 0.9384615\ttest: 0.7575758\tbest: 0.8181818 (10)\ttotal: 1.83s\tremaining: 7.48s\n",
      "197:\tlearn: 0.9384615\ttest: 0.7575758\tbest: 0.8181818 (10)\ttotal: 1.85s\tremaining: 7.48s\n",
      "198:\tlearn: 0.9384615\ttest: 0.7575758\tbest: 0.8181818 (10)\ttotal: 1.85s\tremaining: 7.47s\n",
      "199:\tlearn: 0.9384615\ttest: 0.7575758\tbest: 0.8181818 (10)\ttotal: 1.86s\tremaining: 7.46s\n",
      "200:\tlearn: 0.9384615\ttest: 0.7575758\tbest: 0.8181818 (10)\ttotal: 1.87s\tremaining: 7.44s\n",
      "201:\tlearn: 0.9384615\ttest: 0.7575758\tbest: 0.8181818 (10)\ttotal: 1.88s\tremaining: 7.41s\n",
      "202:\tlearn: 0.9384615\ttest: 0.7575758\tbest: 0.8181818 (10)\ttotal: 1.89s\tremaining: 7.41s\n",
      "203:\tlearn: 0.9384615\ttest: 0.7575758\tbest: 0.8181818 (10)\ttotal: 1.89s\tremaining: 7.39s\n",
      "204:\tlearn: 0.9384615\ttest: 0.7575758\tbest: 0.8181818 (10)\ttotal: 1.9s\tremaining: 7.38s\n",
      "205:\tlearn: 0.9384615\ttest: 0.7575758\tbest: 0.8181818 (10)\ttotal: 1.91s\tremaining: 7.38s\n",
      "206:\tlearn: 0.9384615\ttest: 0.7575758\tbest: 0.8181818 (10)\ttotal: 1.92s\tremaining: 7.36s\n",
      "207:\tlearn: 0.9384615\ttest: 0.7575758\tbest: 0.8181818 (10)\ttotal: 1.93s\tremaining: 7.35s\n",
      "208:\tlearn: 0.9384615\ttest: 0.7575758\tbest: 0.8181818 (10)\ttotal: 1.94s\tremaining: 7.34s\n",
      "209:\tlearn: 0.9384615\ttest: 0.7575758\tbest: 0.8181818 (10)\ttotal: 1.95s\tremaining: 7.33s\n",
      "210:\tlearn: 0.9384615\ttest: 0.7575758\tbest: 0.8181818 (10)\ttotal: 1.96s\tremaining: 7.31s\n",
      "211:\tlearn: 0.9384615\ttest: 0.7575758\tbest: 0.8181818 (10)\ttotal: 1.96s\tremaining: 7.3s\n",
      "212:\tlearn: 0.9384615\ttest: 0.7575758\tbest: 0.8181818 (10)\ttotal: 1.97s\tremaining: 7.29s\n",
      "213:\tlearn: 0.9384615\ttest: 0.7575758\tbest: 0.8181818 (10)\ttotal: 1.98s\tremaining: 7.28s\n",
      "214:\tlearn: 0.9384615\ttest: 0.7575758\tbest: 0.8181818 (10)\ttotal: 1.99s\tremaining: 7.26s\n",
      "215:\tlearn: 0.9384615\ttest: 0.7575758\tbest: 0.8181818 (10)\ttotal: 2s\tremaining: 7.25s\n",
      "216:\tlearn: 0.9384615\ttest: 0.7575758\tbest: 0.8181818 (10)\ttotal: 2.01s\tremaining: 7.24s\n",
      "217:\tlearn: 0.9384615\ttest: 0.7575758\tbest: 0.8181818 (10)\ttotal: 2.01s\tremaining: 7.23s\n",
      "218:\tlearn: 0.9384615\ttest: 0.7575758\tbest: 0.8181818 (10)\ttotal: 2.02s\tremaining: 7.2s\n",
      "219:\tlearn: 0.9384615\ttest: 0.7575758\tbest: 0.8181818 (10)\ttotal: 2.03s\tremaining: 7.19s\n",
      "220:\tlearn: 0.9384615\ttest: 0.7575758\tbest: 0.8181818 (10)\ttotal: 2.03s\tremaining: 7.16s\n",
      "221:\tlearn: 0.9384615\ttest: 0.7575758\tbest: 0.8181818 (10)\ttotal: 2.04s\tremaining: 7.16s\n",
      "222:\tlearn: 0.9384615\ttest: 0.7575758\tbest: 0.8181818 (10)\ttotal: 2.05s\tremaining: 7.14s\n",
      "223:\tlearn: 0.9384615\ttest: 0.7575758\tbest: 0.8181818 (10)\ttotal: 2.05s\tremaining: 7.12s\n",
      "224:\tlearn: 0.9384615\ttest: 0.7575758\tbest: 0.8181818 (10)\ttotal: 2.06s\tremaining: 7.11s\n",
      "225:\tlearn: 0.9384615\ttest: 0.7575758\tbest: 0.8181818 (10)\ttotal: 2.07s\tremaining: 7.1s\n",
      "226:\tlearn: 0.9384615\ttest: 0.7575758\tbest: 0.8181818 (10)\ttotal: 2.08s\tremaining: 7.08s\n",
      "227:\tlearn: 0.9384615\ttest: 0.7575758\tbest: 0.8181818 (10)\ttotal: 2.09s\tremaining: 7.07s\n",
      "228:\tlearn: 0.9384615\ttest: 0.7575758\tbest: 0.8181818 (10)\ttotal: 2.1s\tremaining: 7.06s\n",
      "229:\tlearn: 0.9384615\ttest: 0.7575758\tbest: 0.8181818 (10)\ttotal: 2.11s\tremaining: 7.05s\n",
      "230:\tlearn: 0.9384615\ttest: 0.7575758\tbest: 0.8181818 (10)\ttotal: 2.12s\tremaining: 7.04s\n",
      "231:\tlearn: 0.9384615\ttest: 0.7575758\tbest: 0.8181818 (10)\ttotal: 2.12s\tremaining: 7.03s\n",
      "232:\tlearn: 0.9384615\ttest: 0.7575758\tbest: 0.8181818 (10)\ttotal: 2.13s\tremaining: 7.02s\n",
      "233:\tlearn: 0.9384615\ttest: 0.7575758\tbest: 0.8181818 (10)\ttotal: 2.14s\tremaining: 7s\n",
      "234:\tlearn: 0.9384615\ttest: 0.7575758\tbest: 0.8181818 (10)\ttotal: 2.15s\tremaining: 6.99s\n",
      "235:\tlearn: 0.9384615\ttest: 0.7575758\tbest: 0.8181818 (10)\ttotal: 2.16s\tremaining: 6.98s\n",
      "236:\tlearn: 0.9384615\ttest: 0.7575758\tbest: 0.8181818 (10)\ttotal: 2.16s\tremaining: 6.97s\n",
      "237:\tlearn: 0.9384615\ttest: 0.7575758\tbest: 0.8181818 (10)\ttotal: 2.17s\tremaining: 6.93s\n",
      "238:\tlearn: 0.9384615\ttest: 0.7575758\tbest: 0.8181818 (10)\ttotal: 2.17s\tremaining: 6.92s\n",
      "239:\tlearn: 0.9384615\ttest: 0.7575758\tbest: 0.8181818 (10)\ttotal: 2.18s\tremaining: 6.9s\n",
      "240:\tlearn: 0.9384615\ttest: 0.7575758\tbest: 0.8181818 (10)\ttotal: 2.19s\tremaining: 6.88s\n",
      "241:\tlearn: 0.9384615\ttest: 0.7575758\tbest: 0.8181818 (10)\ttotal: 2.19s\tremaining: 6.87s\n",
      "242:\tlearn: 0.9384615\ttest: 0.7575758\tbest: 0.8181818 (10)\ttotal: 2.2s\tremaining: 6.86s\n",
      "243:\tlearn: 0.9384615\ttest: 0.7575758\tbest: 0.8181818 (10)\ttotal: 2.21s\tremaining: 6.85s\n",
      "244:\tlearn: 0.9384615\ttest: 0.7575758\tbest: 0.8181818 (10)\ttotal: 2.22s\tremaining: 6.83s\n",
      "245:\tlearn: 0.9384615\ttest: 0.7575758\tbest: 0.8181818 (10)\ttotal: 2.23s\tremaining: 6.82s\n",
      "246:\tlearn: 0.9384615\ttest: 0.7575758\tbest: 0.8181818 (10)\ttotal: 2.23s\tremaining: 6.8s\n",
      "247:\tlearn: 0.9384615\ttest: 0.7575758\tbest: 0.8181818 (10)\ttotal: 2.24s\tremaining: 6.78s\n",
      "248:\tlearn: 0.9384615\ttest: 0.7575758\tbest: 0.8181818 (10)\ttotal: 2.25s\tremaining: 6.77s\n",
      "249:\tlearn: 0.9384615\ttest: 0.7575758\tbest: 0.8181818 (10)\ttotal: 2.25s\tremaining: 6.76s\n",
      "250:\tlearn: 0.9384615\ttest: 0.7575758\tbest: 0.8181818 (10)\ttotal: 2.26s\tremaining: 6.75s\n",
      "251:\tlearn: 0.9384615\ttest: 0.7575758\tbest: 0.8181818 (10)\ttotal: 2.27s\tremaining: 6.74s\n",
      "252:\tlearn: 0.9384615\ttest: 0.7575758\tbest: 0.8181818 (10)\ttotal: 2.28s\tremaining: 6.73s\n",
      "253:\tlearn: 0.9384615\ttest: 0.7575758\tbest: 0.8181818 (10)\ttotal: 2.29s\tremaining: 6.71s\n",
      "254:\tlearn: 0.9384615\ttest: 0.7575758\tbest: 0.8181818 (10)\ttotal: 2.29s\tremaining: 6.71s\n",
      "255:\tlearn: 0.9384615\ttest: 0.7575758\tbest: 0.8181818 (10)\ttotal: 2.3s\tremaining: 6.7s\n",
      "256:\tlearn: 0.9384615\ttest: 0.7575758\tbest: 0.8181818 (10)\ttotal: 2.31s\tremaining: 6.68s\n",
      "257:\tlearn: 0.9384615\ttest: 0.7575758\tbest: 0.8181818 (10)\ttotal: 2.32s\tremaining: 6.67s\n",
      "258:\tlearn: 0.9384615\ttest: 0.7575758\tbest: 0.8181818 (10)\ttotal: 2.33s\tremaining: 6.65s\n",
      "259:\tlearn: 0.9384615\ttest: 0.7575758\tbest: 0.8181818 (10)\ttotal: 2.33s\tremaining: 6.64s\n",
      "260:\tlearn: 0.9384615\ttest: 0.7575758\tbest: 0.8181818 (10)\ttotal: 2.34s\tremaining: 6.63s\n",
      "261:\tlearn: 0.9384615\ttest: 0.7575758\tbest: 0.8181818 (10)\ttotal: 2.35s\tremaining: 6.62s\n",
      "262:\tlearn: 0.9384615\ttest: 0.7575758\tbest: 0.8181818 (10)\ttotal: 2.36s\tremaining: 6.61s\n",
      "263:\tlearn: 0.9384615\ttest: 0.7575758\tbest: 0.8181818 (10)\ttotal: 2.37s\tremaining: 6.6s\n",
      "264:\tlearn: 0.9384615\ttest: 0.7575758\tbest: 0.8181818 (10)\ttotal: 2.38s\tremaining: 6.59s\n",
      "265:\tlearn: 0.9384615\ttest: 0.7575758\tbest: 0.8181818 (10)\ttotal: 2.38s\tremaining: 6.58s\n",
      "266:\tlearn: 0.9384615\ttest: 0.7575758\tbest: 0.8181818 (10)\ttotal: 2.39s\tremaining: 6.57s\n",
      "267:\tlearn: 0.9384615\ttest: 0.7575758\tbest: 0.8181818 (10)\ttotal: 2.4s\tremaining: 6.56s\n",
      "268:\tlearn: 0.9384615\ttest: 0.7575758\tbest: 0.8181818 (10)\ttotal: 2.41s\tremaining: 6.54s\n",
      "269:\tlearn: 0.9384615\ttest: 0.7575758\tbest: 0.8181818 (10)\ttotal: 2.42s\tremaining: 6.53s\n",
      "270:\tlearn: 0.9384615\ttest: 0.7575758\tbest: 0.8181818 (10)\ttotal: 2.42s\tremaining: 6.5s\n",
      "271:\tlearn: 0.9384615\ttest: 0.7575758\tbest: 0.8181818 (10)\ttotal: 2.43s\tremaining: 6.49s\n",
      "272:\tlearn: 0.9384615\ttest: 0.7575758\tbest: 0.8181818 (10)\ttotal: 2.43s\tremaining: 6.48s\n",
      "273:\tlearn: 0.9384615\ttest: 0.7575758\tbest: 0.8181818 (10)\ttotal: 2.44s\tremaining: 6.45s\n",
      "274:\tlearn: 0.9384615\ttest: 0.7575758\tbest: 0.8181818 (10)\ttotal: 2.44s\tremaining: 6.44s\n",
      "275:\tlearn: 0.9384615\ttest: 0.7575758\tbest: 0.8181818 (10)\ttotal: 2.45s\tremaining: 6.43s\n",
      "276:\tlearn: 0.9384615\ttest: 0.7575758\tbest: 0.8181818 (10)\ttotal: 2.46s\tremaining: 6.42s\n",
      "277:\tlearn: 0.9384615\ttest: 0.7575758\tbest: 0.8181818 (10)\ttotal: 2.46s\tremaining: 6.39s\n",
      "278:\tlearn: 0.9384615\ttest: 0.7575758\tbest: 0.8181818 (10)\ttotal: 2.47s\tremaining: 6.38s\n",
      "279:\tlearn: 0.9384615\ttest: 0.7575758\tbest: 0.8181818 (10)\ttotal: 2.48s\tremaining: 6.37s\n",
      "280:\tlearn: 0.9384615\ttest: 0.7575758\tbest: 0.8181818 (10)\ttotal: 2.48s\tremaining: 6.36s\n",
      "281:\tlearn: 0.9384615\ttest: 0.7575758\tbest: 0.8181818 (10)\ttotal: 2.49s\tremaining: 6.35s\n",
      "282:\tlearn: 0.9384615\ttest: 0.7575758\tbest: 0.8181818 (10)\ttotal: 2.5s\tremaining: 6.33s\n",
      "283:\tlearn: 0.9384615\ttest: 0.7575758\tbest: 0.8181818 (10)\ttotal: 2.5s\tremaining: 6.32s\n",
      "284:\tlearn: 0.9384615\ttest: 0.7575758\tbest: 0.8181818 (10)\ttotal: 2.51s\tremaining: 6.3s\n",
      "285:\tlearn: 0.9384615\ttest: 0.7575758\tbest: 0.8181818 (10)\ttotal: 2.52s\tremaining: 6.29s\n",
      "286:\tlearn: 0.9384615\ttest: 0.7575758\tbest: 0.8181818 (10)\ttotal: 2.53s\tremaining: 6.28s\n",
      "287:\tlearn: 0.9384615\ttest: 0.7575758\tbest: 0.8181818 (10)\ttotal: 2.54s\tremaining: 6.28s\n",
      "288:\tlearn: 0.9384615\ttest: 0.7575758\tbest: 0.8181818 (10)\ttotal: 2.55s\tremaining: 6.26s\n",
      "289:\tlearn: 0.9384615\ttest: 0.7575758\tbest: 0.8181818 (10)\ttotal: 2.55s\tremaining: 6.25s\n",
      "290:\tlearn: 0.9384615\ttest: 0.7575758\tbest: 0.8181818 (10)\ttotal: 2.56s\tremaining: 6.24s\n",
      "291:\tlearn: 0.9384615\ttest: 0.7575758\tbest: 0.8181818 (10)\ttotal: 2.57s\tremaining: 6.23s\n",
      "292:\tlearn: 0.9384615\ttest: 0.7575758\tbest: 0.8181818 (10)\ttotal: 2.58s\tremaining: 6.22s\n",
      "293:\tlearn: 0.9384615\ttest: 0.7575758\tbest: 0.8181818 (10)\ttotal: 2.59s\tremaining: 6.21s\n",
      "294:\tlearn: 0.9384615\ttest: 0.7575758\tbest: 0.8181818 (10)\ttotal: 2.59s\tremaining: 6.2s\n",
      "295:\tlearn: 0.9384615\ttest: 0.7575758\tbest: 0.8181818 (10)\ttotal: 2.6s\tremaining: 6.19s\n",
      "296:\tlearn: 0.9384615\ttest: 0.7575758\tbest: 0.8181818 (10)\ttotal: 2.61s\tremaining: 6.18s\n",
      "297:\tlearn: 0.9384615\ttest: 0.7575758\tbest: 0.8181818 (10)\ttotal: 2.61s\tremaining: 6.15s\n",
      "298:\tlearn: 0.9384615\ttest: 0.7575758\tbest: 0.8181818 (10)\ttotal: 2.62s\tremaining: 6.15s\n",
      "299:\tlearn: 0.9384615\ttest: 0.7575758\tbest: 0.8181818 (10)\ttotal: 2.63s\tremaining: 6.13s\n",
      "300:\tlearn: 0.9384615\ttest: 0.7575758\tbest: 0.8181818 (10)\ttotal: 2.64s\tremaining: 6.13s\n",
      "301:\tlearn: 0.9384615\ttest: 0.7575758\tbest: 0.8181818 (10)\ttotal: 2.65s\tremaining: 6.11s\n",
      "302:\tlearn: 0.9384615\ttest: 0.7575758\tbest: 0.8181818 (10)\ttotal: 2.65s\tremaining: 6.1s\n",
      "303:\tlearn: 0.9384615\ttest: 0.7575758\tbest: 0.8181818 (10)\ttotal: 2.66s\tremaining: 6.09s\n",
      "304:\tlearn: 0.9384615\ttest: 0.7575758\tbest: 0.8181818 (10)\ttotal: 2.67s\tremaining: 6.08s\n",
      "305:\tlearn: 0.9384615\ttest: 0.7575758\tbest: 0.8181818 (10)\ttotal: 2.68s\tremaining: 6.07s\n",
      "306:\tlearn: 0.9384615\ttest: 0.7575758\tbest: 0.8181818 (10)\ttotal: 2.69s\tremaining: 6.06s\n",
      "307:\tlearn: 0.9384615\ttest: 0.7575758\tbest: 0.8181818 (10)\ttotal: 2.69s\tremaining: 6.05s\n",
      "308:\tlearn: 0.9384615\ttest: 0.7575758\tbest: 0.8181818 (10)\ttotal: 2.7s\tremaining: 6.04s\n",
      "309:\tlearn: 0.9384615\ttest: 0.7575758\tbest: 0.8181818 (10)\ttotal: 2.7s\tremaining: 6.02s\n",
      "310:\tlearn: 0.9384615\ttest: 0.7575758\tbest: 0.8181818 (10)\ttotal: 2.71s\tremaining: 6.01s\n",
      "311:\tlearn: 0.9384615\ttest: 0.7575758\tbest: 0.8181818 (10)\ttotal: 2.72s\tremaining: 6s\n",
      "312:\tlearn: 0.9384615\ttest: 0.7575758\tbest: 0.8181818 (10)\ttotal: 2.72s\tremaining: 5.97s\n",
      "313:\tlearn: 0.9384615\ttest: 0.7575758\tbest: 0.8181818 (10)\ttotal: 2.73s\tremaining: 5.96s\n",
      "314:\tlearn: 0.9384615\ttest: 0.7575758\tbest: 0.8181818 (10)\ttotal: 2.74s\tremaining: 5.96s\n",
      "315:\tlearn: 0.9384615\ttest: 0.7575758\tbest: 0.8181818 (10)\ttotal: 2.75s\tremaining: 5.95s\n",
      "316:\tlearn: 0.9384615\ttest: 0.7575758\tbest: 0.8181818 (10)\ttotal: 2.75s\tremaining: 5.93s\n",
      "317:\tlearn: 0.9384615\ttest: 0.7575758\tbest: 0.8181818 (10)\ttotal: 2.76s\tremaining: 5.92s\n",
      "318:\tlearn: 0.9384615\ttest: 0.7575758\tbest: 0.8181818 (10)\ttotal: 2.77s\tremaining: 5.91s\n",
      "319:\tlearn: 0.9384615\ttest: 0.7575758\tbest: 0.8181818 (10)\ttotal: 2.78s\tremaining: 5.9s\n",
      "320:\tlearn: 0.9384615\ttest: 0.7575758\tbest: 0.8181818 (10)\ttotal: 2.79s\tremaining: 5.89s\n",
      "321:\tlearn: 0.9384615\ttest: 0.7575758\tbest: 0.8181818 (10)\ttotal: 2.8s\tremaining: 5.89s\n",
      "322:\tlearn: 0.9461538\ttest: 0.7575758\tbest: 0.8181818 (10)\ttotal: 2.8s\tremaining: 5.88s\n",
      "323:\tlearn: 0.9384615\ttest: 0.7575758\tbest: 0.8181818 (10)\ttotal: 2.81s\tremaining: 5.87s\n",
      "324:\tlearn: 0.9461538\ttest: 0.7575758\tbest: 0.8181818 (10)\ttotal: 2.82s\tremaining: 5.86s\n",
      "325:\tlearn: 0.9461538\ttest: 0.7575758\tbest: 0.8181818 (10)\ttotal: 2.83s\tremaining: 5.85s\n",
      "326:\tlearn: 0.9461538\ttest: 0.7575758\tbest: 0.8181818 (10)\ttotal: 2.84s\tremaining: 5.84s\n",
      "327:\tlearn: 0.9461538\ttest: 0.7575758\tbest: 0.8181818 (10)\ttotal: 2.84s\tremaining: 5.83s\n",
      "328:\tlearn: 0.9461538\ttest: 0.7575758\tbest: 0.8181818 (10)\ttotal: 2.85s\tremaining: 5.82s\n",
      "329:\tlearn: 0.9461538\ttest: 0.7575758\tbest: 0.8181818 (10)\ttotal: 2.86s\tremaining: 5.81s\n",
      "330:\tlearn: 0.9538462\ttest: 0.7575758\tbest: 0.8181818 (10)\ttotal: 2.87s\tremaining: 5.8s\n",
      "331:\tlearn: 0.9538462\ttest: 0.7575758\tbest: 0.8181818 (10)\ttotal: 2.88s\tremaining: 5.79s\n",
      "332:\tlearn: 0.9538462\ttest: 0.7575758\tbest: 0.8181818 (10)\ttotal: 2.88s\tremaining: 5.78s\n",
      "333:\tlearn: 0.9538462\ttest: 0.7575758\tbest: 0.8181818 (10)\ttotal: 2.89s\tremaining: 5.77s\n",
      "334:\tlearn: 0.9538462\ttest: 0.7575758\tbest: 0.8181818 (10)\ttotal: 2.9s\tremaining: 5.76s\n",
      "335:\tlearn: 0.9538462\ttest: 0.7575758\tbest: 0.8181818 (10)\ttotal: 2.9s\tremaining: 5.74s\n",
      "336:\tlearn: 0.9538462\ttest: 0.7575758\tbest: 0.8181818 (10)\ttotal: 2.91s\tremaining: 5.73s\n",
      "337:\tlearn: 0.9538462\ttest: 0.7575758\tbest: 0.8181818 (10)\ttotal: 2.92s\tremaining: 5.72s\n",
      "338:\tlearn: 0.9538462\ttest: 0.7575758\tbest: 0.8181818 (10)\ttotal: 2.93s\tremaining: 5.71s\n",
      "339:\tlearn: 0.9538462\ttest: 0.7575758\tbest: 0.8181818 (10)\ttotal: 2.94s\tremaining: 5.7s\n",
      "340:\tlearn: 0.9538462\ttest: 0.7575758\tbest: 0.8181818 (10)\ttotal: 2.94s\tremaining: 5.69s\n",
      "341:\tlearn: 0.9538462\ttest: 0.7575758\tbest: 0.8181818 (10)\ttotal: 2.95s\tremaining: 5.68s\n",
      "342:\tlearn: 0.9538462\ttest: 0.7575758\tbest: 0.8181818 (10)\ttotal: 2.96s\tremaining: 5.67s\n",
      "343:\tlearn: 0.9538462\ttest: 0.7575758\tbest: 0.8181818 (10)\ttotal: 2.97s\tremaining: 5.66s\n",
      "344:\tlearn: 0.9538462\ttest: 0.7575758\tbest: 0.8181818 (10)\ttotal: 2.98s\tremaining: 5.65s\n",
      "345:\tlearn: 0.9538462\ttest: 0.7575758\tbest: 0.8181818 (10)\ttotal: 2.98s\tremaining: 5.64s\n",
      "346:\tlearn: 0.9538462\ttest: 0.7575758\tbest: 0.8181818 (10)\ttotal: 2.99s\tremaining: 5.63s\n",
      "347:\tlearn: 0.9538462\ttest: 0.7575758\tbest: 0.8181818 (10)\ttotal: 3s\tremaining: 5.62s\n",
      "348:\tlearn: 0.9538462\ttest: 0.7575758\tbest: 0.8181818 (10)\ttotal: 3.01s\tremaining: 5.61s\n",
      "349:\tlearn: 0.9538462\ttest: 0.7575758\tbest: 0.8181818 (10)\ttotal: 3.02s\tremaining: 5.6s\n",
      "350:\tlearn: 0.9538462\ttest: 0.7575758\tbest: 0.8181818 (10)\ttotal: 3.03s\tremaining: 5.6s\n",
      "351:\tlearn: 0.9538462\ttest: 0.7575758\tbest: 0.8181818 (10)\ttotal: 3.04s\tremaining: 5.59s\n",
      "352:\tlearn: 0.9538462\ttest: 0.7575758\tbest: 0.8181818 (10)\ttotal: 3.04s\tremaining: 5.58s\n",
      "353:\tlearn: 0.9538462\ttest: 0.7575758\tbest: 0.8181818 (10)\ttotal: 3.05s\tremaining: 5.57s\n",
      "354:\tlearn: 0.9538462\ttest: 0.7575758\tbest: 0.8181818 (10)\ttotal: 3.06s\tremaining: 5.56s\n",
      "355:\tlearn: 0.9538462\ttest: 0.7575758\tbest: 0.8181818 (10)\ttotal: 3.07s\tremaining: 5.55s\n",
      "356:\tlearn: 0.9538462\ttest: 0.7575758\tbest: 0.8181818 (10)\ttotal: 3.07s\tremaining: 5.53s\n",
      "357:\tlearn: 0.9538462\ttest: 0.7575758\tbest: 0.8181818 (10)\ttotal: 3.08s\tremaining: 5.52s\n",
      "358:\tlearn: 0.9538462\ttest: 0.7575758\tbest: 0.8181818 (10)\ttotal: 3.09s\tremaining: 5.51s\n",
      "359:\tlearn: 0.9538462\ttest: 0.7575758\tbest: 0.8181818 (10)\ttotal: 3.1s\tremaining: 5.5s\n",
      "360:\tlearn: 0.9538462\ttest: 0.7575758\tbest: 0.8181818 (10)\ttotal: 3.1s\tremaining: 5.49s\n",
      "361:\tlearn: 0.9538462\ttest: 0.7575758\tbest: 0.8181818 (10)\ttotal: 3.11s\tremaining: 5.48s\n",
      "362:\tlearn: 0.9538462\ttest: 0.7575758\tbest: 0.8181818 (10)\ttotal: 3.12s\tremaining: 5.47s\n",
      "363:\tlearn: 0.9538462\ttest: 0.7575758\tbest: 0.8181818 (10)\ttotal: 3.13s\tremaining: 5.46s\n",
      "364:\tlearn: 0.9538462\ttest: 0.7575758\tbest: 0.8181818 (10)\ttotal: 3.14s\tremaining: 5.46s\n",
      "365:\tlearn: 0.9538462\ttest: 0.7575758\tbest: 0.8181818 (10)\ttotal: 3.14s\tremaining: 5.45s\n",
      "366:\tlearn: 0.9538462\ttest: 0.7575758\tbest: 0.8181818 (10)\ttotal: 3.15s\tremaining: 5.44s\n",
      "367:\tlearn: 0.9538462\ttest: 0.7575758\tbest: 0.8181818 (10)\ttotal: 3.16s\tremaining: 5.43s\n",
      "368:\tlearn: 0.9538462\ttest: 0.7575758\tbest: 0.8181818 (10)\ttotal: 3.17s\tremaining: 5.42s\n",
      "369:\tlearn: 0.9615385\ttest: 0.7575758\tbest: 0.8181818 (10)\ttotal: 3.18s\tremaining: 5.41s\n",
      "370:\tlearn: 0.9615385\ttest: 0.7575758\tbest: 0.8181818 (10)\ttotal: 3.19s\tremaining: 5.4s\n",
      "371:\tlearn: 0.9538462\ttest: 0.7575758\tbest: 0.8181818 (10)\ttotal: 3.19s\tremaining: 5.39s\n",
      "372:\tlearn: 0.9615385\ttest: 0.7575758\tbest: 0.8181818 (10)\ttotal: 3.2s\tremaining: 5.38s\n",
      "373:\tlearn: 0.9692308\ttest: 0.7575758\tbest: 0.8181818 (10)\ttotal: 3.21s\tremaining: 5.37s\n",
      "374:\tlearn: 0.9692308\ttest: 0.7575758\tbest: 0.8181818 (10)\ttotal: 3.22s\tremaining: 5.37s\n",
      "375:\tlearn: 0.9692308\ttest: 0.7575758\tbest: 0.8181818 (10)\ttotal: 3.23s\tremaining: 5.36s\n",
      "376:\tlearn: 0.9692308\ttest: 0.7575758\tbest: 0.8181818 (10)\ttotal: 3.23s\tremaining: 5.34s\n",
      "377:\tlearn: 0.9692308\ttest: 0.7575758\tbest: 0.8181818 (10)\ttotal: 3.24s\tremaining: 5.34s\n",
      "378:\tlearn: 0.9692308\ttest: 0.7575758\tbest: 0.8181818 (10)\ttotal: 3.25s\tremaining: 5.33s\n",
      "379:\tlearn: 0.9692308\ttest: 0.7878788\tbest: 0.8181818 (10)\ttotal: 3.25s\tremaining: 5.31s\n",
      "380:\tlearn: 0.9692308\ttest: 0.7575758\tbest: 0.8181818 (10)\ttotal: 3.25s\tremaining: 5.29s\n",
      "381:\tlearn: 0.9692308\ttest: 0.7575758\tbest: 0.8181818 (10)\ttotal: 3.26s\tremaining: 5.28s\n",
      "382:\tlearn: 0.9692308\ttest: 0.7575758\tbest: 0.8181818 (10)\ttotal: 3.27s\tremaining: 5.27s\n",
      "383:\tlearn: 0.9692308\ttest: 0.7575758\tbest: 0.8181818 (10)\ttotal: 3.28s\tremaining: 5.26s\n",
      "384:\tlearn: 0.9692308\ttest: 0.7575758\tbest: 0.8181818 (10)\ttotal: 3.29s\tremaining: 5.25s\n",
      "385:\tlearn: 0.9692308\ttest: 0.7575758\tbest: 0.8181818 (10)\ttotal: 3.29s\tremaining: 5.24s\n",
      "386:\tlearn: 0.9692308\ttest: 0.7575758\tbest: 0.8181818 (10)\ttotal: 3.3s\tremaining: 5.23s\n",
      "387:\tlearn: 0.9692308\ttest: 0.7575758\tbest: 0.8181818 (10)\ttotal: 3.3s\tremaining: 5.21s\n",
      "388:\tlearn: 0.9692308\ttest: 0.7575758\tbest: 0.8181818 (10)\ttotal: 3.31s\tremaining: 5.2s\n",
      "389:\tlearn: 0.9692308\ttest: 0.7575758\tbest: 0.8181818 (10)\ttotal: 3.32s\tremaining: 5.19s\n",
      "390:\tlearn: 0.9692308\ttest: 0.7575758\tbest: 0.8181818 (10)\ttotal: 3.33s\tremaining: 5.18s\n",
      "391:\tlearn: 0.9692308\ttest: 0.7575758\tbest: 0.8181818 (10)\ttotal: 3.34s\tremaining: 5.18s\n",
      "392:\tlearn: 0.9692308\ttest: 0.7575758\tbest: 0.8181818 (10)\ttotal: 3.35s\tremaining: 5.17s\n",
      "393:\tlearn: 0.9692308\ttest: 0.7575758\tbest: 0.8181818 (10)\ttotal: 3.36s\tremaining: 5.16s\n",
      "394:\tlearn: 0.9692308\ttest: 0.7575758\tbest: 0.8181818 (10)\ttotal: 3.37s\tremaining: 5.16s\n",
      "395:\tlearn: 0.9692308\ttest: 0.7575758\tbest: 0.8181818 (10)\ttotal: 3.37s\tremaining: 5.15s\n",
      "396:\tlearn: 0.9692308\ttest: 0.7575758\tbest: 0.8181818 (10)\ttotal: 3.38s\tremaining: 5.14s\n",
      "397:\tlearn: 0.9692308\ttest: 0.7575758\tbest: 0.8181818 (10)\ttotal: 3.39s\tremaining: 5.13s\n",
      "398:\tlearn: 0.9692308\ttest: 0.7575758\tbest: 0.8181818 (10)\ttotal: 3.4s\tremaining: 5.12s\n",
      "399:\tlearn: 0.9692308\ttest: 0.7575758\tbest: 0.8181818 (10)\ttotal: 3.41s\tremaining: 5.11s\n",
      "400:\tlearn: 0.9692308\ttest: 0.7575758\tbest: 0.8181818 (10)\ttotal: 3.41s\tremaining: 5.1s\n",
      "401:\tlearn: 0.9692308\ttest: 0.7575758\tbest: 0.8181818 (10)\ttotal: 3.42s\tremaining: 5.09s\n",
      "402:\tlearn: 0.9692308\ttest: 0.7575758\tbest: 0.8181818 (10)\ttotal: 3.43s\tremaining: 5.08s\n",
      "403:\tlearn: 0.9692308\ttest: 0.7575758\tbest: 0.8181818 (10)\ttotal: 3.44s\tremaining: 5.07s\n",
      "404:\tlearn: 0.9692308\ttest: 0.7575758\tbest: 0.8181818 (10)\ttotal: 3.45s\tremaining: 5.06s\n",
      "405:\tlearn: 0.9692308\ttest: 0.7575758\tbest: 0.8181818 (10)\ttotal: 3.45s\tremaining: 5.05s\n",
      "406:\tlearn: 0.9692308\ttest: 0.7575758\tbest: 0.8181818 (10)\ttotal: 3.46s\tremaining: 5.04s\n",
      "407:\tlearn: 0.9692308\ttest: 0.7575758\tbest: 0.8181818 (10)\ttotal: 3.47s\tremaining: 5.04s\n",
      "408:\tlearn: 0.9692308\ttest: 0.7575758\tbest: 0.8181818 (10)\ttotal: 3.48s\tremaining: 5.03s\n",
      "409:\tlearn: 0.9692308\ttest: 0.7575758\tbest: 0.8181818 (10)\ttotal: 3.49s\tremaining: 5.02s\n",
      "410:\tlearn: 0.9692308\ttest: 0.7575758\tbest: 0.8181818 (10)\ttotal: 3.49s\tremaining: 5.01s\n",
      "411:\tlearn: 0.9692308\ttest: 0.7575758\tbest: 0.8181818 (10)\ttotal: 3.5s\tremaining: 5s\n",
      "412:\tlearn: 0.9692308\ttest: 0.7575758\tbest: 0.8181818 (10)\ttotal: 3.51s\tremaining: 4.99s\n",
      "413:\tlearn: 0.9692308\ttest: 0.7575758\tbest: 0.8181818 (10)\ttotal: 3.52s\tremaining: 4.98s\n",
      "414:\tlearn: 0.9692308\ttest: 0.7575758\tbest: 0.8181818 (10)\ttotal: 3.53s\tremaining: 4.97s\n",
      "415:\tlearn: 0.9692308\ttest: 0.7575758\tbest: 0.8181818 (10)\ttotal: 3.54s\tremaining: 4.96s\n",
      "416:\tlearn: 0.9692308\ttest: 0.7575758\tbest: 0.8181818 (10)\ttotal: 3.54s\tremaining: 4.95s\n",
      "417:\tlearn: 0.9692308\ttest: 0.7575758\tbest: 0.8181818 (10)\ttotal: 3.55s\tremaining: 4.95s\n",
      "418:\tlearn: 0.9692308\ttest: 0.7575758\tbest: 0.8181818 (10)\ttotal: 3.56s\tremaining: 4.94s\n",
      "419:\tlearn: 0.9692308\ttest: 0.7878788\tbest: 0.8181818 (10)\ttotal: 3.56s\tremaining: 4.92s\n",
      "420:\tlearn: 0.9692308\ttest: 0.7878788\tbest: 0.8181818 (10)\ttotal: 3.57s\tremaining: 4.91s\n",
      "421:\tlearn: 0.9692308\ttest: 0.7878788\tbest: 0.8181818 (10)\ttotal: 3.58s\tremaining: 4.9s\n",
      "422:\tlearn: 0.9692308\ttest: 0.7878788\tbest: 0.8181818 (10)\ttotal: 3.58s\tremaining: 4.89s\n",
      "423:\tlearn: 0.9692308\ttest: 0.7878788\tbest: 0.8181818 (10)\ttotal: 3.59s\tremaining: 4.88s\n",
      "424:\tlearn: 0.9692308\ttest: 0.7878788\tbest: 0.8181818 (10)\ttotal: 3.6s\tremaining: 4.87s\n",
      "425:\tlearn: 0.9692308\ttest: 0.7878788\tbest: 0.8181818 (10)\ttotal: 3.61s\tremaining: 4.86s\n",
      "426:\tlearn: 0.9692308\ttest: 0.7878788\tbest: 0.8181818 (10)\ttotal: 3.62s\tremaining: 4.86s\n",
      "427:\tlearn: 0.9692308\ttest: 0.7878788\tbest: 0.8181818 (10)\ttotal: 3.63s\tremaining: 4.85s\n",
      "428:\tlearn: 0.9692308\ttest: 0.7878788\tbest: 0.8181818 (10)\ttotal: 3.64s\tremaining: 4.84s\n",
      "429:\tlearn: 0.9692308\ttest: 0.7878788\tbest: 0.8181818 (10)\ttotal: 3.65s\tremaining: 4.83s\n",
      "430:\tlearn: 0.9692308\ttest: 0.7878788\tbest: 0.8181818 (10)\ttotal: 3.65s\tremaining: 4.82s\n",
      "431:\tlearn: 0.9692308\ttest: 0.7878788\tbest: 0.8181818 (10)\ttotal: 3.66s\tremaining: 4.81s\n",
      "432:\tlearn: 0.9692308\ttest: 0.7878788\tbest: 0.8181818 (10)\ttotal: 3.67s\tremaining: 4.81s\n",
      "433:\tlearn: 0.9692308\ttest: 0.7878788\tbest: 0.8181818 (10)\ttotal: 3.68s\tremaining: 4.8s\n",
      "434:\tlearn: 0.9692308\ttest: 0.7878788\tbest: 0.8181818 (10)\ttotal: 3.69s\tremaining: 4.79s\n",
      "435:\tlearn: 0.9692308\ttest: 0.7878788\tbest: 0.8181818 (10)\ttotal: 3.69s\tremaining: 4.78s\n",
      "436:\tlearn: 0.9692308\ttest: 0.7878788\tbest: 0.8181818 (10)\ttotal: 3.7s\tremaining: 4.77s\n",
      "437:\tlearn: 0.9769231\ttest: 0.7878788\tbest: 0.8181818 (10)\ttotal: 3.71s\tremaining: 4.76s\n",
      "438:\tlearn: 0.9692308\ttest: 0.7878788\tbest: 0.8181818 (10)\ttotal: 3.72s\tremaining: 4.75s\n",
      "439:\tlearn: 0.9769231\ttest: 0.7878788\tbest: 0.8181818 (10)\ttotal: 3.73s\tremaining: 4.75s\n",
      "440:\tlearn: 0.9769231\ttest: 0.7878788\tbest: 0.8181818 (10)\ttotal: 3.74s\tremaining: 4.74s\n",
      "441:\tlearn: 0.9769231\ttest: 0.7878788\tbest: 0.8181818 (10)\ttotal: 3.74s\tremaining: 4.72s\n",
      "442:\tlearn: 0.9769231\ttest: 0.7878788\tbest: 0.8181818 (10)\ttotal: 3.75s\tremaining: 4.72s\n",
      "443:\tlearn: 0.9692308\ttest: 0.7878788\tbest: 0.8181818 (10)\ttotal: 3.76s\tremaining: 4.71s\n",
      "444:\tlearn: 0.9769231\ttest: 0.7878788\tbest: 0.8181818 (10)\ttotal: 3.77s\tremaining: 4.7s\n",
      "445:\tlearn: 0.9769231\ttest: 0.7878788\tbest: 0.8181818 (10)\ttotal: 3.77s\tremaining: 4.69s\n",
      "446:\tlearn: 0.9769231\ttest: 0.7878788\tbest: 0.8181818 (10)\ttotal: 3.78s\tremaining: 4.68s\n",
      "447:\tlearn: 0.9769231\ttest: 0.7878788\tbest: 0.8181818 (10)\ttotal: 3.79s\tremaining: 4.67s\n",
      "448:\tlearn: 0.9769231\ttest: 0.7878788\tbest: 0.8181818 (10)\ttotal: 3.8s\tremaining: 4.66s\n",
      "449:\tlearn: 0.9769231\ttest: 0.7878788\tbest: 0.8181818 (10)\ttotal: 3.81s\tremaining: 4.65s\n",
      "450:\tlearn: 0.9769231\ttest: 0.7878788\tbest: 0.8181818 (10)\ttotal: 3.82s\tremaining: 4.64s\n",
      "451:\tlearn: 0.9769231\ttest: 0.7878788\tbest: 0.8181818 (10)\ttotal: 3.82s\tremaining: 4.64s\n",
      "452:\tlearn: 0.9769231\ttest: 0.7878788\tbest: 0.8181818 (10)\ttotal: 3.83s\tremaining: 4.63s\n",
      "453:\tlearn: 0.9769231\ttest: 0.7878788\tbest: 0.8181818 (10)\ttotal: 3.84s\tremaining: 4.62s\n",
      "454:\tlearn: 0.9769231\ttest: 0.7878788\tbest: 0.8181818 (10)\ttotal: 3.85s\tremaining: 4.61s\n",
      "455:\tlearn: 0.9769231\ttest: 0.7878788\tbest: 0.8181818 (10)\ttotal: 3.86s\tremaining: 4.6s\n",
      "456:\tlearn: 0.9769231\ttest: 0.7878788\tbest: 0.8181818 (10)\ttotal: 3.86s\tremaining: 4.59s\n",
      "457:\tlearn: 0.9769231\ttest: 0.7878788\tbest: 0.8181818 (10)\ttotal: 3.87s\tremaining: 4.58s\n",
      "458:\tlearn: 0.9769231\ttest: 0.7878788\tbest: 0.8181818 (10)\ttotal: 3.88s\tremaining: 4.57s\n",
      "459:\tlearn: 0.9769231\ttest: 0.7878788\tbest: 0.8181818 (10)\ttotal: 3.89s\tremaining: 4.57s\n",
      "460:\tlearn: 0.9769231\ttest: 0.7878788\tbest: 0.8181818 (10)\ttotal: 3.9s\tremaining: 4.56s\n",
      "461:\tlearn: 0.9769231\ttest: 0.7878788\tbest: 0.8181818 (10)\ttotal: 3.9s\tremaining: 4.54s\n",
      "462:\tlearn: 0.9769231\ttest: 0.7878788\tbest: 0.8181818 (10)\ttotal: 3.9s\tremaining: 4.53s\n",
      "463:\tlearn: 0.9769231\ttest: 0.7878788\tbest: 0.8181818 (10)\ttotal: 3.91s\tremaining: 4.52s\n",
      "464:\tlearn: 0.9769231\ttest: 0.7878788\tbest: 0.8181818 (10)\ttotal: 3.92s\tremaining: 4.51s\n",
      "465:\tlearn: 0.9769231\ttest: 0.7878788\tbest: 0.8181818 (10)\ttotal: 3.93s\tremaining: 4.5s\n",
      "466:\tlearn: 0.9769231\ttest: 0.7878788\tbest: 0.8181818 (10)\ttotal: 3.94s\tremaining: 4.5s\n",
      "467:\tlearn: 0.9769231\ttest: 0.7878788\tbest: 0.8181818 (10)\ttotal: 3.95s\tremaining: 4.49s\n",
      "468:\tlearn: 0.9769231\ttest: 0.7878788\tbest: 0.8181818 (10)\ttotal: 3.96s\tremaining: 4.48s\n",
      "469:\tlearn: 0.9769231\ttest: 0.7878788\tbest: 0.8181818 (10)\ttotal: 3.96s\tremaining: 4.47s\n",
      "470:\tlearn: 0.9769231\ttest: 0.7878788\tbest: 0.8181818 (10)\ttotal: 3.97s\tremaining: 4.46s\n",
      "471:\tlearn: 0.9769231\ttest: 0.7878788\tbest: 0.8181818 (10)\ttotal: 3.98s\tremaining: 4.45s\n",
      "472:\tlearn: 0.9769231\ttest: 0.7878788\tbest: 0.8181818 (10)\ttotal: 3.99s\tremaining: 4.44s\n",
      "473:\tlearn: 0.9769231\ttest: 0.7878788\tbest: 0.8181818 (10)\ttotal: 4s\tremaining: 4.44s\n",
      "474:\tlearn: 0.9769231\ttest: 0.7878788\tbest: 0.8181818 (10)\ttotal: 4.01s\tremaining: 4.43s\n",
      "475:\tlearn: 0.9769231\ttest: 0.7878788\tbest: 0.8181818 (10)\ttotal: 4.02s\tremaining: 4.42s\n",
      "476:\tlearn: 0.9769231\ttest: 0.7878788\tbest: 0.8181818 (10)\ttotal: 4.02s\tremaining: 4.41s\n",
      "477:\tlearn: 0.9769231\ttest: 0.7878788\tbest: 0.8181818 (10)\ttotal: 4.03s\tremaining: 4.4s\n",
      "478:\tlearn: 0.9769231\ttest: 0.7878788\tbest: 0.8181818 (10)\ttotal: 4.04s\tremaining: 4.39s\n",
      "479:\tlearn: 0.9769231\ttest: 0.7878788\tbest: 0.8181818 (10)\ttotal: 4.05s\tremaining: 4.38s\n",
      "480:\tlearn: 0.9769231\ttest: 0.7878788\tbest: 0.8181818 (10)\ttotal: 4.06s\tremaining: 4.38s\n",
      "481:\tlearn: 0.9769231\ttest: 0.7878788\tbest: 0.8181818 (10)\ttotal: 4.07s\tremaining: 4.37s\n",
      "482:\tlearn: 0.9769231\ttest: 0.7878788\tbest: 0.8181818 (10)\ttotal: 4.07s\tremaining: 4.36s\n",
      "483:\tlearn: 0.9846154\ttest: 0.7878788\tbest: 0.8181818 (10)\ttotal: 4.08s\tremaining: 4.35s\n",
      "484:\tlearn: 0.9846154\ttest: 0.7878788\tbest: 0.8181818 (10)\ttotal: 4.09s\tremaining: 4.35s\n",
      "485:\tlearn: 0.9846154\ttest: 0.7878788\tbest: 0.8181818 (10)\ttotal: 4.1s\tremaining: 4.34s\n",
      "486:\tlearn: 0.9846154\ttest: 0.7878788\tbest: 0.8181818 (10)\ttotal: 4.11s\tremaining: 4.33s\n",
      "487:\tlearn: 0.9846154\ttest: 0.7878788\tbest: 0.8181818 (10)\ttotal: 4.12s\tremaining: 4.32s\n",
      "488:\tlearn: 0.9846154\ttest: 0.7878788\tbest: 0.8181818 (10)\ttotal: 4.13s\tremaining: 4.31s\n",
      "489:\tlearn: 0.9846154\ttest: 0.7878788\tbest: 0.8181818 (10)\ttotal: 4.13s\tremaining: 4.3s\n",
      "490:\tlearn: 0.9846154\ttest: 0.7878788\tbest: 0.8181818 (10)\ttotal: 4.14s\tremaining: 4.29s\n",
      "491:\tlearn: 0.9846154\ttest: 0.7878788\tbest: 0.8181818 (10)\ttotal: 4.15s\tremaining: 4.28s\n",
      "492:\tlearn: 0.9846154\ttest: 0.7878788\tbest: 0.8181818 (10)\ttotal: 4.16s\tremaining: 4.28s\n",
      "493:\tlearn: 0.9846154\ttest: 0.7878788\tbest: 0.8181818 (10)\ttotal: 4.17s\tremaining: 4.27s\n",
      "494:\tlearn: 0.9846154\ttest: 0.7878788\tbest: 0.8181818 (10)\ttotal: 4.17s\tremaining: 4.26s\n",
      "495:\tlearn: 0.9846154\ttest: 0.7878788\tbest: 0.8181818 (10)\ttotal: 4.18s\tremaining: 4.25s\n",
      "496:\tlearn: 0.9846154\ttest: 0.7878788\tbest: 0.8181818 (10)\ttotal: 4.19s\tremaining: 4.24s\n",
      "497:\tlearn: 0.9846154\ttest: 0.7878788\tbest: 0.8181818 (10)\ttotal: 4.2s\tremaining: 4.23s\n",
      "498:\tlearn: 0.9846154\ttest: 0.7878788\tbest: 0.8181818 (10)\ttotal: 4.21s\tremaining: 4.22s\n",
      "499:\tlearn: 0.9846154\ttest: 0.7878788\tbest: 0.8181818 (10)\ttotal: 4.21s\tremaining: 4.21s\n",
      "500:\tlearn: 0.9846154\ttest: 0.7878788\tbest: 0.8181818 (10)\ttotal: 4.22s\tremaining: 4.21s\n",
      "501:\tlearn: 0.9846154\ttest: 0.7878788\tbest: 0.8181818 (10)\ttotal: 4.23s\tremaining: 4.2s\n",
      "502:\tlearn: 0.9846154\ttest: 0.7878788\tbest: 0.8181818 (10)\ttotal: 4.24s\tremaining: 4.19s\n",
      "503:\tlearn: 0.9846154\ttest: 0.7878788\tbest: 0.8181818 (10)\ttotal: 4.25s\tremaining: 4.18s\n",
      "504:\tlearn: 0.9846154\ttest: 0.7878788\tbest: 0.8181818 (10)\ttotal: 4.25s\tremaining: 4.17s\n",
      "505:\tlearn: 0.9846154\ttest: 0.7878788\tbest: 0.8181818 (10)\ttotal: 4.26s\tremaining: 4.16s\n",
      "506:\tlearn: 0.9846154\ttest: 0.7878788\tbest: 0.8181818 (10)\ttotal: 4.27s\tremaining: 4.15s\n",
      "507:\tlearn: 0.9846154\ttest: 0.7878788\tbest: 0.8181818 (10)\ttotal: 4.28s\tremaining: 4.15s\n",
      "508:\tlearn: 0.9846154\ttest: 0.7878788\tbest: 0.8181818 (10)\ttotal: 4.29s\tremaining: 4.14s\n",
      "509:\tlearn: 0.9846154\ttest: 0.7878788\tbest: 0.8181818 (10)\ttotal: 4.3s\tremaining: 4.13s\n",
      "510:\tlearn: 0.9846154\ttest: 0.7878788\tbest: 0.8181818 (10)\ttotal: 4.3s\tremaining: 4.12s\n",
      "511:\tlearn: 0.9846154\ttest: 0.7878788\tbest: 0.8181818 (10)\ttotal: 4.31s\tremaining: 4.11s\n",
      "512:\tlearn: 0.9846154\ttest: 0.7878788\tbest: 0.8181818 (10)\ttotal: 4.32s\tremaining: 4.1s\n",
      "513:\tlearn: 0.9846154\ttest: 0.7878788\tbest: 0.8181818 (10)\ttotal: 4.33s\tremaining: 4.09s\n",
      "514:\tlearn: 0.9846154\ttest: 0.7878788\tbest: 0.8181818 (10)\ttotal: 4.34s\tremaining: 4.09s\n",
      "515:\tlearn: 0.9846154\ttest: 0.7878788\tbest: 0.8181818 (10)\ttotal: 4.35s\tremaining: 4.08s\n",
      "516:\tlearn: 0.9846154\ttest: 0.7878788\tbest: 0.8181818 (10)\ttotal: 4.36s\tremaining: 4.07s\n",
      "517:\tlearn: 0.9846154\ttest: 0.7878788\tbest: 0.8181818 (10)\ttotal: 4.36s\tremaining: 4.06s\n",
      "518:\tlearn: 0.9846154\ttest: 0.7878788\tbest: 0.8181818 (10)\ttotal: 4.37s\tremaining: 4.05s\n",
      "519:\tlearn: 0.9846154\ttest: 0.7878788\tbest: 0.8181818 (10)\ttotal: 4.38s\tremaining: 4.04s\n",
      "520:\tlearn: 0.9846154\ttest: 0.7878788\tbest: 0.8181818 (10)\ttotal: 4.39s\tremaining: 4.03s\n",
      "521:\tlearn: 0.9923077\ttest: 0.7878788\tbest: 0.8181818 (10)\ttotal: 4.39s\tremaining: 4.03s\n",
      "522:\tlearn: 0.9923077\ttest: 0.7878788\tbest: 0.8181818 (10)\ttotal: 4.4s\tremaining: 4.02s\n",
      "523:\tlearn: 0.9923077\ttest: 0.7878788\tbest: 0.8181818 (10)\ttotal: 4.41s\tremaining: 4.01s\n",
      "524:\tlearn: 0.9923077\ttest: 0.7878788\tbest: 0.8181818 (10)\ttotal: 4.45s\tremaining: 4.02s\n",
      "525:\tlearn: 0.9923077\ttest: 0.7878788\tbest: 0.8181818 (10)\ttotal: 4.47s\tremaining: 4.03s\n",
      "526:\tlearn: 0.9923077\ttest: 0.7878788\tbest: 0.8181818 (10)\ttotal: 4.48s\tremaining: 4.02s\n",
      "527:\tlearn: 0.9923077\ttest: 0.7878788\tbest: 0.8181818 (10)\ttotal: 4.49s\tremaining: 4.01s\n",
      "528:\tlearn: 0.9923077\ttest: 0.7878788\tbest: 0.8181818 (10)\ttotal: 4.49s\tremaining: 4s\n",
      "529:\tlearn: 0.9923077\ttest: 0.7878788\tbest: 0.8181818 (10)\ttotal: 4.5s\tremaining: 3.99s\n",
      "530:\tlearn: 0.9923077\ttest: 0.7878788\tbest: 0.8181818 (10)\ttotal: 4.51s\tremaining: 3.98s\n",
      "531:\tlearn: 0.9923077\ttest: 0.7878788\tbest: 0.8181818 (10)\ttotal: 4.52s\tremaining: 3.97s\n",
      "532:\tlearn: 0.9923077\ttest: 0.7878788\tbest: 0.8181818 (10)\ttotal: 4.53s\tremaining: 3.97s\n",
      "533:\tlearn: 0.9923077\ttest: 0.7878788\tbest: 0.8181818 (10)\ttotal: 4.54s\tremaining: 3.96s\n",
      "534:\tlearn: 0.9923077\ttest: 0.7878788\tbest: 0.8181818 (10)\ttotal: 4.54s\tremaining: 3.95s\n",
      "535:\tlearn: 0.9923077\ttest: 0.7878788\tbest: 0.8181818 (10)\ttotal: 4.55s\tremaining: 3.94s\n",
      "536:\tlearn: 0.9923077\ttest: 0.7878788\tbest: 0.8181818 (10)\ttotal: 4.56s\tremaining: 3.93s\n",
      "537:\tlearn: 0.9923077\ttest: 0.7878788\tbest: 0.8181818 (10)\ttotal: 4.57s\tremaining: 3.92s\n",
      "538:\tlearn: 0.9923077\ttest: 0.7878788\tbest: 0.8181818 (10)\ttotal: 4.58s\tremaining: 3.91s\n",
      "539:\tlearn: 0.9923077\ttest: 0.7878788\tbest: 0.8181818 (10)\ttotal: 4.58s\tremaining: 3.9s\n",
      "540:\tlearn: 0.9923077\ttest: 0.7878788\tbest: 0.8181818 (10)\ttotal: 4.59s\tremaining: 3.9s\n",
      "541:\tlearn: 0.9923077\ttest: 0.7878788\tbest: 0.8181818 (10)\ttotal: 4.6s\tremaining: 3.89s\n",
      "542:\tlearn: 0.9923077\ttest: 0.7878788\tbest: 0.8181818 (10)\ttotal: 4.61s\tremaining: 3.88s\n",
      "543:\tlearn: 0.9923077\ttest: 0.7878788\tbest: 0.8181818 (10)\ttotal: 4.62s\tremaining: 3.87s\n",
      "544:\tlearn: 0.9923077\ttest: 0.7878788\tbest: 0.8181818 (10)\ttotal: 4.62s\tremaining: 3.86s\n",
      "545:\tlearn: 0.9923077\ttest: 0.7878788\tbest: 0.8181818 (10)\ttotal: 4.63s\tremaining: 3.85s\n",
      "546:\tlearn: 0.9923077\ttest: 0.7878788\tbest: 0.8181818 (10)\ttotal: 4.64s\tremaining: 3.84s\n",
      "547:\tlearn: 0.9923077\ttest: 0.7878788\tbest: 0.8181818 (10)\ttotal: 4.65s\tremaining: 3.83s\n",
      "548:\tlearn: 0.9923077\ttest: 0.7878788\tbest: 0.8181818 (10)\ttotal: 4.66s\tremaining: 3.83s\n",
      "549:\tlearn: 0.9923077\ttest: 0.7878788\tbest: 0.8181818 (10)\ttotal: 4.67s\tremaining: 3.82s\n",
      "550:\tlearn: 0.9923077\ttest: 0.7878788\tbest: 0.8181818 (10)\ttotal: 4.67s\tremaining: 3.81s\n",
      "551:\tlearn: 0.9923077\ttest: 0.7878788\tbest: 0.8181818 (10)\ttotal: 4.68s\tremaining: 3.8s\n",
      "552:\tlearn: 0.9923077\ttest: 0.7878788\tbest: 0.8181818 (10)\ttotal: 4.69s\tremaining: 3.79s\n",
      "553:\tlearn: 0.9923077\ttest: 0.7878788\tbest: 0.8181818 (10)\ttotal: 4.7s\tremaining: 3.78s\n",
      "554:\tlearn: 0.9923077\ttest: 0.7878788\tbest: 0.8181818 (10)\ttotal: 4.71s\tremaining: 3.77s\n",
      "555:\tlearn: 0.9923077\ttest: 0.7878788\tbest: 0.8181818 (10)\ttotal: 4.72s\tremaining: 3.77s\n",
      "556:\tlearn: 0.9923077\ttest: 0.7878788\tbest: 0.8181818 (10)\ttotal: 4.72s\tremaining: 3.76s\n",
      "557:\tlearn: 0.9923077\ttest: 0.7878788\tbest: 0.8181818 (10)\ttotal: 4.73s\tremaining: 3.75s\n",
      "558:\tlearn: 0.9923077\ttest: 0.7878788\tbest: 0.8181818 (10)\ttotal: 4.74s\tremaining: 3.74s\n",
      "559:\tlearn: 0.9923077\ttest: 0.7878788\tbest: 0.8181818 (10)\ttotal: 4.75s\tremaining: 3.73s\n",
      "560:\tlearn: 0.9923077\ttest: 0.7878788\tbest: 0.8181818 (10)\ttotal: 4.76s\tremaining: 3.72s\n",
      "561:\tlearn: 0.9923077\ttest: 0.7878788\tbest: 0.8181818 (10)\ttotal: 4.77s\tremaining: 3.71s\n",
      "562:\tlearn: 0.9923077\ttest: 0.7878788\tbest: 0.8181818 (10)\ttotal: 4.78s\tremaining: 3.71s\n",
      "563:\tlearn: 0.9923077\ttest: 0.7878788\tbest: 0.8181818 (10)\ttotal: 4.78s\tremaining: 3.7s\n",
      "564:\tlearn: 0.9923077\ttest: 0.7878788\tbest: 0.8181818 (10)\ttotal: 4.79s\tremaining: 3.69s\n",
      "565:\tlearn: 0.9923077\ttest: 0.7878788\tbest: 0.8181818 (10)\ttotal: 4.8s\tremaining: 3.68s\n",
      "566:\tlearn: 0.9923077\ttest: 0.7878788\tbest: 0.8181818 (10)\ttotal: 4.81s\tremaining: 3.67s\n",
      "567:\tlearn: 0.9923077\ttest: 0.7878788\tbest: 0.8181818 (10)\ttotal: 4.82s\tremaining: 3.67s\n",
      "568:\tlearn: 0.9923077\ttest: 0.7878788\tbest: 0.8181818 (10)\ttotal: 4.83s\tremaining: 3.66s\n",
      "569:\tlearn: 0.9923077\ttest: 0.7878788\tbest: 0.8181818 (10)\ttotal: 4.84s\tremaining: 3.65s\n",
      "570:\tlearn: 0.9923077\ttest: 0.7878788\tbest: 0.8181818 (10)\ttotal: 4.85s\tremaining: 3.64s\n",
      "571:\tlearn: 0.9923077\ttest: 0.7878788\tbest: 0.8181818 (10)\ttotal: 4.85s\tremaining: 3.63s\n",
      "572:\tlearn: 0.9923077\ttest: 0.7878788\tbest: 0.8181818 (10)\ttotal: 4.86s\tremaining: 3.62s\n",
      "573:\tlearn: 0.9923077\ttest: 0.7878788\tbest: 0.8181818 (10)\ttotal: 4.87s\tremaining: 3.62s\n",
      "574:\tlearn: 0.9923077\ttest: 0.7878788\tbest: 0.8181818 (10)\ttotal: 4.88s\tremaining: 3.61s\n",
      "575:\tlearn: 0.9923077\ttest: 0.7878788\tbest: 0.8181818 (10)\ttotal: 4.89s\tremaining: 3.6s\n",
      "576:\tlearn: 0.9923077\ttest: 0.7878788\tbest: 0.8181818 (10)\ttotal: 4.9s\tremaining: 3.59s\n",
      "577:\tlearn: 0.9923077\ttest: 0.7878788\tbest: 0.8181818 (10)\ttotal: 4.91s\tremaining: 3.58s\n",
      "578:\tlearn: 0.9923077\ttest: 0.7878788\tbest: 0.8181818 (10)\ttotal: 4.92s\tremaining: 3.57s\n",
      "579:\tlearn: 0.9923077\ttest: 0.7878788\tbest: 0.8181818 (10)\ttotal: 4.92s\tremaining: 3.57s\n",
      "580:\tlearn: 0.9923077\ttest: 0.7878788\tbest: 0.8181818 (10)\ttotal: 4.93s\tremaining: 3.56s\n",
      "581:\tlearn: 0.9923077\ttest: 0.7878788\tbest: 0.8181818 (10)\ttotal: 4.94s\tremaining: 3.55s\n",
      "582:\tlearn: 0.9923077\ttest: 0.7878788\tbest: 0.8181818 (10)\ttotal: 4.95s\tremaining: 3.54s\n",
      "583:\tlearn: 0.9923077\ttest: 0.7878788\tbest: 0.8181818 (10)\ttotal: 4.96s\tremaining: 3.53s\n",
      "584:\tlearn: 0.9923077\ttest: 0.7878788\tbest: 0.8181818 (10)\ttotal: 4.96s\tremaining: 3.52s\n",
      "585:\tlearn: 0.9923077\ttest: 0.7878788\tbest: 0.8181818 (10)\ttotal: 4.97s\tremaining: 3.51s\n",
      "586:\tlearn: 0.9923077\ttest: 0.7878788\tbest: 0.8181818 (10)\ttotal: 4.98s\tremaining: 3.5s\n",
      "587:\tlearn: 0.9923077\ttest: 0.7878788\tbest: 0.8181818 (10)\ttotal: 4.99s\tremaining: 3.5s\n",
      "588:\tlearn: 0.9923077\ttest: 0.7878788\tbest: 0.8181818 (10)\ttotal: 5s\tremaining: 3.49s\n",
      "589:\tlearn: 0.9923077\ttest: 0.7878788\tbest: 0.8181818 (10)\ttotal: 5s\tremaining: 3.48s\n",
      "590:\tlearn: 0.9923077\ttest: 0.7878788\tbest: 0.8181818 (10)\ttotal: 5.01s\tremaining: 3.47s\n",
      "591:\tlearn: 0.9923077\ttest: 0.7878788\tbest: 0.8181818 (10)\ttotal: 5.02s\tremaining: 3.46s\n",
      "592:\tlearn: 0.9923077\ttest: 0.7878788\tbest: 0.8181818 (10)\ttotal: 5.03s\tremaining: 3.45s\n",
      "593:\tlearn: 0.9923077\ttest: 0.7878788\tbest: 0.8181818 (10)\ttotal: 5.04s\tremaining: 3.44s\n",
      "594:\tlearn: 0.9923077\ttest: 0.7878788\tbest: 0.8181818 (10)\ttotal: 5.05s\tremaining: 3.44s\n",
      "595:\tlearn: 0.9923077\ttest: 0.7878788\tbest: 0.8181818 (10)\ttotal: 5.05s\tremaining: 3.43s\n",
      "596:\tlearn: 0.9923077\ttest: 0.7878788\tbest: 0.8181818 (10)\ttotal: 5.06s\tremaining: 3.42s\n",
      "597:\tlearn: 0.9923077\ttest: 0.7878788\tbest: 0.8181818 (10)\ttotal: 5.07s\tremaining: 3.4s\n",
      "598:\tlearn: 0.9923077\ttest: 0.7878788\tbest: 0.8181818 (10)\ttotal: 5.07s\tremaining: 3.4s\n",
      "599:\tlearn: 0.9923077\ttest: 0.7878788\tbest: 0.8181818 (10)\ttotal: 5.08s\tremaining: 3.39s\n",
      "600:\tlearn: 0.9923077\ttest: 0.7878788\tbest: 0.8181818 (10)\ttotal: 5.09s\tremaining: 3.38s\n",
      "601:\tlearn: 0.9923077\ttest: 0.7878788\tbest: 0.8181818 (10)\ttotal: 5.1s\tremaining: 3.37s\n",
      "602:\tlearn: 0.9923077\ttest: 0.7878788\tbest: 0.8181818 (10)\ttotal: 5.11s\tremaining: 3.36s\n",
      "603:\tlearn: 0.9923077\ttest: 0.7878788\tbest: 0.8181818 (10)\ttotal: 5.12s\tremaining: 3.35s\n",
      "604:\tlearn: 0.9923077\ttest: 0.7878788\tbest: 0.8181818 (10)\ttotal: 5.12s\tremaining: 3.35s\n",
      "605:\tlearn: 0.9923077\ttest: 0.7878788\tbest: 0.8181818 (10)\ttotal: 5.13s\tremaining: 3.34s\n",
      "606:\tlearn: 0.9923077\ttest: 0.7878788\tbest: 0.8181818 (10)\ttotal: 5.14s\tremaining: 3.33s\n",
      "607:\tlearn: 0.9923077\ttest: 0.7878788\tbest: 0.8181818 (10)\ttotal: 5.15s\tremaining: 3.32s\n",
      "608:\tlearn: 0.9923077\ttest: 0.7878788\tbest: 0.8181818 (10)\ttotal: 5.16s\tremaining: 3.31s\n",
      "609:\tlearn: 0.9923077\ttest: 0.7878788\tbest: 0.8181818 (10)\ttotal: 5.16s\tremaining: 3.3s\n",
      "610:\tlearn: 0.9923077\ttest: 0.7878788\tbest: 0.8181818 (10)\ttotal: 5.17s\tremaining: 3.29s\n",
      "611:\tlearn: 0.9923077\ttest: 0.7878788\tbest: 0.8181818 (10)\ttotal: 5.18s\tremaining: 3.28s\n",
      "612:\tlearn: 0.9923077\ttest: 0.7878788\tbest: 0.8181818 (10)\ttotal: 5.18s\tremaining: 3.27s\n",
      "613:\tlearn: 0.9923077\ttest: 0.7878788\tbest: 0.8181818 (10)\ttotal: 5.19s\tremaining: 3.26s\n",
      "614:\tlearn: 0.9923077\ttest: 0.7878788\tbest: 0.8181818 (10)\ttotal: 5.2s\tremaining: 3.25s\n",
      "615:\tlearn: 0.9923077\ttest: 0.7878788\tbest: 0.8181818 (10)\ttotal: 5.21s\tremaining: 3.25s\n",
      "616:\tlearn: 0.9923077\ttest: 0.7878788\tbest: 0.8181818 (10)\ttotal: 5.22s\tremaining: 3.24s\n",
      "617:\tlearn: 0.9923077\ttest: 0.7878788\tbest: 0.8181818 (10)\ttotal: 5.23s\tremaining: 3.23s\n",
      "618:\tlearn: 0.9923077\ttest: 0.7878788\tbest: 0.8181818 (10)\ttotal: 5.24s\tremaining: 3.22s\n",
      "619:\tlearn: 0.9923077\ttest: 0.7878788\tbest: 0.8181818 (10)\ttotal: 5.25s\tremaining: 3.21s\n",
      "620:\tlearn: 0.9923077\ttest: 0.7878788\tbest: 0.8181818 (10)\ttotal: 5.25s\tremaining: 3.21s\n",
      "621:\tlearn: 0.9923077\ttest: 0.7878788\tbest: 0.8181818 (10)\ttotal: 5.26s\tremaining: 3.2s\n",
      "622:\tlearn: 0.9923077\ttest: 0.7878788\tbest: 0.8181818 (10)\ttotal: 5.27s\tremaining: 3.19s\n",
      "623:\tlearn: 0.9923077\ttest: 0.7878788\tbest: 0.8181818 (10)\ttotal: 5.28s\tremaining: 3.18s\n",
      "624:\tlearn: 0.9923077\ttest: 0.7878788\tbest: 0.8181818 (10)\ttotal: 5.29s\tremaining: 3.17s\n",
      "625:\tlearn: 0.9923077\ttest: 0.7878788\tbest: 0.8181818 (10)\ttotal: 5.3s\tremaining: 3.17s\n",
      "626:\tlearn: 0.9923077\ttest: 0.7878788\tbest: 0.8181818 (10)\ttotal: 5.31s\tremaining: 3.16s\n",
      "627:\tlearn: 0.9923077\ttest: 0.7878788\tbest: 0.8181818 (10)\ttotal: 5.32s\tremaining: 3.15s\n",
      "628:\tlearn: 0.9923077\ttest: 0.7878788\tbest: 0.8181818 (10)\ttotal: 5.33s\tremaining: 3.14s\n",
      "629:\tlearn: 0.9923077\ttest: 0.7878788\tbest: 0.8181818 (10)\ttotal: 5.33s\tremaining: 3.13s\n",
      "630:\tlearn: 0.9923077\ttest: 0.7878788\tbest: 0.8181818 (10)\ttotal: 5.34s\tremaining: 3.13s\n",
      "631:\tlearn: 0.9923077\ttest: 0.7878788\tbest: 0.8181818 (10)\ttotal: 5.35s\tremaining: 3.12s\n",
      "632:\tlearn: 0.9923077\ttest: 0.7878788\tbest: 0.8181818 (10)\ttotal: 5.36s\tremaining: 3.11s\n",
      "633:\tlearn: 0.9923077\ttest: 0.7878788\tbest: 0.8181818 (10)\ttotal: 5.37s\tremaining: 3.1s\n",
      "634:\tlearn: 0.9923077\ttest: 0.7878788\tbest: 0.8181818 (10)\ttotal: 5.38s\tremaining: 3.09s\n",
      "635:\tlearn: 0.9923077\ttest: 0.7878788\tbest: 0.8181818 (10)\ttotal: 5.39s\tremaining: 3.08s\n",
      "636:\tlearn: 0.9923077\ttest: 0.7878788\tbest: 0.8181818 (10)\ttotal: 5.39s\tremaining: 3.07s\n",
      "637:\tlearn: 0.9923077\ttest: 0.7878788\tbest: 0.8181818 (10)\ttotal: 5.4s\tremaining: 3.06s\n",
      "638:\tlearn: 0.9923077\ttest: 0.7878788\tbest: 0.8181818 (10)\ttotal: 5.41s\tremaining: 3.06s\n",
      "639:\tlearn: 0.9923077\ttest: 0.7878788\tbest: 0.8181818 (10)\ttotal: 5.42s\tremaining: 3.05s\n",
      "640:\tlearn: 0.9923077\ttest: 0.7878788\tbest: 0.8181818 (10)\ttotal: 5.43s\tremaining: 3.04s\n",
      "641:\tlearn: 0.9923077\ttest: 0.7878788\tbest: 0.8181818 (10)\ttotal: 5.43s\tremaining: 3.03s\n",
      "642:\tlearn: 0.9923077\ttest: 0.7878788\tbest: 0.8181818 (10)\ttotal: 5.44s\tremaining: 3.02s\n",
      "643:\tlearn: 0.9923077\ttest: 0.7878788\tbest: 0.8181818 (10)\ttotal: 5.45s\tremaining: 3.01s\n",
      "644:\tlearn: 0.9923077\ttest: 0.7878788\tbest: 0.8181818 (10)\ttotal: 5.46s\tremaining: 3s\n",
      "645:\tlearn: 0.9923077\ttest: 0.7878788\tbest: 0.8181818 (10)\ttotal: 5.47s\tremaining: 3s\n",
      "646:\tlearn: 0.9923077\ttest: 0.7878788\tbest: 0.8181818 (10)\ttotal: 5.48s\tremaining: 2.99s\n",
      "647:\tlearn: 0.9923077\ttest: 0.7878788\tbest: 0.8181818 (10)\ttotal: 5.48s\tremaining: 2.98s\n",
      "648:\tlearn: 0.9923077\ttest: 0.7878788\tbest: 0.8181818 (10)\ttotal: 5.49s\tremaining: 2.97s\n",
      "649:\tlearn: 0.9923077\ttest: 0.7878788\tbest: 0.8181818 (10)\ttotal: 5.5s\tremaining: 2.96s\n",
      "650:\tlearn: 0.9923077\ttest: 0.7878788\tbest: 0.8181818 (10)\ttotal: 5.51s\tremaining: 2.95s\n",
      "651:\tlearn: 0.9923077\ttest: 0.7878788\tbest: 0.8181818 (10)\ttotal: 5.52s\tremaining: 2.94s\n",
      "652:\tlearn: 0.9923077\ttest: 0.7878788\tbest: 0.8181818 (10)\ttotal: 5.52s\tremaining: 2.93s\n",
      "653:\tlearn: 0.9923077\ttest: 0.7878788\tbest: 0.8181818 (10)\ttotal: 5.53s\tremaining: 2.92s\n",
      "654:\tlearn: 0.9923077\ttest: 0.7878788\tbest: 0.8181818 (10)\ttotal: 5.54s\tremaining: 2.92s\n",
      "655:\tlearn: 0.9923077\ttest: 0.7878788\tbest: 0.8181818 (10)\ttotal: 5.55s\tremaining: 2.91s\n",
      "656:\tlearn: 0.9923077\ttest: 0.7878788\tbest: 0.8181818 (10)\ttotal: 5.56s\tremaining: 2.9s\n",
      "657:\tlearn: 0.9923077\ttest: 0.7878788\tbest: 0.8181818 (10)\ttotal: 5.57s\tremaining: 2.89s\n",
      "658:\tlearn: 0.9923077\ttest: 0.7878788\tbest: 0.8181818 (10)\ttotal: 5.58s\tremaining: 2.89s\n",
      "659:\tlearn: 0.9923077\ttest: 0.7878788\tbest: 0.8181818 (10)\ttotal: 5.6s\tremaining: 2.88s\n",
      "660:\tlearn: 0.9923077\ttest: 0.7878788\tbest: 0.8181818 (10)\ttotal: 5.6s\tremaining: 2.87s\n",
      "661:\tlearn: 0.9923077\ttest: 0.7878788\tbest: 0.8181818 (10)\ttotal: 5.61s\tremaining: 2.87s\n",
      "662:\tlearn: 0.9923077\ttest: 0.7878788\tbest: 0.8181818 (10)\ttotal: 5.62s\tremaining: 2.86s\n",
      "663:\tlearn: 0.9923077\ttest: 0.7878788\tbest: 0.8181818 (10)\ttotal: 5.63s\tremaining: 2.85s\n",
      "664:\tlearn: 0.9923077\ttest: 0.7878788\tbest: 0.8181818 (10)\ttotal: 5.64s\tremaining: 2.84s\n",
      "665:\tlearn: 0.9923077\ttest: 0.7878788\tbest: 0.8181818 (10)\ttotal: 5.65s\tremaining: 2.83s\n",
      "666:\tlearn: 1.0000000\ttest: 0.7878788\tbest: 0.8181818 (10)\ttotal: 5.66s\tremaining: 2.82s\n",
      "667:\tlearn: 1.0000000\ttest: 0.7878788\tbest: 0.8181818 (10)\ttotal: 5.66s\tremaining: 2.81s\n",
      "668:\tlearn: 1.0000000\ttest: 0.7878788\tbest: 0.8181818 (10)\ttotal: 5.67s\tremaining: 2.81s\n",
      "669:\tlearn: 1.0000000\ttest: 0.7878788\tbest: 0.8181818 (10)\ttotal: 5.68s\tremaining: 2.8s\n",
      "670:\tlearn: 1.0000000\ttest: 0.7878788\tbest: 0.8181818 (10)\ttotal: 5.69s\tremaining: 2.79s\n",
      "671:\tlearn: 1.0000000\ttest: 0.7878788\tbest: 0.8181818 (10)\ttotal: 5.7s\tremaining: 2.78s\n",
      "672:\tlearn: 1.0000000\ttest: 0.7878788\tbest: 0.8181818 (10)\ttotal: 5.7s\tremaining: 2.77s\n",
      "673:\tlearn: 1.0000000\ttest: 0.7878788\tbest: 0.8181818 (10)\ttotal: 5.71s\tremaining: 2.76s\n",
      "674:\tlearn: 1.0000000\ttest: 0.7878788\tbest: 0.8181818 (10)\ttotal: 5.72s\tremaining: 2.75s\n",
      "675:\tlearn: 1.0000000\ttest: 0.7878788\tbest: 0.8181818 (10)\ttotal: 5.73s\tremaining: 2.75s\n",
      "676:\tlearn: 1.0000000\ttest: 0.7878788\tbest: 0.8181818 (10)\ttotal: 5.74s\tremaining: 2.74s\n",
      "677:\tlearn: 1.0000000\ttest: 0.7878788\tbest: 0.8181818 (10)\ttotal: 5.75s\tremaining: 2.73s\n",
      "678:\tlearn: 1.0000000\ttest: 0.7878788\tbest: 0.8181818 (10)\ttotal: 5.75s\tremaining: 2.72s\n",
      "679:\tlearn: 1.0000000\ttest: 0.7878788\tbest: 0.8181818 (10)\ttotal: 5.75s\tremaining: 2.71s\n",
      "680:\tlearn: 1.0000000\ttest: 0.7878788\tbest: 0.8181818 (10)\ttotal: 5.77s\tremaining: 2.7s\n",
      "681:\tlearn: 1.0000000\ttest: 0.7878788\tbest: 0.8181818 (10)\ttotal: 5.78s\tremaining: 2.69s\n",
      "682:\tlearn: 1.0000000\ttest: 0.7878788\tbest: 0.8181818 (10)\ttotal: 5.79s\tremaining: 2.69s\n",
      "683:\tlearn: 1.0000000\ttest: 0.7878788\tbest: 0.8181818 (10)\ttotal: 5.79s\tremaining: 2.68s\n",
      "684:\tlearn: 1.0000000\ttest: 0.7878788\tbest: 0.8181818 (10)\ttotal: 5.8s\tremaining: 2.67s\n",
      "685:\tlearn: 1.0000000\ttest: 0.7878788\tbest: 0.8181818 (10)\ttotal: 5.81s\tremaining: 2.66s\n",
      "686:\tlearn: 1.0000000\ttest: 0.7878788\tbest: 0.8181818 (10)\ttotal: 5.81s\tremaining: 2.65s\n",
      "687:\tlearn: 1.0000000\ttest: 0.7878788\tbest: 0.8181818 (10)\ttotal: 5.82s\tremaining: 2.64s\n",
      "688:\tlearn: 1.0000000\ttest: 0.7878788\tbest: 0.8181818 (10)\ttotal: 5.83s\tremaining: 2.63s\n",
      "689:\tlearn: 1.0000000\ttest: 0.7878788\tbest: 0.8181818 (10)\ttotal: 5.84s\tremaining: 2.62s\n",
      "690:\tlearn: 1.0000000\ttest: 0.7878788\tbest: 0.8181818 (10)\ttotal: 5.84s\tremaining: 2.61s\n",
      "691:\tlearn: 1.0000000\ttest: 0.7878788\tbest: 0.8181818 (10)\ttotal: 5.85s\tremaining: 2.6s\n",
      "692:\tlearn: 1.0000000\ttest: 0.7878788\tbest: 0.8181818 (10)\ttotal: 5.86s\tremaining: 2.6s\n",
      "693:\tlearn: 1.0000000\ttest: 0.7878788\tbest: 0.8181818 (10)\ttotal: 5.87s\tremaining: 2.59s\n",
      "694:\tlearn: 1.0000000\ttest: 0.7878788\tbest: 0.8181818 (10)\ttotal: 5.88s\tremaining: 2.58s\n",
      "695:\tlearn: 1.0000000\ttest: 0.7878788\tbest: 0.8181818 (10)\ttotal: 5.89s\tremaining: 2.57s\n",
      "696:\tlearn: 1.0000000\ttest: 0.7878788\tbest: 0.8181818 (10)\ttotal: 5.89s\tremaining: 2.56s\n",
      "697:\tlearn: 1.0000000\ttest: 0.7878788\tbest: 0.8181818 (10)\ttotal: 5.92s\tremaining: 2.56s\n",
      "698:\tlearn: 1.0000000\ttest: 0.7878788\tbest: 0.8181818 (10)\ttotal: 5.94s\tremaining: 2.56s\n",
      "699:\tlearn: 1.0000000\ttest: 0.7878788\tbest: 0.8181818 (10)\ttotal: 5.97s\tremaining: 2.56s\n",
      "700:\tlearn: 1.0000000\ttest: 0.7878788\tbest: 0.8181818 (10)\ttotal: 5.98s\tremaining: 2.55s\n",
      "701:\tlearn: 1.0000000\ttest: 0.7878788\tbest: 0.8181818 (10)\ttotal: 5.99s\tremaining: 2.54s\n",
      "702:\tlearn: 1.0000000\ttest: 0.7878788\tbest: 0.8181818 (10)\ttotal: 5.99s\tremaining: 2.53s\n",
      "703:\tlearn: 1.0000000\ttest: 0.7878788\tbest: 0.8181818 (10)\ttotal: 6s\tremaining: 2.52s\n",
      "704:\tlearn: 1.0000000\ttest: 0.7878788\tbest: 0.8181818 (10)\ttotal: 6.01s\tremaining: 2.51s\n",
      "705:\tlearn: 1.0000000\ttest: 0.7878788\tbest: 0.8181818 (10)\ttotal: 6.02s\tremaining: 2.51s\n",
      "706:\tlearn: 1.0000000\ttest: 0.7878788\tbest: 0.8181818 (10)\ttotal: 6.03s\tremaining: 2.5s\n",
      "707:\tlearn: 1.0000000\ttest: 0.7878788\tbest: 0.8181818 (10)\ttotal: 6.04s\tremaining: 2.49s\n",
      "708:\tlearn: 1.0000000\ttest: 0.7878788\tbest: 0.8181818 (10)\ttotal: 6.04s\tremaining: 2.48s\n",
      "709:\tlearn: 1.0000000\ttest: 0.7878788\tbest: 0.8181818 (10)\ttotal: 6.05s\tremaining: 2.47s\n",
      "710:\tlearn: 1.0000000\ttest: 0.7878788\tbest: 0.8181818 (10)\ttotal: 6.06s\tremaining: 2.46s\n",
      "711:\tlearn: 1.0000000\ttest: 0.7878788\tbest: 0.8181818 (10)\ttotal: 6.07s\tremaining: 2.46s\n",
      "712:\tlearn: 1.0000000\ttest: 0.7878788\tbest: 0.8181818 (10)\ttotal: 6.08s\tremaining: 2.45s\n",
      "713:\tlearn: 1.0000000\ttest: 0.7878788\tbest: 0.8181818 (10)\ttotal: 6.09s\tremaining: 2.44s\n",
      "714:\tlearn: 1.0000000\ttest: 0.7878788\tbest: 0.8181818 (10)\ttotal: 6.09s\tremaining: 2.43s\n",
      "715:\tlearn: 1.0000000\ttest: 0.7878788\tbest: 0.8181818 (10)\ttotal: 6.1s\tremaining: 2.42s\n",
      "716:\tlearn: 1.0000000\ttest: 0.7878788\tbest: 0.8181818 (10)\ttotal: 6.11s\tremaining: 2.41s\n",
      "717:\tlearn: 1.0000000\ttest: 0.7878788\tbest: 0.8181818 (10)\ttotal: 6.12s\tremaining: 2.4s\n",
      "718:\tlearn: 1.0000000\ttest: 0.7878788\tbest: 0.8181818 (10)\ttotal: 6.13s\tremaining: 2.39s\n",
      "719:\tlearn: 1.0000000\ttest: 0.7878788\tbest: 0.8181818 (10)\ttotal: 6.13s\tremaining: 2.39s\n",
      "720:\tlearn: 1.0000000\ttest: 0.7878788\tbest: 0.8181818 (10)\ttotal: 6.14s\tremaining: 2.38s\n",
      "721:\tlearn: 1.0000000\ttest: 0.7878788\tbest: 0.8181818 (10)\ttotal: 6.15s\tremaining: 2.37s\n",
      "722:\tlearn: 1.0000000\ttest: 0.7878788\tbest: 0.8181818 (10)\ttotal: 6.16s\tremaining: 2.36s\n",
      "723:\tlearn: 1.0000000\ttest: 0.7878788\tbest: 0.8181818 (10)\ttotal: 6.17s\tremaining: 2.35s\n",
      "724:\tlearn: 1.0000000\ttest: 0.7878788\tbest: 0.8181818 (10)\ttotal: 6.18s\tremaining: 2.34s\n",
      "725:\tlearn: 1.0000000\ttest: 0.7878788\tbest: 0.8181818 (10)\ttotal: 6.19s\tremaining: 2.33s\n",
      "726:\tlearn: 1.0000000\ttest: 0.7878788\tbest: 0.8181818 (10)\ttotal: 6.2s\tremaining: 2.33s\n",
      "727:\tlearn: 1.0000000\ttest: 0.7878788\tbest: 0.8181818 (10)\ttotal: 6.21s\tremaining: 2.32s\n",
      "728:\tlearn: 1.0000000\ttest: 0.7878788\tbest: 0.8181818 (10)\ttotal: 6.21s\tremaining: 2.31s\n",
      "729:\tlearn: 1.0000000\ttest: 0.7878788\tbest: 0.8181818 (10)\ttotal: 6.22s\tremaining: 2.3s\n",
      "730:\tlearn: 1.0000000\ttest: 0.7878788\tbest: 0.8181818 (10)\ttotal: 6.23s\tremaining: 2.29s\n",
      "731:\tlearn: 1.0000000\ttest: 0.7878788\tbest: 0.8181818 (10)\ttotal: 6.24s\tremaining: 2.29s\n",
      "732:\tlearn: 1.0000000\ttest: 0.7878788\tbest: 0.8181818 (10)\ttotal: 6.25s\tremaining: 2.28s\n",
      "733:\tlearn: 1.0000000\ttest: 0.7878788\tbest: 0.8181818 (10)\ttotal: 6.26s\tremaining: 2.27s\n",
      "734:\tlearn: 1.0000000\ttest: 0.7878788\tbest: 0.8181818 (10)\ttotal: 6.27s\tremaining: 2.26s\n",
      "735:\tlearn: 1.0000000\ttest: 0.7878788\tbest: 0.8181818 (10)\ttotal: 6.28s\tremaining: 2.25s\n",
      "736:\tlearn: 1.0000000\ttest: 0.7878788\tbest: 0.8181818 (10)\ttotal: 6.29s\tremaining: 2.24s\n",
      "737:\tlearn: 1.0000000\ttest: 0.7878788\tbest: 0.8181818 (10)\ttotal: 6.3s\tremaining: 2.23s\n",
      "738:\tlearn: 1.0000000\ttest: 0.7878788\tbest: 0.8181818 (10)\ttotal: 6.3s\tremaining: 2.23s\n",
      "739:\tlearn: 1.0000000\ttest: 0.7878788\tbest: 0.8181818 (10)\ttotal: 6.31s\tremaining: 2.22s\n",
      "740:\tlearn: 1.0000000\ttest: 0.7878788\tbest: 0.8181818 (10)\ttotal: 6.32s\tremaining: 2.21s\n",
      "741:\tlearn: 1.0000000\ttest: 0.7878788\tbest: 0.8181818 (10)\ttotal: 6.33s\tremaining: 2.2s\n",
      "742:\tlearn: 1.0000000\ttest: 0.7878788\tbest: 0.8181818 (10)\ttotal: 6.34s\tremaining: 2.19s\n",
      "743:\tlearn: 1.0000000\ttest: 0.7878788\tbest: 0.8181818 (10)\ttotal: 6.35s\tremaining: 2.19s\n",
      "744:\tlearn: 1.0000000\ttest: 0.7878788\tbest: 0.8181818 (10)\ttotal: 6.36s\tremaining: 2.18s\n",
      "745:\tlearn: 1.0000000\ttest: 0.7878788\tbest: 0.8181818 (10)\ttotal: 6.37s\tremaining: 2.17s\n",
      "746:\tlearn: 1.0000000\ttest: 0.7878788\tbest: 0.8181818 (10)\ttotal: 6.38s\tremaining: 2.16s\n",
      "747:\tlearn: 1.0000000\ttest: 0.7878788\tbest: 0.8181818 (10)\ttotal: 6.39s\tremaining: 2.15s\n",
      "748:\tlearn: 1.0000000\ttest: 0.7878788\tbest: 0.8181818 (10)\ttotal: 6.4s\tremaining: 2.14s\n",
      "749:\tlearn: 1.0000000\ttest: 0.7878788\tbest: 0.8181818 (10)\ttotal: 6.41s\tremaining: 2.14s\n",
      "750:\tlearn: 1.0000000\ttest: 0.7878788\tbest: 0.8181818 (10)\ttotal: 6.42s\tremaining: 2.13s\n",
      "751:\tlearn: 1.0000000\ttest: 0.7878788\tbest: 0.8181818 (10)\ttotal: 6.42s\tremaining: 2.12s\n",
      "752:\tlearn: 1.0000000\ttest: 0.7878788\tbest: 0.8181818 (10)\ttotal: 6.43s\tremaining: 2.11s\n",
      "753:\tlearn: 1.0000000\ttest: 0.7878788\tbest: 0.8181818 (10)\ttotal: 6.44s\tremaining: 2.1s\n",
      "754:\tlearn: 1.0000000\ttest: 0.7878788\tbest: 0.8181818 (10)\ttotal: 6.45s\tremaining: 2.09s\n",
      "755:\tlearn: 1.0000000\ttest: 0.7878788\tbest: 0.8181818 (10)\ttotal: 6.45s\tremaining: 2.08s\n",
      "756:\tlearn: 1.0000000\ttest: 0.7878788\tbest: 0.8181818 (10)\ttotal: 6.47s\tremaining: 2.08s\n",
      "757:\tlearn: 1.0000000\ttest: 0.7878788\tbest: 0.8181818 (10)\ttotal: 6.48s\tremaining: 2.07s\n",
      "758:\tlearn: 1.0000000\ttest: 0.7878788\tbest: 0.8181818 (10)\ttotal: 6.49s\tremaining: 2.06s\n",
      "759:\tlearn: 1.0000000\ttest: 0.7878788\tbest: 0.8181818 (10)\ttotal: 6.49s\tremaining: 2.05s\n",
      "760:\tlearn: 1.0000000\ttest: 0.7878788\tbest: 0.8181818 (10)\ttotal: 6.5s\tremaining: 2.04s\n",
      "761:\tlearn: 1.0000000\ttest: 0.7878788\tbest: 0.8181818 (10)\ttotal: 6.51s\tremaining: 2.03s\n",
      "762:\tlearn: 1.0000000\ttest: 0.7878788\tbest: 0.8181818 (10)\ttotal: 6.52s\tremaining: 2.02s\n",
      "763:\tlearn: 1.0000000\ttest: 0.7878788\tbest: 0.8181818 (10)\ttotal: 6.53s\tremaining: 2.02s\n",
      "764:\tlearn: 1.0000000\ttest: 0.7878788\tbest: 0.8181818 (10)\ttotal: 6.53s\tremaining: 2.01s\n",
      "765:\tlearn: 1.0000000\ttest: 0.7878788\tbest: 0.8181818 (10)\ttotal: 6.54s\tremaining: 2s\n",
      "766:\tlearn: 1.0000000\ttest: 0.7878788\tbest: 0.8181818 (10)\ttotal: 6.55s\tremaining: 1.99s\n",
      "767:\tlearn: 1.0000000\ttest: 0.7878788\tbest: 0.8181818 (10)\ttotal: 6.58s\tremaining: 1.99s\n",
      "768:\tlearn: 1.0000000\ttest: 0.7878788\tbest: 0.8181818 (10)\ttotal: 6.59s\tremaining: 1.98s\n",
      "769:\tlearn: 1.0000000\ttest: 0.7878788\tbest: 0.8181818 (10)\ttotal: 6.61s\tremaining: 1.97s\n",
      "770:\tlearn: 1.0000000\ttest: 0.7878788\tbest: 0.8181818 (10)\ttotal: 6.65s\tremaining: 1.97s\n",
      "771:\tlearn: 1.0000000\ttest: 0.7878788\tbest: 0.8181818 (10)\ttotal: 6.66s\tremaining: 1.97s\n",
      "772:\tlearn: 1.0000000\ttest: 0.7878788\tbest: 0.8181818 (10)\ttotal: 6.67s\tremaining: 1.96s\n",
      "773:\tlearn: 1.0000000\ttest: 0.7878788\tbest: 0.8181818 (10)\ttotal: 6.69s\tremaining: 1.95s\n",
      "774:\tlearn: 1.0000000\ttest: 0.7878788\tbest: 0.8181818 (10)\ttotal: 6.7s\tremaining: 1.94s\n",
      "775:\tlearn: 1.0000000\ttest: 0.7878788\tbest: 0.8181818 (10)\ttotal: 6.71s\tremaining: 1.94s\n",
      "776:\tlearn: 1.0000000\ttest: 0.7878788\tbest: 0.8181818 (10)\ttotal: 6.72s\tremaining: 1.93s\n",
      "777:\tlearn: 1.0000000\ttest: 0.7878788\tbest: 0.8181818 (10)\ttotal: 6.72s\tremaining: 1.92s\n",
      "778:\tlearn: 1.0000000\ttest: 0.7878788\tbest: 0.8181818 (10)\ttotal: 6.73s\tremaining: 1.91s\n",
      "779:\tlearn: 1.0000000\ttest: 0.7878788\tbest: 0.8181818 (10)\ttotal: 6.74s\tremaining: 1.9s\n",
      "780:\tlearn: 1.0000000\ttest: 0.7878788\tbest: 0.8181818 (10)\ttotal: 6.75s\tremaining: 1.89s\n",
      "781:\tlearn: 1.0000000\ttest: 0.7878788\tbest: 0.8181818 (10)\ttotal: 6.76s\tremaining: 1.88s\n",
      "782:\tlearn: 1.0000000\ttest: 0.7878788\tbest: 0.8181818 (10)\ttotal: 6.76s\tremaining: 1.88s\n",
      "783:\tlearn: 1.0000000\ttest: 0.7878788\tbest: 0.8181818 (10)\ttotal: 6.77s\tremaining: 1.87s\n",
      "784:\tlearn: 1.0000000\ttest: 0.7878788\tbest: 0.8181818 (10)\ttotal: 6.78s\tremaining: 1.86s\n",
      "785:\tlearn: 1.0000000\ttest: 0.7878788\tbest: 0.8181818 (10)\ttotal: 6.79s\tremaining: 1.85s\n",
      "786:\tlearn: 1.0000000\ttest: 0.7878788\tbest: 0.8181818 (10)\ttotal: 6.8s\tremaining: 1.84s\n",
      "787:\tlearn: 1.0000000\ttest: 0.7878788\tbest: 0.8181818 (10)\ttotal: 6.81s\tremaining: 1.83s\n",
      "788:\tlearn: 1.0000000\ttest: 0.7878788\tbest: 0.8181818 (10)\ttotal: 6.82s\tremaining: 1.82s\n",
      "789:\tlearn: 1.0000000\ttest: 0.7878788\tbest: 0.8181818 (10)\ttotal: 6.82s\tremaining: 1.81s\n",
      "790:\tlearn: 1.0000000\ttest: 0.7878788\tbest: 0.8181818 (10)\ttotal: 6.83s\tremaining: 1.8s\n",
      "791:\tlearn: 1.0000000\ttest: 0.7878788\tbest: 0.8181818 (10)\ttotal: 6.84s\tremaining: 1.8s\n",
      "792:\tlearn: 1.0000000\ttest: 0.7878788\tbest: 0.8181818 (10)\ttotal: 6.85s\tremaining: 1.79s\n",
      "793:\tlearn: 1.0000000\ttest: 0.7878788\tbest: 0.8181818 (10)\ttotal: 6.86s\tremaining: 1.78s\n",
      "794:\tlearn: 1.0000000\ttest: 0.7878788\tbest: 0.8181818 (10)\ttotal: 6.87s\tremaining: 1.77s\n",
      "795:\tlearn: 1.0000000\ttest: 0.7878788\tbest: 0.8181818 (10)\ttotal: 6.87s\tremaining: 1.76s\n",
      "796:\tlearn: 1.0000000\ttest: 0.7878788\tbest: 0.8181818 (10)\ttotal: 6.88s\tremaining: 1.75s\n",
      "797:\tlearn: 1.0000000\ttest: 0.7878788\tbest: 0.8181818 (10)\ttotal: 6.89s\tremaining: 1.74s\n",
      "798:\tlearn: 1.0000000\ttest: 0.7878788\tbest: 0.8181818 (10)\ttotal: 6.9s\tremaining: 1.74s\n",
      "799:\tlearn: 1.0000000\ttest: 0.7878788\tbest: 0.8181818 (10)\ttotal: 6.91s\tremaining: 1.73s\n",
      "800:\tlearn: 1.0000000\ttest: 0.7878788\tbest: 0.8181818 (10)\ttotal: 6.92s\tremaining: 1.72s\n",
      "801:\tlearn: 1.0000000\ttest: 0.7878788\tbest: 0.8181818 (10)\ttotal: 6.93s\tremaining: 1.71s\n",
      "802:\tlearn: 1.0000000\ttest: 0.7878788\tbest: 0.8181818 (10)\ttotal: 6.93s\tremaining: 1.7s\n",
      "803:\tlearn: 1.0000000\ttest: 0.7878788\tbest: 0.8181818 (10)\ttotal: 6.94s\tremaining: 1.69s\n",
      "804:\tlearn: 1.0000000\ttest: 0.7878788\tbest: 0.8181818 (10)\ttotal: 6.95s\tremaining: 1.68s\n",
      "805:\tlearn: 1.0000000\ttest: 0.7878788\tbest: 0.8181818 (10)\ttotal: 6.96s\tremaining: 1.68s\n",
      "806:\tlearn: 1.0000000\ttest: 0.7878788\tbest: 0.8181818 (10)\ttotal: 6.97s\tremaining: 1.67s\n",
      "807:\tlearn: 1.0000000\ttest: 0.7878788\tbest: 0.8181818 (10)\ttotal: 6.98s\tremaining: 1.66s\n",
      "808:\tlearn: 1.0000000\ttest: 0.7878788\tbest: 0.8181818 (10)\ttotal: 6.99s\tremaining: 1.65s\n",
      "809:\tlearn: 1.0000000\ttest: 0.7878788\tbest: 0.8181818 (10)\ttotal: 7s\tremaining: 1.64s\n",
      "810:\tlearn: 1.0000000\ttest: 0.7878788\tbest: 0.8181818 (10)\ttotal: 7s\tremaining: 1.63s\n",
      "811:\tlearn: 1.0000000\ttest: 0.7878788\tbest: 0.8181818 (10)\ttotal: 7.01s\tremaining: 1.62s\n",
      "812:\tlearn: 1.0000000\ttest: 0.7878788\tbest: 0.8181818 (10)\ttotal: 7.02s\tremaining: 1.61s\n",
      "813:\tlearn: 1.0000000\ttest: 0.7878788\tbest: 0.8181818 (10)\ttotal: 7.03s\tremaining: 1.61s\n",
      "814:\tlearn: 1.0000000\ttest: 0.7878788\tbest: 0.8181818 (10)\ttotal: 7.04s\tremaining: 1.6s\n",
      "815:\tlearn: 1.0000000\ttest: 0.7878788\tbest: 0.8181818 (10)\ttotal: 7.05s\tremaining: 1.59s\n",
      "816:\tlearn: 1.0000000\ttest: 0.7878788\tbest: 0.8181818 (10)\ttotal: 7.06s\tremaining: 1.58s\n",
      "817:\tlearn: 1.0000000\ttest: 0.7878788\tbest: 0.8181818 (10)\ttotal: 7.07s\tremaining: 1.57s\n",
      "818:\tlearn: 1.0000000\ttest: 0.7878788\tbest: 0.8181818 (10)\ttotal: 7.08s\tremaining: 1.56s\n",
      "819:\tlearn: 1.0000000\ttest: 0.7878788\tbest: 0.8181818 (10)\ttotal: 7.08s\tremaining: 1.55s\n",
      "820:\tlearn: 1.0000000\ttest: 0.7878788\tbest: 0.8181818 (10)\ttotal: 7.09s\tremaining: 1.55s\n",
      "821:\tlearn: 1.0000000\ttest: 0.7878788\tbest: 0.8181818 (10)\ttotal: 7.1s\tremaining: 1.54s\n",
      "822:\tlearn: 1.0000000\ttest: 0.7878788\tbest: 0.8181818 (10)\ttotal: 7.11s\tremaining: 1.53s\n",
      "823:\tlearn: 1.0000000\ttest: 0.7878788\tbest: 0.8181818 (10)\ttotal: 7.12s\tremaining: 1.52s\n",
      "824:\tlearn: 1.0000000\ttest: 0.7878788\tbest: 0.8181818 (10)\ttotal: 7.13s\tremaining: 1.51s\n",
      "825:\tlearn: 1.0000000\ttest: 0.7878788\tbest: 0.8181818 (10)\ttotal: 7.13s\tremaining: 1.5s\n",
      "826:\tlearn: 1.0000000\ttest: 0.7878788\tbest: 0.8181818 (10)\ttotal: 7.14s\tremaining: 1.49s\n",
      "827:\tlearn: 1.0000000\ttest: 0.7878788\tbest: 0.8181818 (10)\ttotal: 7.15s\tremaining: 1.49s\n",
      "828:\tlearn: 1.0000000\ttest: 0.7878788\tbest: 0.8181818 (10)\ttotal: 7.16s\tremaining: 1.48s\n",
      "829:\tlearn: 1.0000000\ttest: 0.7878788\tbest: 0.8181818 (10)\ttotal: 7.17s\tremaining: 1.47s\n",
      "830:\tlearn: 1.0000000\ttest: 0.7878788\tbest: 0.8181818 (10)\ttotal: 7.18s\tremaining: 1.46s\n",
      "831:\tlearn: 1.0000000\ttest: 0.7878788\tbest: 0.8181818 (10)\ttotal: 7.18s\tremaining: 1.45s\n",
      "832:\tlearn: 1.0000000\ttest: 0.7878788\tbest: 0.8181818 (10)\ttotal: 7.19s\tremaining: 1.44s\n",
      "833:\tlearn: 1.0000000\ttest: 0.7878788\tbest: 0.8181818 (10)\ttotal: 7.2s\tremaining: 1.43s\n",
      "834:\tlearn: 1.0000000\ttest: 0.7878788\tbest: 0.8181818 (10)\ttotal: 7.21s\tremaining: 1.42s\n",
      "835:\tlearn: 1.0000000\ttest: 0.7878788\tbest: 0.8181818 (10)\ttotal: 7.22s\tremaining: 1.42s\n",
      "836:\tlearn: 1.0000000\ttest: 0.7878788\tbest: 0.8181818 (10)\ttotal: 7.23s\tremaining: 1.41s\n",
      "837:\tlearn: 1.0000000\ttest: 0.7878788\tbest: 0.8181818 (10)\ttotal: 7.23s\tremaining: 1.4s\n",
      "838:\tlearn: 1.0000000\ttest: 0.7878788\tbest: 0.8181818 (10)\ttotal: 7.24s\tremaining: 1.39s\n",
      "839:\tlearn: 1.0000000\ttest: 0.7878788\tbest: 0.8181818 (10)\ttotal: 7.25s\tremaining: 1.38s\n",
      "840:\tlearn: 1.0000000\ttest: 0.7878788\tbest: 0.8181818 (10)\ttotal: 7.26s\tremaining: 1.37s\n",
      "841:\tlearn: 1.0000000\ttest: 0.7878788\tbest: 0.8181818 (10)\ttotal: 7.27s\tremaining: 1.36s\n",
      "842:\tlearn: 1.0000000\ttest: 0.7878788\tbest: 0.8181818 (10)\ttotal: 7.28s\tremaining: 1.35s\n",
      "843:\tlearn: 1.0000000\ttest: 0.7878788\tbest: 0.8181818 (10)\ttotal: 7.29s\tremaining: 1.35s\n",
      "844:\tlearn: 1.0000000\ttest: 0.7878788\tbest: 0.8181818 (10)\ttotal: 7.29s\tremaining: 1.34s\n",
      "845:\tlearn: 1.0000000\ttest: 0.7878788\tbest: 0.8181818 (10)\ttotal: 7.3s\tremaining: 1.33s\n",
      "846:\tlearn: 1.0000000\ttest: 0.7878788\tbest: 0.8181818 (10)\ttotal: 7.31s\tremaining: 1.32s\n",
      "847:\tlearn: 1.0000000\ttest: 0.7878788\tbest: 0.8181818 (10)\ttotal: 7.32s\tremaining: 1.31s\n",
      "848:\tlearn: 1.0000000\ttest: 0.7878788\tbest: 0.8181818 (10)\ttotal: 7.33s\tremaining: 1.3s\n",
      "849:\tlearn: 1.0000000\ttest: 0.7878788\tbest: 0.8181818 (10)\ttotal: 7.34s\tremaining: 1.29s\n",
      "850:\tlearn: 1.0000000\ttest: 0.7878788\tbest: 0.8181818 (10)\ttotal: 7.35s\tremaining: 1.29s\n",
      "851:\tlearn: 1.0000000\ttest: 0.7878788\tbest: 0.8181818 (10)\ttotal: 7.36s\tremaining: 1.28s\n",
      "852:\tlearn: 1.0000000\ttest: 0.7878788\tbest: 0.8181818 (10)\ttotal: 7.37s\tremaining: 1.27s\n",
      "853:\tlearn: 1.0000000\ttest: 0.7878788\tbest: 0.8181818 (10)\ttotal: 7.38s\tremaining: 1.26s\n",
      "854:\tlearn: 1.0000000\ttest: 0.7878788\tbest: 0.8181818 (10)\ttotal: 7.39s\tremaining: 1.25s\n",
      "855:\tlearn: 1.0000000\ttest: 0.7878788\tbest: 0.8181818 (10)\ttotal: 7.4s\tremaining: 1.24s\n",
      "856:\tlearn: 1.0000000\ttest: 0.7878788\tbest: 0.8181818 (10)\ttotal: 7.4s\tremaining: 1.24s\n",
      "857:\tlearn: 1.0000000\ttest: 0.7878788\tbest: 0.8181818 (10)\ttotal: 7.41s\tremaining: 1.23s\n",
      "858:\tlearn: 1.0000000\ttest: 0.7878788\tbest: 0.8181818 (10)\ttotal: 7.42s\tremaining: 1.22s\n",
      "859:\tlearn: 1.0000000\ttest: 0.7878788\tbest: 0.8181818 (10)\ttotal: 7.43s\tremaining: 1.21s\n",
      "860:\tlearn: 1.0000000\ttest: 0.7878788\tbest: 0.8181818 (10)\ttotal: 7.44s\tremaining: 1.2s\n",
      "861:\tlearn: 1.0000000\ttest: 0.7878788\tbest: 0.8181818 (10)\ttotal: 7.45s\tremaining: 1.19s\n",
      "862:\tlearn: 1.0000000\ttest: 0.7878788\tbest: 0.8181818 (10)\ttotal: 7.46s\tremaining: 1.18s\n",
      "863:\tlearn: 1.0000000\ttest: 0.7878788\tbest: 0.8181818 (10)\ttotal: 7.46s\tremaining: 1.18s\n",
      "864:\tlearn: 1.0000000\ttest: 0.7878788\tbest: 0.8181818 (10)\ttotal: 7.47s\tremaining: 1.17s\n",
      "865:\tlearn: 1.0000000\ttest: 0.7878788\tbest: 0.8181818 (10)\ttotal: 7.48s\tremaining: 1.16s\n",
      "866:\tlearn: 1.0000000\ttest: 0.7878788\tbest: 0.8181818 (10)\ttotal: 7.49s\tremaining: 1.15s\n",
      "867:\tlearn: 1.0000000\ttest: 0.7878788\tbest: 0.8181818 (10)\ttotal: 7.5s\tremaining: 1.14s\n",
      "868:\tlearn: 1.0000000\ttest: 0.7878788\tbest: 0.8181818 (10)\ttotal: 7.51s\tremaining: 1.13s\n",
      "869:\tlearn: 1.0000000\ttest: 0.7878788\tbest: 0.8181818 (10)\ttotal: 7.52s\tremaining: 1.12s\n",
      "870:\tlearn: 1.0000000\ttest: 0.7878788\tbest: 0.8181818 (10)\ttotal: 7.53s\tremaining: 1.11s\n",
      "871:\tlearn: 1.0000000\ttest: 0.7878788\tbest: 0.8181818 (10)\ttotal: 7.54s\tremaining: 1.11s\n",
      "872:\tlearn: 1.0000000\ttest: 0.7878788\tbest: 0.8181818 (10)\ttotal: 7.54s\tremaining: 1.1s\n",
      "873:\tlearn: 1.0000000\ttest: 0.7878788\tbest: 0.8181818 (10)\ttotal: 7.55s\tremaining: 1.09s\n",
      "874:\tlearn: 1.0000000\ttest: 0.7878788\tbest: 0.8181818 (10)\ttotal: 7.56s\tremaining: 1.08s\n",
      "875:\tlearn: 1.0000000\ttest: 0.7878788\tbest: 0.8181818 (10)\ttotal: 7.57s\tremaining: 1.07s\n",
      "876:\tlearn: 1.0000000\ttest: 0.7878788\tbest: 0.8181818 (10)\ttotal: 7.58s\tremaining: 1.06s\n",
      "877:\tlearn: 1.0000000\ttest: 0.7878788\tbest: 0.8181818 (10)\ttotal: 7.59s\tremaining: 1.05s\n",
      "878:\tlearn: 1.0000000\ttest: 0.7878788\tbest: 0.8181818 (10)\ttotal: 7.6s\tremaining: 1.04s\n",
      "879:\tlearn: 1.0000000\ttest: 0.7878788\tbest: 0.8181818 (10)\ttotal: 7.61s\tremaining: 1.04s\n",
      "880:\tlearn: 1.0000000\ttest: 0.7878788\tbest: 0.8181818 (10)\ttotal: 7.61s\tremaining: 1.03s\n",
      "881:\tlearn: 1.0000000\ttest: 0.7878788\tbest: 0.8181818 (10)\ttotal: 7.62s\tremaining: 1.02s\n",
      "882:\tlearn: 1.0000000\ttest: 0.7878788\tbest: 0.8181818 (10)\ttotal: 7.63s\tremaining: 1.01s\n",
      "883:\tlearn: 1.0000000\ttest: 0.7878788\tbest: 0.8181818 (10)\ttotal: 7.64s\tremaining: 1s\n",
      "884:\tlearn: 1.0000000\ttest: 0.7878788\tbest: 0.8181818 (10)\ttotal: 7.65s\tremaining: 994ms\n",
      "885:\tlearn: 1.0000000\ttest: 0.7878788\tbest: 0.8181818 (10)\ttotal: 7.65s\tremaining: 984ms\n",
      "886:\tlearn: 1.0000000\ttest: 0.7878788\tbest: 0.8181818 (10)\ttotal: 7.66s\tremaining: 976ms\n",
      "887:\tlearn: 1.0000000\ttest: 0.7878788\tbest: 0.8181818 (10)\ttotal: 7.67s\tremaining: 967ms\n",
      "888:\tlearn: 1.0000000\ttest: 0.7878788\tbest: 0.8181818 (10)\ttotal: 7.68s\tremaining: 958ms\n",
      "889:\tlearn: 1.0000000\ttest: 0.7878788\tbest: 0.8181818 (10)\ttotal: 7.68s\tremaining: 950ms\n",
      "890:\tlearn: 1.0000000\ttest: 0.7878788\tbest: 0.8181818 (10)\ttotal: 7.69s\tremaining: 941ms\n",
      "891:\tlearn: 1.0000000\ttest: 0.7878788\tbest: 0.8181818 (10)\ttotal: 7.7s\tremaining: 932ms\n",
      "892:\tlearn: 1.0000000\ttest: 0.7878788\tbest: 0.8181818 (10)\ttotal: 7.71s\tremaining: 924ms\n",
      "893:\tlearn: 1.0000000\ttest: 0.7878788\tbest: 0.8181818 (10)\ttotal: 7.72s\tremaining: 916ms\n",
      "894:\tlearn: 1.0000000\ttest: 0.7878788\tbest: 0.8181818 (10)\ttotal: 7.73s\tremaining: 907ms\n",
      "895:\tlearn: 1.0000000\ttest: 0.7878788\tbest: 0.8181818 (10)\ttotal: 7.74s\tremaining: 898ms\n",
      "896:\tlearn: 1.0000000\ttest: 0.7878788\tbest: 0.8181818 (10)\ttotal: 7.75s\tremaining: 890ms\n",
      "897:\tlearn: 1.0000000\ttest: 0.7878788\tbest: 0.8181818 (10)\ttotal: 7.76s\tremaining: 881ms\n",
      "898:\tlearn: 1.0000000\ttest: 0.7878788\tbest: 0.8181818 (10)\ttotal: 7.77s\tremaining: 873ms\n",
      "899:\tlearn: 1.0000000\ttest: 0.7878788\tbest: 0.8181818 (10)\ttotal: 7.78s\tremaining: 865ms\n",
      "900:\tlearn: 1.0000000\ttest: 0.7878788\tbest: 0.8181818 (10)\ttotal: 7.79s\tremaining: 856ms\n",
      "901:\tlearn: 1.0000000\ttest: 0.7878788\tbest: 0.8181818 (10)\ttotal: 7.82s\tremaining: 849ms\n",
      "902:\tlearn: 1.0000000\ttest: 0.7878788\tbest: 0.8181818 (10)\ttotal: 7.83s\tremaining: 841ms\n",
      "903:\tlearn: 1.0000000\ttest: 0.7878788\tbest: 0.8181818 (10)\ttotal: 7.84s\tremaining: 833ms\n",
      "904:\tlearn: 1.0000000\ttest: 0.7878788\tbest: 0.8181818 (10)\ttotal: 7.85s\tremaining: 824ms\n",
      "905:\tlearn: 1.0000000\ttest: 0.7878788\tbest: 0.8181818 (10)\ttotal: 7.86s\tremaining: 816ms\n",
      "906:\tlearn: 1.0000000\ttest: 0.7878788\tbest: 0.8181818 (10)\ttotal: 7.87s\tremaining: 807ms\n",
      "907:\tlearn: 1.0000000\ttest: 0.7878788\tbest: 0.8181818 (10)\ttotal: 7.89s\tremaining: 799ms\n",
      "908:\tlearn: 1.0000000\ttest: 0.7878788\tbest: 0.8181818 (10)\ttotal: 7.89s\tremaining: 790ms\n",
      "909:\tlearn: 1.0000000\ttest: 0.7878788\tbest: 0.8181818 (10)\ttotal: 7.91s\tremaining: 782ms\n",
      "910:\tlearn: 1.0000000\ttest: 0.7878788\tbest: 0.8181818 (10)\ttotal: 7.92s\tremaining: 774ms\n",
      "911:\tlearn: 1.0000000\ttest: 0.7878788\tbest: 0.8181818 (10)\ttotal: 7.93s\tremaining: 765ms\n",
      "912:\tlearn: 1.0000000\ttest: 0.7878788\tbest: 0.8181818 (10)\ttotal: 7.94s\tremaining: 756ms\n",
      "913:\tlearn: 1.0000000\ttest: 0.7878788\tbest: 0.8181818 (10)\ttotal: 7.95s\tremaining: 748ms\n",
      "914:\tlearn: 1.0000000\ttest: 0.7878788\tbest: 0.8181818 (10)\ttotal: 7.96s\tremaining: 739ms\n",
      "915:\tlearn: 1.0000000\ttest: 0.7878788\tbest: 0.8181818 (10)\ttotal: 7.96s\tremaining: 730ms\n",
      "916:\tlearn: 1.0000000\ttest: 0.7878788\tbest: 0.8181818 (10)\ttotal: 7.97s\tremaining: 722ms\n",
      "917:\tlearn: 1.0000000\ttest: 0.7878788\tbest: 0.8181818 (10)\ttotal: 7.98s\tremaining: 713ms\n",
      "918:\tlearn: 1.0000000\ttest: 0.7878788\tbest: 0.8181818 (10)\ttotal: 7.99s\tremaining: 705ms\n",
      "919:\tlearn: 1.0000000\ttest: 0.7878788\tbest: 0.8181818 (10)\ttotal: 8.01s\tremaining: 696ms\n",
      "920:\tlearn: 1.0000000\ttest: 0.7878788\tbest: 0.8181818 (10)\ttotal: 8.02s\tremaining: 688ms\n",
      "921:\tlearn: 1.0000000\ttest: 0.7878788\tbest: 0.8181818 (10)\ttotal: 8.02s\tremaining: 679ms\n",
      "922:\tlearn: 1.0000000\ttest: 0.7878788\tbest: 0.8181818 (10)\ttotal: 8.03s\tremaining: 670ms\n",
      "923:\tlearn: 1.0000000\ttest: 0.7878788\tbest: 0.8181818 (10)\ttotal: 8.04s\tremaining: 662ms\n",
      "924:\tlearn: 1.0000000\ttest: 0.7878788\tbest: 0.8181818 (10)\ttotal: 8.05s\tremaining: 653ms\n",
      "925:\tlearn: 1.0000000\ttest: 0.7878788\tbest: 0.8181818 (10)\ttotal: 8.05s\tremaining: 644ms\n",
      "926:\tlearn: 1.0000000\ttest: 0.7878788\tbest: 0.8181818 (10)\ttotal: 8.06s\tremaining: 635ms\n",
      "927:\tlearn: 1.0000000\ttest: 0.7878788\tbest: 0.8181818 (10)\ttotal: 8.07s\tremaining: 626ms\n",
      "928:\tlearn: 1.0000000\ttest: 0.7878788\tbest: 0.8181818 (10)\ttotal: 8.08s\tremaining: 618ms\n",
      "929:\tlearn: 1.0000000\ttest: 0.7878788\tbest: 0.8181818 (10)\ttotal: 8.09s\tremaining: 609ms\n",
      "930:\tlearn: 1.0000000\ttest: 0.7878788\tbest: 0.8181818 (10)\ttotal: 8.1s\tremaining: 600ms\n",
      "931:\tlearn: 1.0000000\ttest: 0.7878788\tbest: 0.8181818 (10)\ttotal: 8.11s\tremaining: 592ms\n",
      "932:\tlearn: 1.0000000\ttest: 0.7878788\tbest: 0.8181818 (10)\ttotal: 8.12s\tremaining: 583ms\n",
      "933:\tlearn: 1.0000000\ttest: 0.7878788\tbest: 0.8181818 (10)\ttotal: 8.12s\tremaining: 574ms\n",
      "934:\tlearn: 1.0000000\ttest: 0.7878788\tbest: 0.8181818 (10)\ttotal: 8.13s\tremaining: 565ms\n",
      "935:\tlearn: 1.0000000\ttest: 0.7878788\tbest: 0.8181818 (10)\ttotal: 8.14s\tremaining: 556ms\n",
      "936:\tlearn: 1.0000000\ttest: 0.7878788\tbest: 0.8181818 (10)\ttotal: 8.15s\tremaining: 548ms\n",
      "937:\tlearn: 1.0000000\ttest: 0.7878788\tbest: 0.8181818 (10)\ttotal: 8.15s\tremaining: 539ms\n",
      "938:\tlearn: 1.0000000\ttest: 0.7878788\tbest: 0.8181818 (10)\ttotal: 8.16s\tremaining: 530ms\n",
      "939:\tlearn: 1.0000000\ttest: 0.7878788\tbest: 0.8181818 (10)\ttotal: 8.17s\tremaining: 522ms\n",
      "940:\tlearn: 1.0000000\ttest: 0.7878788\tbest: 0.8181818 (10)\ttotal: 8.18s\tremaining: 513ms\n",
      "941:\tlearn: 1.0000000\ttest: 0.7878788\tbest: 0.8181818 (10)\ttotal: 8.19s\tremaining: 504ms\n",
      "942:\tlearn: 1.0000000\ttest: 0.7878788\tbest: 0.8181818 (10)\ttotal: 8.2s\tremaining: 496ms\n",
      "943:\tlearn: 1.0000000\ttest: 0.7878788\tbest: 0.8181818 (10)\ttotal: 8.21s\tremaining: 487ms\n",
      "944:\tlearn: 1.0000000\ttest: 0.7878788\tbest: 0.8181818 (10)\ttotal: 8.21s\tremaining: 478ms\n",
      "945:\tlearn: 1.0000000\ttest: 0.7878788\tbest: 0.8181818 (10)\ttotal: 8.22s\tremaining: 469ms\n",
      "946:\tlearn: 1.0000000\ttest: 0.7878788\tbest: 0.8181818 (10)\ttotal: 8.23s\tremaining: 461ms\n",
      "947:\tlearn: 1.0000000\ttest: 0.7878788\tbest: 0.8181818 (10)\ttotal: 8.24s\tremaining: 452ms\n",
      "948:\tlearn: 1.0000000\ttest: 0.7878788\tbest: 0.8181818 (10)\ttotal: 8.25s\tremaining: 443ms\n",
      "949:\tlearn: 1.0000000\ttest: 0.7878788\tbest: 0.8181818 (10)\ttotal: 8.25s\tremaining: 434ms\n",
      "950:\tlearn: 1.0000000\ttest: 0.7878788\tbest: 0.8181818 (10)\ttotal: 8.26s\tremaining: 426ms\n",
      "951:\tlearn: 1.0000000\ttest: 0.7878788\tbest: 0.8181818 (10)\ttotal: 8.27s\tremaining: 417ms\n",
      "952:\tlearn: 1.0000000\ttest: 0.7878788\tbest: 0.8181818 (10)\ttotal: 8.28s\tremaining: 408ms\n",
      "953:\tlearn: 1.0000000\ttest: 0.7878788\tbest: 0.8181818 (10)\ttotal: 8.29s\tremaining: 400ms\n",
      "954:\tlearn: 1.0000000\ttest: 0.7878788\tbest: 0.8181818 (10)\ttotal: 8.29s\tremaining: 391ms\n",
      "955:\tlearn: 1.0000000\ttest: 0.7878788\tbest: 0.8181818 (10)\ttotal: 8.3s\tremaining: 382ms\n",
      "956:\tlearn: 1.0000000\ttest: 0.7878788\tbest: 0.8181818 (10)\ttotal: 8.31s\tremaining: 373ms\n",
      "957:\tlearn: 1.0000000\ttest: 0.7878788\tbest: 0.8181818 (10)\ttotal: 8.31s\tremaining: 365ms\n",
      "958:\tlearn: 1.0000000\ttest: 0.7878788\tbest: 0.8181818 (10)\ttotal: 8.32s\tremaining: 356ms\n",
      "959:\tlearn: 1.0000000\ttest: 0.7878788\tbest: 0.8181818 (10)\ttotal: 8.33s\tremaining: 347ms\n",
      "960:\tlearn: 1.0000000\ttest: 0.7878788\tbest: 0.8181818 (10)\ttotal: 8.34s\tremaining: 338ms\n",
      "961:\tlearn: 1.0000000\ttest: 0.7878788\tbest: 0.8181818 (10)\ttotal: 8.35s\tremaining: 330ms\n",
      "962:\tlearn: 1.0000000\ttest: 0.7878788\tbest: 0.8181818 (10)\ttotal: 8.36s\tremaining: 321ms\n",
      "963:\tlearn: 1.0000000\ttest: 0.7878788\tbest: 0.8181818 (10)\ttotal: 8.36s\tremaining: 312ms\n",
      "964:\tlearn: 1.0000000\ttest: 0.7878788\tbest: 0.8181818 (10)\ttotal: 8.37s\tremaining: 304ms\n",
      "965:\tlearn: 1.0000000\ttest: 0.7878788\tbest: 0.8181818 (10)\ttotal: 8.38s\tremaining: 295ms\n",
      "966:\tlearn: 1.0000000\ttest: 0.7878788\tbest: 0.8181818 (10)\ttotal: 8.39s\tremaining: 286ms\n",
      "967:\tlearn: 1.0000000\ttest: 0.7878788\tbest: 0.8181818 (10)\ttotal: 8.4s\tremaining: 278ms\n",
      "968:\tlearn: 1.0000000\ttest: 0.7878788\tbest: 0.8181818 (10)\ttotal: 8.41s\tremaining: 269ms\n",
      "969:\tlearn: 1.0000000\ttest: 0.7878788\tbest: 0.8181818 (10)\ttotal: 8.42s\tremaining: 260ms\n",
      "970:\tlearn: 1.0000000\ttest: 0.7878788\tbest: 0.8181818 (10)\ttotal: 8.43s\tremaining: 252ms\n",
      "971:\tlearn: 1.0000000\ttest: 0.7878788\tbest: 0.8181818 (10)\ttotal: 8.44s\tremaining: 243ms\n",
      "972:\tlearn: 1.0000000\ttest: 0.7878788\tbest: 0.8181818 (10)\ttotal: 8.44s\tremaining: 234ms\n",
      "973:\tlearn: 1.0000000\ttest: 0.7878788\tbest: 0.8181818 (10)\ttotal: 8.45s\tremaining: 226ms\n",
      "974:\tlearn: 1.0000000\ttest: 0.7878788\tbest: 0.8181818 (10)\ttotal: 8.46s\tremaining: 217ms\n",
      "975:\tlearn: 1.0000000\ttest: 0.7878788\tbest: 0.8181818 (10)\ttotal: 8.46s\tremaining: 208ms\n",
      "976:\tlearn: 1.0000000\ttest: 0.7878788\tbest: 0.8181818 (10)\ttotal: 8.47s\tremaining: 199ms\n",
      "977:\tlearn: 1.0000000\ttest: 0.7878788\tbest: 0.8181818 (10)\ttotal: 8.48s\tremaining: 191ms\n",
      "978:\tlearn: 1.0000000\ttest: 0.7878788\tbest: 0.8181818 (10)\ttotal: 8.49s\tremaining: 182ms\n",
      "979:\tlearn: 1.0000000\ttest: 0.7878788\tbest: 0.8181818 (10)\ttotal: 8.5s\tremaining: 174ms\n",
      "980:\tlearn: 1.0000000\ttest: 0.7878788\tbest: 0.8181818 (10)\ttotal: 8.53s\tremaining: 165ms\n",
      "981:\tlearn: 1.0000000\ttest: 0.7878788\tbest: 0.8181818 (10)\ttotal: 8.54s\tremaining: 157ms\n",
      "982:\tlearn: 1.0000000\ttest: 0.7878788\tbest: 0.8181818 (10)\ttotal: 8.55s\tremaining: 148ms\n",
      "983:\tlearn: 1.0000000\ttest: 0.7878788\tbest: 0.8181818 (10)\ttotal: 8.56s\tremaining: 139ms\n",
      "984:\tlearn: 1.0000000\ttest: 0.7878788\tbest: 0.8181818 (10)\ttotal: 8.57s\tremaining: 131ms\n",
      "985:\tlearn: 1.0000000\ttest: 0.7878788\tbest: 0.8181818 (10)\ttotal: 8.58s\tremaining: 122ms\n",
      "986:\tlearn: 1.0000000\ttest: 0.7878788\tbest: 0.8181818 (10)\ttotal: 8.59s\tremaining: 113ms\n",
      "987:\tlearn: 1.0000000\ttest: 0.7878788\tbest: 0.8181818 (10)\ttotal: 8.6s\tremaining: 104ms\n",
      "988:\tlearn: 1.0000000\ttest: 0.7878788\tbest: 0.8181818 (10)\ttotal: 8.61s\tremaining: 95.7ms\n",
      "989:\tlearn: 1.0000000\ttest: 0.7878788\tbest: 0.8181818 (10)\ttotal: 8.61s\tremaining: 87ms\n",
      "990:\tlearn: 1.0000000\ttest: 0.7878788\tbest: 0.8181818 (10)\ttotal: 8.63s\tremaining: 78.3ms\n",
      "991:\tlearn: 1.0000000\ttest: 0.7878788\tbest: 0.8181818 (10)\ttotal: 8.63s\tremaining: 69.6ms\n",
      "992:\tlearn: 1.0000000\ttest: 0.7878788\tbest: 0.8181818 (10)\ttotal: 8.64s\tremaining: 60.9ms\n",
      "993:\tlearn: 1.0000000\ttest: 0.7878788\tbest: 0.8181818 (10)\ttotal: 8.65s\tremaining: 52.2ms\n",
      "994:\tlearn: 1.0000000\ttest: 0.7878788\tbest: 0.8181818 (10)\ttotal: 8.66s\tremaining: 43.5ms\n",
      "995:\tlearn: 1.0000000\ttest: 0.7878788\tbest: 0.8181818 (10)\ttotal: 8.66s\tremaining: 34.8ms\n",
      "996:\tlearn: 1.0000000\ttest: 0.7878788\tbest: 0.8181818 (10)\ttotal: 8.67s\tremaining: 26.1ms\n",
      "997:\tlearn: 1.0000000\ttest: 0.7878788\tbest: 0.8181818 (10)\ttotal: 8.68s\tremaining: 17.4ms\n",
      "998:\tlearn: 1.0000000\ttest: 0.7878788\tbest: 0.8181818 (10)\ttotal: 8.69s\tremaining: 8.69ms\n",
      "999:\tlearn: 1.0000000\ttest: 0.7878788\tbest: 0.8181818 (10)\ttotal: 8.69s\tremaining: 0us\n",
      "\n",
      "bestTest = 0.8181818182\n",
      "bestIteration = 10\n",
      "\n",
      "Shrink model to first 11 iterations.\n"
     ]
    },
    {
     "data": {
      "text/plain": [
       "{'learn': {'Accuracy': 1.0, 'MultiClass': 0.1894984154625019},\n",
       " 'validation': {'Accuracy': 0.8181818181818182,\n",
       "  'MultiClass': 0.5910064700669249}}"
      ]
     },
     "execution_count": 32,
     "metadata": {},
     "output_type": "execute_result"
    }
   ],
   "source": [
    "model_cat = CatBoostClassifier(eval_metric='Accuracy', depth=11, learning_rate=0.01, iterations=1000)\n",
    "model_cat.fit(X_train, y_train, eval_set=(X_valid, y_valid))\n",
    "model_cat.get_best_score()"
   ]
  },
  {
   "cell_type": "code",
   "execution_count": 35,
   "metadata": {},
   "outputs": [],
   "source": [
    "preds = model_cat.predict(X_valid)"
   ]
  },
  {
   "cell_type": "code",
   "execution_count": 36,
   "metadata": {},
   "outputs": [
    {
     "data": {
      "text/plain": [
       "0.7391774891774892"
      ]
     },
     "execution_count": 36,
     "metadata": {},
     "output_type": "execute_result"
    }
   ],
   "source": [
    "balanced_accuracy_score(y_valid, preds.flatten())"
   ]
  },
  {
   "attachments": {},
   "cell_type": "markdown",
   "metadata": {},
   "source": [
    "Сделаем предсказание для тестовой выборки"
   ]
  },
  {
   "cell_type": "code",
   "execution_count": 95,
   "metadata": {},
   "outputs": [],
   "source": [
    "preds = model_cat.predict(X_test)"
   ]
  },
  {
   "cell_type": "code",
   "execution_count": 98,
   "metadata": {},
   "outputs": [
    {
     "data": {
      "text/plain": [
       "array(['B2', 'B2', 'B2', 'B2', 'B2', 'B2', 'B2', 'B2', 'B2', 'A2', 'B2',\n",
       "       'B2', 'B2', 'A2', 'B2', 'B2', 'B2', 'B2', 'B2', 'B2', 'B2', 'B2',\n",
       "       'B2', 'C1', 'B2', 'B2', 'A2', 'B2', 'B2', 'B2', 'B2', 'B2', 'B2',\n",
       "       'B2', 'A2', 'B2', 'B2', 'B2', 'B2', 'C1', 'A2', 'B2', 'B2', 'B2',\n",
       "       'B2', 'A2', 'B2', 'B2', 'B2', 'B2', 'B2', 'B2', 'B2', 'B2', 'B2',\n",
       "       'B2', 'B2', 'B2', 'B2', 'C1', 'B2', 'B2', 'B2', 'B2', 'C1', 'B2',\n",
       "       'B2', 'A2', 'A2', 'B2', 'B2', 'A2', 'A2', 'B2', 'A2', 'B2', 'B2',\n",
       "       'B2', 'B2', 'C1', 'B2', 'A2', 'B2', 'B2', 'C1', 'A2', 'B2', 'B2',\n",
       "       'B2', 'A2', 'C1', 'B2', 'A2', 'B1', 'B2', 'C1', 'B2', 'C1', 'A2',\n",
       "       'B2', 'A2', 'B2', 'B2', 'B2', 'B2', 'B2', 'B2', 'B2', 'B2', 'B2',\n",
       "       'B2', 'B2', 'B2', 'B2', 'B2'], dtype='<U2')"
      ]
     },
     "execution_count": 98,
     "metadata": {},
     "output_type": "execute_result"
    }
   ],
   "source": [
    "le.inverse_transform(preds.flatten())"
   ]
  },
  {
   "cell_type": "code",
   "execution_count": null,
   "metadata": {},
   "outputs": [],
   "source": []
  }
 ],
 "metadata": {
  "ExecuteTimeLog": [
   {
    "duration": 346,
    "start_time": "2022-12-10T02:16:11.568Z"
   },
   {
    "duration": 95,
    "start_time": "2022-12-10T02:16:21.047Z"
   },
   {
    "duration": 21,
    "start_time": "2022-12-10T02:16:33.047Z"
   },
   {
    "duration": 13,
    "start_time": "2022-12-10T02:17:09.013Z"
   },
   {
    "duration": 4,
    "start_time": "2022-12-10T02:37:55.219Z"
   },
   {
    "duration": 13,
    "start_time": "2022-12-10T02:38:04.331Z"
   },
   {
    "duration": 13,
    "start_time": "2022-12-10T02:39:18.595Z"
   },
   {
    "duration": 11,
    "start_time": "2022-12-10T02:39:49.779Z"
   },
   {
    "duration": 5,
    "start_time": "2022-12-10T02:46:06.701Z"
   },
   {
    "duration": 5,
    "start_time": "2022-12-10T02:47:23.866Z"
   },
   {
    "duration": 5,
    "start_time": "2022-12-10T02:47:34.579Z"
   },
   {
    "duration": 85,
    "start_time": "2022-12-10T02:50:33.327Z"
   },
   {
    "duration": 17,
    "start_time": "2022-12-10T02:50:51.994Z"
   },
   {
    "duration": 4,
    "start_time": "2022-12-10T02:55:11.389Z"
   },
   {
    "duration": 11,
    "start_time": "2022-12-10T02:55:12.170Z"
   },
   {
    "duration": 5,
    "start_time": "2022-12-10T02:55:14.203Z"
   },
   {
    "duration": 5,
    "start_time": "2022-12-10T02:55:15.512Z"
   },
   {
    "duration": 3,
    "start_time": "2022-12-10T02:55:15.987Z"
   },
   {
    "duration": 4,
    "start_time": "2022-12-10T02:55:16.622Z"
   },
   {
    "duration": 5,
    "start_time": "2022-12-10T02:56:08.144Z"
   },
   {
    "duration": 4,
    "start_time": "2022-12-10T02:56:21.794Z"
   },
   {
    "duration": 4,
    "start_time": "2022-12-10T02:56:48.870Z"
   },
   {
    "duration": 7,
    "start_time": "2022-12-10T02:56:55.731Z"
   },
   {
    "duration": 4,
    "start_time": "2022-12-10T02:57:01.865Z"
   },
   {
    "duration": 7,
    "start_time": "2022-12-10T02:57:02.478Z"
   },
   {
    "duration": 5,
    "start_time": "2022-12-10T02:57:41.187Z"
   },
   {
    "duration": 5,
    "start_time": "2022-12-10T02:57:41.831Z"
   },
   {
    "duration": 4,
    "start_time": "2022-12-10T02:58:08.034Z"
   },
   {
    "duration": 6,
    "start_time": "2022-12-10T02:58:08.551Z"
   },
   {
    "duration": 4,
    "start_time": "2022-12-10T02:58:15.065Z"
   },
   {
    "duration": 5,
    "start_time": "2022-12-10T02:58:15.893Z"
   },
   {
    "duration": 4,
    "start_time": "2022-12-10T02:58:20.570Z"
   },
   {
    "duration": 4,
    "start_time": "2022-12-10T02:58:20.910Z"
   },
   {
    "duration": 4,
    "start_time": "2022-12-10T02:58:36.766Z"
   },
   {
    "duration": 5,
    "start_time": "2022-12-10T02:58:37.294Z"
   },
   {
    "duration": 4,
    "start_time": "2022-12-10T03:00:01.074Z"
   },
   {
    "duration": 5,
    "start_time": "2022-12-10T03:00:01.306Z"
   },
   {
    "duration": 4,
    "start_time": "2022-12-10T03:00:34.527Z"
   },
   {
    "duration": 6,
    "start_time": "2022-12-10T03:00:34.911Z"
   },
   {
    "duration": 5,
    "start_time": "2022-12-10T03:00:41.085Z"
   },
   {
    "duration": 69,
    "start_time": "2022-12-10T03:01:09.170Z"
   },
   {
    "duration": 22,
    "start_time": "2022-12-10T03:01:18.898Z"
   },
   {
    "duration": 4,
    "start_time": "2022-12-10T03:02:21.130Z"
   },
   {
    "duration": 8,
    "start_time": "2022-12-10T03:02:21.512Z"
   },
   {
    "duration": 4,
    "start_time": "2022-12-10T03:03:43.691Z"
   },
   {
    "duration": 9,
    "start_time": "2022-12-10T03:03:44.042Z"
   },
   {
    "duration": 4,
    "start_time": "2022-12-10T03:03:47.224Z"
   },
   {
    "duration": 8,
    "start_time": "2022-12-10T03:03:47.522Z"
   },
   {
    "duration": 4,
    "start_time": "2022-12-10T03:03:50.755Z"
   },
   {
    "duration": 13,
    "start_time": "2022-12-10T03:03:51.097Z"
   },
   {
    "duration": 4,
    "start_time": "2022-12-10T03:04:41.052Z"
   },
   {
    "duration": 9,
    "start_time": "2022-12-10T03:04:41.469Z"
   },
   {
    "duration": 6,
    "start_time": "2022-12-10T03:04:52.605Z"
   },
   {
    "duration": 5,
    "start_time": "2022-12-10T03:05:05.970Z"
   },
   {
    "duration": 4,
    "start_time": "2022-12-10T03:05:07.203Z"
   },
   {
    "duration": 4,
    "start_time": "2022-12-10T03:05:07.788Z"
   },
   {
    "duration": 4,
    "start_time": "2022-12-10T03:05:08.370Z"
   },
   {
    "duration": 5,
    "start_time": "2022-12-10T03:05:08.799Z"
   },
   {
    "duration": 9,
    "start_time": "2022-12-10T03:34:56.003Z"
   },
   {
    "duration": 12,
    "start_time": "2022-12-10T03:35:33.523Z"
   },
   {
    "duration": 11,
    "start_time": "2022-12-10T03:36:10.281Z"
   },
   {
    "duration": 12,
    "start_time": "2022-12-10T03:36:23.805Z"
   },
   {
    "duration": 20,
    "start_time": "2022-12-10T03:36:36.468Z"
   },
   {
    "duration": 44,
    "start_time": "2022-12-10T03:37:26.529Z"
   },
   {
    "duration": 20,
    "start_time": "2022-12-10T03:53:18.743Z"
   },
   {
    "duration": 5,
    "start_time": "2022-12-10T04:02:20.688Z"
   },
   {
    "duration": 7,
    "start_time": "2022-12-10T04:03:10.142Z"
   },
   {
    "duration": 677,
    "start_time": "2022-12-10T04:03:33.376Z"
   },
   {
    "duration": 7,
    "start_time": "2022-12-10T04:03:39.301Z"
   },
   {
    "duration": 7,
    "start_time": "2022-12-10T04:04:06.362Z"
   },
   {
    "duration": 5,
    "start_time": "2022-12-10T04:06:17.710Z"
   },
   {
    "duration": 7,
    "start_time": "2022-12-10T04:08:42.095Z"
   },
   {
    "duration": 5,
    "start_time": "2022-12-10T05:40:41.732Z"
   },
   {
    "duration": 5,
    "start_time": "2022-12-10T05:41:06.461Z"
   },
   {
    "duration": 50,
    "start_time": "2022-12-10T05:43:08.586Z"
   },
   {
    "duration": 7,
    "start_time": "2022-12-10T05:43:18.669Z"
   },
   {
    "duration": 42,
    "start_time": "2022-12-10T05:49:02.803Z"
   },
   {
    "duration": 27,
    "start_time": "2022-12-10T08:48:57.054Z"
   },
   {
    "duration": 27,
    "start_time": "2022-12-10T08:49:57.440Z"
   },
   {
    "duration": 2,
    "start_time": "2022-12-10T08:58:58.967Z"
   },
   {
    "duration": 39,
    "start_time": "2022-12-10T09:03:21.906Z"
   },
   {
    "duration": 728,
    "start_time": "2022-12-10T09:03:37.570Z"
   },
   {
    "duration": 745,
    "start_time": "2022-12-10T09:04:10.464Z"
   },
   {
    "duration": 13,
    "start_time": "2022-12-10T09:04:30.619Z"
   },
   {
    "duration": 12,
    "start_time": "2022-12-10T09:05:13.471Z"
   },
   {
    "duration": 20,
    "start_time": "2022-12-10T09:05:30.390Z"
   },
   {
    "duration": 3,
    "start_time": "2022-12-10T09:06:12.711Z"
   },
   {
    "duration": 40,
    "start_time": "2022-12-10T09:06:13.275Z"
   },
   {
    "duration": 14,
    "start_time": "2022-12-10T09:06:13.535Z"
   },
   {
    "duration": 13,
    "start_time": "2022-12-10T09:06:13.753Z"
   },
   {
    "duration": 5,
    "start_time": "2022-12-10T09:06:14.238Z"
   },
   {
    "duration": 12,
    "start_time": "2022-12-10T09:06:14.463Z"
   },
   {
    "duration": 4,
    "start_time": "2022-12-10T09:06:15.119Z"
   },
   {
    "duration": 12,
    "start_time": "2022-12-10T09:06:15.349Z"
   },
   {
    "duration": 4,
    "start_time": "2022-12-10T09:06:17.206Z"
   },
   {
    "duration": 4,
    "start_time": "2022-12-10T09:06:17.936Z"
   },
   {
    "duration": 4,
    "start_time": "2022-12-10T09:06:18.258Z"
   },
   {
    "duration": 4,
    "start_time": "2022-12-10T09:06:19.733Z"
   },
   {
    "duration": 6,
    "start_time": "2022-12-10T09:06:20.134Z"
   },
   {
    "duration": 4,
    "start_time": "2022-12-10T09:06:21.168Z"
   },
   {
    "duration": 21,
    "start_time": "2022-12-10T09:06:23.300Z"
   },
   {
    "duration": 22,
    "start_time": "2022-12-10T09:06:24.605Z"
   },
   {
    "duration": 42,
    "start_time": "2022-12-10T09:06:25.271Z"
   },
   {
    "duration": 11,
    "start_time": "2022-12-10T09:06:25.753Z"
   },
   {
    "duration": 12,
    "start_time": "2022-12-10T09:06:33.172Z"
   },
   {
    "duration": 17,
    "start_time": "2022-12-10T09:06:34.805Z"
   },
   {
    "duration": 8,
    "start_time": "2022-12-10T09:07:47.444Z"
   },
   {
    "duration": 6,
    "start_time": "2022-12-10T09:07:48.812Z"
   },
   {
    "duration": 12,
    "start_time": "2022-12-10T09:07:50.521Z"
   },
   {
    "duration": 32,
    "start_time": "2022-12-10T09:07:51.091Z"
   },
   {
    "duration": 10,
    "start_time": "2022-12-10T09:22:32.075Z"
   },
   {
    "duration": 47,
    "start_time": "2022-12-10T09:22:54.684Z"
   },
   {
    "duration": 290,
    "start_time": "2022-12-10T09:25:00.949Z"
   },
   {
    "duration": 180,
    "start_time": "2022-12-10T09:25:01.302Z"
   },
   {
    "duration": 122,
    "start_time": "2022-12-10T09:25:01.689Z"
   },
   {
    "duration": 3,
    "start_time": "2022-12-10T09:26:35.040Z"
   },
   {
    "duration": 40,
    "start_time": "2022-12-10T09:26:35.868Z"
   },
   {
    "duration": 14,
    "start_time": "2022-12-10T09:26:36.381Z"
   },
   {
    "duration": 14,
    "start_time": "2022-12-10T09:26:36.784Z"
   },
   {
    "duration": 6,
    "start_time": "2022-12-10T09:26:37.554Z"
   },
   {
    "duration": 12,
    "start_time": "2022-12-10T09:26:37.911Z"
   },
   {
    "duration": 4,
    "start_time": "2022-12-10T09:26:38.971Z"
   },
   {
    "duration": 11,
    "start_time": "2022-12-10T09:26:39.319Z"
   },
   {
    "duration": 5,
    "start_time": "2022-12-10T09:26:40.319Z"
   },
   {
    "duration": 4,
    "start_time": "2022-12-10T09:26:41.016Z"
   },
   {
    "duration": 5,
    "start_time": "2022-12-10T09:26:41.346Z"
   },
   {
    "duration": 5,
    "start_time": "2022-12-10T09:26:41.651Z"
   },
   {
    "duration": 6,
    "start_time": "2022-12-10T09:26:41.995Z"
   },
   {
    "duration": 4,
    "start_time": "2022-12-10T09:26:42.645Z"
   },
   {
    "duration": 8,
    "start_time": "2022-12-10T09:26:43.821Z"
   },
   {
    "duration": 10,
    "start_time": "2022-12-10T09:26:44.067Z"
   },
   {
    "duration": 12,
    "start_time": "2022-12-10T09:26:44.603Z"
   },
   {
    "duration": 18,
    "start_time": "2022-12-10T09:26:44.843Z"
   },
   {
    "duration": 5,
    "start_time": "2022-12-10T09:26:45.555Z"
   },
   {
    "duration": 7,
    "start_time": "2022-12-10T09:26:45.786Z"
   },
   {
    "duration": 6,
    "start_time": "2022-12-10T09:26:46.064Z"
   },
   {
    "duration": 6,
    "start_time": "2022-12-10T09:26:46.348Z"
   },
   {
    "duration": 7,
    "start_time": "2022-12-10T09:26:47.671Z"
   },
   {
    "duration": 1174,
    "start_time": "2022-12-10T09:26:49.410Z"
   },
   {
    "duration": 2760,
    "start_time": "2022-12-10T09:26:50.841Z"
   },
   {
    "duration": 55528,
    "start_time": "2022-12-10T09:26:53.602Z"
   },
   {
    "duration": 14292,
    "start_time": "2022-12-10T09:29:43.925Z"
   },
   {
    "duration": 18125,
    "start_time": "2022-12-10T09:30:35.897Z"
   },
   {
    "duration": 13364,
    "start_time": "2022-12-10T09:31:55.156Z"
   },
   {
    "duration": 22550,
    "start_time": "2022-12-10T09:32:40.471Z"
   },
   {
    "duration": 13,
    "start_time": "2022-12-10T09:44:39.266Z"
   },
   {
    "duration": 2767,
    "start_time": "2022-12-10T09:44:39.610Z"
   },
   {
    "duration": 0,
    "start_time": "2022-12-10T09:44:42.379Z"
   },
   {
    "duration": 3,
    "start_time": "2022-12-10T09:47:09.092Z"
   },
   {
    "duration": 40,
    "start_time": "2022-12-10T09:47:10.616Z"
   },
   {
    "duration": 15,
    "start_time": "2022-12-10T09:47:11.580Z"
   },
   {
    "duration": 14,
    "start_time": "2022-12-10T09:47:12.065Z"
   },
   {
    "duration": 4,
    "start_time": "2022-12-10T09:47:13.070Z"
   },
   {
    "duration": 12,
    "start_time": "2022-12-10T09:47:13.568Z"
   },
   {
    "duration": 3,
    "start_time": "2022-12-10T09:47:14.875Z"
   },
   {
    "duration": 12,
    "start_time": "2022-12-10T09:47:15.320Z"
   },
   {
    "duration": 6,
    "start_time": "2022-12-10T09:47:16.727Z"
   },
   {
    "duration": 5,
    "start_time": "2022-12-10T09:47:17.271Z"
   },
   {
    "duration": 5,
    "start_time": "2022-12-10T09:47:17.511Z"
   },
   {
    "duration": 4,
    "start_time": "2022-12-10T09:47:17.725Z"
   },
   {
    "duration": 6,
    "start_time": "2022-12-10T09:47:17.957Z"
   },
   {
    "duration": 4,
    "start_time": "2022-12-10T09:47:18.403Z"
   },
   {
    "duration": 6,
    "start_time": "2022-12-10T09:47:19.307Z"
   },
   {
    "duration": 6,
    "start_time": "2022-12-10T09:47:19.519Z"
   },
   {
    "duration": 11,
    "start_time": "2022-12-10T09:47:19.969Z"
   },
   {
    "duration": 20,
    "start_time": "2022-12-10T09:47:20.211Z"
   },
   {
    "duration": 4,
    "start_time": "2022-12-10T09:47:20.881Z"
   },
   {
    "duration": 5,
    "start_time": "2022-12-10T09:47:21.080Z"
   },
   {
    "duration": 6,
    "start_time": "2022-12-10T09:47:21.314Z"
   },
   {
    "duration": 6,
    "start_time": "2022-12-10T09:47:21.683Z"
   },
   {
    "duration": 5,
    "start_time": "2022-12-10T09:47:22.328Z"
   },
   {
    "duration": 1140,
    "start_time": "2022-12-10T09:47:23.024Z"
   },
   {
    "duration": 2721,
    "start_time": "2022-12-10T09:47:24.165Z"
   },
   {
    "duration": 21130,
    "start_time": "2022-12-10T09:47:26.887Z"
   },
   {
    "duration": 1183,
    "start_time": "2022-12-10T09:48:51.157Z"
   },
   {
    "duration": 2788,
    "start_time": "2022-12-10T09:48:52.341Z"
   },
   {
    "duration": 23292,
    "start_time": "2022-12-10T09:48:55.131Z"
   },
   {
    "duration": 2682,
    "start_time": "2022-12-10T09:58:48.056Z"
   },
   {
    "duration": 1157,
    "start_time": "2022-12-10T09:58:50.739Z"
   },
   {
    "duration": 22692,
    "start_time": "2022-12-10T09:58:52.350Z"
   },
   {
    "duration": 30972,
    "start_time": "2022-12-10T10:00:02.844Z"
   },
   {
    "duration": 6,
    "start_time": "2022-12-10T10:01:37.507Z"
   },
   {
    "duration": 1206,
    "start_time": "2022-12-10T10:03:22.222Z"
   },
   {
    "duration": 2751,
    "start_time": "2022-12-10T10:03:23.430Z"
   },
   {
    "duration": 31433,
    "start_time": "2022-12-10T10:03:26.183Z"
   },
   {
    "duration": 4,
    "start_time": "2022-12-10T10:04:11.412Z"
   },
   {
    "duration": 5,
    "start_time": "2022-12-10T10:05:25.362Z"
   },
   {
    "duration": 33061,
    "start_time": "2022-12-10T10:05:37.857Z"
   },
   {
    "duration": 9,
    "start_time": "2022-12-10T10:28:57.058Z"
   },
   {
    "duration": 4,
    "start_time": "2022-12-10T10:29:06.829Z"
   },
   {
    "duration": 16,
    "start_time": "2022-12-10T10:30:41.616Z"
   },
   {
    "duration": 4,
    "start_time": "2022-12-10T10:31:29.468Z"
   },
   {
    "duration": 36785,
    "start_time": "2022-12-10T10:31:36.839Z"
   },
   {
    "duration": 93,
    "start_time": "2022-12-10T10:32:13.627Z"
   },
   {
    "duration": 106,
    "start_time": "2022-12-10T10:32:13.725Z"
   },
   {
    "duration": 11,
    "start_time": "2022-12-10T10:34:16.895Z"
   },
   {
    "duration": 9,
    "start_time": "2022-12-10T10:34:40.175Z"
   },
   {
    "duration": 848,
    "start_time": "2022-12-10T10:39:43.863Z"
   },
   {
    "duration": 440,
    "start_time": "2022-12-10T10:39:44.713Z"
   },
   {
    "duration": 2192,
    "start_time": "2022-12-10T10:39:45.155Z"
   },
   {
    "duration": 1110,
    "start_time": "2022-12-10T10:39:47.349Z"
   },
   {
    "duration": 29262,
    "start_time": "2022-12-10T10:39:48.460Z"
   },
   {
    "duration": 17400,
    "start_time": "2022-12-10T10:40:17.724Z"
   },
   {
    "duration": 928,
    "start_time": "2022-12-10T10:50:06.561Z"
   },
   {
    "duration": 492,
    "start_time": "2022-12-10T10:50:35.770Z"
   },
   {
    "duration": 2250,
    "start_time": "2022-12-10T10:51:05.356Z"
   },
   {
    "duration": 14,
    "start_time": "2022-12-10T10:52:12.516Z"
   },
   {
    "duration": 1116,
    "start_time": "2022-12-10T10:52:23.721Z"
   },
   {
    "duration": 1119,
    "start_time": "2022-12-10T10:54:30.599Z"
   },
   {
    "duration": 3,
    "start_time": "2022-12-10T10:59:10.596Z"
   },
   {
    "duration": 20,
    "start_time": "2022-12-10T10:59:10.609Z"
   },
   {
    "duration": 15,
    "start_time": "2022-12-10T10:59:10.651Z"
   },
   {
    "duration": 14,
    "start_time": "2022-12-10T10:59:10.677Z"
   },
   {
    "duration": 6,
    "start_time": "2022-12-10T10:59:10.722Z"
   },
   {
    "duration": 20,
    "start_time": "2022-12-10T10:59:10.747Z"
   },
   {
    "duration": 12,
    "start_time": "2022-12-10T10:59:10.777Z"
   },
   {
    "duration": 20,
    "start_time": "2022-12-10T10:59:10.799Z"
   },
   {
    "duration": 16,
    "start_time": "2022-12-10T10:59:10.828Z"
   },
   {
    "duration": 5,
    "start_time": "2022-12-10T10:59:10.855Z"
   },
   {
    "duration": 10,
    "start_time": "2022-12-10T10:59:10.869Z"
   },
   {
    "duration": 7,
    "start_time": "2022-12-10T10:59:10.889Z"
   },
   {
    "duration": 17,
    "start_time": "2022-12-10T10:59:10.925Z"
   },
   {
    "duration": 13,
    "start_time": "2022-12-10T10:59:10.957Z"
   },
   {
    "duration": 0,
    "start_time": "2022-12-10T10:59:10.973Z"
   },
   {
    "duration": 0,
    "start_time": "2022-12-10T10:59:10.976Z"
   },
   {
    "duration": 0,
    "start_time": "2022-12-10T10:59:10.979Z"
   },
   {
    "duration": 0,
    "start_time": "2022-12-10T10:59:10.982Z"
   },
   {
    "duration": 0,
    "start_time": "2022-12-10T10:59:10.986Z"
   },
   {
    "duration": 0,
    "start_time": "2022-12-10T10:59:11.017Z"
   },
   {
    "duration": 0,
    "start_time": "2022-12-10T10:59:11.020Z"
   },
   {
    "duration": 0,
    "start_time": "2022-12-10T10:59:11.022Z"
   },
   {
    "duration": 0,
    "start_time": "2022-12-10T10:59:11.024Z"
   },
   {
    "duration": 0,
    "start_time": "2022-12-10T10:59:11.026Z"
   },
   {
    "duration": 0,
    "start_time": "2022-12-10T10:59:11.028Z"
   },
   {
    "duration": 0,
    "start_time": "2022-12-10T10:59:11.030Z"
   },
   {
    "duration": 0,
    "start_time": "2022-12-10T10:59:11.032Z"
   },
   {
    "duration": 0,
    "start_time": "2022-12-10T10:59:11.034Z"
   },
   {
    "duration": 0,
    "start_time": "2022-12-10T10:59:11.037Z"
   },
   {
    "duration": 0,
    "start_time": "2022-12-10T10:59:11.040Z"
   },
   {
    "duration": 1,
    "start_time": "2022-12-10T10:59:11.041Z"
   },
   {
    "duration": 0,
    "start_time": "2022-12-10T10:59:11.043Z"
   },
   {
    "duration": 0,
    "start_time": "2022-12-10T10:59:11.044Z"
   },
   {
    "duration": 0,
    "start_time": "2022-12-10T10:59:11.045Z"
   },
   {
    "duration": 3,
    "start_time": "2022-12-10T10:59:37.447Z"
   },
   {
    "duration": 40,
    "start_time": "2022-12-10T10:59:39.311Z"
   },
   {
    "duration": 13,
    "start_time": "2022-12-10T10:59:40.250Z"
   },
   {
    "duration": 13,
    "start_time": "2022-12-10T10:59:41.019Z"
   },
   {
    "duration": 7,
    "start_time": "2022-12-10T10:59:43.616Z"
   },
   {
    "duration": 12,
    "start_time": "2022-12-10T10:59:44.581Z"
   },
   {
    "duration": 4,
    "start_time": "2022-12-10T10:59:48.104Z"
   },
   {
    "duration": 14,
    "start_time": "2022-12-10T10:59:49.067Z"
   },
   {
    "duration": 6,
    "start_time": "2022-12-10T10:59:51.536Z"
   },
   {
    "duration": 5,
    "start_time": "2022-12-10T10:59:53.408Z"
   },
   {
    "duration": 6,
    "start_time": "2022-12-10T10:59:54.838Z"
   },
   {
    "duration": 6,
    "start_time": "2022-12-10T10:59:58.125Z"
   },
   {
    "duration": 8,
    "start_time": "2022-12-10T10:59:59.416Z"
   },
   {
    "duration": 5,
    "start_time": "2022-12-10T11:00:13.593Z"
   },
   {
    "duration": 7,
    "start_time": "2022-12-10T11:00:20.167Z"
   },
   {
    "duration": 5,
    "start_time": "2022-12-10T11:00:21.359Z"
   },
   {
    "duration": 11,
    "start_time": "2022-12-10T11:00:22.981Z"
   },
   {
    "duration": 18,
    "start_time": "2022-12-10T11:00:23.687Z"
   },
   {
    "duration": 5,
    "start_time": "2022-12-10T11:00:25.634Z"
   },
   {
    "duration": 7,
    "start_time": "2022-12-10T11:00:26.150Z"
   },
   {
    "duration": 7,
    "start_time": "2022-12-10T11:00:27.596Z"
   },
   {
    "duration": 1223,
    "start_time": "2022-12-10T11:00:30.430Z"
   },
   {
    "duration": 2774,
    "start_time": "2022-12-10T11:00:32.849Z"
   },
   {
    "duration": 134699,
    "start_time": "2022-12-10T11:00:38.224Z"
   },
   {
    "duration": 89,
    "start_time": "2022-12-10T11:02:52.931Z"
   },
   {
    "duration": 112,
    "start_time": "2022-12-10T11:02:53.026Z"
   },
   {
    "duration": 5,
    "start_time": "2022-12-10T11:02:53.140Z"
   },
   {
    "duration": 13,
    "start_time": "2022-12-10T11:02:53.146Z"
   },
   {
    "duration": 2366,
    "start_time": "2022-12-10T11:02:53.160Z"
   },
   {
    "duration": 662,
    "start_time": "2022-12-10T11:02:55.527Z"
   },
   {
    "duration": 5849,
    "start_time": "2022-12-10T11:02:56.191Z"
   },
   {
    "duration": 1589,
    "start_time": "2022-12-10T11:03:02.042Z"
   },
   {
    "duration": 182783,
    "start_time": "2022-12-10T11:03:03.634Z"
   },
   {
    "duration": 122306,
    "start_time": "2022-12-10T11:06:06.419Z"
   },
   {
    "duration": 1358,
    "start_time": "2022-12-10T11:08:30.251Z"
   },
   {
    "duration": 3074,
    "start_time": "2022-12-10T11:08:36.120Z"
   },
   {
    "duration": 116007,
    "start_time": "2022-12-10T11:08:46.013Z"
   },
   {
    "duration": 6,
    "start_time": "2022-12-10T11:10:42.023Z"
   },
   {
    "duration": 28,
    "start_time": "2022-12-10T11:10:42.116Z"
   },
   {
    "duration": 11,
    "start_time": "2022-12-10T11:10:42.147Z"
   },
   {
    "duration": 20,
    "start_time": "2022-12-10T11:10:42.160Z"
   },
   {
    "duration": 2391,
    "start_time": "2022-12-10T11:10:42.182Z"
   },
   {
    "duration": 633,
    "start_time": "2022-12-10T11:10:44.574Z"
   },
   {
    "duration": 6026,
    "start_time": "2022-12-10T11:10:45.209Z"
   },
   {
    "duration": 1640,
    "start_time": "2022-12-10T11:10:51.237Z"
   },
   {
    "duration": 158942,
    "start_time": "2022-12-10T11:10:52.879Z"
   },
   {
    "duration": 5,
    "start_time": "2022-12-10T11:15:29.423Z"
   },
   {
    "duration": 126,
    "start_time": "2022-12-10T11:15:29.430Z"
   },
   {
    "duration": 7,
    "start_time": "2022-12-10T11:15:29.557Z"
   },
   {
    "duration": 13,
    "start_time": "2022-12-10T11:15:29.566Z"
   },
   {
    "duration": 1871,
    "start_time": "2022-12-10T11:15:29.581Z"
   },
   {
    "duration": 549,
    "start_time": "2022-12-10T11:15:31.454Z"
   },
   {
    "duration": 4461,
    "start_time": "2022-12-10T11:15:32.004Z"
   },
   {
    "duration": 1326,
    "start_time": "2022-12-10T11:15:36.467Z"
   },
   {
    "duration": 66726,
    "start_time": "2022-12-10T11:15:37.795Z"
   },
   {
    "duration": 20397,
    "start_time": "2022-12-10T11:16:44.523Z"
   },
   {
    "duration": 1850,
    "start_time": "2022-12-10T11:18:10.339Z"
   },
   {
    "duration": 4428,
    "start_time": "2022-12-10T11:18:12.191Z"
   },
   {
    "duration": 39198,
    "start_time": "2022-12-10T11:18:16.621Z"
   },
   {
    "duration": 94,
    "start_time": "2022-12-10T11:18:55.822Z"
   },
   {
    "duration": 28,
    "start_time": "2022-12-10T11:18:55.918Z"
   },
   {
    "duration": 5,
    "start_time": "2022-12-10T11:18:55.948Z"
   },
   {
    "duration": 15,
    "start_time": "2022-12-10T11:18:55.955Z"
   },
   {
    "duration": 2763,
    "start_time": "2022-12-10T11:18:55.971Z"
   },
   {
    "duration": 718,
    "start_time": "2022-12-10T11:18:58.735Z"
   },
   {
    "duration": 6589,
    "start_time": "2022-12-10T11:18:59.456Z"
   },
   {
    "duration": 1986,
    "start_time": "2022-12-10T11:19:06.046Z"
   },
   {
    "duration": 60187,
    "start_time": "2022-12-10T11:19:08.033Z"
   },
   {
    "duration": 21703,
    "start_time": "2022-12-10T11:20:08.223Z"
   },
   {
    "duration": 7,
    "start_time": "2022-12-10T11:33:07.025Z"
   },
   {
    "duration": 7,
    "start_time": "2022-12-10T11:33:10.588Z"
   },
   {
    "duration": 6,
    "start_time": "2022-12-10T11:33:17.846Z"
   },
   {
    "duration": 7,
    "start_time": "2022-12-10T11:34:27.445Z"
   },
   {
    "duration": 7,
    "start_time": "2022-12-10T11:34:30.542Z"
   },
   {
    "duration": 6,
    "start_time": "2022-12-10T11:35:18.384Z"
   },
   {
    "duration": 8,
    "start_time": "2022-12-10T11:35:24.468Z"
   },
   {
    "duration": 7,
    "start_time": "2022-12-10T11:35:29.755Z"
   },
   {
    "duration": 6,
    "start_time": "2022-12-10T11:36:07.550Z"
   },
   {
    "duration": 4,
    "start_time": "2022-12-10T11:36:49.549Z"
   },
   {
    "duration": 11,
    "start_time": "2022-12-10T11:36:52.237Z"
   },
   {
    "duration": 5,
    "start_time": "2022-12-10T11:36:57.883Z"
   },
   {
    "duration": 47,
    "start_time": "2022-12-10T11:36:58.151Z"
   },
   {
    "duration": 20,
    "start_time": "2022-12-10T11:36:58.293Z"
   },
   {
    "duration": 18,
    "start_time": "2022-12-10T11:36:58.411Z"
   },
   {
    "duration": 5,
    "start_time": "2022-12-10T11:36:58.706Z"
   },
   {
    "duration": 13,
    "start_time": "2022-12-10T11:36:58.876Z"
   },
   {
    "duration": 4,
    "start_time": "2022-12-10T11:36:59.302Z"
   },
   {
    "duration": 11,
    "start_time": "2022-12-10T11:36:59.441Z"
   },
   {
    "duration": 6,
    "start_time": "2022-12-10T11:37:00.188Z"
   },
   {
    "duration": 6,
    "start_time": "2022-12-10T11:37:01.032Z"
   },
   {
    "duration": 5,
    "start_time": "2022-12-10T11:37:01.223Z"
   },
   {
    "duration": 5,
    "start_time": "2022-12-10T11:37:01.351Z"
   },
   {
    "duration": 7,
    "start_time": "2022-12-10T11:37:01.512Z"
   },
   {
    "duration": 4,
    "start_time": "2022-12-10T11:37:01.840Z"
   },
   {
    "duration": 7,
    "start_time": "2022-12-10T11:37:02.847Z"
   },
   {
    "duration": 6,
    "start_time": "2022-12-10T11:37:03.284Z"
   },
   {
    "duration": 11,
    "start_time": "2022-12-10T11:37:03.583Z"
   },
   {
    "duration": 20,
    "start_time": "2022-12-10T11:37:04.074Z"
   },
   {
    "duration": 4,
    "start_time": "2022-12-10T11:37:04.892Z"
   },
   {
    "duration": 8,
    "start_time": "2022-12-10T11:37:05.212Z"
   },
   {
    "duration": 4,
    "start_time": "2022-12-10T11:37:09.494Z"
   },
   {
    "duration": 14,
    "start_time": "2022-12-10T11:37:09.715Z"
   },
   {
    "duration": 5,
    "start_time": "2022-12-10T11:37:18.948Z"
   },
   {
    "duration": 11,
    "start_time": "2022-12-10T11:37:20.931Z"
   },
   {
    "duration": 2742,
    "start_time": "2022-12-10T11:37:48.783Z"
   },
   {
    "duration": 2534,
    "start_time": "2022-12-10T11:38:18.733Z"
   },
   {
    "duration": 2649,
    "start_time": "2022-12-10T11:38:37.252Z"
   },
   {
    "duration": 2744,
    "start_time": "2022-12-10T11:39:58.909Z"
   },
   {
    "duration": 979,
    "start_time": "2022-12-10T11:40:04.061Z"
   },
   {
    "duration": 1043,
    "start_time": "2022-12-10T11:40:21.891Z"
   },
   {
    "duration": 6659,
    "start_time": "2022-12-10T11:40:22.936Z"
   },
   {
    "duration": 2547,
    "start_time": "2022-12-10T11:40:29.596Z"
   },
   {
    "duration": 157778,
    "start_time": "2022-12-10T11:40:32.145Z"
   },
   {
    "duration": 990,
    "start_time": "2022-12-10T11:43:09.929Z"
   },
   {
    "duration": 0,
    "start_time": "2022-12-10T11:43:10.921Z"
   },
   {
    "duration": 0,
    "start_time": "2022-12-10T11:43:10.922Z"
   },
   {
    "duration": 0,
    "start_time": "2022-12-10T11:43:10.924Z"
   },
   {
    "duration": 0,
    "start_time": "2022-12-10T11:43:10.925Z"
   },
   {
    "duration": 0,
    "start_time": "2022-12-10T11:43:10.928Z"
   },
   {
    "duration": 37,
    "start_time": "2022-12-10T11:43:12.704Z"
   },
   {
    "duration": 15,
    "start_time": "2022-12-10T11:43:13.750Z"
   },
   {
    "duration": 13,
    "start_time": "2022-12-10T11:43:16.810Z"
   },
   {
    "duration": 7,
    "start_time": "2022-12-10T11:43:22.140Z"
   },
   {
    "duration": 6,
    "start_time": "2022-12-10T11:43:27.194Z"
   },
   {
    "duration": 15,
    "start_time": "2022-12-10T11:43:27.421Z"
   },
   {
    "duration": 40,
    "start_time": "2022-12-10T11:43:39.716Z"
   },
   {
    "duration": 13,
    "start_time": "2022-12-10T11:43:40.278Z"
   },
   {
    "duration": 11,
    "start_time": "2022-12-10T11:43:42.247Z"
   },
   {
    "duration": 3,
    "start_time": "2022-12-10T11:44:01.838Z"
   },
   {
    "duration": 13,
    "start_time": "2022-12-10T11:44:03.971Z"
   },
   {
    "duration": 7,
    "start_time": "2022-12-10T11:44:45.022Z"
   },
   {
    "duration": 41,
    "start_time": "2022-12-10T11:44:51.844Z"
   },
   {
    "duration": 15,
    "start_time": "2022-12-10T11:44:52.015Z"
   },
   {
    "duration": 12,
    "start_time": "2022-12-10T11:44:52.178Z"
   },
   {
    "duration": 5,
    "start_time": "2022-12-10T11:44:54.608Z"
   },
   {
    "duration": 11,
    "start_time": "2022-12-10T11:44:58.256Z"
   },
   {
    "duration": 14,
    "start_time": "2022-12-10T11:45:19.224Z"
   },
   {
    "duration": 6,
    "start_time": "2022-12-10T11:45:22.427Z"
   },
   {
    "duration": 4,
    "start_time": "2022-12-10T11:45:27.358Z"
   },
   {
    "duration": 5,
    "start_time": "2022-12-10T11:45:28.300Z"
   },
   {
    "duration": 4,
    "start_time": "2022-12-10T11:45:31.407Z"
   },
   {
    "duration": 6,
    "start_time": "2022-12-10T11:45:38.869Z"
   },
   {
    "duration": 5,
    "start_time": "2022-12-10T11:46:24.241Z"
   },
   {
    "duration": 18,
    "start_time": "2022-12-10T11:46:59.314Z"
   },
   {
    "duration": 49,
    "start_time": "2022-12-10T11:47:03.122Z"
   },
   {
    "duration": 21,
    "start_time": "2022-12-10T11:47:03.261Z"
   },
   {
    "duration": 12,
    "start_time": "2022-12-10T11:47:03.388Z"
   },
   {
    "duration": 5,
    "start_time": "2022-12-10T11:47:03.647Z"
   },
   {
    "duration": 11,
    "start_time": "2022-12-10T11:47:03.792Z"
   },
   {
    "duration": 15,
    "start_time": "2022-12-10T11:47:05.341Z"
   },
   {
    "duration": 5,
    "start_time": "2022-12-10T11:47:06.783Z"
   },
   {
    "duration": 4,
    "start_time": "2022-12-10T11:47:07.057Z"
   },
   {
    "duration": 8,
    "start_time": "2022-12-10T11:47:08.012Z"
   },
   {
    "duration": 5,
    "start_time": "2022-12-10T11:47:09.375Z"
   },
   {
    "duration": 6,
    "start_time": "2022-12-10T11:47:09.536Z"
   },
   {
    "duration": 4,
    "start_time": "2022-12-10T11:47:10.304Z"
   },
   {
    "duration": 9,
    "start_time": "2022-12-10T11:47:12.334Z"
   },
   {
    "duration": 7,
    "start_time": "2022-12-10T11:47:12.561Z"
   },
   {
    "duration": 22,
    "start_time": "2022-12-10T11:47:15.956Z"
   },
   {
    "duration": 16,
    "start_time": "2022-12-10T11:48:42.927Z"
   },
   {
    "duration": 14,
    "start_time": "2022-12-10T11:50:16.567Z"
   },
   {
    "duration": 9,
    "start_time": "2022-12-10T11:50:37.209Z"
   },
   {
    "duration": 19,
    "start_time": "2022-12-10T11:50:46.372Z"
   },
   {
    "duration": 5,
    "start_time": "2022-12-10T11:51:06.713Z"
   },
   {
    "duration": 5,
    "start_time": "2022-12-10T11:51:10.842Z"
   },
   {
    "duration": 10,
    "start_time": "2022-12-10T11:51:34.833Z"
   },
   {
    "duration": 15,
    "start_time": "2022-12-10T11:51:41.142Z"
   },
   {
    "duration": 10,
    "start_time": "2022-12-10T11:51:52.712Z"
   },
   {
    "duration": 22,
    "start_time": "2022-12-10T11:51:55.752Z"
   },
   {
    "duration": 7,
    "start_time": "2022-12-10T11:52:08.063Z"
   },
   {
    "duration": 41,
    "start_time": "2022-12-10T11:52:08.323Z"
   },
   {
    "duration": 15,
    "start_time": "2022-12-10T11:52:08.449Z"
   },
   {
    "duration": 11,
    "start_time": "2022-12-10T11:52:08.568Z"
   },
   {
    "duration": 4,
    "start_time": "2022-12-10T11:52:08.834Z"
   },
   {
    "duration": 11,
    "start_time": "2022-12-10T11:52:08.960Z"
   },
   {
    "duration": 11,
    "start_time": "2022-12-10T11:52:09.226Z"
   },
   {
    "duration": 5,
    "start_time": "2022-12-10T11:52:09.627Z"
   },
   {
    "duration": 5,
    "start_time": "2022-12-10T11:52:09.887Z"
   },
   {
    "duration": 3,
    "start_time": "2022-12-10T11:52:10.031Z"
   },
   {
    "duration": 4,
    "start_time": "2022-12-10T11:52:10.183Z"
   },
   {
    "duration": 5,
    "start_time": "2022-12-10T11:52:10.631Z"
   },
   {
    "duration": 4,
    "start_time": "2022-12-10T11:52:10.933Z"
   },
   {
    "duration": 8,
    "start_time": "2022-12-10T11:52:11.618Z"
   },
   {
    "duration": 6,
    "start_time": "2022-12-10T11:52:11.766Z"
   },
   {
    "duration": 20,
    "start_time": "2022-12-10T11:52:12.488Z"
   },
   {
    "duration": 4,
    "start_time": "2022-12-10T11:52:13.799Z"
   },
   {
    "duration": 10,
    "start_time": "2022-12-10T11:52:14.856Z"
   },
   {
    "duration": 7,
    "start_time": "2022-12-10T11:52:31.425Z"
   },
   {
    "duration": 6,
    "start_time": "2022-12-10T11:52:36.264Z"
   },
   {
    "duration": 8,
    "start_time": "2022-12-10T11:52:50.623Z"
   },
   {
    "duration": 8,
    "start_time": "2022-12-10T11:52:54.023Z"
   },
   {
    "duration": 10,
    "start_time": "2022-12-10T11:52:55.596Z"
   },
   {
    "duration": 9,
    "start_time": "2022-12-10T11:53:02.401Z"
   },
   {
    "duration": 2100,
    "start_time": "2022-12-10T11:53:04.634Z"
   },
   {
    "duration": 4979,
    "start_time": "2022-12-10T11:53:10.759Z"
   },
   {
    "duration": 8149,
    "start_time": "2022-12-10T11:53:18.666Z"
   },
   {
    "duration": 4,
    "start_time": "2022-12-10T11:53:29.691Z"
   },
   {
    "duration": 12,
    "start_time": "2022-12-10T11:53:30.848Z"
   },
   {
    "duration": 5,
    "start_time": "2022-12-10T11:53:32.096Z"
   },
   {
    "duration": 13,
    "start_time": "2022-12-10T11:53:32.276Z"
   },
   {
    "duration": 2707,
    "start_time": "2022-12-10T11:53:33.689Z"
   },
   {
    "duration": 1045,
    "start_time": "2022-12-10T11:53:37.999Z"
   },
   {
    "duration": 6973,
    "start_time": "2022-12-10T11:53:43.253Z"
   },
   {
    "duration": 2672,
    "start_time": "2022-12-10T11:53:50.228Z"
   },
   {
    "duration": 11414,
    "start_time": "2022-12-10T11:53:52.902Z"
   },
   {
    "duration": 3510,
    "start_time": "2022-12-10T11:54:04.318Z"
   },
   {
    "duration": 8,
    "start_time": "2022-12-10T11:55:14.943Z"
   },
   {
    "duration": 5,
    "start_time": "2022-12-10T11:55:21.959Z"
   },
   {
    "duration": 39,
    "start_time": "2022-12-10T11:55:22.270Z"
   },
   {
    "duration": 22,
    "start_time": "2022-12-10T11:55:22.424Z"
   },
   {
    "duration": 15,
    "start_time": "2022-12-10T11:55:22.581Z"
   },
   {
    "duration": 5,
    "start_time": "2022-12-10T11:55:22.936Z"
   },
   {
    "duration": 13,
    "start_time": "2022-12-10T11:55:23.092Z"
   },
   {
    "duration": 10,
    "start_time": "2022-12-10T11:55:23.449Z"
   },
   {
    "duration": 5,
    "start_time": "2022-12-10T11:55:24.081Z"
   },
   {
    "duration": 5,
    "start_time": "2022-12-10T11:55:26.268Z"
   },
   {
    "duration": 6,
    "start_time": "2022-12-10T11:55:26.399Z"
   },
   {
    "duration": 4,
    "start_time": "2022-12-10T11:55:26.728Z"
   },
   {
    "duration": 7,
    "start_time": "2022-12-10T11:55:26.735Z"
   },
   {
    "duration": 5,
    "start_time": "2022-12-10T11:55:27.116Z"
   },
   {
    "duration": 7,
    "start_time": "2022-12-10T11:55:29.074Z"
   },
   {
    "duration": 5,
    "start_time": "2022-12-10T11:55:29.267Z"
   },
   {
    "duration": 28,
    "start_time": "2022-12-10T11:55:30.001Z"
   },
   {
    "duration": 7,
    "start_time": "2022-12-10T11:55:30.366Z"
   },
   {
    "duration": 9,
    "start_time": "2022-12-10T11:55:57.371Z"
   },
   {
    "duration": 4,
    "start_time": "2022-12-10T11:58:58.326Z"
   },
   {
    "duration": 6143,
    "start_time": "2022-12-10T11:59:21.545Z"
   },
   {
    "duration": 4,
    "start_time": "2022-12-10T11:59:27.691Z"
   },
   {
    "duration": 16476,
    "start_time": "2022-12-10T11:59:38.166Z"
   },
   {
    "duration": 6,
    "start_time": "2022-12-10T11:59:54.644Z"
   },
   {
    "duration": 37293,
    "start_time": "2022-12-10T12:00:18.765Z"
   },
   {
    "duration": 6,
    "start_time": "2022-12-10T12:00:56.062Z"
   },
   {
    "duration": 5,
    "start_time": "2022-12-10T12:01:48.696Z"
   },
   {
    "duration": 42777,
    "start_time": "2022-12-10T12:01:55.119Z"
   },
   {
    "duration": 4,
    "start_time": "2022-12-10T12:02:37.898Z"
   },
   {
    "duration": 3,
    "start_time": "2022-12-10T12:02:37.916Z"
   },
   {
    "duration": 4334,
    "start_time": "2022-12-10T12:03:31.296Z"
   },
   {
    "duration": 4,
    "start_time": "2022-12-10T12:03:35.717Z"
   },
   {
    "duration": 7160,
    "start_time": "2022-12-10T12:04:01.468Z"
   },
   {
    "duration": 89,
    "start_time": "2022-12-10T12:04:08.630Z"
   },
   {
    "duration": 12403,
    "start_time": "2022-12-10T12:04:18.917Z"
   },
   {
    "duration": 5,
    "start_time": "2022-12-10T12:04:31.322Z"
   },
   {
    "duration": 4,
    "start_time": "2022-12-10T12:05:55.973Z"
   },
   {
    "duration": 12,
    "start_time": "2022-12-10T12:05:57.184Z"
   },
   {
    "duration": 4,
    "start_time": "2022-12-10T12:05:59.083Z"
   },
   {
    "duration": 14,
    "start_time": "2022-12-10T12:05:59.627Z"
   },
   {
    "duration": 3057,
    "start_time": "2022-12-10T12:06:03.804Z"
   },
   {
    "duration": 1039,
    "start_time": "2022-12-10T12:06:06.863Z"
   },
   {
    "duration": 63849,
    "start_time": "2022-12-10T12:06:09.069Z"
   },
   {
    "duration": 21922,
    "start_time": "2022-12-10T12:07:12.920Z"
   },
   {
    "duration": 4,
    "start_time": "2022-12-10T12:07:34.844Z"
   },
   {
    "duration": 92498,
    "start_time": "2022-12-10T12:11:08.187Z"
   },
   {
    "duration": 0,
    "start_time": "2022-12-10T12:12:40.687Z"
   },
   {
    "duration": 125749,
    "start_time": "2022-12-10T12:12:46.759Z"
   },
   {
    "duration": 10,
    "start_time": "2022-12-10T12:14:52.511Z"
   },
   {
    "duration": 2691,
    "start_time": "2022-12-10T12:15:07.688Z"
   },
   {
    "duration": 1093,
    "start_time": "2022-12-10T12:15:10.382Z"
   },
   {
    "duration": 181554,
    "start_time": "2022-12-10T12:15:11.478Z"
   },
   {
    "duration": 5,
    "start_time": "2022-12-10T12:18:13.034Z"
   },
   {
    "duration": 5,
    "start_time": "2022-12-10T12:18:24.465Z"
   },
   {
    "duration": 78819,
    "start_time": "2022-12-10T12:18:24.888Z"
   },
   {
    "duration": 7,
    "start_time": "2022-12-10T12:20:29.559Z"
   },
   {
    "duration": 10,
    "start_time": "2022-12-10T12:20:32.102Z"
   },
   {
    "duration": 6,
    "start_time": "2022-12-10T12:21:26.035Z"
   },
   {
    "duration": 7,
    "start_time": "2022-12-10T12:21:40.768Z"
   },
   {
    "duration": 6,
    "start_time": "2022-12-10T12:21:44.693Z"
   },
   {
    "duration": 8,
    "start_time": "2022-12-10T12:22:20.466Z"
   },
   {
    "duration": 9,
    "start_time": "2022-12-10T12:22:22.649Z"
   },
   {
    "duration": 11,
    "start_time": "2022-12-10T12:22:29.977Z"
   },
   {
    "duration": 9,
    "start_time": "2022-12-10T12:22:38.916Z"
   },
   {
    "duration": 4,
    "start_time": "2022-12-10T12:23:10.106Z"
   },
   {
    "duration": 10,
    "start_time": "2022-12-10T12:23:20.468Z"
   },
   {
    "duration": 7,
    "start_time": "2022-12-10T12:23:26.874Z"
   },
   {
    "duration": 2153,
    "start_time": "2022-12-10T12:23:31.750Z"
   },
   {
    "duration": 10,
    "start_time": "2022-12-10T12:23:33.905Z"
   },
   {
    "duration": 2463,
    "start_time": "2022-12-10T12:23:57.143Z"
   },
   {
    "duration": 8,
    "start_time": "2022-12-10T12:23:59.609Z"
   },
   {
    "duration": 65340,
    "start_time": "2022-12-10T12:23:59.619Z"
   },
   {
    "duration": 4,
    "start_time": "2022-12-10T12:25:04.962Z"
   },
   {
    "duration": 64504,
    "start_time": "2022-12-10T12:40:11.696Z"
   },
   {
    "duration": 4,
    "start_time": "2022-12-10T12:41:16.202Z"
   },
   {
    "duration": 6212,
    "start_time": "2022-12-10T12:41:16.207Z"
   },
   {
    "duration": 5,
    "start_time": "2022-12-10T12:41:22.422Z"
   },
   {
    "duration": 96,
    "start_time": "2022-12-10T12:41:22.429Z"
   },
   {
    "duration": 15,
    "start_time": "2022-12-10T12:41:22.527Z"
   },
   {
    "duration": 7,
    "start_time": "2022-12-10T12:41:22.544Z"
   },
   {
    "duration": 14,
    "start_time": "2022-12-10T12:41:22.553Z"
   },
   {
    "duration": 2813,
    "start_time": "2022-12-10T12:41:22.569Z"
   },
   {
    "duration": 1146,
    "start_time": "2022-12-10T12:41:25.384Z"
   },
   {
    "duration": 88339,
    "start_time": "2022-12-10T12:41:26.531Z"
   },
   {
    "duration": 4,
    "start_time": "2022-12-10T12:42:54.871Z"
   },
   {
    "duration": 38455,
    "start_time": "2022-12-10T12:42:54.878Z"
   },
   {
    "duration": 11190,
    "start_time": "2022-12-10T12:43:33.334Z"
   },
   {
    "duration": 7591,
    "start_time": "2022-12-10T12:43:44.528Z"
   },
   {
    "duration": 5,
    "start_time": "2022-12-10T12:43:52.328Z"
   },
   {
    "duration": 91105,
    "start_time": "2022-12-10T12:43:52.401Z"
   },
   {
    "duration": 66396,
    "start_time": "2022-12-10T12:45:43.062Z"
   },
   {
    "duration": 4,
    "start_time": "2022-12-10T12:46:49.461Z"
   },
   {
    "duration": 17552,
    "start_time": "2022-12-10T12:46:49.468Z"
   },
   {
    "duration": 6,
    "start_time": "2022-12-10T12:47:07.023Z"
   },
   {
    "duration": 95,
    "start_time": "2022-12-10T12:47:07.031Z"
   },
   {
    "duration": 15,
    "start_time": "2022-12-10T12:47:07.129Z"
   },
   {
    "duration": 6,
    "start_time": "2022-12-10T12:47:07.147Z"
   },
   {
    "duration": 22,
    "start_time": "2022-12-10T12:47:07.155Z"
   },
   {
    "duration": 2976,
    "start_time": "2022-12-10T12:47:07.179Z"
   },
   {
    "duration": 1148,
    "start_time": "2022-12-10T12:47:10.158Z"
   },
   {
    "duration": 95556,
    "start_time": "2022-12-10T12:47:11.308Z"
   },
   {
    "duration": 5,
    "start_time": "2022-12-10T12:48:46.866Z"
   },
   {
    "duration": 41298,
    "start_time": "2022-12-10T12:48:46.873Z"
   },
   {
    "duration": 6939,
    "start_time": "2022-12-10T12:49:28.178Z"
   },
   {
    "duration": 6996,
    "start_time": "2022-12-10T12:49:35.120Z"
   },
   {
    "duration": 61,
    "start_time": "2022-12-10T12:54:16.997Z"
   },
   {
    "duration": 5952,
    "start_time": "2022-12-10T12:54:42.597Z"
   },
   {
    "duration": 47,
    "start_time": "2022-12-10T12:55:03.826Z"
   },
   {
    "duration": 63932,
    "start_time": "2022-12-10T12:55:10.560Z"
   },
   {
    "duration": 5,
    "start_time": "2022-12-10T12:56:14.495Z"
   },
   {
    "duration": 11317,
    "start_time": "2022-12-10T12:56:14.502Z"
   },
   {
    "duration": 9,
    "start_time": "2022-12-10T12:56:25.824Z"
   },
   {
    "duration": 16,
    "start_time": "2022-12-10T12:56:25.917Z"
   },
   {
    "duration": 19,
    "start_time": "2022-12-10T12:56:25.935Z"
   },
   {
    "duration": 7,
    "start_time": "2022-12-10T12:56:25.958Z"
   },
   {
    "duration": 22,
    "start_time": "2022-12-10T12:56:25.967Z"
   },
   {
    "duration": 3035,
    "start_time": "2022-12-10T12:56:25.990Z"
   },
   {
    "duration": 1111,
    "start_time": "2022-12-10T12:56:29.028Z"
   },
   {
    "duration": 90590,
    "start_time": "2022-12-10T12:56:30.141Z"
   },
   {
    "duration": 6,
    "start_time": "2022-12-10T12:58:00.734Z"
   },
   {
    "duration": 38817,
    "start_time": "2022-12-10T12:58:00.741Z"
   },
   {
    "duration": 4070,
    "start_time": "2022-12-10T12:58:39.560Z"
   },
   {
    "duration": 2194,
    "start_time": "2022-12-10T12:58:43.632Z"
   },
   {
    "duration": 94188,
    "start_time": "2022-12-10T12:59:13.577Z"
   },
   {
    "duration": 4,
    "start_time": "2022-12-10T13:00:47.767Z"
   },
   {
    "duration": 122113,
    "start_time": "2022-12-10T13:01:27.065Z"
   },
   {
    "duration": 5,
    "start_time": "2022-12-10T13:03:29.180Z"
   },
   {
    "duration": 151169,
    "start_time": "2022-12-10T13:04:03.343Z"
   },
   {
    "duration": 3,
    "start_time": "2022-12-10T13:06:34.515Z"
   },
   {
    "duration": 5197,
    "start_time": "2022-12-10T13:06:34.520Z"
   },
   {
    "duration": 8,
    "start_time": "2022-12-10T13:06:39.719Z"
   },
   {
    "duration": 87,
    "start_time": "2022-12-10T13:06:39.731Z"
   },
   {
    "duration": 13,
    "start_time": "2022-12-10T13:06:39.820Z"
   },
   {
    "duration": 4,
    "start_time": "2022-12-10T13:06:39.835Z"
   },
   {
    "duration": 13,
    "start_time": "2022-12-10T13:06:39.841Z"
   },
   {
    "duration": 2840,
    "start_time": "2022-12-10T13:06:39.856Z"
   },
   {
    "duration": 1095,
    "start_time": "2022-12-10T13:06:42.699Z"
   },
   {
    "duration": 211088,
    "start_time": "2022-12-10T13:06:43.796Z"
   },
   {
    "duration": 5,
    "start_time": "2022-12-10T13:10:14.886Z"
   },
   {
    "duration": 93429,
    "start_time": "2022-12-10T13:10:14.892Z"
   },
   {
    "duration": 7701,
    "start_time": "2022-12-10T13:11:48.323Z"
   },
   {
    "duration": 3098,
    "start_time": "2022-12-10T13:11:56.027Z"
   },
   {
    "duration": 391274,
    "start_time": "2022-12-10T13:12:19.258Z"
   },
   {
    "duration": 4,
    "start_time": "2022-12-10T13:18:50.534Z"
   },
   {
    "duration": 535696,
    "start_time": "2022-12-10T13:18:50.539Z"
   },
   {
    "duration": 5,
    "start_time": "2022-12-10T13:27:46.237Z"
   },
   {
    "duration": 1126,
    "start_time": "2022-12-10T13:27:46.243Z"
   },
   {
    "duration": 235941,
    "start_time": "2022-12-10T13:27:47.371Z"
   },
   {
    "duration": 4,
    "start_time": "2022-12-10T13:31:43.315Z"
   },
   {
    "duration": 486057,
    "start_time": "2022-12-10T13:31:43.321Z"
   },
   {
    "duration": 8,
    "start_time": "2022-12-10T13:39:49.380Z"
   },
   {
    "duration": 759692,
    "start_time": "2022-12-10T13:42:15.093Z"
   },
   {
    "duration": 4,
    "start_time": "2022-12-10T13:54:54.788Z"
   },
   {
    "duration": 1121099,
    "start_time": "2022-12-10T13:54:54.794Z"
   },
   {
    "duration": 4,
    "start_time": "2022-12-10T14:13:35.895Z"
   },
   {
    "duration": 877436,
    "start_time": "2022-12-10T14:20:36.842Z"
   },
   {
    "duration": 4,
    "start_time": "2022-12-10T14:35:14.280Z"
   },
   {
    "duration": 1198,
    "start_time": "2022-12-10T14:35:14.286Z"
   },
   {
    "duration": 1274818,
    "start_time": "2022-12-10T14:35:15.486Z"
   },
   {
    "duration": 10,
    "start_time": "2022-12-10T14:56:30.306Z"
   },
   {
    "duration": 478138,
    "start_time": "2022-12-10T14:56:30.318Z"
   },
   {
    "duration": 4,
    "start_time": "2022-12-10T15:04:28.458Z"
   },
   {
    "duration": 1098,
    "start_time": "2022-12-11T05:34:10.898Z"
   },
   {
    "duration": 168,
    "start_time": "2022-12-11T05:34:11.998Z"
   },
   {
    "duration": 19,
    "start_time": "2022-12-11T05:34:12.167Z"
   },
   {
    "duration": 12,
    "start_time": "2022-12-11T05:34:12.300Z"
   },
   {
    "duration": 5,
    "start_time": "2022-12-11T05:34:13.335Z"
   },
   {
    "duration": 12,
    "start_time": "2022-12-11T05:34:14.003Z"
   },
   {
    "duration": 10,
    "start_time": "2022-12-11T05:34:15.159Z"
   },
   {
    "duration": 5,
    "start_time": "2022-12-11T05:34:16.336Z"
   },
   {
    "duration": 4,
    "start_time": "2022-12-11T05:34:17.411Z"
   },
   {
    "duration": 4,
    "start_time": "2022-12-11T05:34:17.899Z"
   },
   {
    "duration": 6,
    "start_time": "2022-12-11T05:34:18.381Z"
   },
   {
    "duration": 5,
    "start_time": "2022-12-11T05:34:19.335Z"
   },
   {
    "duration": 5,
    "start_time": "2022-12-11T05:34:20.358Z"
   },
   {
    "duration": 6,
    "start_time": "2022-12-11T05:34:22.037Z"
   },
   {
    "duration": 6,
    "start_time": "2022-12-11T05:34:22.424Z"
   },
   {
    "duration": 19,
    "start_time": "2022-12-11T05:34:23.818Z"
   },
   {
    "duration": 9,
    "start_time": "2022-12-11T05:34:24.857Z"
   },
   {
    "duration": 5,
    "start_time": "2022-12-11T05:34:28.430Z"
   },
   {
    "duration": 6,
    "start_time": "2022-12-11T05:34:28.961Z"
   },
   {
    "duration": 5,
    "start_time": "2022-12-11T05:34:31.145Z"
   },
   {
    "duration": 6,
    "start_time": "2022-12-11T05:34:31.754Z"
   },
   {
    "duration": 1931,
    "start_time": "2022-12-11T05:34:36.942Z"
   },
   {
    "duration": 3,
    "start_time": "2022-12-11T05:34:38.875Z"
   },
   {
    "duration": 791100,
    "start_time": "2022-12-11T05:34:52.628Z"
   },
   {
    "duration": 4,
    "start_time": "2022-12-11T05:48:03.731Z"
   },
   {
    "duration": 4584,
    "start_time": "2022-12-11T05:48:03.736Z"
   },
   {
    "duration": 95,
    "start_time": "2022-12-11T05:48:08.323Z"
   },
   {
    "duration": 98,
    "start_time": "2022-12-11T05:48:08.422Z"
   },
   {
    "duration": 15,
    "start_time": "2022-12-11T05:48:08.521Z"
   },
   {
    "duration": 4,
    "start_time": "2022-12-11T05:48:08.537Z"
   },
   {
    "duration": 16,
    "start_time": "2022-12-11T05:48:08.542Z"
   },
   {
    "duration": 2643,
    "start_time": "2022-12-11T05:48:08.560Z"
   },
   {
    "duration": 986,
    "start_time": "2022-12-11T05:48:11.205Z"
   },
   {
    "duration": 1155880,
    "start_time": "2022-12-11T05:48:12.193Z"
   },
   {
    "duration": 4,
    "start_time": "2022-12-11T06:07:28.075Z"
   },
   {
    "duration": 434185,
    "start_time": "2022-12-11T06:07:28.080Z"
   },
   {
    "duration": 4,
    "start_time": "2022-12-11T06:14:42.266Z"
   },
   {
    "duration": 5942,
    "start_time": "2022-12-11T06:14:42.272Z"
   },
   {
    "duration": 3401,
    "start_time": "2022-12-11T06:14:48.216Z"
   },
   {
    "duration": 93,
    "start_time": "2022-12-11T06:25:06.773Z"
   },
   {
    "duration": 4,
    "start_time": "2022-12-11T06:25:25.153Z"
   },
   {
    "duration": 36,
    "start_time": "2022-12-11T06:25:27.946Z"
   },
   {
    "duration": 13,
    "start_time": "2022-12-11T06:25:28.141Z"
   },
   {
    "duration": 12,
    "start_time": "2022-12-11T06:25:28.325Z"
   },
   {
    "duration": 4,
    "start_time": "2022-12-11T06:25:28.701Z"
   },
   {
    "duration": 21,
    "start_time": "2022-12-11T06:25:28.904Z"
   },
   {
    "duration": 10,
    "start_time": "2022-12-11T06:25:29.265Z"
   },
   {
    "duration": 4,
    "start_time": "2022-12-11T06:25:29.917Z"
   },
   {
    "duration": 5,
    "start_time": "2022-12-11T06:25:30.294Z"
   },
   {
    "duration": 5,
    "start_time": "2022-12-11T06:25:30.507Z"
   },
   {
    "duration": 4,
    "start_time": "2022-12-11T06:25:30.707Z"
   },
   {
    "duration": 5,
    "start_time": "2022-12-11T06:25:30.904Z"
   },
   {
    "duration": 5,
    "start_time": "2022-12-11T06:25:31.316Z"
   },
   {
    "duration": 7,
    "start_time": "2022-12-11T06:25:32.139Z"
   },
   {
    "duration": 6,
    "start_time": "2022-12-11T06:25:32.343Z"
   },
   {
    "duration": 21,
    "start_time": "2022-12-11T06:25:32.723Z"
   },
   {
    "duration": 8,
    "start_time": "2022-12-11T06:25:32.919Z"
   },
   {
    "duration": 5,
    "start_time": "2022-12-11T06:25:33.526Z"
   },
   {
    "duration": 6,
    "start_time": "2022-12-11T06:25:33.724Z"
   },
   {
    "duration": 6,
    "start_time": "2022-12-11T06:25:34.288Z"
   },
   {
    "duration": 6,
    "start_time": "2022-12-11T06:25:34.468Z"
   },
   {
    "duration": 2001,
    "start_time": "2022-12-11T06:25:35.029Z"
   },
   {
    "duration": 4,
    "start_time": "2022-12-11T06:25:37.032Z"
   },
   {
    "duration": 805100,
    "start_time": "2022-12-11T06:25:37.037Z"
   },
   {
    "duration": 4,
    "start_time": "2022-12-11T06:39:02.140Z"
   },
   {
    "duration": 4475,
    "start_time": "2022-12-11T06:39:02.146Z"
   },
   {
    "duration": 6,
    "start_time": "2022-12-11T06:39:06.712Z"
   },
   {
    "duration": 97,
    "start_time": "2022-12-11T06:39:06.720Z"
   },
   {
    "duration": 16,
    "start_time": "2022-12-11T06:39:06.819Z"
   },
   {
    "duration": 4,
    "start_time": "2022-12-11T06:39:06.837Z"
   },
   {
    "duration": 16,
    "start_time": "2022-12-11T06:39:06.844Z"
   },
   {
    "duration": 2620,
    "start_time": "2022-12-11T06:39:06.861Z"
   },
   {
    "duration": 1044,
    "start_time": "2022-12-11T06:39:09.483Z"
   },
   {
    "duration": 1171443,
    "start_time": "2022-12-11T06:39:10.528Z"
   },
   {
    "duration": 3,
    "start_time": "2022-12-11T06:58:41.973Z"
   },
   {
    "duration": 435802,
    "start_time": "2022-12-11T06:58:41.978Z"
   },
   {
    "duration": 3,
    "start_time": "2022-12-11T07:05:57.782Z"
   },
   {
    "duration": 6128,
    "start_time": "2022-12-11T07:05:57.786Z"
   },
   {
    "duration": 3797,
    "start_time": "2022-12-11T07:06:03.917Z"
   },
   {
    "duration": 4,
    "start_time": "2022-12-11T07:53:27.128Z"
   },
   {
    "duration": 39,
    "start_time": "2022-12-11T07:53:27.525Z"
   },
   {
    "duration": 13,
    "start_time": "2022-12-11T07:53:27.708Z"
   },
   {
    "duration": 12,
    "start_time": "2022-12-11T07:53:27.921Z"
   },
   {
    "duration": 4,
    "start_time": "2022-12-11T07:53:28.309Z"
   },
   {
    "duration": 11,
    "start_time": "2022-12-11T07:53:28.525Z"
   },
   {
    "duration": 10,
    "start_time": "2022-12-11T07:53:28.915Z"
   },
   {
    "duration": 5,
    "start_time": "2022-12-11T07:53:29.540Z"
   },
   {
    "duration": 4,
    "start_time": "2022-12-11T07:53:29.909Z"
   },
   {
    "duration": 4,
    "start_time": "2022-12-11T07:53:30.102Z"
   },
   {
    "duration": 4,
    "start_time": "2022-12-11T07:53:30.314Z"
   },
   {
    "duration": 7,
    "start_time": "2022-12-11T07:53:30.568Z"
   },
   {
    "duration": 4,
    "start_time": "2022-12-11T07:53:30.987Z"
   },
   {
    "duration": 7,
    "start_time": "2022-12-11T07:53:31.807Z"
   },
   {
    "duration": 6,
    "start_time": "2022-12-11T07:53:32.013Z"
   },
   {
    "duration": 21,
    "start_time": "2022-12-11T07:53:32.405Z"
   },
   {
    "duration": 7,
    "start_time": "2022-12-11T07:53:32.593Z"
   },
   {
    "duration": 5,
    "start_time": "2022-12-11T07:53:33.141Z"
   },
   {
    "duration": 7,
    "start_time": "2022-12-11T07:53:33.327Z"
   },
   {
    "duration": 5,
    "start_time": "2022-12-11T07:53:33.905Z"
   },
   {
    "duration": 6,
    "start_time": "2022-12-11T07:53:34.075Z"
   },
   {
    "duration": 2047,
    "start_time": "2022-12-11T07:53:34.649Z"
   },
   {
    "duration": 4,
    "start_time": "2022-12-11T07:53:36.698Z"
   },
   {
    "duration": 804980,
    "start_time": "2022-12-11T07:53:36.703Z"
   },
   {
    "duration": 4,
    "start_time": "2022-12-11T08:07:01.685Z"
   },
   {
    "duration": 4722,
    "start_time": "2022-12-11T08:07:01.690Z"
   },
   {
    "duration": 4,
    "start_time": "2022-12-11T08:07:06.414Z"
   },
   {
    "duration": 95,
    "start_time": "2022-12-11T08:07:06.419Z"
   },
   {
    "duration": 14,
    "start_time": "2022-12-11T08:07:06.516Z"
   },
   {
    "duration": 5,
    "start_time": "2022-12-11T08:07:06.531Z"
   },
   {
    "duration": 12,
    "start_time": "2022-12-11T08:07:06.539Z"
   },
   {
    "duration": 2651,
    "start_time": "2022-12-11T08:07:06.553Z"
   },
   {
    "duration": 993,
    "start_time": "2022-12-11T08:07:09.205Z"
   },
   {
    "duration": 1161139,
    "start_time": "2022-12-11T08:07:10.200Z"
   },
   {
    "duration": 3,
    "start_time": "2022-12-11T08:26:31.341Z"
   },
   {
    "duration": 439241,
    "start_time": "2022-12-11T08:26:31.346Z"
   },
   {
    "duration": 4,
    "start_time": "2022-12-11T08:33:50.589Z"
   },
   {
    "duration": 6322,
    "start_time": "2022-12-11T08:33:50.595Z"
   },
   {
    "duration": 3695,
    "start_time": "2022-12-11T08:33:56.919Z"
   },
   {
    "duration": 37,
    "start_time": "2022-12-11T09:18:36.724Z"
   },
   {
    "duration": 16,
    "start_time": "2022-12-11T09:18:36.950Z"
   },
   {
    "duration": 11,
    "start_time": "2022-12-11T09:18:37.130Z"
   },
   {
    "duration": 4,
    "start_time": "2022-12-11T09:18:37.539Z"
   },
   {
    "duration": 12,
    "start_time": "2022-12-11T09:18:37.724Z"
   },
   {
    "duration": 11,
    "start_time": "2022-12-11T09:18:38.173Z"
   },
   {
    "duration": 4,
    "start_time": "2022-12-11T09:18:38.821Z"
   },
   {
    "duration": 4,
    "start_time": "2022-12-11T09:18:39.248Z"
   },
   {
    "duration": 4,
    "start_time": "2022-12-11T09:18:39.489Z"
   },
   {
    "duration": 4,
    "start_time": "2022-12-11T09:18:39.685Z"
   },
   {
    "duration": 4,
    "start_time": "2022-12-11T09:18:39.900Z"
   },
   {
    "duration": 6,
    "start_time": "2022-12-11T09:18:40.370Z"
   },
   {
    "duration": 7,
    "start_time": "2022-12-11T09:18:41.265Z"
   },
   {
    "duration": 6,
    "start_time": "2022-12-11T09:18:41.476Z"
   },
   {
    "duration": 21,
    "start_time": "2022-12-11T09:18:41.912Z"
   },
   {
    "duration": 5,
    "start_time": "2022-12-11T09:18:42.109Z"
   },
   {
    "duration": 5,
    "start_time": "2022-12-11T09:18:42.777Z"
   },
   {
    "duration": 6,
    "start_time": "2022-12-11T09:18:42.990Z"
   },
   {
    "duration": 5,
    "start_time": "2022-12-11T09:18:43.653Z"
   },
   {
    "duration": 6,
    "start_time": "2022-12-11T09:18:43.859Z"
   },
   {
    "duration": 1996,
    "start_time": "2022-12-11T09:18:44.725Z"
   },
   {
    "duration": 3,
    "start_time": "2022-12-11T09:18:46.723Z"
   },
   {
    "duration": 4,
    "start_time": "2022-12-11T09:59:53.717Z"
   },
   {
    "duration": 39,
    "start_time": "2022-12-11T09:59:53.732Z"
   },
   {
    "duration": 14,
    "start_time": "2022-12-11T09:59:53.787Z"
   },
   {
    "duration": 15,
    "start_time": "2022-12-11T09:59:53.821Z"
   },
   {
    "duration": 4,
    "start_time": "2022-12-11T09:59:53.849Z"
   },
   {
    "duration": 15,
    "start_time": "2022-12-11T09:59:53.861Z"
   },
   {
    "duration": 11,
    "start_time": "2022-12-11T09:59:53.924Z"
   },
   {
    "duration": 6,
    "start_time": "2022-12-11T09:59:53.949Z"
   },
   {
    "duration": 9,
    "start_time": "2022-12-11T09:59:53.977Z"
   },
   {
    "duration": 8,
    "start_time": "2022-12-11T09:59:54.017Z"
   },
   {
    "duration": 6,
    "start_time": "2022-12-11T09:59:54.037Z"
   },
   {
    "duration": 18,
    "start_time": "2022-12-11T09:59:54.052Z"
   },
   {
    "duration": 8,
    "start_time": "2022-12-11T09:59:54.084Z"
   },
   {
    "duration": 0,
    "start_time": "2022-12-11T09:59:54.126Z"
   },
   {
    "duration": 0,
    "start_time": "2022-12-11T09:59:54.128Z"
   },
   {
    "duration": 0,
    "start_time": "2022-12-11T09:59:54.131Z"
   },
   {
    "duration": 0,
    "start_time": "2022-12-11T09:59:54.134Z"
   },
   {
    "duration": 0,
    "start_time": "2022-12-11T09:59:54.136Z"
   },
   {
    "duration": 0,
    "start_time": "2022-12-11T09:59:54.139Z"
   },
   {
    "duration": 0,
    "start_time": "2022-12-11T09:59:54.141Z"
   },
   {
    "duration": 0,
    "start_time": "2022-12-11T09:59:54.144Z"
   },
   {
    "duration": 0,
    "start_time": "2022-12-11T09:59:54.146Z"
   },
   {
    "duration": 0,
    "start_time": "2022-12-11T09:59:54.148Z"
   },
   {
    "duration": 0,
    "start_time": "2022-12-11T09:59:54.151Z"
   },
   {
    "duration": 0,
    "start_time": "2022-12-11T09:59:54.153Z"
   },
   {
    "duration": 0,
    "start_time": "2022-12-11T09:59:54.155Z"
   },
   {
    "duration": 0,
    "start_time": "2022-12-11T09:59:54.156Z"
   },
   {
    "duration": 0,
    "start_time": "2022-12-11T09:59:54.158Z"
   },
   {
    "duration": 0,
    "start_time": "2022-12-11T09:59:54.160Z"
   },
   {
    "duration": 0,
    "start_time": "2022-12-11T09:59:54.214Z"
   },
   {
    "duration": 0,
    "start_time": "2022-12-11T09:59:54.217Z"
   },
   {
    "duration": 0,
    "start_time": "2022-12-11T09:59:54.218Z"
   },
   {
    "duration": 0,
    "start_time": "2022-12-11T09:59:54.220Z"
   },
   {
    "duration": 0,
    "start_time": "2022-12-11T09:59:54.222Z"
   },
   {
    "duration": 0,
    "start_time": "2022-12-11T09:59:54.225Z"
   },
   {
    "duration": 0,
    "start_time": "2022-12-11T09:59:54.227Z"
   },
   {
    "duration": 0,
    "start_time": "2022-12-11T09:59:54.229Z"
   },
   {
    "duration": 0,
    "start_time": "2022-12-11T09:59:54.231Z"
   },
   {
    "duration": 0,
    "start_time": "2022-12-11T09:59:54.233Z"
   },
   {
    "duration": 7,
    "start_time": "2022-12-11T10:21:48.329Z"
   },
   {
    "duration": 7,
    "start_time": "2022-12-11T10:21:48.544Z"
   },
   {
    "duration": 20,
    "start_time": "2022-12-11T10:21:49.603Z"
   },
   {
    "duration": 6,
    "start_time": "2022-12-11T10:21:50.523Z"
   },
   {
    "duration": 6,
    "start_time": "2022-12-11T10:21:51.523Z"
   },
   {
    "duration": 6,
    "start_time": "2022-12-11T10:21:51.946Z"
   },
   {
    "duration": 6,
    "start_time": "2022-12-11T10:21:53.432Z"
   },
   {
    "duration": 6,
    "start_time": "2022-12-11T10:21:53.710Z"
   },
   {
    "duration": 2047,
    "start_time": "2022-12-11T10:21:55.285Z"
   },
   {
    "duration": 3,
    "start_time": "2022-12-11T10:21:57.334Z"
   },
   {
    "duration": 826631,
    "start_time": "2022-12-11T10:21:57.340Z"
   },
   {
    "duration": 4,
    "start_time": "2022-12-11T10:35:43.973Z"
   },
   {
    "duration": 5443,
    "start_time": "2022-12-11T10:35:43.978Z"
   },
   {
    "duration": 5,
    "start_time": "2022-12-11T10:35:49.513Z"
   },
   {
    "duration": 114,
    "start_time": "2022-12-11T10:35:49.520Z"
   },
   {
    "duration": 21,
    "start_time": "2022-12-11T10:35:49.636Z"
   },
   {
    "duration": 16,
    "start_time": "2022-12-11T10:35:49.659Z"
   },
   {
    "duration": 31,
    "start_time": "2022-12-11T10:35:49.678Z"
   },
   {
    "duration": 2718,
    "start_time": "2022-12-11T10:35:49.711Z"
   },
   {
    "duration": 1096,
    "start_time": "2022-12-11T10:35:52.431Z"
   },
   {
    "duration": 1210924,
    "start_time": "2022-12-11T10:35:53.529Z"
   },
   {
    "duration": 4,
    "start_time": "2022-12-11T10:56:04.454Z"
   },
   {
    "duration": 441949,
    "start_time": "2022-12-11T10:56:04.460Z"
   },
   {
    "duration": 6,
    "start_time": "2022-12-11T11:03:26.410Z"
   },
   {
    "duration": 6598,
    "start_time": "2022-12-11T11:03:26.418Z"
   },
   {
    "duration": 4200,
    "start_time": "2022-12-11T11:03:33.018Z"
   },
   {
    "duration": 5,
    "start_time": "2022-12-11T11:22:11.278Z"
   },
   {
    "duration": 6,
    "start_time": "2022-12-11T11:22:58.226Z"
   },
   {
    "duration": 6,
    "start_time": "2022-12-11T11:23:49.026Z"
   },
   {
    "duration": 5,
    "start_time": "2022-12-11T11:47:30.554Z"
   },
   {
    "duration": 3,
    "start_time": "2022-12-11T11:49:19.062Z"
   },
   {
    "duration": 36,
    "start_time": "2022-12-11T11:49:19.784Z"
   },
   {
    "duration": 13,
    "start_time": "2022-12-11T11:49:20.197Z"
   },
   {
    "duration": 13,
    "start_time": "2022-12-11T11:49:20.782Z"
   },
   {
    "duration": 4,
    "start_time": "2022-12-11T11:49:21.846Z"
   },
   {
    "duration": 12,
    "start_time": "2022-12-11T11:49:22.253Z"
   },
   {
    "duration": 11,
    "start_time": "2022-12-11T11:49:24.046Z"
   },
   {
    "duration": 5,
    "start_time": "2022-12-11T11:49:25.437Z"
   },
   {
    "duration": 4,
    "start_time": "2022-12-11T11:49:26.699Z"
   },
   {
    "duration": 5,
    "start_time": "2022-12-11T11:49:27.118Z"
   },
   {
    "duration": 5,
    "start_time": "2022-12-11T11:49:27.557Z"
   },
   {
    "duration": 5,
    "start_time": "2022-12-11T11:49:28.036Z"
   },
   {
    "duration": 4,
    "start_time": "2022-12-11T11:49:28.481Z"
   },
   {
    "duration": 5,
    "start_time": "2022-12-11T11:49:30.624Z"
   },
   {
    "duration": 4,
    "start_time": "2022-12-11T11:49:31.588Z"
   },
   {
    "duration": 6,
    "start_time": "2022-12-11T11:49:34.172Z"
   },
   {
    "duration": 5,
    "start_time": "2022-12-11T11:49:35.352Z"
   },
   {
    "duration": 6,
    "start_time": "2022-12-11T11:49:36.432Z"
   },
   {
    "duration": 24,
    "start_time": "2022-12-11T11:49:37.306Z"
   },
   {
    "duration": 1114,
    "start_time": "2022-12-11T11:49:37.820Z"
   },
   {
    "duration": 6,
    "start_time": "2022-12-11T11:49:50.209Z"
   },
   {
    "duration": 5,
    "start_time": "2022-12-11T11:49:51.722Z"
   },
   {
    "duration": 6,
    "start_time": "2022-12-11T11:50:20.370Z"
   },
   {
    "duration": 6,
    "start_time": "2022-12-11T11:50:21.228Z"
   },
   {
    "duration": 6,
    "start_time": "2022-12-11T11:50:23.230Z"
   },
   {
    "duration": 7,
    "start_time": "2022-12-11T11:50:26.312Z"
   },
   {
    "duration": 442,
    "start_time": "2022-12-11T11:50:39.425Z"
   },
   {
    "duration": 5,
    "start_time": "2022-12-11T11:50:44.520Z"
   },
   {
    "duration": 212674,
    "start_time": "2022-12-11T11:51:07.694Z"
   },
   {
    "duration": 5,
    "start_time": "2022-12-11T11:54:40.370Z"
   },
   {
    "duration": 6138,
    "start_time": "2022-12-11T11:54:40.377Z"
   },
   {
    "duration": 94,
    "start_time": "2022-12-11T11:54:46.518Z"
   },
   {
    "duration": 12,
    "start_time": "2022-12-11T11:54:46.639Z"
   },
   {
    "duration": 28,
    "start_time": "2022-12-11T11:54:46.653Z"
   },
   {
    "duration": 4,
    "start_time": "2022-12-11T11:54:46.683Z"
   },
   {
    "duration": 28,
    "start_time": "2022-12-11T11:54:46.688Z"
   },
   {
    "duration": 586,
    "start_time": "2022-12-11T11:54:46.718Z"
   },
   {
    "duration": 222,
    "start_time": "2022-12-11T11:54:47.305Z"
   },
   {
    "duration": 305201,
    "start_time": "2022-12-11T11:54:47.529Z"
   },
   {
    "duration": 3,
    "start_time": "2022-12-11T11:59:52.732Z"
   },
   {
    "duration": 96490,
    "start_time": "2022-12-11T11:59:52.737Z"
   },
   {
    "duration": 3,
    "start_time": "2022-12-11T12:01:29.229Z"
   },
   {
    "duration": 8385,
    "start_time": "2022-12-11T12:01:29.233Z"
   },
   {
    "duration": 3696,
    "start_time": "2022-12-11T12:01:37.620Z"
   },
   {
    "duration": 4,
    "start_time": "2022-12-11T12:02:35.708Z"
   },
   {
    "duration": 12,
    "start_time": "2022-12-11T12:02:38.131Z"
   },
   {
    "duration": 21,
    "start_time": "2022-12-11T12:04:38.177Z"
   },
   {
    "duration": 22,
    "start_time": "2022-12-11T12:04:57.632Z"
   },
   {
    "duration": 5,
    "start_time": "2022-12-11T12:05:56.680Z"
   },
   {
    "duration": 8,
    "start_time": "2022-12-11T12:05:57.034Z"
   },
   {
    "duration": 22,
    "start_time": "2022-12-11T12:05:57.831Z"
   },
   {
    "duration": 5,
    "start_time": "2022-12-11T12:06:28.149Z"
   },
   {
    "duration": 21,
    "start_time": "2022-12-11T12:06:29.112Z"
   },
   {
    "duration": 7,
    "start_time": "2022-12-11T12:06:29.681Z"
   },
   {
    "duration": 6,
    "start_time": "2022-12-11T12:06:31.634Z"
   },
   {
    "duration": 7,
    "start_time": "2022-12-11T12:06:31.839Z"
   },
   {
    "duration": 421,
    "start_time": "2022-12-11T12:06:32.454Z"
   },
   {
    "duration": 5,
    "start_time": "2022-12-11T12:06:32.878Z"
   },
   {
    "duration": 212871,
    "start_time": "2022-12-11T12:06:32.885Z"
   },
   {
    "duration": 4,
    "start_time": "2022-12-11T12:10:05.758Z"
   },
   {
    "duration": 4058,
    "start_time": "2022-12-11T12:10:05.763Z"
   },
   {
    "duration": 90,
    "start_time": "2022-12-11T12:10:09.824Z"
   },
   {
    "duration": 100,
    "start_time": "2022-12-11T12:10:09.919Z"
   },
   {
    "duration": 13,
    "start_time": "2022-12-11T12:10:10.022Z"
   },
   {
    "duration": 4,
    "start_time": "2022-12-11T12:10:10.037Z"
   },
   {
    "duration": 13,
    "start_time": "2022-12-11T12:10:10.042Z"
   },
   {
    "duration": 620,
    "start_time": "2022-12-11T12:10:10.057Z"
   },
   {
    "duration": 229,
    "start_time": "2022-12-11T12:10:10.678Z"
   },
   {
    "duration": 300338,
    "start_time": "2022-12-11T12:10:10.913Z"
   },
   {
    "duration": 3,
    "start_time": "2022-12-11T12:15:11.252Z"
   },
   {
    "duration": 94405,
    "start_time": "2022-12-11T12:15:11.256Z"
   },
   {
    "duration": 4,
    "start_time": "2022-12-11T12:16:45.663Z"
   },
   {
    "duration": 5446,
    "start_time": "2022-12-11T12:16:45.668Z"
   },
   {
    "duration": 3706,
    "start_time": "2022-12-11T12:16:51.116Z"
   },
   {
    "duration": 3,
    "start_time": "2022-12-11T12:21:16.247Z"
   },
   {
    "duration": 42,
    "start_time": "2022-12-11T12:21:16.649Z"
   },
   {
    "duration": 24,
    "start_time": "2022-12-11T12:21:16.863Z"
   },
   {
    "duration": 12,
    "start_time": "2022-12-11T12:21:17.146Z"
   },
   {
    "duration": 4,
    "start_time": "2022-12-11T12:21:17.569Z"
   },
   {
    "duration": 13,
    "start_time": "2022-12-11T12:21:17.765Z"
   },
   {
    "duration": 11,
    "start_time": "2022-12-11T12:21:18.136Z"
   },
   {
    "duration": 5,
    "start_time": "2022-12-11T12:21:18.685Z"
   },
   {
    "duration": 5,
    "start_time": "2022-12-11T12:21:19.081Z"
   },
   {
    "duration": 4,
    "start_time": "2022-12-11T12:21:19.281Z"
   },
   {
    "duration": 4,
    "start_time": "2022-12-11T12:21:19.459Z"
   },
   {
    "duration": 5,
    "start_time": "2022-12-11T12:21:19.656Z"
   },
   {
    "duration": 4,
    "start_time": "2022-12-11T12:21:19.831Z"
   },
   {
    "duration": 5,
    "start_time": "2022-12-11T12:21:20.015Z"
   },
   {
    "duration": 6,
    "start_time": "2022-12-11T12:21:20.431Z"
   },
   {
    "duration": 6,
    "start_time": "2022-12-11T12:21:21.212Z"
   },
   {
    "duration": 6,
    "start_time": "2022-12-11T12:21:21.396Z"
   },
   {
    "duration": 5,
    "start_time": "2022-12-11T12:21:21.629Z"
   },
   {
    "duration": 22,
    "start_time": "2022-12-11T12:21:22.040Z"
   },
   {
    "duration": 6,
    "start_time": "2022-12-11T12:21:22.246Z"
   },
   {
    "duration": 7,
    "start_time": "2022-12-11T12:21:22.454Z"
   },
   {
    "duration": 21,
    "start_time": "2022-12-11T12:21:22.654Z"
   },
   {
    "duration": 5,
    "start_time": "2022-12-11T12:21:23.244Z"
   },
   {
    "duration": 23,
    "start_time": "2022-12-11T12:21:23.452Z"
   },
   {
    "duration": 6,
    "start_time": "2022-12-11T12:21:23.624Z"
   },
   {
    "duration": 6,
    "start_time": "2022-12-11T12:21:24.241Z"
   },
   {
    "duration": 6,
    "start_time": "2022-12-11T12:21:24.431Z"
   },
   {
    "duration": 434,
    "start_time": "2022-12-11T12:21:25.006Z"
   },
   {
    "duration": 4,
    "start_time": "2022-12-11T12:21:25.442Z"
   },
   {
    "duration": 223080,
    "start_time": "2022-12-11T12:21:25.447Z"
   },
   {
    "duration": 4,
    "start_time": "2022-12-11T12:25:08.529Z"
   },
   {
    "duration": 5278,
    "start_time": "2022-12-11T12:25:08.535Z"
   },
   {
    "duration": 97,
    "start_time": "2022-12-11T12:25:13.815Z"
   },
   {
    "duration": 10,
    "start_time": "2022-12-11T12:25:13.914Z"
   },
   {
    "duration": 12,
    "start_time": "2022-12-11T12:25:13.926Z"
   },
   {
    "duration": 4,
    "start_time": "2022-12-11T12:25:13.940Z"
   },
   {
    "duration": 16,
    "start_time": "2022-12-11T12:25:13.946Z"
   },
   {
    "duration": 598,
    "start_time": "2022-12-11T12:25:13.964Z"
   },
   {
    "duration": 286,
    "start_time": "2022-12-11T12:25:14.565Z"
   },
   {
    "duration": 315855,
    "start_time": "2022-12-11T12:25:14.853Z"
   },
   {
    "duration": 5,
    "start_time": "2022-12-11T12:30:30.709Z"
   },
   {
    "duration": 117817,
    "start_time": "2022-12-11T12:30:30.715Z"
   },
   {
    "duration": 3,
    "start_time": "2022-12-11T12:32:28.534Z"
   },
   {
    "duration": 5478,
    "start_time": "2022-12-11T12:32:28.539Z"
   },
   {
    "duration": 4194,
    "start_time": "2022-12-11T12:32:34.020Z"
   },
   {
    "duration": 98,
    "start_time": "2022-12-11T12:37:51.606Z"
   },
   {
    "duration": 9,
    "start_time": "2022-12-11T12:37:51.928Z"
   },
   {
    "duration": 11,
    "start_time": "2022-12-11T12:37:52.312Z"
   },
   {
    "duration": 9,
    "start_time": "2022-12-11T12:37:53.479Z"
   },
   {
    "duration": 9,
    "start_time": "2022-12-11T12:37:53.968Z"
   },
   {
    "duration": 436,
    "start_time": "2022-12-11T12:38:53.657Z"
   },
   {
    "duration": 30,
    "start_time": "2022-12-11T12:39:04.337Z"
   },
   {
    "duration": 6,
    "start_time": "2022-12-11T12:39:18.447Z"
   },
   {
    "duration": 7,
    "start_time": "2022-12-11T12:39:22.311Z"
   },
   {
    "duration": 146,
    "start_time": "2022-12-11T12:39:22.917Z"
   },
   {
    "duration": 14,
    "start_time": "2022-12-11T12:39:23.816Z"
   },
   {
    "duration": 8,
    "start_time": "2022-12-11T12:39:28.251Z"
   },
   {
    "duration": 4,
    "start_time": "2022-12-11T12:39:29.800Z"
   },
   {
    "duration": 5,
    "start_time": "2022-12-11T12:46:27.390Z"
   },
   {
    "duration": 70,
    "start_time": "2022-12-11T12:46:37.814Z"
   },
   {
    "duration": 4,
    "start_time": "2022-12-11T12:46:50.841Z"
   },
   {
    "duration": 6,
    "start_time": "2022-12-11T12:47:02.736Z"
   },
   {
    "duration": 5,
    "start_time": "2022-12-11T12:47:16.193Z"
   },
   {
    "duration": 67,
    "start_time": "2022-12-11T12:56:35.939Z"
   },
   {
    "duration": 16,
    "start_time": "2022-12-11T12:58:53.411Z"
   },
   {
    "duration": 6,
    "start_time": "2022-12-11T12:58:53.728Z"
   },
   {
    "duration": 7,
    "start_time": "2022-12-11T12:58:53.963Z"
   },
   {
    "duration": 4,
    "start_time": "2022-12-11T12:58:54.219Z"
   },
   {
    "duration": 163,
    "start_time": "2022-12-11T12:58:54.596Z"
   },
   {
    "duration": 4,
    "start_time": "2022-12-11T13:00:27.828Z"
   },
   {
    "duration": 47,
    "start_time": "2022-12-11T13:00:28.337Z"
   },
   {
    "duration": 21,
    "start_time": "2022-12-11T13:00:28.561Z"
   },
   {
    "duration": 14,
    "start_time": "2022-12-11T13:00:28.771Z"
   },
   {
    "duration": 4,
    "start_time": "2022-12-11T13:00:29.176Z"
   },
   {
    "duration": 16,
    "start_time": "2022-12-11T13:00:29.386Z"
   },
   {
    "duration": 11,
    "start_time": "2022-12-11T13:00:29.753Z"
   },
   {
    "duration": 10,
    "start_time": "2022-12-11T13:00:30.334Z"
   },
   {
    "duration": 7,
    "start_time": "2022-12-11T13:00:30.719Z"
   },
   {
    "duration": 5,
    "start_time": "2022-12-11T13:00:30.936Z"
   },
   {
    "duration": 5,
    "start_time": "2022-12-11T13:00:31.318Z"
   },
   {
    "duration": 7,
    "start_time": "2022-12-11T13:00:31.503Z"
   },
   {
    "duration": 6,
    "start_time": "2022-12-11T13:00:32.103Z"
   },
   {
    "duration": 6,
    "start_time": "2022-12-11T13:00:32.289Z"
   },
   {
    "duration": 5,
    "start_time": "2022-12-11T13:00:32.480Z"
   },
   {
    "duration": 5,
    "start_time": "2022-12-11T13:00:32.660Z"
   },
   {
    "duration": 10,
    "start_time": "2022-12-11T13:00:33.643Z"
   },
   {
    "duration": 6,
    "start_time": "2022-12-11T13:00:33.801Z"
   },
   {
    "duration": 7,
    "start_time": "2022-12-11T13:00:34.001Z"
   },
   {
    "duration": 8,
    "start_time": "2022-12-11T13:00:34.366Z"
   },
   {
    "duration": 8,
    "start_time": "2022-12-11T13:00:34.558Z"
   },
   {
    "duration": 7,
    "start_time": "2022-12-11T13:00:35.157Z"
   },
   {
    "duration": 7,
    "start_time": "2022-12-11T13:00:35.451Z"
   },
   {
    "duration": 6,
    "start_time": "2022-12-11T13:00:36.034Z"
   },
   {
    "duration": 8,
    "start_time": "2022-12-11T13:00:36.249Z"
   },
   {
    "duration": 469,
    "start_time": "2022-12-11T13:00:36.872Z"
   },
   {
    "duration": 4,
    "start_time": "2022-12-11T13:00:37.343Z"
   },
   {
    "duration": 219411,
    "start_time": "2022-12-11T13:00:37.349Z"
   },
   {
    "duration": 4,
    "start_time": "2022-12-11T13:04:16.763Z"
   },
   {
    "duration": 4548,
    "start_time": "2022-12-11T13:04:16.769Z"
   },
   {
    "duration": 4,
    "start_time": "2022-12-11T13:04:21.319Z"
   },
   {
    "duration": 101,
    "start_time": "2022-12-11T13:04:21.413Z"
   },
   {
    "duration": 28,
    "start_time": "2022-12-11T13:04:21.516Z"
   },
   {
    "duration": 4,
    "start_time": "2022-12-11T13:04:21.545Z"
   },
   {
    "duration": 17,
    "start_time": "2022-12-11T13:04:21.550Z"
   },
   {
    "duration": 542,
    "start_time": "2022-12-11T13:04:21.568Z"
   },
   {
    "duration": 255,
    "start_time": "2022-12-11T13:04:22.112Z"
   },
   {
    "duration": 310550,
    "start_time": "2022-12-11T13:04:22.368Z"
   },
   {
    "duration": 116276,
    "start_time": "2022-12-11T13:09:32.921Z"
   },
   {
    "duration": 5821,
    "start_time": "2022-12-11T13:11:29.199Z"
   },
   {
    "duration": 3905,
    "start_time": "2022-12-11T13:11:35.022Z"
   },
   {
    "duration": 130,
    "start_time": "2022-12-11T13:11:39.014Z"
   },
   {
    "duration": 4,
    "start_time": "2022-12-11T13:11:39.146Z"
   },
   {
    "duration": 120,
    "start_time": "2022-12-11T13:11:39.151Z"
   },
   {
    "duration": 6,
    "start_time": "2022-12-11T13:11:39.273Z"
   },
   {
    "duration": 5,
    "start_time": "2022-12-11T13:11:39.280Z"
   },
   {
    "duration": 28,
    "start_time": "2022-12-11T13:11:39.286Z"
   },
   {
    "duration": 4,
    "start_time": "2022-12-11T13:11:39.317Z"
   },
   {
    "duration": 193,
    "start_time": "2022-12-11T13:11:39.323Z"
   },
   {
    "duration": 4,
    "start_time": "2022-12-11T13:11:39.517Z"
   },
   {
    "duration": 124,
    "start_time": "2022-12-11T13:11:39.522Z"
   },
   {
    "duration": 3371,
    "start_time": "2022-12-12T11:40:01.663Z"
   },
   {
    "duration": 43,
    "start_time": "2022-12-12T11:40:05.036Z"
   },
   {
    "duration": 18,
    "start_time": "2022-12-12T11:40:05.080Z"
   },
   {
    "duration": 11,
    "start_time": "2022-12-12T11:40:05.100Z"
   },
   {
    "duration": 4,
    "start_time": "2022-12-12T11:40:05.112Z"
   },
   {
    "duration": 14,
    "start_time": "2022-12-12T11:40:05.117Z"
   },
   {
    "duration": 24,
    "start_time": "2022-12-12T11:40:05.132Z"
   },
   {
    "duration": 4,
    "start_time": "2022-12-12T11:40:05.158Z"
   },
   {
    "duration": 9,
    "start_time": "2022-12-12T11:40:05.164Z"
   },
   {
    "duration": 7,
    "start_time": "2022-12-12T11:40:05.175Z"
   },
   {
    "duration": 8,
    "start_time": "2022-12-12T11:40:05.183Z"
   },
   {
    "duration": 5,
    "start_time": "2022-12-12T11:40:05.192Z"
   },
   {
    "duration": 7,
    "start_time": "2022-12-12T11:40:05.199Z"
   },
   {
    "duration": 7,
    "start_time": "2022-12-12T11:40:05.208Z"
   },
   {
    "duration": 6,
    "start_time": "2022-12-12T11:40:05.217Z"
   },
   {
    "duration": 34,
    "start_time": "2022-12-12T11:40:05.225Z"
   },
   {
    "duration": 11,
    "start_time": "2022-12-12T11:40:05.261Z"
   },
   {
    "duration": 11,
    "start_time": "2022-12-12T11:40:05.274Z"
   },
   {
    "duration": 6,
    "start_time": "2022-12-12T11:40:05.287Z"
   },
   {
    "duration": 6,
    "start_time": "2022-12-12T11:40:05.295Z"
   },
   {
    "duration": 10,
    "start_time": "2022-12-12T11:40:05.303Z"
   },
   {
    "duration": 4,
    "start_time": "2022-12-12T11:40:05.316Z"
   },
   {
    "duration": 15,
    "start_time": "2022-12-12T11:40:05.322Z"
   },
   {
    "duration": 17,
    "start_time": "2022-12-12T11:40:05.339Z"
   },
   {
    "duration": 13,
    "start_time": "2022-12-12T11:40:05.358Z"
   },
   {
    "duration": 492,
    "start_time": "2022-12-12T11:40:05.374Z"
   },
   {
    "duration": 4,
    "start_time": "2022-12-12T11:40:05.868Z"
   },
   {
    "duration": 247513,
    "start_time": "2022-12-12T11:40:05.876Z"
   },
   {
    "duration": 4,
    "start_time": "2022-12-12T11:44:13.390Z"
   },
   {
    "duration": 6365,
    "start_time": "2022-12-12T11:44:13.396Z"
   },
   {
    "duration": 94,
    "start_time": "2022-12-12T11:44:19.763Z"
   },
   {
    "duration": 10,
    "start_time": "2022-12-12T11:44:19.858Z"
   },
   {
    "duration": 13,
    "start_time": "2022-12-12T11:44:19.870Z"
   },
   {
    "duration": 5,
    "start_time": "2022-12-12T11:44:19.884Z"
   },
   {
    "duration": 11,
    "start_time": "2022-12-12T11:44:19.890Z"
   },
   {
    "duration": 650,
    "start_time": "2022-12-12T11:44:19.903Z"
   },
   {
    "duration": 293,
    "start_time": "2022-12-12T11:44:20.555Z"
   },
   {
    "duration": 346286,
    "start_time": "2022-12-12T11:44:20.850Z"
   },
   {
    "duration": 134141,
    "start_time": "2022-12-12T11:50:07.138Z"
   },
   {
    "duration": 9080,
    "start_time": "2022-12-12T11:52:21.281Z"
   },
   {
    "duration": 4596,
    "start_time": "2022-12-12T11:52:30.365Z"
   },
   {
    "duration": 100,
    "start_time": "2022-12-12T11:52:34.963Z"
   },
   {
    "duration": 4,
    "start_time": "2022-12-12T11:52:35.065Z"
   },
   {
    "duration": 142,
    "start_time": "2022-12-12T11:52:35.071Z"
   },
   {
    "duration": 7,
    "start_time": "2022-12-12T11:52:35.215Z"
   },
   {
    "duration": 13,
    "start_time": "2022-12-12T11:52:35.223Z"
   },
   {
    "duration": 25,
    "start_time": "2022-12-12T11:52:35.238Z"
   },
   {
    "duration": 93,
    "start_time": "2022-12-12T11:52:35.266Z"
   },
   {
    "duration": 99,
    "start_time": "2022-12-12T11:52:35.364Z"
   },
   {
    "duration": 9,
    "start_time": "2022-12-12T11:52:35.464Z"
   },
   {
    "duration": 126,
    "start_time": "2022-12-12T11:52:35.475Z"
   },
   {
    "duration": 24,
    "start_time": "2022-12-12T12:17:28.606Z"
   },
   {
    "duration": 74,
    "start_time": "2022-12-18T11:50:16.558Z"
   },
   {
    "duration": 45,
    "start_time": "2022-12-18T12:02:23.421Z"
   },
   {
    "duration": 5,
    "start_time": "2022-12-18T12:02:28.309Z"
   },
   {
    "duration": 1558,
    "start_time": "2022-12-18T12:03:18.518Z"
   },
   {
    "duration": 3,
    "start_time": "2022-12-18T12:03:34.808Z"
   },
   {
    "duration": 4,
    "start_time": "2022-12-18T12:03:40.936Z"
   },
   {
    "duration": 154,
    "start_time": "2022-12-18T12:03:42.874Z"
   },
   {
    "duration": 18,
    "start_time": "2022-12-18T12:03:43.726Z"
   },
   {
    "duration": 17,
    "start_time": "2022-12-18T12:03:44.358Z"
   },
   {
    "duration": 5,
    "start_time": "2022-12-18T12:03:46.323Z"
   },
   {
    "duration": 13,
    "start_time": "2022-12-18T12:03:46.891Z"
   },
   {
    "duration": 12,
    "start_time": "2022-12-18T12:03:48.567Z"
   },
   {
    "duration": 5,
    "start_time": "2022-12-18T12:03:50.474Z"
   },
   {
    "duration": 5,
    "start_time": "2022-12-18T12:03:51.712Z"
   },
   {
    "duration": 5,
    "start_time": "2022-12-18T12:03:52.207Z"
   },
   {
    "duration": 7,
    "start_time": "2022-12-18T12:03:53.146Z"
   },
   {
    "duration": 5,
    "start_time": "2022-12-18T12:03:53.604Z"
   },
   {
    "duration": 5,
    "start_time": "2022-12-18T12:03:55.420Z"
   },
   {
    "duration": 5,
    "start_time": "2022-12-18T12:03:56.098Z"
   },
   {
    "duration": 5,
    "start_time": "2022-12-18T12:03:57.233Z"
   },
   {
    "duration": 4,
    "start_time": "2022-12-18T12:03:57.942Z"
   },
   {
    "duration": 4,
    "start_time": "2022-12-18T12:04:02.710Z"
   },
   {
    "duration": 3,
    "start_time": "2022-12-18T12:04:03.324Z"
   },
   {
    "duration": 2,
    "start_time": "2022-12-18T12:04:03.839Z"
   },
   {
    "duration": 2,
    "start_time": "2022-12-18T12:04:07.339Z"
   },
   {
    "duration": 3,
    "start_time": "2022-12-18T12:04:07.828Z"
   },
   {
    "duration": 4,
    "start_time": "2022-12-18T12:04:14.254Z"
   },
   {
    "duration": 6,
    "start_time": "2022-12-18T12:04:16.210Z"
   },
   {
    "duration": 5,
    "start_time": "2022-12-18T12:04:17.155Z"
   },
   {
    "duration": 6,
    "start_time": "2022-12-18T12:04:17.946Z"
   },
   {
    "duration": 3,
    "start_time": "2022-12-18T12:04:22.444Z"
   },
   {
    "duration": 3,
    "start_time": "2022-12-18T12:08:16.067Z"
   },
   {
    "duration": 82,
    "start_time": "2022-12-18T12:08:16.549Z"
   },
   {
    "duration": 71,
    "start_time": "2022-12-18T12:08:25.223Z"
   },
   {
    "duration": 18,
    "start_time": "2022-12-18T12:08:42.198Z"
   },
   {
    "duration": 12,
    "start_time": "2022-12-18T12:10:24.220Z"
   },
   {
    "duration": 12,
    "start_time": "2022-12-18T12:10:30.766Z"
   },
   {
    "duration": 15,
    "start_time": "2022-12-18T12:10:52.552Z"
   },
   {
    "duration": 76,
    "start_time": "2022-12-18T12:12:07.132Z"
   },
   {
    "duration": 4,
    "start_time": "2022-12-18T12:12:28.224Z"
   },
   {
    "duration": 65,
    "start_time": "2022-12-18T12:12:35.534Z"
   },
   {
    "duration": 72,
    "start_time": "2022-12-18T12:12:40.541Z"
   },
   {
    "duration": 69,
    "start_time": "2022-12-18T12:12:55.411Z"
   },
   {
    "duration": 17,
    "start_time": "2022-12-18T12:13:02.646Z"
   },
   {
    "duration": 14,
    "start_time": "2022-12-18T12:13:14.717Z"
   },
   {
    "duration": 15,
    "start_time": "2022-12-18T12:13:25.016Z"
   },
   {
    "duration": 4,
    "start_time": "2022-12-18T12:13:46.357Z"
   },
   {
    "duration": 6,
    "start_time": "2022-12-18T12:13:48.017Z"
   },
   {
    "duration": 7,
    "start_time": "2022-12-18T12:13:48.688Z"
   },
   {
    "duration": 6,
    "start_time": "2022-12-18T12:13:49.426Z"
   },
   {
    "duration": 2,
    "start_time": "2022-12-18T12:13:50.761Z"
   },
   {
    "duration": 122,
    "start_time": "2022-12-18T12:13:51.350Z"
   },
   {
    "duration": 18,
    "start_time": "2022-12-18T12:14:07.566Z"
   },
   {
    "duration": 16,
    "start_time": "2022-12-18T12:14:53.854Z"
   },
   {
    "duration": 115,
    "start_time": "2022-12-18T12:15:09.828Z"
   },
   {
    "duration": 17,
    "start_time": "2022-12-18T12:15:41.951Z"
   },
   {
    "duration": 126,
    "start_time": "2022-12-18T12:16:32.437Z"
   },
   {
    "duration": 79,
    "start_time": "2022-12-18T12:16:34.950Z"
   },
   {
    "duration": 4,
    "start_time": "2022-12-18T12:18:00.494Z"
   },
   {
    "duration": 8,
    "start_time": "2022-12-18T12:18:53.855Z"
   },
   {
    "duration": 113,
    "start_time": "2022-12-18T12:19:05.172Z"
   },
   {
    "duration": 6,
    "start_time": "2022-12-18T12:19:31.829Z"
   },
   {
    "duration": 13,
    "start_time": "2022-12-18T12:19:45.579Z"
   },
   {
    "duration": 16,
    "start_time": "2022-12-18T12:21:16.109Z"
   },
   {
    "duration": 4,
    "start_time": "2022-12-18T12:22:39.355Z"
   },
   {
    "duration": 11,
    "start_time": "2022-12-18T12:23:20.634Z"
   },
   {
    "duration": 11,
    "start_time": "2022-12-18T12:23:29.914Z"
   },
   {
    "duration": 4,
    "start_time": "2022-12-18T12:24:44.954Z"
   },
   {
    "duration": 5,
    "start_time": "2022-12-18T12:25:24.200Z"
   },
   {
    "duration": 8,
    "start_time": "2022-12-18T12:25:31.712Z"
   },
   {
    "duration": 5,
    "start_time": "2022-12-18T12:27:45.333Z"
   },
   {
    "duration": 8,
    "start_time": "2022-12-18T12:28:51.265Z"
   },
   {
    "duration": 67,
    "start_time": "2022-12-18T12:30:05.625Z"
   },
   {
    "duration": 12,
    "start_time": "2022-12-18T12:30:11.928Z"
   },
   {
    "duration": 16,
    "start_time": "2022-12-18T12:30:41.525Z"
   },
   {
    "duration": 17,
    "start_time": "2022-12-18T13:06:14.403Z"
   },
   {
    "duration": 16,
    "start_time": "2022-12-18T13:07:13.770Z"
   },
   {
    "duration": 16,
    "start_time": "2022-12-18T13:10:21.212Z"
   },
   {
    "duration": 72,
    "start_time": "2022-12-18T13:11:59.154Z"
   },
   {
    "duration": 8,
    "start_time": "2022-12-18T13:12:05.317Z"
   },
   {
    "duration": 21,
    "start_time": "2022-12-18T13:12:12.734Z"
   },
   {
    "duration": 7,
    "start_time": "2022-12-18T13:13:19.218Z"
   },
   {
    "duration": 6,
    "start_time": "2022-12-18T13:13:19.487Z"
   },
   {
    "duration": 6,
    "start_time": "2022-12-18T13:13:20.004Z"
   },
   {
    "duration": 4,
    "start_time": "2022-12-18T13:13:23.653Z"
   },
   {
    "duration": 10,
    "start_time": "2022-12-18T13:13:24.924Z"
   },
   {
    "duration": 20,
    "start_time": "2022-12-18T13:13:26.303Z"
   },
   {
    "duration": 19,
    "start_time": "2022-12-18T13:15:30.949Z"
   },
   {
    "duration": 9,
    "start_time": "2022-12-18T13:16:06.845Z"
   },
   {
    "duration": 23,
    "start_time": "2022-12-18T13:17:10.234Z"
   },
   {
    "duration": 8,
    "start_time": "2022-12-18T13:18:16.187Z"
   },
   {
    "duration": 2,
    "start_time": "2022-12-18T13:21:13.941Z"
   },
   {
    "duration": 22,
    "start_time": "2022-12-18T13:21:54.934Z"
   },
   {
    "duration": 1109,
    "start_time": "2022-12-18T13:23:01.031Z"
   },
   {
    "duration": 4,
    "start_time": "2022-12-18T13:23:19.676Z"
   },
   {
    "duration": 12,
    "start_time": "2022-12-18T13:23:24.616Z"
   },
   {
    "duration": 12,
    "start_time": "2022-12-18T13:23:48.509Z"
   },
   {
    "duration": 4,
    "start_time": "2022-12-18T13:25:34.546Z"
   },
   {
    "duration": 11,
    "start_time": "2022-12-18T13:26:22.774Z"
   },
   {
    "duration": 3,
    "start_time": "2022-12-18T13:26:29.818Z"
   },
   {
    "duration": 3,
    "start_time": "2022-12-18T13:26:44.820Z"
   },
   {
    "duration": 3,
    "start_time": "2022-12-18T13:26:55.377Z"
   },
   {
    "duration": 14,
    "start_time": "2022-12-18T13:26:59.829Z"
   },
   {
    "duration": 10,
    "start_time": "2022-12-18T13:27:24.268Z"
   },
   {
    "duration": 11,
    "start_time": "2022-12-18T13:27:30.571Z"
   },
   {
    "duration": 12,
    "start_time": "2022-12-18T13:27:34.044Z"
   },
   {
    "duration": 6,
    "start_time": "2022-12-18T13:27:47.166Z"
   },
   {
    "duration": 5,
    "start_time": "2022-12-18T13:27:57.754Z"
   },
   {
    "duration": 4,
    "start_time": "2022-12-18T13:28:00.662Z"
   },
   {
    "duration": 4,
    "start_time": "2022-12-18T13:28:03.371Z"
   },
   {
    "duration": 4,
    "start_time": "2022-12-18T13:28:54.244Z"
   },
   {
    "duration": 13,
    "start_time": "2022-12-18T13:32:04.668Z"
   },
   {
    "duration": 8,
    "start_time": "2022-12-18T13:33:19.941Z"
   },
   {
    "duration": 11,
    "start_time": "2022-12-18T13:34:12.010Z"
   },
   {
    "duration": 9,
    "start_time": "2022-12-18T13:35:58.654Z"
   },
   {
    "duration": 9,
    "start_time": "2022-12-18T13:35:59.178Z"
   },
   {
    "duration": 11,
    "start_time": "2022-12-18T13:35:59.609Z"
   },
   {
    "duration": 10,
    "start_time": "2022-12-18T13:36:00.078Z"
   },
   {
    "duration": 170,
    "start_time": "2022-12-18T13:36:49.574Z"
   },
   {
    "duration": 7,
    "start_time": "2022-12-18T13:46:45.766Z"
   },
   {
    "duration": 38,
    "start_time": "2022-12-18T13:46:46.618Z"
   },
   {
    "duration": 16,
    "start_time": "2022-12-18T13:46:46.892Z"
   },
   {
    "duration": 12,
    "start_time": "2022-12-18T13:46:47.166Z"
   },
   {
    "duration": 5,
    "start_time": "2022-12-18T13:46:47.893Z"
   },
   {
    "duration": 13,
    "start_time": "2022-12-18T13:46:48.157Z"
   },
   {
    "duration": 11,
    "start_time": "2022-12-18T13:46:48.921Z"
   },
   {
    "duration": 5,
    "start_time": "2022-12-18T13:46:49.622Z"
   },
   {
    "duration": 5,
    "start_time": "2022-12-18T13:46:50.080Z"
   },
   {
    "duration": 5,
    "start_time": "2022-12-18T13:46:50.323Z"
   },
   {
    "duration": 5,
    "start_time": "2022-12-18T13:46:50.759Z"
   },
   {
    "duration": 6,
    "start_time": "2022-12-18T13:46:50.992Z"
   },
   {
    "duration": 3,
    "start_time": "2022-12-18T13:46:51.828Z"
   },
   {
    "duration": 5,
    "start_time": "2022-12-18T13:46:52.060Z"
   },
   {
    "duration": 5,
    "start_time": "2022-12-18T13:46:52.325Z"
   },
   {
    "duration": 4,
    "start_time": "2022-12-18T13:46:52.536Z"
   },
   {
    "duration": 3,
    "start_time": "2022-12-18T13:46:54.176Z"
   },
   {
    "duration": 2,
    "start_time": "2022-12-18T13:46:54.420Z"
   },
   {
    "duration": 2,
    "start_time": "2022-12-18T13:46:54.670Z"
   },
   {
    "duration": 2,
    "start_time": "2022-12-18T13:46:56.093Z"
   },
   {
    "duration": 2,
    "start_time": "2022-12-18T13:46:56.335Z"
   },
   {
    "duration": 4,
    "start_time": "2022-12-18T13:46:57.771Z"
   },
   {
    "duration": 6,
    "start_time": "2022-12-18T13:46:57.983Z"
   },
   {
    "duration": 7,
    "start_time": "2022-12-18T13:46:58.255Z"
   },
   {
    "duration": 7,
    "start_time": "2022-12-18T13:46:58.518Z"
   },
   {
    "duration": 4,
    "start_time": "2022-12-18T13:46:59.478Z"
   },
   {
    "duration": 8,
    "start_time": "2022-12-18T13:46:59.719Z"
   },
   {
    "duration": 10,
    "start_time": "2022-12-18T13:47:00.718Z"
   },
   {
    "duration": 9,
    "start_time": "2022-12-18T13:47:01.118Z"
   },
   {
    "duration": 3,
    "start_time": "2022-12-18T13:47:01.572Z"
   },
   {
    "duration": 8,
    "start_time": "2022-12-18T13:47:02.067Z"
   },
   {
    "duration": 8,
    "start_time": "2022-12-18T13:47:02.518Z"
   },
   {
    "duration": 8,
    "start_time": "2022-12-18T13:47:02.888Z"
   },
   {
    "duration": 9,
    "start_time": "2022-12-18T13:47:03.216Z"
   },
   {
    "duration": 8,
    "start_time": "2022-12-18T13:47:03.516Z"
   },
   {
    "duration": 8,
    "start_time": "2022-12-18T13:47:03.858Z"
   },
   {
    "duration": 9,
    "start_time": "2022-12-18T13:47:04.219Z"
   },
   {
    "duration": 5,
    "start_time": "2022-12-18T13:47:05.139Z"
   },
   {
    "duration": 6,
    "start_time": "2022-12-18T13:47:06.016Z"
   },
   {
    "duration": 130,
    "start_time": "2022-12-18T13:47:09.044Z"
   },
   {
    "duration": 7,
    "start_time": "2022-12-18T13:50:08.236Z"
   },
   {
    "duration": 2,
    "start_time": "2022-12-18T13:50:09.491Z"
   },
   {
    "duration": 8,
    "start_time": "2022-12-18T13:50:14.443Z"
   },
   {
    "duration": 7,
    "start_time": "2022-12-18T13:50:14.784Z"
   },
   {
    "duration": 9,
    "start_time": "2022-12-18T13:50:15.121Z"
   },
   {
    "duration": 8,
    "start_time": "2022-12-18T13:50:15.389Z"
   },
   {
    "duration": 9,
    "start_time": "2022-12-18T13:50:15.723Z"
   },
   {
    "duration": 7,
    "start_time": "2022-12-18T13:50:16.516Z"
   },
   {
    "duration": 8,
    "start_time": "2022-12-18T13:50:17.177Z"
   },
   {
    "duration": 5,
    "start_time": "2022-12-18T13:50:21.089Z"
   },
   {
    "duration": 6,
    "start_time": "2022-12-18T13:50:21.366Z"
   },
   {
    "duration": 268,
    "start_time": "2022-12-18T13:50:23.179Z"
   },
   {
    "duration": 20,
    "start_time": "2022-12-18T13:50:44.282Z"
   },
   {
    "duration": 20,
    "start_time": "2022-12-18T13:51:31.949Z"
   },
   {
    "duration": 20,
    "start_time": "2022-12-18T13:51:45.649Z"
   },
   {
    "duration": 307,
    "start_time": "2022-12-18T13:52:18.239Z"
   },
   {
    "duration": 302,
    "start_time": "2022-12-18T13:53:08.882Z"
   },
   {
    "duration": 286,
    "start_time": "2022-12-18T13:54:37.138Z"
   },
   {
    "duration": 4,
    "start_time": "2022-12-18T13:55:51.861Z"
   },
   {
    "duration": 273,
    "start_time": "2022-12-18T13:56:32.794Z"
   },
   {
    "duration": 265,
    "start_time": "2022-12-18T14:00:23.536Z"
   },
   {
    "duration": 128938,
    "start_time": "2022-12-18T14:01:24.049Z"
   },
   {
    "duration": 17,
    "start_time": "2022-12-18T14:03:32.989Z"
   },
   {
    "duration": 7950,
    "start_time": "2022-12-18T14:03:33.011Z"
   },
   {
    "duration": 4,
    "start_time": "2022-12-18T14:03:40.963Z"
   },
   {
    "duration": 5,
    "start_time": "2022-12-18T14:13:50.886Z"
   },
   {
    "duration": 8662,
    "start_time": "2022-12-18T14:13:51.702Z"
   },
   {
    "duration": 5,
    "start_time": "2022-12-18T14:14:00.366Z"
   },
   {
    "duration": 4,
    "start_time": "2022-12-18T14:14:02.649Z"
   },
   {
    "duration": 10,
    "start_time": "2022-12-18T14:14:04.122Z"
   },
   {
    "duration": 5,
    "start_time": "2022-12-18T14:14:04.962Z"
   },
   {
    "duration": 12,
    "start_time": "2022-12-18T14:14:07.626Z"
   },
   {
    "duration": 9,
    "start_time": "2022-12-18T14:15:51.824Z"
   },
   {
    "duration": 14,
    "start_time": "2022-12-18T14:16:09.306Z"
   },
   {
    "duration": 13,
    "start_time": "2022-12-18T14:16:20.917Z"
   },
   {
    "duration": 20,
    "start_time": "2022-12-18T14:17:24.997Z"
   },
   {
    "duration": 7583,
    "start_time": "2022-12-18T14:17:59.784Z"
   },
   {
    "duration": 24,
    "start_time": "2022-12-18T14:18:08.862Z"
   },
   {
    "duration": 22,
    "start_time": "2022-12-18T14:18:28.793Z"
   },
   {
    "duration": 2448,
    "start_time": "2022-12-18T14:18:45.649Z"
   },
   {
    "duration": 1301,
    "start_time": "2022-12-18T14:18:49.777Z"
   },
   {
    "duration": 51,
    "start_time": "2022-12-18T14:19:00.624Z"
   },
   {
    "duration": 28,
    "start_time": "2022-12-18T14:19:01.062Z"
   },
   {
    "duration": 19,
    "start_time": "2022-12-18T14:19:01.539Z"
   },
   {
    "duration": 4,
    "start_time": "2022-12-18T14:19:02.970Z"
   },
   {
    "duration": 16,
    "start_time": "2022-12-18T14:19:03.427Z"
   },
   {
    "duration": 11,
    "start_time": "2022-12-18T14:19:04.972Z"
   },
   {
    "duration": 5,
    "start_time": "2022-12-18T14:19:07.368Z"
   },
   {
    "duration": 7,
    "start_time": "2022-12-18T14:19:08.101Z"
   },
   {
    "duration": 5,
    "start_time": "2022-12-18T14:19:08.443Z"
   },
   {
    "duration": 6,
    "start_time": "2022-12-18T14:19:09.071Z"
   },
   {
    "duration": 6,
    "start_time": "2022-12-18T14:19:09.391Z"
   },
   {
    "duration": 4,
    "start_time": "2022-12-18T14:19:10.465Z"
   },
   {
    "duration": 5,
    "start_time": "2022-12-18T14:19:10.850Z"
   },
   {
    "duration": 5,
    "start_time": "2022-12-18T14:19:11.274Z"
   },
   {
    "duration": 5,
    "start_time": "2022-12-18T14:19:11.670Z"
   },
   {
    "duration": 3,
    "start_time": "2022-12-18T14:19:14.148Z"
   },
   {
    "duration": 3,
    "start_time": "2022-12-18T14:19:14.781Z"
   },
   {
    "duration": 2,
    "start_time": "2022-12-18T14:19:15.100Z"
   },
   {
    "duration": 2,
    "start_time": "2022-12-18T14:19:17.366Z"
   },
   {
    "duration": 2,
    "start_time": "2022-12-18T14:19:17.833Z"
   },
   {
    "duration": 6,
    "start_time": "2022-12-18T14:19:19.931Z"
   },
   {
    "duration": 8,
    "start_time": "2022-12-18T14:19:20.468Z"
   },
   {
    "duration": 7,
    "start_time": "2022-12-18T14:19:21.283Z"
   },
   {
    "duration": 7,
    "start_time": "2022-12-18T14:19:21.747Z"
   },
   {
    "duration": 7,
    "start_time": "2022-12-18T14:19:23.372Z"
   },
   {
    "duration": 9,
    "start_time": "2022-12-18T14:19:29.722Z"
   },
   {
    "duration": 10,
    "start_time": "2022-12-18T14:19:33.114Z"
   },
   {
    "duration": 8,
    "start_time": "2022-12-18T14:19:33.529Z"
   },
   {
    "duration": 6,
    "start_time": "2022-12-18T14:19:33.942Z"
   },
   {
    "duration": 3,
    "start_time": "2022-12-18T14:19:34.339Z"
   },
   {
    "duration": 8,
    "start_time": "2022-12-18T14:19:34.755Z"
   },
   {
    "duration": 115,
    "start_time": "2022-12-18T14:19:35.149Z"
   },
   {
    "duration": 10,
    "start_time": "2022-12-18T14:19:36.314Z"
   },
   {
    "duration": 12,
    "start_time": "2022-12-18T14:19:36.670Z"
   },
   {
    "duration": 9,
    "start_time": "2022-12-18T14:20:25.185Z"
   },
   {
    "duration": 7,
    "start_time": "2022-12-18T14:20:33.059Z"
   },
   {
    "duration": 9,
    "start_time": "2022-12-18T14:20:33.418Z"
   },
   {
    "duration": 13,
    "start_time": "2022-12-18T14:20:34.163Z"
   },
   {
    "duration": 9,
    "start_time": "2022-12-18T14:20:35.064Z"
   },
   {
    "duration": 8,
    "start_time": "2022-12-18T14:20:39.216Z"
   },
   {
    "duration": 9,
    "start_time": "2022-12-18T14:20:40.738Z"
   },
   {
    "duration": 32,
    "start_time": "2022-12-18T14:20:41.289Z"
   },
   {
    "duration": 5,
    "start_time": "2022-12-18T14:20:43.174Z"
   },
   {
    "duration": 5,
    "start_time": "2022-12-18T14:20:43.491Z"
   },
   {
    "duration": 285,
    "start_time": "2022-12-18T14:20:44.761Z"
   },
   {
    "duration": 5,
    "start_time": "2022-12-18T14:20:50.117Z"
   },
   {
    "duration": 130630,
    "start_time": "2022-12-18T14:20:50.521Z"
   },
   {
    "duration": 4,
    "start_time": "2022-12-18T14:23:01.153Z"
   },
   {
    "duration": 11902,
    "start_time": "2022-12-18T14:23:01.158Z"
   },
   {
    "duration": 4,
    "start_time": "2022-12-18T14:23:13.062Z"
   },
   {
    "duration": 6,
    "start_time": "2022-12-18T14:23:13.068Z"
   },
   {
    "duration": 18,
    "start_time": "2022-12-18T14:23:13.076Z"
   },
   {
    "duration": 22,
    "start_time": "2022-12-18T14:23:13.095Z"
   },
   {
    "duration": 17,
    "start_time": "2022-12-18T14:23:13.119Z"
   },
   {
    "duration": 0,
    "start_time": "2022-12-18T14:23:13.167Z"
   },
   {
    "duration": 0,
    "start_time": "2022-12-18T14:23:13.168Z"
   },
   {
    "duration": 26,
    "start_time": "2022-12-18T14:24:08.804Z"
   },
   {
    "duration": 24,
    "start_time": "2022-12-18T14:24:39.299Z"
   },
   {
    "duration": 8,
    "start_time": "2022-12-18T14:24:48.940Z"
   },
   {
    "duration": 4,
    "start_time": "2022-12-18T14:26:04.157Z"
   },
   {
    "duration": 8,
    "start_time": "2022-12-18T14:26:18.663Z"
   },
   {
    "duration": 203,
    "start_time": "2022-12-18T14:27:10.217Z"
   },
   {
    "duration": 1644,
    "start_time": "2022-12-23T21:34:03.450Z"
   },
   {
    "duration": 6278,
    "start_time": "2022-12-23T21:34:50.397Z"
   },
   {
    "duration": 21,
    "start_time": "2022-12-23T21:34:56.677Z"
   },
   {
    "duration": 17,
    "start_time": "2022-12-23T21:35:09.100Z"
   },
   {
    "duration": 1323,
    "start_time": "2022-12-23T21:37:21.401Z"
   },
   {
    "duration": 83,
    "start_time": "2022-12-23T21:37:27.161Z"
   },
   {
    "duration": 18,
    "start_time": "2022-12-23T21:37:27.491Z"
   },
   {
    "duration": 17,
    "start_time": "2022-12-23T21:37:27.870Z"
   },
   {
    "duration": 5,
    "start_time": "2022-12-23T21:37:28.756Z"
   },
   {
    "duration": 16,
    "start_time": "2022-12-23T21:37:28.973Z"
   },
   {
    "duration": 11,
    "start_time": "2022-12-23T21:37:30.900Z"
   },
   {
    "duration": 5,
    "start_time": "2022-12-23T21:37:33.352Z"
   },
   {
    "duration": 4,
    "start_time": "2022-12-23T21:37:50.351Z"
   },
   {
    "duration": 11,
    "start_time": "2022-12-23T21:37:50.694Z"
   },
   {
    "duration": 10,
    "start_time": "2022-12-23T21:37:55.297Z"
   },
   {
    "duration": 4,
    "start_time": "2022-12-23T21:37:57.319Z"
   },
   {
    "duration": 4,
    "start_time": "2022-12-23T21:37:58.952Z"
   },
   {
    "duration": 4,
    "start_time": "2022-12-23T21:37:59.589Z"
   },
   {
    "duration": 5,
    "start_time": "2022-12-23T21:38:01.799Z"
   },
   {
    "duration": 4,
    "start_time": "2022-12-23T21:38:04.461Z"
   },
   {
    "duration": 4,
    "start_time": "2022-12-23T21:38:05.469Z"
   },
   {
    "duration": 4,
    "start_time": "2022-12-23T21:38:05.782Z"
   },
   {
    "duration": 5,
    "start_time": "2022-12-23T21:38:06.251Z"
   },
   {
    "duration": 5,
    "start_time": "2022-12-23T21:38:06.652Z"
   },
   {
    "duration": 3,
    "start_time": "2022-12-23T21:38:08.963Z"
   },
   {
    "duration": 2,
    "start_time": "2022-12-23T21:38:09.456Z"
   },
   {
    "duration": 3,
    "start_time": "2022-12-23T21:38:10.162Z"
   },
   {
    "duration": 3,
    "start_time": "2022-12-23T21:38:12.872Z"
   },
   {
    "duration": 3,
    "start_time": "2022-12-23T21:38:13.162Z"
   },
   {
    "duration": 4,
    "start_time": "2022-12-23T21:38:14.572Z"
   },
   {
    "duration": 6,
    "start_time": "2022-12-23T21:38:14.779Z"
   },
   {
    "duration": 6,
    "start_time": "2022-12-23T21:38:15.000Z"
   },
   {
    "duration": 7,
    "start_time": "2022-12-23T21:38:15.251Z"
   },
   {
    "duration": 5,
    "start_time": "2022-12-23T21:38:16.099Z"
   },
   {
    "duration": 9,
    "start_time": "2022-12-23T21:38:16.307Z"
   },
   {
    "duration": 12,
    "start_time": "2022-12-23T21:38:16.557Z"
   },
   {
    "duration": 9,
    "start_time": "2022-12-23T21:38:17.396Z"
   },
   {
    "duration": 7,
    "start_time": "2022-12-23T21:38:17.636Z"
   },
   {
    "duration": 3,
    "start_time": "2022-12-23T21:38:17.999Z"
   },
   {
    "duration": 9,
    "start_time": "2022-12-23T21:38:18.319Z"
   },
   {
    "duration": 8,
    "start_time": "2022-12-23T21:38:18.659Z"
   },
   {
    "duration": 10,
    "start_time": "2022-12-23T21:38:19.014Z"
   },
   {
    "duration": 8,
    "start_time": "2022-12-23T21:38:19.485Z"
   },
   {
    "duration": 9,
    "start_time": "2022-12-23T21:38:19.648Z"
   },
   {
    "duration": 9,
    "start_time": "2022-12-23T21:38:19.862Z"
   },
   {
    "duration": 8,
    "start_time": "2022-12-23T21:38:20.099Z"
   },
   {
    "duration": 21,
    "start_time": "2022-12-23T21:38:20.352Z"
   },
   {
    "duration": 5,
    "start_time": "2022-12-23T21:38:21.570Z"
   },
   {
    "duration": 6,
    "start_time": "2022-12-23T21:38:21.916Z"
   },
   {
    "duration": 261,
    "start_time": "2022-12-23T21:38:23.452Z"
   },
   {
    "duration": 4,
    "start_time": "2022-12-23T21:38:25.899Z"
   },
   {
    "duration": 129110,
    "start_time": "2022-12-23T21:38:26.296Z"
   },
   {
    "duration": 5,
    "start_time": "2022-12-23T21:40:35.408Z"
   },
   {
    "duration": 3236,
    "start_time": "2022-12-23T21:40:35.415Z"
   },
   {
    "duration": 4,
    "start_time": "2022-12-23T21:40:38.653Z"
   },
   {
    "duration": 9,
    "start_time": "2022-12-23T21:40:38.659Z"
   },
   {
    "duration": 14,
    "start_time": "2022-12-23T21:40:38.669Z"
   },
   {
    "duration": 6,
    "start_time": "2022-12-23T21:40:38.684Z"
   },
   {
    "duration": 27,
    "start_time": "2022-12-23T21:40:38.692Z"
   },
   {
    "duration": 25,
    "start_time": "2022-12-23T21:40:38.721Z"
   },
   {
    "duration": 11,
    "start_time": "2022-12-23T21:40:38.748Z"
   },
   {
    "duration": 211,
    "start_time": "2022-12-23T21:40:38.761Z"
   },
   {
    "duration": 214,
    "start_time": "2022-12-23T21:43:09.705Z"
   },
   {
    "duration": 167269,
    "start_time": "2022-12-23T21:43:12.171Z"
   },
   {
    "duration": 94856,
    "start_time": "2022-12-23T21:45:59.442Z"
   },
   {
    "duration": 3913,
    "start_time": "2022-12-23T21:47:34.300Z"
   },
   {
    "duration": 304,
    "start_time": "2022-12-23T21:47:38.215Z"
   },
   {
    "duration": 210,
    "start_time": "2022-12-23T21:51:02.644Z"
   },
   {
    "duration": 195,
    "start_time": "2022-12-23T21:53:16.647Z"
   },
   {
    "duration": 211,
    "start_time": "2022-12-23T21:53:29.844Z"
   },
   {
    "duration": 479,
    "start_time": "2022-12-23T21:54:23.944Z"
   },
   {
    "duration": 392,
    "start_time": "2022-12-23T21:54:32.006Z"
   },
   {
    "duration": 405,
    "start_time": "2022-12-23T21:54:39.810Z"
   },
   {
    "duration": 222,
    "start_time": "2022-12-23T21:54:50.051Z"
   },
   {
    "duration": 221,
    "start_time": "2022-12-23T21:56:24.805Z"
   },
   {
    "duration": 359,
    "start_time": "2022-12-23T21:57:01.716Z"
   },
   {
    "duration": 10,
    "start_time": "2022-12-23T21:58:49.215Z"
   },
   {
    "duration": 11,
    "start_time": "2022-12-23T21:58:55.936Z"
   },
   {
    "duration": 229,
    "start_time": "2022-12-23T21:58:59.136Z"
   },
   {
    "duration": 236,
    "start_time": "2022-12-23T21:59:06.332Z"
   },
   {
    "duration": 358,
    "start_time": "2022-12-23T21:59:24.339Z"
   },
   {
    "duration": 385,
    "start_time": "2022-12-23T22:00:08.154Z"
   },
   {
    "duration": 93136,
    "start_time": "2022-12-23T22:00:57.010Z"
   },
   {
    "duration": 96444,
    "start_time": "2022-12-23T22:02:52.813Z"
   },
   {
    "duration": 184797,
    "start_time": "2022-12-23T22:04:29.259Z"
   },
   {
    "duration": 2987,
    "start_time": "2022-12-23T22:07:48.433Z"
   },
   {
    "duration": 3478,
    "start_time": "2022-12-23T22:07:51.514Z"
   },
   {
    "duration": 180614,
    "start_time": "2022-12-23T22:11:58.680Z"
   },
   {
    "duration": 4123,
    "start_time": "2022-12-23T22:14:59.296Z"
   },
   {
    "duration": 4166,
    "start_time": "2022-12-23T22:15:03.424Z"
   },
   {
    "duration": 2469,
    "start_time": "2022-12-23T22:17:46.251Z"
   },
   {
    "duration": 10,
    "start_time": "2022-12-23T22:20:55.839Z"
   },
   {
    "duration": 3561,
    "start_time": "2022-12-23T22:21:11.661Z"
   },
   {
    "duration": 66932,
    "start_time": "2022-12-23T22:21:25.597Z"
   },
   {
    "duration": 0,
    "start_time": "2022-12-23T22:22:32.531Z"
   },
   {
    "duration": 0,
    "start_time": "2022-12-23T22:22:32.532Z"
   },
   {
    "duration": 22,
    "start_time": "2022-12-23T22:22:36.017Z"
   },
   {
    "duration": 12,
    "start_time": "2022-12-23T22:22:36.199Z"
   },
   {
    "duration": 228,
    "start_time": "2022-12-23T22:22:37.151Z"
   },
   {
    "duration": 409,
    "start_time": "2022-12-23T22:22:43.140Z"
   },
   {
    "duration": 390,
    "start_time": "2022-12-23T22:22:53.729Z"
   },
   {
    "duration": 97537,
    "start_time": "2022-12-23T22:23:29.239Z"
   },
   {
    "duration": 187023,
    "start_time": "2022-12-23T22:25:06.779Z"
   },
   {
    "duration": 2716,
    "start_time": "2022-12-23T22:28:13.803Z"
   },
   {
    "duration": 4273,
    "start_time": "2022-12-23T22:28:16.521Z"
   },
   {
    "duration": 7,
    "start_time": "2022-12-23T22:30:26.880Z"
   },
   {
    "duration": 6,
    "start_time": "2022-12-23T22:30:33.567Z"
   },
   {
    "duration": 8,
    "start_time": "2022-12-23T22:30:34.437Z"
   },
   {
    "duration": 7,
    "start_time": "2022-12-23T22:30:38.079Z"
   },
   {
    "duration": 11,
    "start_time": "2022-12-23T22:30:38.478Z"
   },
   {
    "duration": 6,
    "start_time": "2022-12-23T22:30:47.609Z"
   },
   {
    "duration": 28,
    "start_time": "2022-12-23T22:30:49.143Z"
   },
   {
    "duration": 2040,
    "start_time": "2022-12-23T22:31:12.576Z"
   },
   {
    "duration": 1252,
    "start_time": "2022-12-23T22:31:15.259Z"
   },
   {
    "duration": 40,
    "start_time": "2022-12-23T22:31:17.987Z"
   },
   {
    "duration": 20,
    "start_time": "2022-12-23T22:31:18.362Z"
   },
   {
    "duration": 13,
    "start_time": "2022-12-23T22:31:18.553Z"
   },
   {
    "duration": 4,
    "start_time": "2022-12-23T22:31:20.415Z"
   },
   {
    "duration": 25,
    "start_time": "2022-12-23T22:31:20.805Z"
   },
   {
    "duration": 12,
    "start_time": "2022-12-23T22:31:23.238Z"
   },
   {
    "duration": 5,
    "start_time": "2022-12-23T22:31:24.608Z"
   },
   {
    "duration": 4,
    "start_time": "2022-12-23T22:31:25.412Z"
   },
   {
    "duration": 4,
    "start_time": "2022-12-23T22:31:25.777Z"
   },
   {
    "duration": 7,
    "start_time": "2022-12-23T22:31:27.316Z"
   },
   {
    "duration": 6,
    "start_time": "2022-12-23T22:31:27.611Z"
   },
   {
    "duration": 5,
    "start_time": "2022-12-23T22:31:29.123Z"
   },
   {
    "duration": 6,
    "start_time": "2022-12-23T22:31:29.275Z"
   },
   {
    "duration": 5,
    "start_time": "2022-12-23T22:31:29.311Z"
   },
   {
    "duration": 5,
    "start_time": "2022-12-23T22:31:29.454Z"
   },
   {
    "duration": 2,
    "start_time": "2022-12-23T22:31:36.664Z"
   },
   {
    "duration": 2,
    "start_time": "2022-12-23T22:31:36.808Z"
   },
   {
    "duration": 2,
    "start_time": "2022-12-23T22:31:36.941Z"
   },
   {
    "duration": 2,
    "start_time": "2022-12-23T22:31:39.862Z"
   },
   {
    "duration": 4,
    "start_time": "2022-12-23T22:31:41.615Z"
   },
   {
    "duration": 4,
    "start_time": "2022-12-23T22:31:47.573Z"
   },
   {
    "duration": 6,
    "start_time": "2022-12-23T22:32:17.993Z"
   },
   {
    "duration": 6,
    "start_time": "2022-12-23T22:32:19.684Z"
   },
   {
    "duration": 7,
    "start_time": "2022-12-23T22:32:20.139Z"
   },
   {
    "duration": 5,
    "start_time": "2022-12-23T22:32:29.793Z"
   },
   {
    "duration": 9,
    "start_time": "2022-12-23T22:32:32.274Z"
   },
   {
    "duration": 11,
    "start_time": "2022-12-23T22:32:33.740Z"
   },
   {
    "duration": 10,
    "start_time": "2022-12-23T22:32:40.803Z"
   },
   {
    "duration": 9,
    "start_time": "2022-12-23T22:32:44.745Z"
   },
   {
    "duration": 4,
    "start_time": "2022-12-23T22:32:46.680Z"
   },
   {
    "duration": 10,
    "start_time": "2022-12-23T22:32:47.451Z"
   },
   {
    "duration": 3,
    "start_time": "2022-12-23T22:34:14.368Z"
   },
   {
    "duration": 10,
    "start_time": "2022-12-23T22:34:15.120Z"
   },
   {
    "duration": 8,
    "start_time": "2022-12-23T22:34:16.066Z"
   },
   {
    "duration": 10,
    "start_time": "2022-12-23T22:34:16.595Z"
   },
   {
    "duration": 9,
    "start_time": "2022-12-23T22:34:17.098Z"
   },
   {
    "duration": 10,
    "start_time": "2022-12-23T22:34:17.552Z"
   },
   {
    "duration": 8,
    "start_time": "2022-12-23T22:34:17.860Z"
   },
   {
    "duration": 9,
    "start_time": "2022-12-23T22:34:18.214Z"
   },
   {
    "duration": 22,
    "start_time": "2022-12-23T22:34:22.549Z"
   },
   {
    "duration": 5,
    "start_time": "2022-12-23T22:34:45.106Z"
   },
   {
    "duration": 6,
    "start_time": "2022-12-23T22:34:46.245Z"
   },
   {
    "duration": 354,
    "start_time": "2022-12-23T22:37:05.274Z"
   },
   {
    "duration": 4,
    "start_time": "2022-12-23T22:37:20.872Z"
   },
   {
    "duration": 767,
    "start_time": "2022-12-23T22:37:48.388Z"
   },
   {
    "duration": 4,
    "start_time": "2022-12-23T22:37:50.483Z"
   },
   {
    "duration": 660,
    "start_time": "2022-12-23T22:38:01.909Z"
   },
   {
    "duration": 4,
    "start_time": "2022-12-23T22:38:04.258Z"
   },
   {
    "duration": 880,
    "start_time": "2022-12-23T22:38:44.702Z"
   },
   {
    "duration": 4,
    "start_time": "2022-12-23T22:38:46.654Z"
   },
   {
    "duration": 4,
    "start_time": "2022-12-23T22:38:50.851Z"
   },
   {
    "duration": 30960,
    "start_time": "2022-12-23T22:38:57.246Z"
   },
   {
    "duration": 0,
    "start_time": "2022-12-23T22:39:28.212Z"
   },
   {
    "duration": 20661,
    "start_time": "2022-12-23T22:39:40.017Z"
   },
   {
    "duration": 20465,
    "start_time": "2022-12-23T22:40:10.358Z"
   },
   {
    "duration": 4,
    "start_time": "2022-12-23T22:40:30.825Z"
   },
   {
    "duration": 949,
    "start_time": "2022-12-23T22:40:30.831Z"
   },
   {
    "duration": 4,
    "start_time": "2022-12-23T22:40:31.781Z"
   },
   {
    "duration": 4,
    "start_time": "2022-12-23T22:40:46.747Z"
   },
   {
    "duration": 61188,
    "start_time": "2022-12-23T22:41:15.192Z"
   },
   {
    "duration": 6,
    "start_time": "2022-12-23T22:42:16.383Z"
   },
   {
    "duration": 3077,
    "start_time": "2022-12-23T22:43:08.552Z"
   },
   {
    "duration": 4,
    "start_time": "2022-12-23T22:43:11.631Z"
   },
   {
    "duration": 16,
    "start_time": "2022-12-23T22:43:57.456Z"
   },
   {
    "duration": 10,
    "start_time": "2022-12-23T22:44:02.151Z"
   },
   {
    "duration": 1325,
    "start_time": "2022-12-23T22:44:52.052Z"
   },
   {
    "duration": 1342,
    "start_time": "2022-12-23T22:45:07.220Z"
   },
   {
    "duration": 4,
    "start_time": "2022-12-23T22:45:30.655Z"
   },
   {
    "duration": 3,
    "start_time": "2022-12-23T22:46:20.264Z"
   },
   {
    "duration": 1928,
    "start_time": "2022-12-23T22:46:49.761Z"
   },
   {
    "duration": 4,
    "start_time": "2022-12-23T22:46:51.691Z"
   },
   {
    "duration": 3,
    "start_time": "2022-12-23T22:47:44.702Z"
   },
   {
    "duration": 938,
    "start_time": "2022-12-23T22:48:22.756Z"
   },
   {
    "duration": 2138,
    "start_time": "2022-12-23T22:48:25.989Z"
   },
   {
    "duration": 4,
    "start_time": "2022-12-23T22:48:29.770Z"
   },
   {
    "duration": 3,
    "start_time": "2022-12-23T22:48:40.457Z"
   },
   {
    "duration": 937,
    "start_time": "2022-12-23T22:48:56.391Z"
   },
   {
    "duration": 1935,
    "start_time": "2022-12-23T22:48:59.393Z"
   },
   {
    "duration": 46185,
    "start_time": "2022-12-23T22:49:07.254Z"
   },
   {
    "duration": 77946,
    "start_time": "2022-12-23T22:49:53.441Z"
   },
   {
    "duration": 4,
    "start_time": "2022-12-23T22:51:29.208Z"
   },
   {
    "duration": 3,
    "start_time": "2022-12-23T22:52:55.666Z"
   },
   {
    "duration": 234508,
    "start_time": "2022-12-23T22:53:01.689Z"
   },
   {
    "duration": 126773,
    "start_time": "2022-12-23T22:56:56.199Z"
   },
   {
    "duration": 4,
    "start_time": "2022-12-23T22:59:02.974Z"
   },
   {
    "duration": 4,
    "start_time": "2022-12-23T22:59:15.950Z"
   },
   {
    "duration": 9,
    "start_time": "2022-12-23T22:59:22.268Z"
   },
   {
    "duration": 4,
    "start_time": "2022-12-23T22:59:28.740Z"
   },
   {
    "duration": 6,
    "start_time": "2022-12-23T23:02:57.644Z"
   },
   {
    "duration": 5,
    "start_time": "2022-12-23T23:08:39.492Z"
   },
   {
    "duration": 4,
    "start_time": "2022-12-23T23:08:51.195Z"
   },
   {
    "duration": 43,
    "start_time": "2022-12-23T23:18:16.061Z"
   },
   {
    "duration": 7981,
    "start_time": "2022-12-23T23:19:15.039Z"
   },
   {
    "duration": 46,
    "start_time": "2022-12-23T23:21:53.401Z"
   },
   {
    "duration": 103,
    "start_time": "2022-12-23T23:22:41.255Z"
   },
   {
    "duration": 20228,
    "start_time": "2022-12-23T23:23:05.063Z"
   },
   {
    "duration": 309247,
    "start_time": "2022-12-23T23:23:31.918Z"
   },
   {
    "duration": 4,
    "start_time": "2022-12-23T23:28:47.872Z"
   },
   {
    "duration": 53,
    "start_time": "2022-12-23T23:34:45.675Z"
   },
   {
    "duration": 2513807,
    "start_time": "2022-12-23T23:34:50.084Z"
   },
   {
    "duration": 5,
    "start_time": "2022-12-24T00:16:54.231Z"
   },
   {
    "duration": 56,
    "start_time": "2022-12-24T00:18:29.643Z"
   },
   {
    "duration": 51,
    "start_time": "2022-12-24T00:18:44.032Z"
   },
   {
    "duration": 22316,
    "start_time": "2022-12-24T00:18:55.769Z"
   },
   {
    "duration": 30961,
    "start_time": "2022-12-24T00:19:29.845Z"
   },
   {
    "duration": 7923,
    "start_time": "2022-12-24T13:41:56.733Z"
   },
   {
    "duration": 1657,
    "start_time": "2022-12-24T13:42:04.659Z"
   },
   {
    "duration": 91,
    "start_time": "2022-12-24T13:42:06.318Z"
   },
   {
    "duration": 29,
    "start_time": "2022-12-24T13:42:06.412Z"
   },
   {
    "duration": 20,
    "start_time": "2022-12-24T13:42:06.444Z"
   },
   {
    "duration": 12,
    "start_time": "2022-12-24T13:42:06.466Z"
   },
   {
    "duration": 25,
    "start_time": "2022-12-24T13:42:06.480Z"
   },
   {
    "duration": 28,
    "start_time": "2022-12-24T13:42:06.507Z"
   },
   {
    "duration": 5,
    "start_time": "2022-12-24T13:42:06.887Z"
   },
   {
    "duration": 5,
    "start_time": "2022-12-24T13:42:07.266Z"
   },
   {
    "duration": 9,
    "start_time": "2022-12-24T13:42:07.423Z"
   },
   {
    "duration": 8,
    "start_time": "2022-12-24T13:42:07.722Z"
   },
   {
    "duration": 6,
    "start_time": "2022-12-24T13:42:07.840Z"
   },
   {
    "duration": 4,
    "start_time": "2022-12-24T13:42:10.646Z"
   },
   {
    "duration": 4,
    "start_time": "2022-12-24T13:42:10.764Z"
   },
   {
    "duration": 5,
    "start_time": "2022-12-24T13:42:10.850Z"
   },
   {
    "duration": 4,
    "start_time": "2022-12-24T13:42:10.989Z"
   },
   {
    "duration": 4,
    "start_time": "2022-12-24T13:42:15.232Z"
   },
   {
    "duration": 3,
    "start_time": "2022-12-24T13:42:15.344Z"
   },
   {
    "duration": 2,
    "start_time": "2022-12-24T13:42:15.487Z"
   },
   {
    "duration": 3,
    "start_time": "2022-12-24T13:42:16.302Z"
   },
   {
    "duration": 4,
    "start_time": "2022-12-24T13:42:16.437Z"
   },
   {
    "duration": 5,
    "start_time": "2022-12-24T13:42:17.742Z"
   },
   {
    "duration": 9,
    "start_time": "2022-12-24T13:42:19.321Z"
   },
   {
    "duration": 8,
    "start_time": "2022-12-24T13:42:19.485Z"
   },
   {
    "duration": 8,
    "start_time": "2022-12-24T13:42:19.559Z"
   },
   {
    "duration": 5,
    "start_time": "2022-12-24T13:42:22.768Z"
   },
   {
    "duration": 8,
    "start_time": "2022-12-24T13:42:22.906Z"
   },
   {
    "duration": 9,
    "start_time": "2022-12-24T13:42:23.016Z"
   },
   {
    "duration": 11,
    "start_time": "2022-12-24T13:42:23.201Z"
   },
   {
    "duration": 9,
    "start_time": "2022-12-24T13:42:23.372Z"
   },
   {
    "duration": 3,
    "start_time": "2022-12-24T13:42:24.357Z"
   },
   {
    "duration": 9,
    "start_time": "2022-12-24T13:42:24.383Z"
   },
   {
    "duration": 8,
    "start_time": "2022-12-24T13:42:24.546Z"
   },
   {
    "duration": 9,
    "start_time": "2022-12-24T13:42:24.688Z"
   },
   {
    "duration": 8,
    "start_time": "2022-12-24T13:42:25.971Z"
   },
   {
    "duration": 10,
    "start_time": "2022-12-24T13:42:26.111Z"
   },
   {
    "duration": 9,
    "start_time": "2022-12-24T13:42:26.242Z"
   },
   {
    "duration": 12,
    "start_time": "2022-12-24T13:42:26.512Z"
   },
   {
    "duration": 5,
    "start_time": "2022-12-24T13:42:29.602Z"
   },
   {
    "duration": 6,
    "start_time": "2022-12-24T13:42:29.737Z"
   },
   {
    "duration": 1757,
    "start_time": "2022-12-24T13:42:33.251Z"
   },
   {
    "duration": 4,
    "start_time": "2022-12-24T13:42:35.011Z"
   },
   {
    "duration": 188012,
    "start_time": "2022-12-24T13:42:35.018Z"
   },
   {
    "duration": 4,
    "start_time": "2022-12-24T13:45:43.032Z"
   },
   {
    "duration": 4681,
    "start_time": "2022-12-24T13:45:43.038Z"
   },
   {
    "duration": 8,
    "start_time": "2022-12-24T13:45:47.724Z"
   },
   {
    "duration": 24,
    "start_time": "2022-12-24T13:45:47.735Z"
   },
   {
    "duration": 8,
    "start_time": "2022-12-24T13:45:47.762Z"
   },
   {
    "duration": 1367,
    "start_time": "2022-12-24T13:45:47.772Z"
   },
   {
    "duration": 95065,
    "start_time": "2022-12-24T13:45:49.141Z"
   },
   {
    "duration": 96543,
    "start_time": "2022-12-24T13:47:36.565Z"
   },
   {
    "duration": 1956703,
    "start_time": "2022-12-24T13:50:03.589Z"
   },
   {
    "duration": 7825,
    "start_time": "2022-12-24T21:51:58.570Z"
   },
   {
    "duration": 1505,
    "start_time": "2022-12-24T21:52:06.398Z"
   },
   {
    "duration": 86,
    "start_time": "2022-12-24T21:52:12.583Z"
   },
   {
    "duration": 20,
    "start_time": "2022-12-24T21:52:13.216Z"
   },
   {
    "duration": 12,
    "start_time": "2022-12-24T21:52:13.576Z"
   },
   {
    "duration": 5,
    "start_time": "2022-12-24T21:52:14.889Z"
   },
   {
    "duration": 13,
    "start_time": "2022-12-24T21:52:15.355Z"
   },
   {
    "duration": 13,
    "start_time": "2022-12-24T21:52:16.271Z"
   },
   {
    "duration": 5,
    "start_time": "2022-12-24T21:52:17.420Z"
   },
   {
    "duration": 4,
    "start_time": "2022-12-24T21:52:18.990Z"
   },
   {
    "duration": 5,
    "start_time": "2022-12-24T21:52:19.210Z"
   },
   {
    "duration": 6,
    "start_time": "2022-12-24T21:52:19.748Z"
   },
   {
    "duration": 7,
    "start_time": "2022-12-24T21:52:20.004Z"
   },
   {
    "duration": 6,
    "start_time": "2022-12-24T21:52:20.901Z"
   },
   {
    "duration": 7,
    "start_time": "2022-12-24T21:52:21.374Z"
   },
   {
    "duration": 5,
    "start_time": "2022-12-24T21:52:21.975Z"
   },
   {
    "duration": 5,
    "start_time": "2022-12-24T21:52:33.206Z"
   },
   {
    "duration": 3,
    "start_time": "2022-12-24T21:52:37.845Z"
   },
   {
    "duration": 3,
    "start_time": "2022-12-24T21:52:38.861Z"
   },
   {
    "duration": 3,
    "start_time": "2022-12-24T21:52:39.273Z"
   },
   {
    "duration": 5,
    "start_time": "2022-12-24T21:52:54.191Z"
   },
   {
    "duration": 3,
    "start_time": "2022-12-24T21:52:54.593Z"
   },
   {
    "duration": 3,
    "start_time": "2022-12-24T22:00:40.980Z"
   },
   {
    "duration": 3,
    "start_time": "2022-12-24T22:00:41.218Z"
   },
   {
    "duration": 5,
    "start_time": "2022-12-24T22:00:43.166Z"
   },
   {
    "duration": 7,
    "start_time": "2022-12-24T22:00:43.699Z"
   },
   {
    "duration": 7,
    "start_time": "2022-12-24T22:00:44.378Z"
   },
   {
    "duration": 7,
    "start_time": "2022-12-24T22:00:44.870Z"
   },
   {
    "duration": 115,
    "start_time": "2022-12-24T22:01:06.508Z"
   },
   {
    "duration": 11,
    "start_time": "2022-12-24T22:02:03.972Z"
   },
   {
    "duration": 5,
    "start_time": "2022-12-24T22:02:16.212Z"
   },
   {
    "duration": 5,
    "start_time": "2022-12-24T22:02:26.979Z"
   },
   {
    "duration": 23,
    "start_time": "2022-12-24T22:02:27.393Z"
   },
   {
    "duration": 5,
    "start_time": "2022-12-24T22:03:22.118Z"
   },
   {
    "duration": 12,
    "start_time": "2022-12-24T22:03:22.478Z"
   },
   {
    "duration": 6,
    "start_time": "2022-12-24T22:10:25.110Z"
   },
   {
    "duration": 17,
    "start_time": "2022-12-24T22:10:27.738Z"
   },
   {
    "duration": 4,
    "start_time": "2022-12-24T22:11:07.137Z"
   },
   {
    "duration": 22,
    "start_time": "2022-12-24T22:11:27.493Z"
   },
   {
    "duration": 20,
    "start_time": "2022-12-24T22:11:50.102Z"
   },
   {
    "duration": 7,
    "start_time": "2022-12-24T22:11:59.625Z"
   },
   {
    "duration": 7,
    "start_time": "2022-12-24T22:11:59.872Z"
   },
   {
    "duration": 7,
    "start_time": "2022-12-24T22:12:00.244Z"
   },
   {
    "duration": 6,
    "start_time": "2022-12-24T22:12:01.566Z"
   },
   {
    "duration": 8,
    "start_time": "2022-12-24T22:12:05.346Z"
   },
   {
    "duration": 15,
    "start_time": "2022-12-24T22:13:35.645Z"
   },
   {
    "duration": 5,
    "start_time": "2022-12-24T22:13:58.296Z"
   },
   {
    "duration": 7,
    "start_time": "2022-12-24T22:14:01.038Z"
   },
   {
    "duration": 7,
    "start_time": "2022-12-24T22:14:01.215Z"
   },
   {
    "duration": 6,
    "start_time": "2022-12-24T22:14:01.435Z"
   },
   {
    "duration": 5,
    "start_time": "2022-12-24T22:14:02.234Z"
   },
   {
    "duration": 18,
    "start_time": "2022-12-24T22:14:13.360Z"
   },
   {
    "duration": 4,
    "start_time": "2022-12-24T22:14:32.218Z"
   },
   {
    "duration": 5,
    "start_time": "2022-12-24T22:14:56.814Z"
   },
   {
    "duration": 10,
    "start_time": "2022-12-24T22:15:02.921Z"
   },
   {
    "duration": 4,
    "start_time": "2022-12-24T22:15:05.354Z"
   },
   {
    "duration": 8,
    "start_time": "2022-12-24T22:15:56.357Z"
   },
   {
    "duration": 11,
    "start_time": "2022-12-24T22:16:03.952Z"
   },
   {
    "duration": 10,
    "start_time": "2022-12-24T22:16:08.620Z"
   },
   {
    "duration": 6,
    "start_time": "2022-12-24T22:16:10.239Z"
   },
   {
    "duration": 3,
    "start_time": "2022-12-24T22:16:12.298Z"
   },
   {
    "duration": 10,
    "start_time": "2022-12-24T22:16:13.022Z"
   },
   {
    "duration": 14,
    "start_time": "2022-12-24T22:16:33.578Z"
   },
   {
    "duration": 6,
    "start_time": "2022-12-24T22:16:40.965Z"
   },
   {
    "duration": 6,
    "start_time": "2022-12-24T22:16:41.100Z"
   },
   {
    "duration": 6,
    "start_time": "2022-12-24T22:16:41.398Z"
   },
   {
    "duration": 5,
    "start_time": "2022-12-24T22:16:42.037Z"
   },
   {
    "duration": 5,
    "start_time": "2022-12-24T22:16:42.208Z"
   },
   {
    "duration": 12,
    "start_time": "2022-12-24T22:16:42.393Z"
   },
   {
    "duration": 9,
    "start_time": "2022-12-24T22:16:43.033Z"
   },
   {
    "duration": 10,
    "start_time": "2022-12-24T22:16:43.774Z"
   },
   {
    "duration": 7,
    "start_time": "2022-12-24T22:16:44.593Z"
   },
   {
    "duration": 3,
    "start_time": "2022-12-24T22:17:08.816Z"
   },
   {
    "duration": 8,
    "start_time": "2022-12-24T22:17:09.080Z"
   },
   {
    "duration": 8,
    "start_time": "2022-12-24T22:17:09.595Z"
   },
   {
    "duration": 10,
    "start_time": "2022-12-24T22:17:09.830Z"
   },
   {
    "duration": 9,
    "start_time": "2022-12-24T22:17:10.075Z"
   },
   {
    "duration": 9,
    "start_time": "2022-12-24T22:17:10.292Z"
   },
   {
    "duration": 8,
    "start_time": "2022-12-24T22:17:10.508Z"
   },
   {
    "duration": 12,
    "start_time": "2022-12-24T22:17:10.968Z"
   },
   {
    "duration": 7,
    "start_time": "2022-12-24T22:17:12.437Z"
   },
   {
    "duration": 5,
    "start_time": "2022-12-24T22:17:12.694Z"
   },
   {
    "duration": 1674,
    "start_time": "2022-12-24T22:17:13.748Z"
   },
   {
    "duration": 4,
    "start_time": "2022-12-24T22:17:15.424Z"
   },
   {
    "duration": 1540,
    "start_time": "2022-12-24T22:17:23.949Z"
   },
   {
    "duration": 3,
    "start_time": "2022-12-24T22:17:25.492Z"
   },
   {
    "duration": 175963,
    "start_time": "2022-12-24T22:17:27.897Z"
   },
   {
    "duration": 3,
    "start_time": "2022-12-24T22:20:23.862Z"
   },
   {
    "duration": 3670,
    "start_time": "2022-12-24T22:20:23.867Z"
   },
   {
    "duration": 4,
    "start_time": "2022-12-24T22:20:27.540Z"
   },
   {
    "duration": 22,
    "start_time": "2022-12-24T22:20:27.545Z"
   },
   {
    "duration": 9,
    "start_time": "2022-12-24T22:20:27.569Z"
   },
   {
    "duration": 1148,
    "start_time": "2022-12-24T22:20:27.579Z"
   },
   {
    "duration": 243777,
    "start_time": "2022-12-24T22:20:28.729Z"
   },
   {
    "duration": 4,
    "start_time": "2022-12-24T22:25:16.301Z"
   },
   {
    "duration": 11,
    "start_time": "2022-12-24T22:28:07.306Z"
   },
   {
    "duration": 10693,
    "start_time": "2022-12-24T22:28:11.549Z"
   },
   {
    "duration": 10,
    "start_time": "2022-12-24T22:28:35.073Z"
   },
   {
    "duration": 4,
    "start_time": "2022-12-24T22:28:37.204Z"
   },
   {
    "duration": 11349,
    "start_time": "2022-12-24T22:29:18.397Z"
   },
   {
    "duration": 4,
    "start_time": "2022-12-24T22:29:34.094Z"
   },
   {
    "duration": 1524285,
    "start_time": "2022-12-24T22:32:01.181Z"
   },
   {
    "duration": 0,
    "start_time": "2022-12-24T22:57:25.467Z"
   },
   {
    "duration": 5457,
    "start_time": "2022-12-24T22:58:03.381Z"
   },
   {
    "duration": 8301541,
    "start_time": "2022-12-24T22:58:33.644Z"
   },
   {
    "duration": 4,
    "start_time": "2022-12-25T01:16:55.188Z"
   },
   {
    "duration": 7272,
    "start_time": "2022-12-25T10:20:18.751Z"
   },
   {
    "duration": 1592,
    "start_time": "2022-12-25T10:20:26.026Z"
   },
   {
    "duration": 100,
    "start_time": "2022-12-25T10:20:27.619Z"
   },
   {
    "duration": 20,
    "start_time": "2022-12-25T10:20:27.721Z"
   },
   {
    "duration": 13,
    "start_time": "2022-12-25T10:20:27.742Z"
   },
   {
    "duration": 4,
    "start_time": "2022-12-25T10:20:27.756Z"
   },
   {
    "duration": 14,
    "start_time": "2022-12-25T10:20:27.761Z"
   },
   {
    "duration": 10,
    "start_time": "2022-12-25T10:20:27.777Z"
   },
   {
    "duration": 12,
    "start_time": "2022-12-25T10:20:27.800Z"
   },
   {
    "duration": 4,
    "start_time": "2022-12-25T10:20:27.815Z"
   },
   {
    "duration": 5,
    "start_time": "2022-12-25T10:20:27.825Z"
   },
   {
    "duration": 11,
    "start_time": "2022-12-25T10:20:27.833Z"
   },
   {
    "duration": 9,
    "start_time": "2022-12-25T10:20:27.845Z"
   },
   {
    "duration": 4,
    "start_time": "2022-12-25T10:20:27.856Z"
   },
   {
    "duration": 6,
    "start_time": "2022-12-25T10:20:27.862Z"
   },
   {
    "duration": 4,
    "start_time": "2022-12-25T10:20:27.870Z"
   },
   {
    "duration": 9,
    "start_time": "2022-12-25T10:20:27.901Z"
   },
   {
    "duration": 12,
    "start_time": "2022-12-25T10:20:27.913Z"
   },
   {
    "duration": 12,
    "start_time": "2022-12-25T10:20:27.927Z"
   },
   {
    "duration": 6,
    "start_time": "2022-12-25T10:20:27.941Z"
   },
   {
    "duration": 9,
    "start_time": "2022-12-25T10:20:27.949Z"
   },
   {
    "duration": 8,
    "start_time": "2022-12-25T10:20:27.960Z"
   },
   {
    "duration": 8,
    "start_time": "2022-12-25T10:20:27.969Z"
   },
   {
    "duration": 10,
    "start_time": "2022-12-25T10:20:27.978Z"
   },
   {
    "duration": 16,
    "start_time": "2022-12-25T10:20:27.990Z"
   },
   {
    "duration": 14,
    "start_time": "2022-12-25T10:20:28.008Z"
   },
   {
    "duration": 5,
    "start_time": "2022-12-25T10:20:28.111Z"
   },
   {
    "duration": 6,
    "start_time": "2022-12-25T10:20:28.297Z"
   },
   {
    "duration": 15,
    "start_time": "2022-12-25T10:20:28.489Z"
   },
   {
    "duration": 11,
    "start_time": "2022-12-25T10:20:28.649Z"
   },
   {
    "duration": 10,
    "start_time": "2022-12-25T10:20:28.969Z"
   },
   {
    "duration": 7,
    "start_time": "2022-12-25T10:20:29.125Z"
   },
   {
    "duration": 3,
    "start_time": "2022-12-25T10:20:29.343Z"
   },
   {
    "duration": 10,
    "start_time": "2022-12-25T10:20:29.492Z"
   },
   {
    "duration": 9,
    "start_time": "2022-12-25T10:20:29.726Z"
   },
   {
    "duration": 12,
    "start_time": "2022-12-25T10:20:29.893Z"
   },
   {
    "duration": 8,
    "start_time": "2022-12-25T10:20:30.045Z"
   },
   {
    "duration": 9,
    "start_time": "2022-12-25T10:20:30.209Z"
   },
   {
    "duration": 8,
    "start_time": "2022-12-25T10:20:30.352Z"
   },
   {
    "duration": 10,
    "start_time": "2022-12-25T10:20:30.776Z"
   },
   {
    "duration": 22,
    "start_time": "2022-12-25T10:20:36.587Z"
   },
   {
    "duration": 9,
    "start_time": "2022-12-25T10:20:36.857Z"
   },
   {
    "duration": 1676821,
    "start_time": "2022-12-25T10:21:59.524Z"
   },
   {
    "duration": 6039,
    "start_time": "2023-01-02T00:18:31.949Z"
   },
   {
    "duration": 1304,
    "start_time": "2023-01-02T00:18:52.210Z"
   },
   {
    "duration": 75,
    "start_time": "2023-01-02T00:18:55.420Z"
   },
   {
    "duration": 19,
    "start_time": "2023-01-02T00:18:55.983Z"
   },
   {
    "duration": 14,
    "start_time": "2023-01-02T00:18:56.564Z"
   },
   {
    "duration": 4,
    "start_time": "2023-01-02T00:18:58.888Z"
   },
   {
    "duration": 12,
    "start_time": "2023-01-02T00:19:01.045Z"
   },
   {
    "duration": 12,
    "start_time": "2023-01-02T00:19:04.384Z"
   },
   {
    "duration": 5,
    "start_time": "2023-01-02T00:19:05.632Z"
   },
   {
    "duration": 4,
    "start_time": "2023-01-02T00:19:06.259Z"
   },
   {
    "duration": 4,
    "start_time": "2023-01-02T00:19:06.587Z"
   },
   {
    "duration": 5,
    "start_time": "2023-01-02T00:19:07.228Z"
   },
   {
    "duration": 5,
    "start_time": "2023-01-02T00:19:07.551Z"
   },
   {
    "duration": 4,
    "start_time": "2023-01-02T00:19:08.381Z"
   },
   {
    "duration": 4,
    "start_time": "2023-01-02T00:19:08.661Z"
   },
   {
    "duration": 214,
    "start_time": "2023-01-02T00:19:08.920Z"
   },
   {
    "duration": 138,
    "start_time": "2023-01-02T00:19:09.188Z"
   },
   {
    "duration": 2,
    "start_time": "2023-01-02T00:19:11.012Z"
   },
   {
    "duration": 3,
    "start_time": "2023-01-02T00:19:11.390Z"
   },
   {
    "duration": 2,
    "start_time": "2023-01-02T00:19:11.741Z"
   },
   {
    "duration": 2,
    "start_time": "2023-01-02T00:19:13.451Z"
   },
   {
    "duration": 2,
    "start_time": "2023-01-02T00:19:13.748Z"
   },
   {
    "duration": 4,
    "start_time": "2023-01-02T00:19:15.707Z"
   },
   {
    "duration": 7,
    "start_time": "2023-01-02T00:19:16.060Z"
   },
   {
    "duration": 5,
    "start_time": "2023-01-02T00:19:16.371Z"
   },
   {
    "duration": 6,
    "start_time": "2023-01-02T00:19:16.698Z"
   },
   {
    "duration": 4,
    "start_time": "2023-01-02T00:19:17.821Z"
   },
   {
    "duration": 3,
    "start_time": "2023-01-02T00:19:17.902Z"
   },
   {
    "duration": 8,
    "start_time": "2023-01-02T00:19:17.985Z"
   },
   {
    "duration": 9,
    "start_time": "2023-01-02T00:19:18.068Z"
   },
   {
    "duration": 10,
    "start_time": "2023-01-02T00:19:18.151Z"
   },
   {
    "duration": 6,
    "start_time": "2023-01-02T00:19:18.235Z"
   },
   {
    "duration": 3,
    "start_time": "2023-01-02T00:19:18.319Z"
   },
   {
    "duration": 8,
    "start_time": "2023-01-02T00:19:19.587Z"
   },
   {
    "duration": 7,
    "start_time": "2023-01-02T00:19:20.120Z"
   },
   {
    "duration": 8,
    "start_time": "2023-01-02T00:19:20.359Z"
   },
   {
    "duration": 7,
    "start_time": "2023-01-02T00:19:20.867Z"
   },
   {
    "duration": 9,
    "start_time": "2023-01-02T00:19:20.935Z"
   },
   {
    "duration": 8,
    "start_time": "2023-01-02T00:19:21.018Z"
   },
   {
    "duration": 8,
    "start_time": "2023-01-02T00:19:21.102Z"
   },
   {
    "duration": 5,
    "start_time": "2023-01-02T00:19:22.168Z"
   },
   {
    "duration": 5,
    "start_time": "2023-01-02T00:19:22.252Z"
   },
   {
    "duration": 1445,
    "start_time": "2023-01-02T00:19:22.585Z"
   },
   {
    "duration": 3,
    "start_time": "2023-01-02T00:19:24.032Z"
   },
   {
    "duration": 154670,
    "start_time": "2023-01-02T00:19:24.037Z"
   },
   {
    "duration": 4,
    "start_time": "2023-01-02T00:21:58.709Z"
   },
   {
    "duration": 3420,
    "start_time": "2023-01-02T00:21:58.715Z"
   },
   {
    "duration": 3,
    "start_time": "2023-01-02T00:22:02.137Z"
   },
   {
    "duration": 24,
    "start_time": "2023-01-02T00:22:02.141Z"
   },
   {
    "duration": 17,
    "start_time": "2023-01-02T00:22:02.167Z"
   },
   {
    "duration": 22,
    "start_time": "2023-01-02T00:22:02.186Z"
   },
   {
    "duration": 30,
    "start_time": "2023-01-02T00:22:02.210Z"
   },
   {
    "duration": 15,
    "start_time": "2023-01-02T00:22:02.242Z"
   },
   {
    "duration": 20,
    "start_time": "2023-01-02T00:22:02.259Z"
   },
   {
    "duration": 1014,
    "start_time": "2023-01-02T00:22:02.280Z"
   },
   {
    "duration": 2152,
    "start_time": "2023-01-02T00:22:03.296Z"
   },
   {
    "duration": 111676,
    "start_time": "2023-01-02T00:22:05.450Z"
   },
   {
    "duration": 215032,
    "start_time": "2023-01-02T00:23:57.127Z"
   },
   {
    "duration": 7277922,
    "start_time": "2023-01-02T00:27:32.161Z"
   },
   {
    "duration": 4,
    "start_time": "2023-01-02T02:28:50.084Z"
   },
   {
    "duration": 1461260,
    "start_time": "2023-01-02T02:28:50.089Z"
   },
   {
    "duration": 379,
    "start_time": "2023-01-02T02:53:11.352Z"
   },
   {
    "duration": 3990,
    "start_time": "2023-01-02T02:53:11.822Z"
   },
   {
    "duration": 102,
    "start_time": "2023-01-02T02:53:15.813Z"
   },
   {
    "duration": 0,
    "start_time": "2023-01-02T02:53:15.917Z"
   },
   {
    "duration": 0,
    "start_time": "2023-01-02T02:53:15.921Z"
   },
   {
    "duration": 0,
    "start_time": "2023-01-02T02:53:15.922Z"
   },
   {
    "duration": 0,
    "start_time": "2023-01-02T02:53:15.923Z"
   },
   {
    "duration": 323,
    "start_time": "2023-01-02T03:22:48.428Z"
   },
   {
    "duration": 319,
    "start_time": "2023-01-02T03:23:18.005Z"
   },
   {
    "duration": 5,
    "start_time": "2023-01-02T03:23:28.939Z"
   },
   {
    "duration": 105,
    "start_time": "2023-01-02T03:23:29.565Z"
   },
   {
    "duration": 5,
    "start_time": "2023-01-02T03:23:32.309Z"
   },
   {
    "duration": 4,
    "start_time": "2023-01-02T03:23:33.290Z"
   },
   {
    "duration": 7011,
    "start_time": "2023-01-09T08:43:56.758Z"
   },
   {
    "duration": 1453,
    "start_time": "2023-01-09T08:44:03.771Z"
   },
   {
    "duration": 179,
    "start_time": "2023-01-09T08:44:05.225Z"
   },
   {
    "duration": 24,
    "start_time": "2023-01-09T08:44:05.406Z"
   },
   {
    "duration": 15,
    "start_time": "2023-01-09T08:44:05.432Z"
   },
   {
    "duration": 4,
    "start_time": "2023-01-09T08:44:05.449Z"
   },
   {
    "duration": 19,
    "start_time": "2023-01-09T08:44:05.455Z"
   },
   {
    "duration": 11,
    "start_time": "2023-01-09T08:44:05.476Z"
   },
   {
    "duration": 10,
    "start_time": "2023-01-09T08:44:05.489Z"
   },
   {
    "duration": 26,
    "start_time": "2023-01-09T08:44:05.503Z"
   },
   {
    "duration": 5,
    "start_time": "2023-01-09T08:44:05.531Z"
   },
   {
    "duration": 30,
    "start_time": "2023-01-09T08:44:05.538Z"
   },
   {
    "duration": 14,
    "start_time": "2023-01-09T08:44:05.570Z"
   },
   {
    "duration": 14,
    "start_time": "2023-01-09T08:44:05.586Z"
   },
   {
    "duration": 14,
    "start_time": "2023-01-09T08:44:05.602Z"
   },
   {
    "duration": 13,
    "start_time": "2023-01-09T08:44:05.617Z"
   },
   {
    "duration": 37,
    "start_time": "2023-01-09T08:44:05.632Z"
   },
   {
    "duration": 31,
    "start_time": "2023-01-09T08:44:05.670Z"
   },
   {
    "duration": 51,
    "start_time": "2023-01-09T08:44:05.702Z"
   },
   {
    "duration": 24,
    "start_time": "2023-01-09T08:44:05.756Z"
   },
   {
    "duration": 55,
    "start_time": "2023-01-09T08:44:05.783Z"
   },
   {
    "duration": 20,
    "start_time": "2023-01-09T08:44:05.841Z"
   },
   {
    "duration": 22,
    "start_time": "2023-01-09T08:44:05.864Z"
   },
   {
    "duration": 66,
    "start_time": "2023-01-09T08:44:05.888Z"
   },
   {
    "duration": 28,
    "start_time": "2023-01-09T08:44:05.955Z"
   },
   {
    "duration": 12,
    "start_time": "2023-01-09T08:44:05.985Z"
   },
   {
    "duration": 14,
    "start_time": "2023-01-09T08:44:05.999Z"
   },
   {
    "duration": 21,
    "start_time": "2023-01-09T08:44:06.018Z"
   },
   {
    "duration": 19,
    "start_time": "2023-01-09T08:44:06.042Z"
   },
   {
    "duration": 17,
    "start_time": "2023-01-09T08:44:06.063Z"
   },
   {
    "duration": 40,
    "start_time": "2023-01-09T08:44:06.082Z"
   },
   {
    "duration": 8,
    "start_time": "2023-01-09T08:44:06.124Z"
   },
   {
    "duration": 19,
    "start_time": "2023-01-09T08:44:06.133Z"
   },
   {
    "duration": 29,
    "start_time": "2023-01-09T08:44:06.154Z"
   },
   {
    "duration": 17,
    "start_time": "2023-01-09T08:44:06.185Z"
   },
   {
    "duration": 33,
    "start_time": "2023-01-09T08:44:06.204Z"
   },
   {
    "duration": 31,
    "start_time": "2023-01-09T08:44:06.239Z"
   },
   {
    "duration": 27,
    "start_time": "2023-01-09T08:44:06.272Z"
   },
   {
    "duration": 33,
    "start_time": "2023-01-09T08:44:06.301Z"
   },
   {
    "duration": 34,
    "start_time": "2023-01-09T08:44:06.336Z"
   },
   {
    "duration": 9,
    "start_time": "2023-01-09T08:44:06.372Z"
   },
   {
    "duration": 13,
    "start_time": "2023-01-09T08:44:06.383Z"
   },
   {
    "duration": 1634,
    "start_time": "2023-01-09T08:44:06.398Z"
   },
   {
    "duration": 4,
    "start_time": "2023-01-09T08:44:08.034Z"
   },
   {
    "duration": 169169,
    "start_time": "2023-01-09T08:44:08.040Z"
   },
   {
    "duration": 4,
    "start_time": "2023-01-09T08:46:57.211Z"
   },
   {
    "duration": 2211,
    "start_time": "2023-01-09T08:46:57.225Z"
   },
   {
    "duration": 4,
    "start_time": "2023-01-09T08:46:59.439Z"
   },
   {
    "duration": 89,
    "start_time": "2023-01-09T08:46:59.444Z"
   },
   {
    "duration": 12,
    "start_time": "2023-01-09T08:46:59.535Z"
   },
   {
    "duration": 6,
    "start_time": "2023-01-09T08:46:59.548Z"
   },
   {
    "duration": 11,
    "start_time": "2023-01-09T08:46:59.556Z"
   },
   {
    "duration": 14,
    "start_time": "2023-01-09T08:46:59.568Z"
   },
   {
    "duration": 16,
    "start_time": "2023-01-09T08:46:59.584Z"
   },
   {
    "duration": 1024,
    "start_time": "2023-01-09T08:46:59.602Z"
   },
   {
    "duration": 2278,
    "start_time": "2023-01-09T08:47:00.628Z"
   },
   {
    "duration": 119140,
    "start_time": "2023-01-09T08:47:02.908Z"
   },
   {
    "duration": 222759,
    "start_time": "2023-01-09T08:49:02.049Z"
   },
   {
    "duration": 1912,
    "start_time": "2023-01-09T09:49:15.486Z"
   },
   {
    "duration": 1184,
    "start_time": "2023-01-09T09:49:17.400Z"
   },
   {
    "duration": 37,
    "start_time": "2023-01-09T09:49:18.585Z"
   },
   {
    "duration": 18,
    "start_time": "2023-01-09T09:49:18.625Z"
   },
   {
    "duration": 11,
    "start_time": "2023-01-09T09:49:18.645Z"
   },
   {
    "duration": 4,
    "start_time": "2023-01-09T09:49:18.657Z"
   },
   {
    "duration": 32,
    "start_time": "2023-01-09T09:49:18.663Z"
   },
   {
    "duration": 18,
    "start_time": "2023-01-09T09:49:18.697Z"
   },
   {
    "duration": 4,
    "start_time": "2023-01-09T09:49:18.717Z"
   },
   {
    "duration": 9,
    "start_time": "2023-01-09T09:49:18.723Z"
   },
   {
    "duration": 7,
    "start_time": "2023-01-09T09:49:18.733Z"
   },
   {
    "duration": 10,
    "start_time": "2023-01-09T09:49:18.741Z"
   },
   {
    "duration": 10,
    "start_time": "2023-01-09T09:49:18.753Z"
   },
   {
    "duration": 6,
    "start_time": "2023-01-09T09:49:18.765Z"
   },
   {
    "duration": 8,
    "start_time": "2023-01-09T09:49:18.772Z"
   },
   {
    "duration": 8,
    "start_time": "2023-01-09T09:49:18.782Z"
   },
   {
    "duration": 34,
    "start_time": "2023-01-09T09:49:18.793Z"
   },
   {
    "duration": 8,
    "start_time": "2023-01-09T09:49:18.830Z"
   },
   {
    "duration": 10,
    "start_time": "2023-01-09T09:49:18.840Z"
   },
   {
    "duration": 14,
    "start_time": "2023-01-09T09:49:18.852Z"
   },
   {
    "duration": 13,
    "start_time": "2023-01-09T09:49:18.867Z"
   },
   {
    "duration": 7,
    "start_time": "2023-01-09T09:49:18.882Z"
   },
   {
    "duration": 10,
    "start_time": "2023-01-09T09:49:18.891Z"
   },
   {
    "duration": 10,
    "start_time": "2023-01-09T09:49:18.903Z"
   },
   {
    "duration": 8,
    "start_time": "2023-01-09T09:49:18.914Z"
   },
   {
    "duration": 13,
    "start_time": "2023-01-09T09:49:18.923Z"
   },
   {
    "duration": 11,
    "start_time": "2023-01-09T09:49:18.938Z"
   },
   {
    "duration": 6,
    "start_time": "2023-01-09T09:49:18.956Z"
   },
   {
    "duration": 14,
    "start_time": "2023-01-09T09:49:18.964Z"
   },
   {
    "duration": 18,
    "start_time": "2023-01-09T09:49:18.981Z"
   },
   {
    "duration": 14,
    "start_time": "2023-01-09T09:49:19.001Z"
   },
   {
    "duration": 14,
    "start_time": "2023-01-09T09:49:19.017Z"
   },
   {
    "duration": 4,
    "start_time": "2023-01-09T09:49:19.033Z"
   },
   {
    "duration": 24,
    "start_time": "2023-01-09T09:49:19.039Z"
   },
   {
    "duration": 14,
    "start_time": "2023-01-09T09:49:19.065Z"
   },
   {
    "duration": 16,
    "start_time": "2023-01-09T09:49:19.081Z"
   },
   {
    "duration": 19,
    "start_time": "2023-01-09T09:49:19.099Z"
   },
   {
    "duration": 18,
    "start_time": "2023-01-09T09:49:19.119Z"
   },
   {
    "duration": 20,
    "start_time": "2023-01-09T09:49:19.139Z"
   },
   {
    "duration": 17,
    "start_time": "2023-01-09T09:49:19.161Z"
   },
   {
    "duration": 12,
    "start_time": "2023-01-09T09:49:19.180Z"
   },
   {
    "duration": 11,
    "start_time": "2023-01-09T09:49:19.194Z"
   },
   {
    "duration": 1483,
    "start_time": "2023-01-09T09:49:19.207Z"
   },
   {
    "duration": 4,
    "start_time": "2023-01-09T09:49:20.692Z"
   },
   {
    "duration": 159397,
    "start_time": "2023-01-09T09:49:20.697Z"
   },
   {
    "duration": 4,
    "start_time": "2023-01-09T09:52:00.097Z"
   },
   {
    "duration": 2925,
    "start_time": "2023-01-09T09:52:00.104Z"
   },
   {
    "duration": 4,
    "start_time": "2023-01-09T09:52:03.031Z"
   },
   {
    "duration": 11,
    "start_time": "2023-01-09T09:52:03.037Z"
   },
   {
    "duration": 20,
    "start_time": "2023-01-09T09:52:03.050Z"
   },
   {
    "duration": 7,
    "start_time": "2023-01-09T09:52:03.072Z"
   },
   {
    "duration": 19,
    "start_time": "2023-01-09T09:52:03.080Z"
   },
   {
    "duration": 21,
    "start_time": "2023-01-09T09:52:03.101Z"
   },
   {
    "duration": 9,
    "start_time": "2023-01-09T09:52:03.124Z"
   },
   {
    "duration": 1046,
    "start_time": "2023-01-09T09:52:03.134Z"
   },
   {
    "duration": 2310,
    "start_time": "2023-01-09T09:52:04.181Z"
   },
   {
    "duration": 117070,
    "start_time": "2023-01-09T09:52:06.493Z"
   },
   {
    "duration": 219756,
    "start_time": "2023-01-09T09:54:03.565Z"
   },
   {
    "duration": 7611627,
    "start_time": "2023-01-09T09:57:43.322Z"
   },
   {
    "duration": 5,
    "start_time": "2023-01-09T12:04:34.951Z"
   },
   {
    "duration": 1522765,
    "start_time": "2023-01-09T12:04:34.957Z"
   },
   {
    "duration": 305,
    "start_time": "2023-01-09T12:29:57.726Z"
   },
   {
    "duration": 10220,
    "start_time": "2023-01-09T12:29:58.033Z"
   },
   {
    "duration": 329,
    "start_time": "2023-01-09T12:30:08.255Z"
   },
   {
    "duration": 4,
    "start_time": "2023-01-09T12:30:08.586Z"
   },
   {
    "duration": 119,
    "start_time": "2023-01-09T12:30:08.591Z"
   },
   {
    "duration": 116,
    "start_time": "2023-01-09T12:30:08.711Z"
   },
   {
    "duration": 0,
    "start_time": "2023-01-09T12:30:08.829Z"
   },
   {
    "duration": 3,
    "start_time": "2023-01-09T12:49:33.880Z"
   },
   {
    "duration": 3,
    "start_time": "2023-01-09T12:54:08.230Z"
   },
   {
    "duration": 13,
    "start_time": "2023-01-09T12:56:29.237Z"
   },
   {
    "duration": 65,
    "start_time": "2023-01-09T15:29:01.250Z"
   },
   {
    "duration": 6785,
    "start_time": "2023-01-09T15:29:11.802Z"
   },
   {
    "duration": 1435,
    "start_time": "2023-01-09T15:29:33.026Z"
   },
   {
    "duration": 154,
    "start_time": "2023-01-09T15:29:38.103Z"
   },
   {
    "duration": 21,
    "start_time": "2023-01-09T15:29:38.992Z"
   },
   {
    "duration": 13,
    "start_time": "2023-01-09T15:29:39.674Z"
   },
   {
    "duration": 4,
    "start_time": "2023-01-09T15:29:41.285Z"
   },
   {
    "duration": 12,
    "start_time": "2023-01-09T15:29:41.767Z"
   },
   {
    "duration": 12,
    "start_time": "2023-01-09T15:29:43.209Z"
   },
   {
    "duration": 4,
    "start_time": "2023-01-09T15:29:44.594Z"
   },
   {
    "duration": 4,
    "start_time": "2023-01-09T15:29:45.958Z"
   },
   {
    "duration": 4,
    "start_time": "2023-01-09T15:29:46.654Z"
   },
   {
    "duration": 5,
    "start_time": "2023-01-09T15:29:47.718Z"
   },
   {
    "duration": 6,
    "start_time": "2023-01-09T15:29:48.191Z"
   },
   {
    "duration": 4,
    "start_time": "2023-01-09T15:29:49.758Z"
   },
   {
    "duration": 4,
    "start_time": "2023-01-09T15:29:50.216Z"
   },
   {
    "duration": 5,
    "start_time": "2023-01-09T15:29:50.678Z"
   },
   {
    "duration": 4,
    "start_time": "2023-01-09T15:29:51.152Z"
   },
   {
    "duration": 2,
    "start_time": "2023-01-09T15:29:53.476Z"
   },
   {
    "duration": 3,
    "start_time": "2023-01-09T15:29:53.983Z"
   },
   {
    "duration": 2,
    "start_time": "2023-01-09T15:29:54.323Z"
   },
   {
    "duration": 2,
    "start_time": "2023-01-09T15:29:56.218Z"
   },
   {
    "duration": 2,
    "start_time": "2023-01-09T15:29:56.780Z"
   },
   {
    "duration": 4,
    "start_time": "2023-01-09T15:29:59.438Z"
   },
   {
    "duration": 8,
    "start_time": "2023-01-09T15:30:00.950Z"
   },
   {
    "duration": 6,
    "start_time": "2023-01-09T15:30:38.428Z"
   },
   {
    "duration": 6,
    "start_time": "2023-01-09T15:30:38.750Z"
   },
   {
    "duration": 5,
    "start_time": "2023-01-09T15:30:39.058Z"
   },
   {
    "duration": 7,
    "start_time": "2023-01-09T15:30:39.374Z"
   },
   {
    "duration": 6,
    "start_time": "2023-01-09T15:30:40.705Z"
   },
   {
    "duration": 4,
    "start_time": "2023-01-09T15:30:41.451Z"
   },
   {
    "duration": 13,
    "start_time": "2023-01-09T15:30:41.672Z"
   },
   {
    "duration": 10,
    "start_time": "2023-01-09T15:30:42.120Z"
   },
   {
    "duration": 8,
    "start_time": "2023-01-09T15:30:42.338Z"
   },
   {
    "duration": 6,
    "start_time": "2023-01-09T15:30:42.819Z"
   },
   {
    "duration": 3,
    "start_time": "2023-01-09T15:30:43.008Z"
   },
   {
    "duration": 9,
    "start_time": "2023-01-09T15:30:43.236Z"
   },
   {
    "duration": 10,
    "start_time": "2023-01-09T15:30:43.464Z"
   },
   {
    "duration": 11,
    "start_time": "2023-01-09T15:30:43.691Z"
   },
   {
    "duration": 7,
    "start_time": "2023-01-09T15:30:43.923Z"
   },
   {
    "duration": 14,
    "start_time": "2023-01-09T15:30:44.137Z"
   },
   {
    "duration": 9,
    "start_time": "2023-01-09T15:30:44.358Z"
   },
   {
    "duration": 10,
    "start_time": "2023-01-09T15:30:44.585Z"
   },
   {
    "duration": 5,
    "start_time": "2023-01-09T15:30:45.469Z"
   },
   {
    "duration": 6,
    "start_time": "2023-01-09T15:30:45.667Z"
   },
   {
    "duration": 4828,
    "start_time": "2023-01-09T15:30:46.670Z"
   },
   {
    "duration": 4,
    "start_time": "2023-01-09T15:30:51.505Z"
   },
   {
    "duration": 464773,
    "start_time": "2023-01-09T15:30:51.511Z"
   },
   {
    "duration": 3,
    "start_time": "2023-01-09T15:38:36.287Z"
   },
   {
    "duration": 6261,
    "start_time": "2023-01-09T15:38:36.304Z"
   },
   {
    "duration": 4,
    "start_time": "2023-01-09T15:38:42.566Z"
   },
   {
    "duration": 7,
    "start_time": "2023-01-09T15:38:42.571Z"
   },
   {
    "duration": 25,
    "start_time": "2023-01-09T15:38:42.580Z"
   },
   {
    "duration": 4,
    "start_time": "2023-01-09T15:38:42.607Z"
   },
   {
    "duration": 12,
    "start_time": "2023-01-09T15:38:42.613Z"
   },
   {
    "duration": 45,
    "start_time": "2023-01-09T15:38:42.627Z"
   },
   {
    "duration": 30,
    "start_time": "2023-01-09T15:38:42.674Z"
   },
   {
    "duration": 2422,
    "start_time": "2023-01-09T15:38:42.707Z"
   },
   {
    "duration": 8185,
    "start_time": "2023-01-09T15:38:45.131Z"
   },
   {
    "duration": 241215,
    "start_time": "2023-01-09T15:38:53.318Z"
   },
   {
    "duration": 765661,
    "start_time": "2023-01-09T15:42:54.534Z"
   },
   {
    "duration": 2322,
    "start_time": "2023-01-09T17:23:35.783Z"
   },
   {
    "duration": 1326,
    "start_time": "2023-01-09T17:23:38.107Z"
   },
   {
    "duration": 2155,
    "start_time": "2023-01-09T18:41:53.441Z"
   },
   {
    "duration": 1246,
    "start_time": "2023-01-09T18:42:09.064Z"
   },
   {
    "duration": 40,
    "start_time": "2023-01-09T18:42:12.179Z"
   },
   {
    "duration": 21,
    "start_time": "2023-01-09T18:42:12.886Z"
   },
   {
    "duration": 13,
    "start_time": "2023-01-09T18:42:13.683Z"
   },
   {
    "duration": 4,
    "start_time": "2023-01-09T18:42:15.028Z"
   },
   {
    "duration": 11,
    "start_time": "2023-01-09T18:42:15.974Z"
   },
   {
    "duration": 13,
    "start_time": "2023-01-09T18:42:17.383Z"
   },
   {
    "duration": 5,
    "start_time": "2023-01-09T18:42:18.530Z"
   },
   {
    "duration": 4,
    "start_time": "2023-01-09T18:42:19.422Z"
   },
   {
    "duration": 4,
    "start_time": "2023-01-09T18:42:19.741Z"
   },
   {
    "duration": 7,
    "start_time": "2023-01-09T18:42:20.369Z"
   },
   {
    "duration": 6,
    "start_time": "2023-01-09T18:42:20.689Z"
   },
   {
    "duration": 5,
    "start_time": "2023-01-09T18:42:21.675Z"
   },
   {
    "duration": 4,
    "start_time": "2023-01-09T18:42:22.002Z"
   },
   {
    "duration": 5,
    "start_time": "2023-01-09T18:42:22.375Z"
   },
   {
    "duration": 5,
    "start_time": "2023-01-09T18:42:22.715Z"
   },
   {
    "duration": 5,
    "start_time": "2023-01-09T18:42:24.931Z"
   },
   {
    "duration": 2,
    "start_time": "2023-01-09T18:42:25.796Z"
   },
   {
    "duration": 3,
    "start_time": "2023-01-09T18:42:26.049Z"
   },
   {
    "duration": 2,
    "start_time": "2023-01-09T18:42:27.899Z"
   },
   {
    "duration": 3,
    "start_time": "2023-01-09T18:42:28.289Z"
   },
   {
    "duration": 5,
    "start_time": "2023-01-09T18:42:30.618Z"
   },
   {
    "duration": 7,
    "start_time": "2023-01-09T18:42:31.920Z"
   },
   {
    "duration": 6,
    "start_time": "2023-01-09T18:42:33.167Z"
   },
   {
    "duration": 7,
    "start_time": "2023-01-09T18:42:36.761Z"
   },
   {
    "duration": 7,
    "start_time": "2023-01-09T18:42:38.028Z"
   },
   {
    "duration": 4,
    "start_time": "2023-01-09T18:42:39.030Z"
   },
   {
    "duration": 127,
    "start_time": "2023-01-09T18:42:39.969Z"
   },
   {
    "duration": 4,
    "start_time": "2023-01-09T19:07:13.902Z"
   },
   {
    "duration": 6,
    "start_time": "2023-01-09T19:08:20.390Z"
   },
   {
    "duration": 4,
    "start_time": "2023-01-09T19:08:21.839Z"
   },
   {
    "duration": 13,
    "start_time": "2023-01-09T19:08:23.874Z"
   },
   {
    "duration": 5,
    "start_time": "2023-01-09T19:08:44.586Z"
   },
   {
    "duration": 13,
    "start_time": "2023-01-09T19:08:55.697Z"
   },
   {
    "duration": 6,
    "start_time": "2023-01-09T19:09:22.607Z"
   },
   {
    "duration": 6,
    "start_time": "2023-01-09T19:09:23.112Z"
   },
   {
    "duration": 6,
    "start_time": "2023-01-09T19:09:23.452Z"
   },
   {
    "duration": 4,
    "start_time": "2023-01-09T19:09:24.510Z"
   },
   {
    "duration": 5,
    "start_time": "2023-01-09T19:10:20.555Z"
   },
   {
    "duration": 6,
    "start_time": "2023-01-09T19:10:30.412Z"
   },
   {
    "duration": 4,
    "start_time": "2023-01-09T19:10:32.906Z"
   },
   {
    "duration": 8,
    "start_time": "2023-01-09T19:10:41.152Z"
   },
   {
    "duration": 9,
    "start_time": "2023-01-09T19:11:14.480Z"
   },
   {
    "duration": 10,
    "start_time": "2023-01-09T19:11:15.380Z"
   },
   {
    "duration": 20,
    "start_time": "2023-01-09T19:11:25.782Z"
   },
   {
    "duration": 6,
    "start_time": "2023-01-09T19:11:30.416Z"
   },
   {
    "duration": 6,
    "start_time": "2023-01-09T19:11:30.541Z"
   },
   {
    "duration": 5,
    "start_time": "2023-01-09T19:11:30.651Z"
   },
   {
    "duration": 5,
    "start_time": "2023-01-09T19:11:31.268Z"
   },
   {
    "duration": 10,
    "start_time": "2023-01-09T19:11:31.648Z"
   },
   {
    "duration": 10,
    "start_time": "2023-01-09T19:11:32.767Z"
   },
   {
    "duration": 10,
    "start_time": "2023-01-09T19:11:32.899Z"
   },
   {
    "duration": 7,
    "start_time": "2023-01-09T19:11:37.147Z"
   },
   {
    "duration": 3,
    "start_time": "2023-01-09T19:11:38.216Z"
   },
   {
    "duration": 9,
    "start_time": "2023-01-09T19:11:38.520Z"
   },
   {
    "duration": 8,
    "start_time": "2023-01-09T19:11:38.685Z"
   },
   {
    "duration": 9,
    "start_time": "2023-01-09T19:11:38.838Z"
   },
   {
    "duration": 8,
    "start_time": "2023-01-09T19:11:38.998Z"
   },
   {
    "duration": 9,
    "start_time": "2023-01-09T19:11:39.125Z"
   },
   {
    "duration": 8,
    "start_time": "2023-01-09T19:11:39.265Z"
   },
   {
    "duration": 10,
    "start_time": "2023-01-09T19:11:39.417Z"
   },
   {
    "duration": 5,
    "start_time": "2023-01-09T19:11:43.922Z"
   },
   {
    "duration": 7,
    "start_time": "2023-01-09T19:11:44.140Z"
   },
   {
    "duration": 2350,
    "start_time": "2023-01-09T19:11:46.903Z"
   },
   {
    "duration": 3,
    "start_time": "2023-01-09T19:11:49.255Z"
   },
   {
    "duration": 6,
    "start_time": "2023-01-09T19:16:26.446Z"
   },
   {
    "duration": 6,
    "start_time": "2023-01-09T19:16:35.850Z"
   },
   {
    "duration": 9,
    "start_time": "2023-01-09T19:16:55.376Z"
   },
   {
    "duration": 11,
    "start_time": "2023-01-09T19:16:57.623Z"
   },
   {
    "duration": 4,
    "start_time": "2023-01-09T19:20:10.993Z"
   },
   {
    "duration": 90677,
    "start_time": "2023-01-09T19:20:14.911Z"
   },
   {
    "duration": 0,
    "start_time": "2023-01-09T19:21:45.590Z"
   },
   {
    "duration": 0,
    "start_time": "2023-01-09T19:21:45.591Z"
   },
   {
    "duration": 1,
    "start_time": "2023-01-09T19:21:45.591Z"
   },
   {
    "duration": 0,
    "start_time": "2023-01-09T19:21:45.605Z"
   },
   {
    "duration": 0,
    "start_time": "2023-01-09T19:21:45.606Z"
   },
   {
    "duration": 1,
    "start_time": "2023-01-09T19:21:45.607Z"
   },
   {
    "duration": 0,
    "start_time": "2023-01-09T19:21:45.609Z"
   },
   {
    "duration": 0,
    "start_time": "2023-01-09T19:21:45.610Z"
   },
   {
    "duration": 0,
    "start_time": "2023-01-09T19:21:45.611Z"
   },
   {
    "duration": 0,
    "start_time": "2023-01-09T19:21:45.612Z"
   },
   {
    "duration": 0,
    "start_time": "2023-01-09T19:21:45.613Z"
   },
   {
    "duration": 886,
    "start_time": "2023-01-09T19:23:01.413Z"
   },
   {
    "duration": 57522,
    "start_time": "2023-01-09T19:25:01.049Z"
   },
   {
    "duration": 0,
    "start_time": "2023-01-09T19:25:58.573Z"
   },
   {
    "duration": 5375,
    "start_time": "2023-01-09T19:26:31.877Z"
   },
   {
    "duration": 65579,
    "start_time": "2023-01-09T19:26:39.678Z"
   },
   {
    "duration": 39278,
    "start_time": "2023-01-09T19:27:52.577Z"
   },
   {
    "duration": 3941,
    "start_time": "2023-01-09T19:28:41.267Z"
   },
   {
    "duration": 18,
    "start_time": "2023-01-09T19:29:03.094Z"
   },
   {
    "duration": 9,
    "start_time": "2023-01-09T19:29:03.714Z"
   },
   {
    "duration": 547,
    "start_time": "2023-01-09T19:29:12.643Z"
   },
   {
    "duration": 1338,
    "start_time": "2023-01-09T19:29:35.057Z"
   },
   {
    "duration": 26541,
    "start_time": "2023-01-09T19:29:41.688Z"
   },
   {
    "duration": 56707,
    "start_time": "2023-01-09T19:30:08.231Z"
   },
   {
    "duration": 1170033,
    "start_time": "2023-01-09T19:31:12.687Z"
   },
   {
    "duration": 550092,
    "start_time": "2023-01-09T19:50:42.721Z"
   },
   {
    "duration": 3736,
    "start_time": "2023-01-09T20:24:26.975Z"
   },
   {
    "duration": 5454,
    "start_time": "2023-01-09T20:24:30.714Z"
   },
   {
    "duration": 77,
    "start_time": "2023-01-09T20:28:33.045Z"
   },
   {
    "duration": 24,
    "start_time": "2023-01-09T20:36:43.730Z"
   },
   {
    "duration": 8,
    "start_time": "2023-01-09T20:36:47.315Z"
   },
   {
    "duration": 126,
    "start_time": "2023-01-09T20:36:51.449Z"
   },
   {
    "duration": 5,
    "start_time": "2023-01-09T20:37:01.479Z"
   },
   {
    "duration": 3,
    "start_time": "2023-01-09T20:37:05.038Z"
   },
   {
    "duration": 26,
    "start_time": "2023-01-09T20:39:46.345Z"
   },
   {
    "duration": 42,
    "start_time": "2023-01-09T20:40:01.020Z"
   },
   {
    "duration": 6,
    "start_time": "2023-01-09T20:40:02.320Z"
   },
   {
    "duration": 115,
    "start_time": "2023-01-09T20:40:04.171Z"
   },
   {
    "duration": 51,
    "start_time": "2023-01-09T20:40:09.971Z"
   },
   {
    "duration": 9,
    "start_time": "2023-01-09T20:40:10.302Z"
   },
   {
    "duration": 129,
    "start_time": "2023-01-09T20:40:11.136Z"
   },
   {
    "duration": 7,
    "start_time": "2023-01-09T20:40:21.418Z"
   },
   {
    "duration": 40,
    "start_time": "2023-01-09T20:42:33.488Z"
   },
   {
    "duration": 5,
    "start_time": "2023-01-09T20:42:34.274Z"
   },
   {
    "duration": 136,
    "start_time": "2023-01-09T20:42:34.698Z"
   },
   {
    "duration": 6,
    "start_time": "2023-01-09T20:42:35.640Z"
   },
   {
    "duration": 3,
    "start_time": "2023-01-09T20:42:36.725Z"
   },
   {
    "duration": 5,
    "start_time": "2023-01-09T20:42:37.343Z"
   },
   {
    "duration": 165,
    "start_time": "2023-01-09T20:43:27.577Z"
   },
   {
    "duration": 5,
    "start_time": "2023-01-09T20:43:28.446Z"
   },
   {
    "duration": 122,
    "start_time": "2023-01-09T20:43:29.095Z"
   },
   {
    "duration": 5,
    "start_time": "2023-01-09T20:43:30.647Z"
   },
   {
    "duration": 3,
    "start_time": "2023-01-09T20:43:32.391Z"
   },
   {
    "duration": 6,
    "start_time": "2023-01-09T20:43:33.337Z"
   },
   {
    "duration": 1686313,
    "start_time": "2023-01-09T20:44:43.919Z"
   },
   {
    "duration": 1607534,
    "start_time": "2023-01-09T21:19:40.319Z"
   },
   {
    "duration": 37,
    "start_time": "2023-01-09T21:49:16.737Z"
   },
   {
    "duration": 4,
    "start_time": "2023-01-09T21:49:17.258Z"
   },
   {
    "duration": 122,
    "start_time": "2023-01-09T21:49:17.629Z"
   },
   {
    "duration": 6,
    "start_time": "2023-01-09T21:49:18.230Z"
   },
   {
    "duration": 4,
    "start_time": "2023-01-09T21:49:19.143Z"
   },
   {
    "duration": 7,
    "start_time": "2023-01-09T21:49:19.556Z"
   },
   {
    "duration": 6907,
    "start_time": "2023-01-10T13:48:26.624Z"
   },
   {
    "duration": 1316,
    "start_time": "2023-01-10T13:48:33.534Z"
   },
   {
    "duration": 46,
    "start_time": "2023-01-10T13:48:34.854Z"
   },
   {
    "duration": 18,
    "start_time": "2023-01-10T13:48:34.902Z"
   },
   {
    "duration": 28,
    "start_time": "2023-01-10T13:48:34.922Z"
   },
   {
    "duration": 8,
    "start_time": "2023-01-10T13:48:34.952Z"
   },
   {
    "duration": 17,
    "start_time": "2023-01-10T13:48:34.962Z"
   },
   {
    "duration": 12,
    "start_time": "2023-01-10T13:48:34.981Z"
   },
   {
    "duration": 14,
    "start_time": "2023-01-10T13:48:34.995Z"
   },
   {
    "duration": 47,
    "start_time": "2023-01-10T13:48:35.012Z"
   },
   {
    "duration": 19,
    "start_time": "2023-01-10T13:48:35.061Z"
   },
   {
    "duration": 44,
    "start_time": "2023-01-10T13:48:35.081Z"
   },
   {
    "duration": 42,
    "start_time": "2023-01-10T13:48:35.127Z"
   },
   {
    "duration": 31,
    "start_time": "2023-01-10T13:48:35.170Z"
   },
   {
    "duration": 28,
    "start_time": "2023-01-10T13:48:35.203Z"
   },
   {
    "duration": 21,
    "start_time": "2023-01-10T13:48:35.233Z"
   },
   {
    "duration": 12,
    "start_time": "2023-01-10T13:48:35.256Z"
   },
   {
    "duration": 18,
    "start_time": "2023-01-10T13:48:35.270Z"
   },
   {
    "duration": 6,
    "start_time": "2023-01-10T13:48:35.290Z"
   },
   {
    "duration": 30,
    "start_time": "2023-01-10T13:48:35.298Z"
   },
   {
    "duration": 16,
    "start_time": "2023-01-10T13:48:35.330Z"
   },
   {
    "duration": 14,
    "start_time": "2023-01-10T13:48:35.347Z"
   },
   {
    "duration": 19,
    "start_time": "2023-01-10T13:48:35.362Z"
   },
   {
    "duration": 17,
    "start_time": "2023-01-10T13:48:35.383Z"
   },
   {
    "duration": 20,
    "start_time": "2023-01-10T13:48:35.401Z"
   },
   {
    "duration": 9,
    "start_time": "2023-01-10T13:48:35.423Z"
   },
   {
    "duration": 28,
    "start_time": "2023-01-10T13:48:35.434Z"
   },
   {
    "duration": 37,
    "start_time": "2023-01-10T13:48:35.466Z"
   },
   {
    "duration": 17,
    "start_time": "2023-01-10T13:48:35.505Z"
   },
   {
    "duration": 11,
    "start_time": "2023-01-10T13:48:35.524Z"
   },
   {
    "duration": 17,
    "start_time": "2023-01-10T13:48:35.536Z"
   },
   {
    "duration": 11,
    "start_time": "2023-01-10T13:48:35.555Z"
   },
   {
    "duration": 38,
    "start_time": "2023-01-10T13:48:35.568Z"
   },
   {
    "duration": 38,
    "start_time": "2023-01-10T13:48:35.608Z"
   },
   {
    "duration": 20,
    "start_time": "2023-01-10T13:48:35.647Z"
   },
   {
    "duration": 15,
    "start_time": "2023-01-10T13:48:35.668Z"
   },
   {
    "duration": 16,
    "start_time": "2023-01-10T13:48:35.685Z"
   },
   {
    "duration": 21,
    "start_time": "2023-01-10T13:48:35.703Z"
   },
   {
    "duration": 25,
    "start_time": "2023-01-10T13:48:35.726Z"
   },
   {
    "duration": 7,
    "start_time": "2023-01-10T13:48:35.753Z"
   },
   {
    "duration": 37,
    "start_time": "2023-01-10T13:48:35.762Z"
   },
   {
    "duration": 964,
    "start_time": "2023-01-10T13:48:35.801Z"
   },
   {
    "duration": 40898,
    "start_time": "2023-01-10T13:48:36.766Z"
   },
   {
    "duration": 4294,
    "start_time": "2023-01-10T13:49:17.666Z"
   },
   {
    "duration": 4,
    "start_time": "2023-01-10T13:49:21.961Z"
   },
   {
    "duration": 16,
    "start_time": "2023-01-10T13:49:21.967Z"
   },
   {
    "duration": 4,
    "start_time": "2023-01-10T13:49:21.985Z"
   },
   {
    "duration": 12,
    "start_time": "2023-01-10T13:49:21.991Z"
   },
   {
    "duration": 50,
    "start_time": "2023-01-10T13:49:22.005Z"
   },
   {
    "duration": 11,
    "start_time": "2023-01-10T13:49:22.057Z"
   },
   {
    "duration": 591,
    "start_time": "2023-01-10T13:49:22.070Z"
   },
   {
    "duration": 1483,
    "start_time": "2023-01-10T13:49:22.664Z"
   },
   {
    "duration": 27359,
    "start_time": "2023-01-10T13:49:24.149Z"
   },
   {
    "duration": 59988,
    "start_time": "2023-01-10T13:49:51.510Z"
   },
   {
    "duration": 1240234,
    "start_time": "2023-01-10T13:50:51.500Z"
   },
   {
    "duration": 1849892,
    "start_time": "2023-01-10T14:11:31.736Z"
   },
   {
    "duration": 9134,
    "start_time": "2023-01-10T14:42:21.630Z"
   },
   {
    "duration": 9455,
    "start_time": "2023-01-10T14:42:30.768Z"
   },
   {
    "duration": 56,
    "start_time": "2023-01-10T14:42:40.225Z"
   },
   {
    "duration": 5,
    "start_time": "2023-01-10T14:42:40.283Z"
   },
   {
    "duration": 171,
    "start_time": "2023-01-10T14:42:40.290Z"
   },
   {
    "duration": 11,
    "start_time": "2023-01-10T14:42:40.462Z"
   },
   {
    "duration": 13,
    "start_time": "2023-01-10T14:42:40.475Z"
   },
   {
    "duration": 11,
    "start_time": "2023-01-10T14:42:40.490Z"
   },
   {
    "duration": 4,
    "start_time": "2023-01-10T15:12:56.053Z"
   },
   {
    "duration": 57,
    "start_time": "2023-01-10T18:17:52.521Z"
   },
   {
    "duration": 6,
    "start_time": "2023-01-10T18:17:52.736Z"
   },
   {
    "duration": 11956,
    "start_time": "2023-01-10T18:18:03.504Z"
   },
   {
    "duration": 1543,
    "start_time": "2023-01-10T18:18:15.462Z"
   },
   {
    "duration": 89,
    "start_time": "2023-01-10T18:18:17.007Z"
   },
   {
    "duration": 18,
    "start_time": "2023-01-10T18:18:17.099Z"
   },
   {
    "duration": 13,
    "start_time": "2023-01-10T18:18:17.119Z"
   },
   {
    "duration": 13,
    "start_time": "2023-01-10T18:18:17.134Z"
   },
   {
    "duration": 26,
    "start_time": "2023-01-10T18:18:17.149Z"
   },
   {
    "duration": 11,
    "start_time": "2023-01-10T18:18:17.177Z"
   },
   {
    "duration": 9,
    "start_time": "2023-01-10T18:18:17.190Z"
   },
   {
    "duration": 5,
    "start_time": "2023-01-10T18:18:17.201Z"
   },
   {
    "duration": 17,
    "start_time": "2023-01-10T18:18:17.208Z"
   },
   {
    "duration": 6,
    "start_time": "2023-01-10T18:18:18.396Z"
   },
   {
    "duration": 5,
    "start_time": "2023-01-10T18:18:18.829Z"
   },
   {
    "duration": 4,
    "start_time": "2023-01-10T18:18:20.257Z"
   },
   {
    "duration": 4,
    "start_time": "2023-01-10T18:18:20.471Z"
   },
   {
    "duration": 4,
    "start_time": "2023-01-10T18:18:20.690Z"
   },
   {
    "duration": 4,
    "start_time": "2023-01-10T18:18:20.892Z"
   },
   {
    "duration": 2,
    "start_time": "2023-01-10T18:18:23.269Z"
   },
   {
    "duration": 3,
    "start_time": "2023-01-10T18:18:23.434Z"
   },
   {
    "duration": 3,
    "start_time": "2023-01-10T18:18:23.601Z"
   },
   {
    "duration": 2,
    "start_time": "2023-01-10T18:18:25.745Z"
   },
   {
    "duration": 2,
    "start_time": "2023-01-10T18:18:26.998Z"
   },
   {
    "duration": 5,
    "start_time": "2023-01-10T18:18:31.070Z"
   },
   {
    "duration": 6,
    "start_time": "2023-01-10T18:18:31.590Z"
   },
   {
    "duration": 6,
    "start_time": "2023-01-10T18:18:31.958Z"
   },
   {
    "duration": 6,
    "start_time": "2023-01-10T18:18:33.077Z"
   },
   {
    "duration": 6,
    "start_time": "2023-01-10T18:18:37.021Z"
   },
   {
    "duration": 13,
    "start_time": "2023-01-10T18:18:40.698Z"
   },
   {
    "duration": 8,
    "start_time": "2023-01-10T18:18:45.920Z"
   },
   {
    "duration": 7,
    "start_time": "2023-01-10T18:18:46.567Z"
   },
   {
    "duration": 7,
    "start_time": "2023-01-10T18:18:48.458Z"
   },
   {
    "duration": 3,
    "start_time": "2023-01-10T18:18:49.965Z"
   },
   {
    "duration": 8,
    "start_time": "2023-01-10T18:18:50.931Z"
   },
   {
    "duration": 10,
    "start_time": "2023-01-10T18:18:51.108Z"
   },
   {
    "duration": 12,
    "start_time": "2023-01-10T18:18:51.265Z"
   },
   {
    "duration": 8,
    "start_time": "2023-01-10T18:18:51.397Z"
   },
   {
    "duration": 9,
    "start_time": "2023-01-10T18:18:51.470Z"
   },
   {
    "duration": 8,
    "start_time": "2023-01-10T18:18:51.627Z"
   },
   {
    "duration": 11,
    "start_time": "2023-01-10T18:18:51.791Z"
   },
   {
    "duration": 8,
    "start_time": "2023-01-10T18:18:54.218Z"
   },
   {
    "duration": 6,
    "start_time": "2023-01-10T18:18:54.404Z"
   },
   {
    "duration": 1849,
    "start_time": "2023-01-10T18:19:00.940Z"
   },
   {
    "duration": 72157,
    "start_time": "2023-01-10T18:19:44.110Z"
   },
   {
    "duration": 8302,
    "start_time": "2023-01-10T18:20:56.269Z"
   },
   {
    "duration": 4,
    "start_time": "2023-01-10T18:21:04.573Z"
   },
   {
    "duration": 31,
    "start_time": "2023-01-10T18:21:04.578Z"
   },
   {
    "duration": 56,
    "start_time": "2023-01-10T18:21:04.610Z"
   },
   {
    "duration": 33,
    "start_time": "2023-01-10T18:21:04.668Z"
   },
   {
    "duration": 46,
    "start_time": "2023-01-10T18:21:04.703Z"
   },
   {
    "duration": 10,
    "start_time": "2023-01-10T18:21:04.750Z"
   },
   {
    "duration": 965,
    "start_time": "2023-01-10T18:21:04.761Z"
   },
   {
    "duration": 3321,
    "start_time": "2023-01-10T18:21:05.729Z"
   },
   {
    "duration": 39826,
    "start_time": "2023-01-10T18:21:09.052Z"
   },
   {
    "duration": 127629,
    "start_time": "2023-01-10T18:21:48.880Z"
   },
   {
    "duration": 2282839,
    "start_time": "2023-01-10T18:23:56.510Z"
   },
   {
    "duration": 2776824,
    "start_time": "2023-01-10T19:01:59.351Z"
   },
   {
    "duration": 12270,
    "start_time": "2023-01-10T19:48:16.177Z"
   },
   {
    "duration": 14918,
    "start_time": "2023-01-10T19:48:28.449Z"
   },
   {
    "duration": 23,
    "start_time": "2023-01-10T19:48:43.369Z"
   },
   {
    "duration": 5,
    "start_time": "2023-01-10T19:48:43.394Z"
   },
   {
    "duration": 188,
    "start_time": "2023-01-10T19:48:43.401Z"
   },
   {
    "duration": 6,
    "start_time": "2023-01-10T19:48:43.591Z"
   },
   {
    "duration": 6,
    "start_time": "2023-01-10T19:48:43.600Z"
   },
   {
    "duration": 10,
    "start_time": "2023-01-10T19:48:43.608Z"
   },
   {
    "duration": 102,
    "start_time": "2023-01-10T20:00:22.794Z"
   },
   {
    "duration": 4,
    "start_time": "2023-01-10T20:00:24.455Z"
   },
   {
    "duration": 121,
    "start_time": "2023-01-10T20:00:26.429Z"
   },
   {
    "duration": 5,
    "start_time": "2023-01-10T20:00:27.737Z"
   },
   {
    "duration": 3,
    "start_time": "2023-01-10T20:00:30.169Z"
   },
   {
    "duration": 5,
    "start_time": "2023-01-10T20:00:30.881Z"
   },
   {
    "duration": 7703,
    "start_time": "2023-01-11T13:07:28.153Z"
   },
   {
    "duration": 1386,
    "start_time": "2023-01-11T13:07:35.859Z"
   },
   {
    "duration": 168,
    "start_time": "2023-01-11T13:07:37.246Z"
   },
   {
    "duration": 19,
    "start_time": "2023-01-11T13:07:37.417Z"
   },
   {
    "duration": 44,
    "start_time": "2023-01-11T13:07:37.438Z"
   },
   {
    "duration": 35,
    "start_time": "2023-01-11T13:07:37.484Z"
   },
   {
    "duration": 51,
    "start_time": "2023-01-11T13:07:37.521Z"
   },
   {
    "duration": 60,
    "start_time": "2023-01-11T13:07:37.574Z"
   },
   {
    "duration": 34,
    "start_time": "2023-01-11T13:07:37.636Z"
   },
   {
    "duration": 31,
    "start_time": "2023-01-11T13:07:37.673Z"
   },
   {
    "duration": 37,
    "start_time": "2023-01-11T13:07:37.705Z"
   },
   {
    "duration": 28,
    "start_time": "2023-01-11T13:07:37.744Z"
   },
   {
    "duration": 48,
    "start_time": "2023-01-11T13:07:37.774Z"
   },
   {
    "duration": 62,
    "start_time": "2023-01-11T13:07:37.825Z"
   },
   {
    "duration": 40,
    "start_time": "2023-01-11T13:07:37.888Z"
   },
   {
    "duration": 35,
    "start_time": "2023-01-11T13:07:37.930Z"
   },
   {
    "duration": 29,
    "start_time": "2023-01-11T13:07:37.967Z"
   },
   {
    "duration": 43,
    "start_time": "2023-01-11T13:07:37.998Z"
   },
   {
    "duration": 22,
    "start_time": "2023-01-11T13:07:38.043Z"
   },
   {
    "duration": 46,
    "start_time": "2023-01-11T13:07:38.067Z"
   },
   {
    "duration": 24,
    "start_time": "2023-01-11T13:07:38.115Z"
   },
   {
    "duration": 40,
    "start_time": "2023-01-11T13:07:38.141Z"
   },
   {
    "duration": 44,
    "start_time": "2023-01-11T13:07:38.183Z"
   },
   {
    "duration": 31,
    "start_time": "2023-01-11T13:07:38.228Z"
   },
   {
    "duration": 24,
    "start_time": "2023-01-11T13:07:38.261Z"
   },
   {
    "duration": 29,
    "start_time": "2023-01-11T13:07:38.287Z"
   },
   {
    "duration": 39,
    "start_time": "2023-01-11T13:07:38.317Z"
   },
   {
    "duration": 34,
    "start_time": "2023-01-11T13:07:38.361Z"
   },
   {
    "duration": 20,
    "start_time": "2023-01-11T13:07:38.397Z"
   },
   {
    "duration": 37,
    "start_time": "2023-01-11T13:07:38.419Z"
   },
   {
    "duration": 25,
    "start_time": "2023-01-11T13:07:38.458Z"
   },
   {
    "duration": 34,
    "start_time": "2023-01-11T13:07:38.484Z"
   },
   {
    "duration": 45,
    "start_time": "2023-01-11T13:07:38.519Z"
   },
   {
    "duration": 34,
    "start_time": "2023-01-11T13:07:38.566Z"
   },
   {
    "duration": 26,
    "start_time": "2023-01-11T13:07:38.602Z"
   },
   {
    "duration": 16,
    "start_time": "2023-01-11T13:07:38.631Z"
   },
   {
    "duration": 23,
    "start_time": "2023-01-11T13:07:38.649Z"
   },
   {
    "duration": 21,
    "start_time": "2023-01-11T13:07:38.673Z"
   },
   {
    "duration": 15,
    "start_time": "2023-01-11T13:07:38.696Z"
   },
   {
    "duration": 30,
    "start_time": "2023-01-11T13:07:38.713Z"
   },
   {
    "duration": 9,
    "start_time": "2023-01-11T13:07:38.744Z"
   },
   {
    "duration": 1893,
    "start_time": "2023-01-11T13:07:38.755Z"
   },
   {
    "duration": 77062,
    "start_time": "2023-01-11T13:07:40.650Z"
   },
   {
    "duration": 10664,
    "start_time": "2023-01-11T13:08:57.713Z"
   },
   {
    "duration": 4,
    "start_time": "2023-01-11T13:09:08.379Z"
   },
   {
    "duration": 58,
    "start_time": "2023-01-11T13:09:08.384Z"
   },
   {
    "duration": 48,
    "start_time": "2023-01-11T13:09:08.444Z"
   },
   {
    "duration": 71,
    "start_time": "2023-01-11T13:09:08.494Z"
   },
   {
    "duration": 66,
    "start_time": "2023-01-11T13:09:08.567Z"
   },
   {
    "duration": 26,
    "start_time": "2023-01-11T13:09:08.635Z"
   },
   {
    "duration": 1026,
    "start_time": "2023-01-11T13:09:08.663Z"
   },
   {
    "duration": 3214,
    "start_time": "2023-01-11T13:09:09.691Z"
   },
   {
    "duration": 42377,
    "start_time": "2023-01-11T13:09:12.907Z"
   },
   {
    "duration": 130319,
    "start_time": "2023-01-11T13:09:55.286Z"
   },
   {
    "duration": 2415431,
    "start_time": "2023-01-11T13:12:05.607Z"
   },
   {
    "duration": 6287498,
    "start_time": "2023-01-11T13:52:21.040Z"
   },
   {
    "duration": 5005,
    "start_time": "2023-01-11T15:37:08.540Z"
   },
   {
    "duration": 7438,
    "start_time": "2023-01-11T15:37:13.547Z"
   },
   {
    "duration": 118,
    "start_time": "2023-01-11T15:37:20.987Z"
   },
   {
    "duration": 346,
    "start_time": "2023-01-11T15:37:21.107Z"
   },
   {
    "duration": 373,
    "start_time": "2023-01-11T15:37:21.458Z"
   },
   {
    "duration": 8,
    "start_time": "2023-01-11T15:37:21.833Z"
   },
   {
    "duration": 18,
    "start_time": "2023-01-11T15:37:21.843Z"
   },
   {
    "duration": 43,
    "start_time": "2023-01-11T15:37:21.863Z"
   },
   {
    "duration": 123,
    "start_time": "2023-01-11T15:45:30.215Z"
   },
   {
    "duration": 3,
    "start_time": "2023-01-11T15:45:38.073Z"
   }
  ],
  "kernelspec": {
   "display_name": "Python 3 (ipykernel)",
   "language": "python",
   "name": "python3"
  },
  "language_info": {
   "codemirror_mode": {
    "name": "ipython",
    "version": 3
   },
   "file_extension": ".py",
   "mimetype": "text/x-python",
   "name": "python",
   "nbconvert_exporter": "python",
   "pygments_lexer": "ipython3",
   "version": "3.11.2"
  },
  "toc": {
   "base_numbering": 1,
   "nav_menu": {},
   "number_sections": true,
   "sideBar": true,
   "skip_h1_title": true,
   "title_cell": "Содержание",
   "title_sidebar": "Contents",
   "toc_cell": true,
   "toc_position": {
    "height": "calc(100% - 180px)",
    "left": "10px",
    "top": "150px",
    "width": "165px"
   },
   "toc_section_display": true,
   "toc_window_display": true
  }
 },
 "nbformat": 4,
 "nbformat_minor": 2
}
